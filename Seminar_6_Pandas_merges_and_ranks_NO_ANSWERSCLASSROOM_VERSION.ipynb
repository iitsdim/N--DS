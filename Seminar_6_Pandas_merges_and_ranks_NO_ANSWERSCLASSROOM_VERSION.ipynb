{
 "cells": [
  {
   "cell_type": "markdown",
   "id": "a25fab2b",
   "metadata": {},
   "source": [
    "# Практика Pandas (merges and ranks)"
   ]
  },
  {
   "cell_type": "markdown",
   "id": "e55f2f55",
   "metadata": {},
   "source": [
    "# European Soccer Database\n",
    "- https://www.kaggle.com/datasets/hugomathien/soccer\n",
    "- https://github.com/hugomathien/football-data-collection"
   ]
  },
  {
   "cell_type": "markdown",
   "id": "c2576149",
   "metadata": {},
   "source": [
    "# Check data"
   ]
  },
  {
   "cell_type": "markdown",
   "id": "bd215646",
   "metadata": {},
   "source": [
    "## Импорт библиотек и подключение к БД"
   ]
  },
  {
   "cell_type": "markdown",
   "id": "e6f0a451",
   "metadata": {},
   "source": [
    "### SQLite"
   ]
  },
  {
   "cell_type": "code",
   "execution_count": 1,
   "id": "882793d4",
   "metadata": {
    "ExecuteTime": {
     "end_time": "2023-04-21T13:13:50.228605Z",
     "start_time": "2023-04-21T13:13:49.818373Z"
    }
   },
   "outputs": [],
   "source": [
    "import pandas as pd\n",
    "pd.set_option('display.max_columns', 500)"
   ]
  },
  {
   "cell_type": "code",
   "execution_count": 2,
   "id": "a592d825",
   "metadata": {
    "ExecuteTime": {
     "end_time": "2023-04-21T13:13:51.576557Z",
     "start_time": "2023-04-21T13:13:51.395074Z"
    }
   },
   "outputs": [],
   "source": [
    "from sqlalchemy import create_engine\n",
    "\n",
    "# create engine to connect to SQLite database\n",
    "engine = create_engine('sqlite:///database.sqlite')"
   ]
  },
  {
   "cell_type": "markdown",
   "id": "14f16972",
   "metadata": {},
   "source": [
    "## Список всех таблиц в БД"
   ]
  },
  {
   "cell_type": "markdown",
   "id": "a78c5f98",
   "metadata": {},
   "source": [
    "### SQLite"
   ]
  },
  {
   "cell_type": "code",
   "execution_count": 3,
   "id": "1912e4e8",
   "metadata": {
    "ExecuteTime": {
     "end_time": "2023-04-21T13:13:55.967193Z",
     "start_time": "2023-04-21T13:13:55.945437Z"
    }
   },
   "outputs": [
    {
     "data": {
      "text/html": [
       "<div>\n",
       "<style scoped>\n",
       "    .dataframe tbody tr th:only-of-type {\n",
       "        vertical-align: middle;\n",
       "    }\n",
       "\n",
       "    .dataframe tbody tr th {\n",
       "        vertical-align: top;\n",
       "    }\n",
       "\n",
       "    .dataframe thead th {\n",
       "        text-align: right;\n",
       "    }\n",
       "</style>\n",
       "<table border=\"1\" class=\"dataframe\">\n",
       "  <thead>\n",
       "    <tr style=\"text-align: right;\">\n",
       "      <th></th>\n",
       "      <th>type</th>\n",
       "      <th>name</th>\n",
       "      <th>tbl_name</th>\n",
       "      <th>rootpage</th>\n",
       "      <th>sql</th>\n",
       "    </tr>\n",
       "  </thead>\n",
       "  <tbody>\n",
       "    <tr>\n",
       "      <th>0</th>\n",
       "      <td>table</td>\n",
       "      <td>sqlite_sequence</td>\n",
       "      <td>sqlite_sequence</td>\n",
       "      <td>4</td>\n",
       "      <td>CREATE TABLE sqlite_sequence(name,seq)</td>\n",
       "    </tr>\n",
       "    <tr>\n",
       "      <th>1</th>\n",
       "      <td>table</td>\n",
       "      <td>Player_Attributes</td>\n",
       "      <td>Player_Attributes</td>\n",
       "      <td>11</td>\n",
       "      <td>CREATE TABLE \"Player_Attributes\" (\\n\\t`id`\\tIN...</td>\n",
       "    </tr>\n",
       "    <tr>\n",
       "      <th>2</th>\n",
       "      <td>table</td>\n",
       "      <td>Player</td>\n",
       "      <td>Player</td>\n",
       "      <td>14</td>\n",
       "      <td>CREATE TABLE `Player` (\\n\\t`id`\\tINTEGER PRIMA...</td>\n",
       "    </tr>\n",
       "    <tr>\n",
       "      <th>3</th>\n",
       "      <td>table</td>\n",
       "      <td>Match</td>\n",
       "      <td>Match</td>\n",
       "      <td>18</td>\n",
       "      <td>CREATE TABLE `Match` (\\n\\t`id`\\tINTEGER PRIMAR...</td>\n",
       "    </tr>\n",
       "    <tr>\n",
       "      <th>4</th>\n",
       "      <td>table</td>\n",
       "      <td>League</td>\n",
       "      <td>League</td>\n",
       "      <td>24</td>\n",
       "      <td>CREATE TABLE `League` (\\n\\t`id`\\tINTEGER PRIMA...</td>\n",
       "    </tr>\n",
       "    <tr>\n",
       "      <th>5</th>\n",
       "      <td>table</td>\n",
       "      <td>Country</td>\n",
       "      <td>Country</td>\n",
       "      <td>26</td>\n",
       "      <td>CREATE TABLE `Country` (\\n\\t`id`\\tINTEGER PRIM...</td>\n",
       "    </tr>\n",
       "    <tr>\n",
       "      <th>6</th>\n",
       "      <td>table</td>\n",
       "      <td>Team</td>\n",
       "      <td>Team</td>\n",
       "      <td>29</td>\n",
       "      <td>CREATE TABLE \"Team\" (\\n\\t`id`\\tINTEGER PRIMARY...</td>\n",
       "    </tr>\n",
       "    <tr>\n",
       "      <th>7</th>\n",
       "      <td>table</td>\n",
       "      <td>Team_Attributes</td>\n",
       "      <td>Team_Attributes</td>\n",
       "      <td>2</td>\n",
       "      <td>CREATE TABLE `Team_Attributes` (\\n\\t`id`\\tINTE...</td>\n",
       "    </tr>\n",
       "  </tbody>\n",
       "</table>\n",
       "</div>"
      ],
      "text/plain": [
       "    type               name           tbl_name  rootpage  \\\n",
       "0  table    sqlite_sequence    sqlite_sequence         4   \n",
       "1  table  Player_Attributes  Player_Attributes        11   \n",
       "2  table             Player             Player        14   \n",
       "3  table              Match              Match        18   \n",
       "4  table             League             League        24   \n",
       "5  table            Country            Country        26   \n",
       "6  table               Team               Team        29   \n",
       "7  table    Team_Attributes    Team_Attributes         2   \n",
       "\n",
       "                                                 sql  \n",
       "0             CREATE TABLE sqlite_sequence(name,seq)  \n",
       "1  CREATE TABLE \"Player_Attributes\" (\\n\\t`id`\\tIN...  \n",
       "2  CREATE TABLE `Player` (\\n\\t`id`\\tINTEGER PRIMA...  \n",
       "3  CREATE TABLE `Match` (\\n\\t`id`\\tINTEGER PRIMAR...  \n",
       "4  CREATE TABLE `League` (\\n\\t`id`\\tINTEGER PRIMA...  \n",
       "5  CREATE TABLE `Country` (\\n\\t`id`\\tINTEGER PRIM...  \n",
       "6  CREATE TABLE \"Team\" (\\n\\t`id`\\tINTEGER PRIMARY...  \n",
       "7  CREATE TABLE `Team_Attributes` (\\n\\t`id`\\tINTE...  "
      ]
     },
     "execution_count": 3,
     "metadata": {},
     "output_type": "execute_result"
    }
   ],
   "source": [
    "pd.read_sql(\"\"\"select * from sqlite_master where type = 'table'\"\"\", engine)"
   ]
  },
  {
   "cell_type": "markdown",
   "id": "c3860956",
   "metadata": {},
   "source": [
    "### Импорт всех таблиц в Pandas Dataframe"
   ]
  },
  {
   "cell_type": "code",
   "execution_count": 90,
   "id": "ef21ab61",
   "metadata": {
    "ExecuteTime": {
     "end_time": "2023-04-21T13:40:30.406514Z",
     "start_time": "2023-04-21T13:40:27.905477Z"
    }
   },
   "outputs": [],
   "source": [
    "league = pd.read_sql(\"\"\"select * from league\"\"\", engine)\n",
    "country = pd.read_sql(\"\"\"select * from country\"\"\", engine)\n",
    "match = pd.read_sql(\"\"\"select * from match\"\"\", engine)\n",
    "team = pd.read_sql(\"\"\"select * from team\"\"\", engine)\n",
    "# team_attributes = pd.read_sql(\"\"\"select * from team_attributes\"\"\", engine)\n",
    "# player = pd.read_sql(\"\"\"select * from player\"\"\", engine)\n",
    "# player_attributes = pd.read_sql(\"\"\"select * from player_attributes\"\"\", engine)"
   ]
  },
  {
   "cell_type": "code",
   "execution_count": 91,
   "id": "a56375ad",
   "metadata": {
    "ExecuteTime": {
     "end_time": "2023-04-21T13:40:30.420815Z",
     "start_time": "2023-04-21T13:40:30.409848Z"
    }
   },
   "outputs": [
    {
     "data": {
      "text/html": [
       "<div>\n",
       "<style scoped>\n",
       "    .dataframe tbody tr th:only-of-type {\n",
       "        vertical-align: middle;\n",
       "    }\n",
       "\n",
       "    .dataframe tbody tr th {\n",
       "        vertical-align: top;\n",
       "    }\n",
       "\n",
       "    .dataframe thead th {\n",
       "        text-align: right;\n",
       "    }\n",
       "</style>\n",
       "<table border=\"1\" class=\"dataframe\">\n",
       "  <thead>\n",
       "    <tr style=\"text-align: right;\">\n",
       "      <th></th>\n",
       "      <th>league_id</th>\n",
       "      <th>league_name</th>\n",
       "    </tr>\n",
       "  </thead>\n",
       "  <tbody>\n",
       "    <tr>\n",
       "      <th>0</th>\n",
       "      <td>1</td>\n",
       "      <td>Belgium Jupiler League</td>\n",
       "    </tr>\n",
       "    <tr>\n",
       "      <th>1</th>\n",
       "      <td>1729</td>\n",
       "      <td>England Premier League</td>\n",
       "    </tr>\n",
       "    <tr>\n",
       "      <th>2</th>\n",
       "      <td>4769</td>\n",
       "      <td>France Ligue 1</td>\n",
       "    </tr>\n",
       "    <tr>\n",
       "      <th>3</th>\n",
       "      <td>7809</td>\n",
       "      <td>Germany 1. Bundesliga</td>\n",
       "    </tr>\n",
       "    <tr>\n",
       "      <th>4</th>\n",
       "      <td>10257</td>\n",
       "      <td>Italy Serie A</td>\n",
       "    </tr>\n",
       "    <tr>\n",
       "      <th>5</th>\n",
       "      <td>13274</td>\n",
       "      <td>Netherlands Eredivisie</td>\n",
       "    </tr>\n",
       "    <tr>\n",
       "      <th>6</th>\n",
       "      <td>15722</td>\n",
       "      <td>Poland Ekstraklasa</td>\n",
       "    </tr>\n",
       "    <tr>\n",
       "      <th>7</th>\n",
       "      <td>17642</td>\n",
       "      <td>Portugal Liga ZON Sagres</td>\n",
       "    </tr>\n",
       "    <tr>\n",
       "      <th>8</th>\n",
       "      <td>19694</td>\n",
       "      <td>Scotland Premier League</td>\n",
       "    </tr>\n",
       "    <tr>\n",
       "      <th>9</th>\n",
       "      <td>21518</td>\n",
       "      <td>Spain LIGA BBVA</td>\n",
       "    </tr>\n",
       "    <tr>\n",
       "      <th>10</th>\n",
       "      <td>24558</td>\n",
       "      <td>Switzerland Super League</td>\n",
       "    </tr>\n",
       "  </tbody>\n",
       "</table>\n",
       "</div>"
      ],
      "text/plain": [
       "    league_id               league_name\n",
       "0           1    Belgium Jupiler League\n",
       "1        1729    England Premier League\n",
       "2        4769            France Ligue 1\n",
       "3        7809     Germany 1. Bundesliga\n",
       "4       10257             Italy Serie A\n",
       "5       13274    Netherlands Eredivisie\n",
       "6       15722        Poland Ekstraklasa\n",
       "7       17642  Portugal Liga ZON Sagres\n",
       "8       19694   Scotland Premier League\n",
       "9       21518           Spain LIGA BBVA\n",
       "10      24558  Switzerland Super League"
      ]
     },
     "execution_count": 91,
     "metadata": {},
     "output_type": "execute_result"
    }
   ],
   "source": [
    "# league = league.rename({'id':'league_id','name':'league_name'}, axis=1)\n",
    "league = league.rename(columns={'id':'league_id','name':'league_name'})\n",
    "league = league.drop(columns=['country_id'])\n",
    "league"
   ]
  },
  {
   "cell_type": "code",
   "execution_count": 92,
   "id": "39b8c0ab",
   "metadata": {
    "ExecuteTime": {
     "end_time": "2023-04-21T13:40:35.940922Z",
     "start_time": "2023-04-21T13:40:35.932500Z"
    }
   },
   "outputs": [
    {
     "data": {
      "text/html": [
       "<div>\n",
       "<style scoped>\n",
       "    .dataframe tbody tr th:only-of-type {\n",
       "        vertical-align: middle;\n",
       "    }\n",
       "\n",
       "    .dataframe tbody tr th {\n",
       "        vertical-align: top;\n",
       "    }\n",
       "\n",
       "    .dataframe thead th {\n",
       "        text-align: right;\n",
       "    }\n",
       "</style>\n",
       "<table border=\"1\" class=\"dataframe\">\n",
       "  <thead>\n",
       "    <tr style=\"text-align: right;\">\n",
       "      <th></th>\n",
       "      <th>country_id</th>\n",
       "      <th>country_name</th>\n",
       "    </tr>\n",
       "  </thead>\n",
       "  <tbody>\n",
       "    <tr>\n",
       "      <th>0</th>\n",
       "      <td>1</td>\n",
       "      <td>Belgium</td>\n",
       "    </tr>\n",
       "    <tr>\n",
       "      <th>1</th>\n",
       "      <td>1729</td>\n",
       "      <td>England</td>\n",
       "    </tr>\n",
       "    <tr>\n",
       "      <th>2</th>\n",
       "      <td>4769</td>\n",
       "      <td>France</td>\n",
       "    </tr>\n",
       "    <tr>\n",
       "      <th>3</th>\n",
       "      <td>7809</td>\n",
       "      <td>Germany</td>\n",
       "    </tr>\n",
       "    <tr>\n",
       "      <th>4</th>\n",
       "      <td>10257</td>\n",
       "      <td>Italy</td>\n",
       "    </tr>\n",
       "    <tr>\n",
       "      <th>5</th>\n",
       "      <td>13274</td>\n",
       "      <td>Netherlands</td>\n",
       "    </tr>\n",
       "    <tr>\n",
       "      <th>6</th>\n",
       "      <td>15722</td>\n",
       "      <td>Poland</td>\n",
       "    </tr>\n",
       "    <tr>\n",
       "      <th>7</th>\n",
       "      <td>17642</td>\n",
       "      <td>Portugal</td>\n",
       "    </tr>\n",
       "    <tr>\n",
       "      <th>8</th>\n",
       "      <td>19694</td>\n",
       "      <td>Scotland</td>\n",
       "    </tr>\n",
       "    <tr>\n",
       "      <th>9</th>\n",
       "      <td>21518</td>\n",
       "      <td>Spain</td>\n",
       "    </tr>\n",
       "    <tr>\n",
       "      <th>10</th>\n",
       "      <td>24558</td>\n",
       "      <td>Switzerland</td>\n",
       "    </tr>\n",
       "  </tbody>\n",
       "</table>\n",
       "</div>"
      ],
      "text/plain": [
       "    country_id country_name\n",
       "0            1      Belgium\n",
       "1         1729      England\n",
       "2         4769       France\n",
       "3         7809      Germany\n",
       "4        10257        Italy\n",
       "5        13274  Netherlands\n",
       "6        15722       Poland\n",
       "7        17642     Portugal\n",
       "8        19694     Scotland\n",
       "9        21518        Spain\n",
       "10       24558  Switzerland"
      ]
     },
     "execution_count": 92,
     "metadata": {},
     "output_type": "execute_result"
    }
   ],
   "source": [
    "country = country.rename(columns={'id':'country_id','name':'country_name'})\n",
    "country"
   ]
  },
  {
   "cell_type": "code",
   "execution_count": 93,
   "id": "a1b345ca",
   "metadata": {
    "ExecuteTime": {
     "end_time": "2023-04-21T13:40:40.454905Z",
     "start_time": "2023-04-21T13:40:40.317061Z"
    }
   },
   "outputs": [
    {
     "data": {
      "text/html": [
       "<div>\n",
       "<style scoped>\n",
       "    .dataframe tbody tr th:only-of-type {\n",
       "        vertical-align: middle;\n",
       "    }\n",
       "\n",
       "    .dataframe tbody tr th {\n",
       "        vertical-align: top;\n",
       "    }\n",
       "\n",
       "    .dataframe thead th {\n",
       "        text-align: right;\n",
       "    }\n",
       "</style>\n",
       "<table border=\"1\" class=\"dataframe\">\n",
       "  <thead>\n",
       "    <tr style=\"text-align: right;\">\n",
       "      <th></th>\n",
       "      <th>match_id</th>\n",
       "      <th>country_id</th>\n",
       "      <th>league_id</th>\n",
       "      <th>season</th>\n",
       "      <th>stage</th>\n",
       "      <th>date</th>\n",
       "      <th>match_api_id</th>\n",
       "      <th>home_team_api_id</th>\n",
       "      <th>away_team_api_id</th>\n",
       "      <th>home_team_goal</th>\n",
       "      <th>away_team_goal</th>\n",
       "    </tr>\n",
       "  </thead>\n",
       "  <tbody>\n",
       "    <tr>\n",
       "      <th>0</th>\n",
       "      <td>1</td>\n",
       "      <td>1</td>\n",
       "      <td>1</td>\n",
       "      <td>2008/2009</td>\n",
       "      <td>1</td>\n",
       "      <td>2008-08-17 00:00:00</td>\n",
       "      <td>492473</td>\n",
       "      <td>9987</td>\n",
       "      <td>9993</td>\n",
       "      <td>1</td>\n",
       "      <td>1</td>\n",
       "    </tr>\n",
       "    <tr>\n",
       "      <th>1</th>\n",
       "      <td>2</td>\n",
       "      <td>1</td>\n",
       "      <td>1</td>\n",
       "      <td>2008/2009</td>\n",
       "      <td>1</td>\n",
       "      <td>2008-08-16 00:00:00</td>\n",
       "      <td>492474</td>\n",
       "      <td>10000</td>\n",
       "      <td>9994</td>\n",
       "      <td>0</td>\n",
       "      <td>0</td>\n",
       "    </tr>\n",
       "    <tr>\n",
       "      <th>2</th>\n",
       "      <td>3</td>\n",
       "      <td>1</td>\n",
       "      <td>1</td>\n",
       "      <td>2008/2009</td>\n",
       "      <td>1</td>\n",
       "      <td>2008-08-16 00:00:00</td>\n",
       "      <td>492475</td>\n",
       "      <td>9984</td>\n",
       "      <td>8635</td>\n",
       "      <td>0</td>\n",
       "      <td>3</td>\n",
       "    </tr>\n",
       "    <tr>\n",
       "      <th>3</th>\n",
       "      <td>4</td>\n",
       "      <td>1</td>\n",
       "      <td>1</td>\n",
       "      <td>2008/2009</td>\n",
       "      <td>1</td>\n",
       "      <td>2008-08-17 00:00:00</td>\n",
       "      <td>492476</td>\n",
       "      <td>9991</td>\n",
       "      <td>9998</td>\n",
       "      <td>5</td>\n",
       "      <td>0</td>\n",
       "    </tr>\n",
       "    <tr>\n",
       "      <th>4</th>\n",
       "      <td>5</td>\n",
       "      <td>1</td>\n",
       "      <td>1</td>\n",
       "      <td>2008/2009</td>\n",
       "      <td>1</td>\n",
       "      <td>2008-08-16 00:00:00</td>\n",
       "      <td>492477</td>\n",
       "      <td>7947</td>\n",
       "      <td>9985</td>\n",
       "      <td>1</td>\n",
       "      <td>3</td>\n",
       "    </tr>\n",
       "  </tbody>\n",
       "</table>\n",
       "</div>"
      ],
      "text/plain": [
       "   match_id  country_id  league_id     season  stage                 date  \\\n",
       "0         1           1          1  2008/2009      1  2008-08-17 00:00:00   \n",
       "1         2           1          1  2008/2009      1  2008-08-16 00:00:00   \n",
       "2         3           1          1  2008/2009      1  2008-08-16 00:00:00   \n",
       "3         4           1          1  2008/2009      1  2008-08-17 00:00:00   \n",
       "4         5           1          1  2008/2009      1  2008-08-16 00:00:00   \n",
       "\n",
       "   match_api_id  home_team_api_id  away_team_api_id  home_team_goal  \\\n",
       "0        492473              9987              9993               1   \n",
       "1        492474             10000              9994               0   \n",
       "2        492475              9984              8635               0   \n",
       "3        492476              9991              9998               5   \n",
       "4        492477              7947              9985               1   \n",
       "\n",
       "   away_team_goal  \n",
       "0               1  \n",
       "1               0  \n",
       "2               3  \n",
       "3               0  \n",
       "4               3  "
      ]
     },
     "execution_count": 93,
     "metadata": {},
     "output_type": "execute_result"
    }
   ],
   "source": [
    "match = match[['id','country_id','league_id','season','stage','date','match_api_id',\n",
    "               'home_team_api_id','away_team_api_id','home_team_goal','away_team_goal']]\n",
    "match = match.rename(columns={'id':'match_id'})\n",
    "# match = match.drop(columns=['country_id'])\n",
    "match.head()"
   ]
  },
  {
   "cell_type": "code",
   "execution_count": 75,
   "id": "a3b77044",
   "metadata": {
    "ExecuteTime": {
     "end_time": "2023-04-21T13:36:20.683719Z",
     "start_time": "2023-04-21T13:36:20.662045Z"
    }
   },
   "outputs": [
    {
     "data": {
      "text/html": [
       "<div>\n",
       "<style scoped>\n",
       "    .dataframe tbody tr th:only-of-type {\n",
       "        vertical-align: middle;\n",
       "    }\n",
       "\n",
       "    .dataframe tbody tr th {\n",
       "        vertical-align: top;\n",
       "    }\n",
       "\n",
       "    .dataframe thead th {\n",
       "        text-align: right;\n",
       "    }\n",
       "</style>\n",
       "<table border=\"1\" class=\"dataframe\">\n",
       "  <thead>\n",
       "    <tr style=\"text-align: right;\">\n",
       "      <th></th>\n",
       "      <th>team_id</th>\n",
       "      <th>team_api_id</th>\n",
       "      <th>team_fifa_api_id</th>\n",
       "      <th>team_long_name</th>\n",
       "      <th>team_short_name</th>\n",
       "    </tr>\n",
       "  </thead>\n",
       "  <tbody>\n",
       "    <tr>\n",
       "      <th>0</th>\n",
       "      <td>1</td>\n",
       "      <td>9987</td>\n",
       "      <td>673.0</td>\n",
       "      <td>KRC Genk</td>\n",
       "      <td>GEN</td>\n",
       "    </tr>\n",
       "    <tr>\n",
       "      <th>1</th>\n",
       "      <td>2</td>\n",
       "      <td>9993</td>\n",
       "      <td>675.0</td>\n",
       "      <td>Beerschot AC</td>\n",
       "      <td>BAC</td>\n",
       "    </tr>\n",
       "    <tr>\n",
       "      <th>2</th>\n",
       "      <td>3</td>\n",
       "      <td>10000</td>\n",
       "      <td>15005.0</td>\n",
       "      <td>SV Zulte-Waregem</td>\n",
       "      <td>ZUL</td>\n",
       "    </tr>\n",
       "    <tr>\n",
       "      <th>3</th>\n",
       "      <td>4</td>\n",
       "      <td>9994</td>\n",
       "      <td>2007.0</td>\n",
       "      <td>Sporting Lokeren</td>\n",
       "      <td>LOK</td>\n",
       "    </tr>\n",
       "    <tr>\n",
       "      <th>4</th>\n",
       "      <td>5</td>\n",
       "      <td>9984</td>\n",
       "      <td>1750.0</td>\n",
       "      <td>KSV Cercle Brugge</td>\n",
       "      <td>CEB</td>\n",
       "    </tr>\n",
       "  </tbody>\n",
       "</table>\n",
       "</div>"
      ],
      "text/plain": [
       "   team_id  team_api_id  team_fifa_api_id     team_long_name team_short_name\n",
       "0        1         9987             673.0           KRC Genk             GEN\n",
       "1        2         9993             675.0       Beerschot AC             BAC\n",
       "2        3        10000           15005.0   SV Zulte-Waregem             ZUL\n",
       "3        4         9994            2007.0   Sporting Lokeren             LOK\n",
       "4        5         9984            1750.0  KSV Cercle Brugge             CEB"
      ]
     },
     "execution_count": 75,
     "metadata": {},
     "output_type": "execute_result"
    }
   ],
   "source": [
    "team = team.rename(columns={'id':'team_id'})\n",
    "team.head()"
   ]
  },
  {
   "cell_type": "markdown",
   "id": "49f0b78d",
   "metadata": {},
   "source": [
    "# Batch 1. Joins"
   ]
  },
  {
   "cell_type": "markdown",
   "id": "083e9a71",
   "metadata": {},
   "source": [
    "## Примеры"
   ]
  },
  {
   "cell_type": "markdown",
   "id": "29fa43da",
   "metadata": {},
   "source": [
    "### Вывести список всех матчей (date, match_api_id, id) вместе с названием страны и названием лиги, в которых они проходили.\n",
    "Ключи для джойна: match.league_id = league.id and match.country_id = country.id"
   ]
  },
  {
   "cell_type": "code",
   "execution_count": null,
   "id": "d3f192d6",
   "metadata": {},
   "outputs": [],
   "source": [
    "df_1.merge(df_2, on=common_cols, how='left')\n",
    "df_1.merge(df_2, left_on=left_cols, right_on=right_cols, how='left')\n",
    "df_1.merge(df_2, left_on=left_cols, right_on=right_cols) # how='inner'\n",
    "df_1.merge(df_2) #on=common_cols, how='inner'"
   ]
  },
  {
   "cell_type": "code",
   "execution_count": 99,
   "id": "41535c5e",
   "metadata": {
    "ExecuteTime": {
     "end_time": "2023-04-21T13:44:21.101855Z",
     "start_time": "2023-04-21T13:44:21.091510Z"
    }
   },
   "outputs": [
    {
     "data": {
      "text/html": [
       "<div>\n",
       "<style scoped>\n",
       "    .dataframe tbody tr th:only-of-type {\n",
       "        vertical-align: middle;\n",
       "    }\n",
       "\n",
       "    .dataframe tbody tr th {\n",
       "        vertical-align: top;\n",
       "    }\n",
       "\n",
       "    .dataframe thead th {\n",
       "        text-align: right;\n",
       "    }\n",
       "</style>\n",
       "<table border=\"1\" class=\"dataframe\">\n",
       "  <thead>\n",
       "    <tr style=\"text-align: right;\">\n",
       "      <th></th>\n",
       "      <th>match_id</th>\n",
       "      <th>country_id</th>\n",
       "      <th>league_id</th>\n",
       "      <th>season</th>\n",
       "      <th>stage</th>\n",
       "      <th>date</th>\n",
       "      <th>match_api_id</th>\n",
       "      <th>home_team_api_id</th>\n",
       "      <th>away_team_api_id</th>\n",
       "      <th>home_team_goal</th>\n",
       "      <th>away_team_goal</th>\n",
       "    </tr>\n",
       "  </thead>\n",
       "  <tbody>\n",
       "    <tr>\n",
       "      <th>0</th>\n",
       "      <td>1</td>\n",
       "      <td>1</td>\n",
       "      <td>1</td>\n",
       "      <td>2008/2009</td>\n",
       "      <td>1</td>\n",
       "      <td>2008-08-17 00:00:00</td>\n",
       "      <td>492473</td>\n",
       "      <td>9987</td>\n",
       "      <td>9993</td>\n",
       "      <td>1</td>\n",
       "      <td>1</td>\n",
       "    </tr>\n",
       "  </tbody>\n",
       "</table>\n",
       "</div>"
      ],
      "text/plain": [
       "   match_id  country_id  league_id     season  stage                 date  \\\n",
       "0         1           1          1  2008/2009      1  2008-08-17 00:00:00   \n",
       "\n",
       "   match_api_id  home_team_api_id  away_team_api_id  home_team_goal  \\\n",
       "0        492473              9987              9993               1   \n",
       "\n",
       "   away_team_goal  \n",
       "0               1  "
      ]
     },
     "execution_count": 99,
     "metadata": {},
     "output_type": "execute_result"
    }
   ],
   "source": [
    "match.head(1)"
   ]
  },
  {
   "cell_type": "code",
   "execution_count": 100,
   "id": "c5bb3bed",
   "metadata": {
    "ExecuteTime": {
     "end_time": "2023-04-21T13:44:25.999519Z",
     "start_time": "2023-04-21T13:44:25.992427Z"
    }
   },
   "outputs": [
    {
     "data": {
      "text/html": [
       "<div>\n",
       "<style scoped>\n",
       "    .dataframe tbody tr th:only-of-type {\n",
       "        vertical-align: middle;\n",
       "    }\n",
       "\n",
       "    .dataframe tbody tr th {\n",
       "        vertical-align: top;\n",
       "    }\n",
       "\n",
       "    .dataframe thead th {\n",
       "        text-align: right;\n",
       "    }\n",
       "</style>\n",
       "<table border=\"1\" class=\"dataframe\">\n",
       "  <thead>\n",
       "    <tr style=\"text-align: right;\">\n",
       "      <th></th>\n",
       "      <th>league_id</th>\n",
       "      <th>league_name</th>\n",
       "    </tr>\n",
       "  </thead>\n",
       "  <tbody>\n",
       "    <tr>\n",
       "      <th>0</th>\n",
       "      <td>1</td>\n",
       "      <td>Belgium Jupiler League</td>\n",
       "    </tr>\n",
       "    <tr>\n",
       "      <th>1</th>\n",
       "      <td>1729</td>\n",
       "      <td>England Premier League</td>\n",
       "    </tr>\n",
       "    <tr>\n",
       "      <th>2</th>\n",
       "      <td>4769</td>\n",
       "      <td>France Ligue 1</td>\n",
       "    </tr>\n",
       "    <tr>\n",
       "      <th>3</th>\n",
       "      <td>7809</td>\n",
       "      <td>Germany 1. Bundesliga</td>\n",
       "    </tr>\n",
       "    <tr>\n",
       "      <th>4</th>\n",
       "      <td>10257</td>\n",
       "      <td>Italy Serie A</td>\n",
       "    </tr>\n",
       "  </tbody>\n",
       "</table>\n",
       "</div>"
      ],
      "text/plain": [
       "   league_id             league_name\n",
       "0          1  Belgium Jupiler League\n",
       "1       1729  England Premier League\n",
       "2       4769          France Ligue 1\n",
       "3       7809   Germany 1. Bundesliga\n",
       "4      10257           Italy Serie A"
      ]
     },
     "execution_count": 100,
     "metadata": {},
     "output_type": "execute_result"
    }
   ],
   "source": [
    "league.rename(columns={'league_name':'country_id'})"
   ]
  },
  {
   "cell_type": "code",
   "execution_count": null,
   "id": "555fefac",
   "metadata": {},
   "outputs": [],
   "source": []
  },
  {
   "cell_type": "code",
   "execution_count": 102,
   "id": "87bc9fc8",
   "metadata": {
    "ExecuteTime": {
     "end_time": "2023-04-21T13:45:47.928248Z",
     "start_time": "2023-04-21T13:45:47.923652Z"
    }
   },
   "outputs": [
    {
     "data": {
      "text/plain": [
       "Index(['match_id', 'country_id', 'league_id', 'season', 'stage', 'date',\n",
       "       'match_api_id', 'home_team_api_id', 'away_team_api_id',\n",
       "       'home_team_goal', 'away_team_goal'],\n",
       "      dtype='object')"
      ]
     },
     "execution_count": 102,
     "metadata": {},
     "output_type": "execute_result"
    }
   ],
   "source": [
    "match.columns"
   ]
  },
  {
   "cell_type": "code",
   "execution_count": 103,
   "id": "45451259",
   "metadata": {
    "ExecuteTime": {
     "end_time": "2023-04-21T13:45:55.861539Z",
     "start_time": "2023-04-21T13:45:55.857404Z"
    }
   },
   "outputs": [
    {
     "data": {
      "text/plain": [
       "['match_id',\n",
       " 'country_id',\n",
       " 'league_id',\n",
       " 'season',\n",
       " 'stage',\n",
       " 'date',\n",
       " 'match_api_id',\n",
       " 'home_team_api_id',\n",
       " 'away_team_api_id',\n",
       " 'home_team_goal',\n",
       " 'away_team_goal']"
      ]
     },
     "execution_count": 103,
     "metadata": {},
     "output_type": "execute_result"
    }
   ],
   "source": [
    "list(match)"
   ]
  },
  {
   "cell_type": "code",
   "execution_count": 106,
   "id": "094be282",
   "metadata": {
    "ExecuteTime": {
     "end_time": "2023-04-21T13:46:28.665067Z",
     "start_time": "2023-04-21T13:46:28.660960Z"
    }
   },
   "outputs": [
    {
     "data": {
      "text/plain": [
       "{'league_id'}"
      ]
     },
     "execution_count": 106,
     "metadata": {},
     "output_type": "execute_result"
    }
   ],
   "source": [
    "set(match) & set(league)"
   ]
  },
  {
   "cell_type": "code",
   "execution_count": 107,
   "id": "4af49c32",
   "metadata": {
    "ExecuteTime": {
     "end_time": "2023-04-21T13:46:51.570303Z",
     "start_time": "2023-04-21T13:46:51.565480Z"
    }
   },
   "outputs": [
    {
     "data": {
      "text/plain": [
       "{'country_id', 'league_id'}"
      ]
     },
     "execution_count": 107,
     "metadata": {},
     "output_type": "execute_result"
    }
   ],
   "source": [
    "set(match) & set(league.rename(columns={'league_name':'country_id'}))"
   ]
  },
  {
   "cell_type": "code",
   "execution_count": 118,
   "id": "e9336997",
   "metadata": {
    "ExecuteTime": {
     "end_time": "2023-04-21T13:51:24.988329Z",
     "start_time": "2023-04-21T13:51:24.986193Z"
    }
   },
   "outputs": [],
   "source": [
    "# match.merge(league.astype({'league_id':'str'})).head(1)"
   ]
  },
  {
   "cell_type": "code",
   "execution_count": 109,
   "id": "5661fdfd",
   "metadata": {
    "ExecuteTime": {
     "end_time": "2023-04-21T13:49:00.367129Z",
     "start_time": "2023-04-21T13:49:00.352974Z"
    }
   },
   "outputs": [
    {
     "ename": "ValueError",
     "evalue": "You are trying to merge on int64 and object columns. If you wish to proceed you should use pd.concat",
     "output_type": "error",
     "traceback": [
      "\u001b[0;31m---------------------------------------------------------------------------\u001b[0m",
      "\u001b[0;31mValueError\u001b[0m                                Traceback (most recent call last)",
      "\u001b[0;32m<ipython-input-109-34b7dd98c3b7>\u001b[0m in \u001b[0;36m<module>\u001b[0;34m\u001b[0m\n\u001b[0;32m----> 1\u001b[0;31m \u001b[0mmatch\u001b[0m\u001b[0;34m.\u001b[0m\u001b[0mmerge\u001b[0m\u001b[0;34m(\u001b[0m\u001b[0mleague\u001b[0m\u001b[0;34m.\u001b[0m\u001b[0mrename\u001b[0m\u001b[0;34m(\u001b[0m\u001b[0mcolumns\u001b[0m\u001b[0;34m=\u001b[0m\u001b[0;34m{\u001b[0m\u001b[0;34m'league_name'\u001b[0m\u001b[0;34m:\u001b[0m\u001b[0;34m'country_id'\u001b[0m\u001b[0;34m}\u001b[0m\u001b[0;34m)\u001b[0m\u001b[0;34m)\u001b[0m\u001b[0;34m\u001b[0m\u001b[0;34m\u001b[0m\u001b[0m\n\u001b[0m",
      "\u001b[0;32m/Library/Frameworks/Python.framework/Versions/3.8/lib/python3.8/site-packages/pandas/core/frame.py\u001b[0m in \u001b[0;36mmerge\u001b[0;34m(self, right, how, on, left_on, right_on, left_index, right_index, sort, suffixes, copy, indicator, validate)\u001b[0m\n\u001b[1;32m   8193\u001b[0m         \u001b[0;32mfrom\u001b[0m \u001b[0mpandas\u001b[0m\u001b[0;34m.\u001b[0m\u001b[0mcore\u001b[0m\u001b[0;34m.\u001b[0m\u001b[0mreshape\u001b[0m\u001b[0;34m.\u001b[0m\u001b[0mmerge\u001b[0m \u001b[0;32mimport\u001b[0m \u001b[0mmerge\u001b[0m\u001b[0;34m\u001b[0m\u001b[0;34m\u001b[0m\u001b[0m\n\u001b[1;32m   8194\u001b[0m \u001b[0;34m\u001b[0m\u001b[0m\n\u001b[0;32m-> 8195\u001b[0;31m         return merge(\n\u001b[0m\u001b[1;32m   8196\u001b[0m             \u001b[0mself\u001b[0m\u001b[0;34m,\u001b[0m\u001b[0;34m\u001b[0m\u001b[0;34m\u001b[0m\u001b[0m\n\u001b[1;32m   8197\u001b[0m             \u001b[0mright\u001b[0m\u001b[0;34m,\u001b[0m\u001b[0;34m\u001b[0m\u001b[0;34m\u001b[0m\u001b[0m\n",
      "\u001b[0;32m/Library/Frameworks/Python.framework/Versions/3.8/lib/python3.8/site-packages/pandas/core/reshape/merge.py\u001b[0m in \u001b[0;36mmerge\u001b[0;34m(left, right, how, on, left_on, right_on, left_index, right_index, sort, suffixes, copy, indicator, validate)\u001b[0m\n\u001b[1;32m     72\u001b[0m     \u001b[0mvalidate\u001b[0m\u001b[0;34m=\u001b[0m\u001b[0;32mNone\u001b[0m\u001b[0;34m,\u001b[0m\u001b[0;34m\u001b[0m\u001b[0;34m\u001b[0m\u001b[0m\n\u001b[1;32m     73\u001b[0m ) -> \"DataFrame\":\n\u001b[0;32m---> 74\u001b[0;31m     op = _MergeOperation(\n\u001b[0m\u001b[1;32m     75\u001b[0m         \u001b[0mleft\u001b[0m\u001b[0;34m,\u001b[0m\u001b[0;34m\u001b[0m\u001b[0;34m\u001b[0m\u001b[0m\n\u001b[1;32m     76\u001b[0m         \u001b[0mright\u001b[0m\u001b[0;34m,\u001b[0m\u001b[0;34m\u001b[0m\u001b[0;34m\u001b[0m\u001b[0m\n",
      "\u001b[0;32m/Library/Frameworks/Python.framework/Versions/3.8/lib/python3.8/site-packages/pandas/core/reshape/merge.py\u001b[0m in \u001b[0;36m__init__\u001b[0;34m(self, left, right, how, on, left_on, right_on, axis, left_index, right_index, sort, suffixes, copy, indicator, validate)\u001b[0m\n\u001b[1;32m    670\u001b[0m         \u001b[0;31m# validate the merge keys dtypes. We may need to coerce\u001b[0m\u001b[0;34m\u001b[0m\u001b[0;34m\u001b[0m\u001b[0;34m\u001b[0m\u001b[0m\n\u001b[1;32m    671\u001b[0m         \u001b[0;31m# to avoid incompatible dtypes\u001b[0m\u001b[0;34m\u001b[0m\u001b[0;34m\u001b[0m\u001b[0;34m\u001b[0m\u001b[0m\n\u001b[0;32m--> 672\u001b[0;31m         \u001b[0mself\u001b[0m\u001b[0;34m.\u001b[0m\u001b[0m_maybe_coerce_merge_keys\u001b[0m\u001b[0;34m(\u001b[0m\u001b[0;34m)\u001b[0m\u001b[0;34m\u001b[0m\u001b[0;34m\u001b[0m\u001b[0m\n\u001b[0m\u001b[1;32m    673\u001b[0m \u001b[0;34m\u001b[0m\u001b[0m\n\u001b[1;32m    674\u001b[0m         \u001b[0;31m# If argument passed to validate,\u001b[0m\u001b[0;34m\u001b[0m\u001b[0;34m\u001b[0m\u001b[0;34m\u001b[0m\u001b[0m\n",
      "\u001b[0;32m/Library/Frameworks/Python.framework/Versions/3.8/lib/python3.8/site-packages/pandas/core/reshape/merge.py\u001b[0m in \u001b[0;36m_maybe_coerce_merge_keys\u001b[0;34m(self)\u001b[0m\n\u001b[1;32m   1191\u001b[0m                     \u001b[0minferred_right\u001b[0m \u001b[0;32min\u001b[0m \u001b[0mstring_types\u001b[0m \u001b[0;32mand\u001b[0m \u001b[0minferred_left\u001b[0m \u001b[0;32mnot\u001b[0m \u001b[0;32min\u001b[0m \u001b[0mstring_types\u001b[0m\u001b[0;34m\u001b[0m\u001b[0;34m\u001b[0m\u001b[0m\n\u001b[1;32m   1192\u001b[0m                 ):\n\u001b[0;32m-> 1193\u001b[0;31m                     \u001b[0;32mraise\u001b[0m \u001b[0mValueError\u001b[0m\u001b[0;34m(\u001b[0m\u001b[0mmsg\u001b[0m\u001b[0;34m)\u001b[0m\u001b[0;34m\u001b[0m\u001b[0;34m\u001b[0m\u001b[0m\n\u001b[0m\u001b[1;32m   1194\u001b[0m \u001b[0;34m\u001b[0m\u001b[0m\n\u001b[1;32m   1195\u001b[0m             \u001b[0;31m# datetimelikes must match exactly\u001b[0m\u001b[0;34m\u001b[0m\u001b[0;34m\u001b[0m\u001b[0;34m\u001b[0m\u001b[0m\n",
      "\u001b[0;31mValueError\u001b[0m: You are trying to merge on int64 and object columns. If you wish to proceed you should use pd.concat"
     ]
    }
   ],
   "source": [
    "match.merge(league.rename(columns={'league_name':'country_id'}))"
   ]
  },
  {
   "cell_type": "code",
   "execution_count": null,
   "id": "7cb3aea2",
   "metadata": {},
   "outputs": [],
   "source": [
    "match.merge(league.rename(columns={'league_name':'country_id'}))"
   ]
  },
  {
   "cell_type": "code",
   "execution_count": 113,
   "id": "13496dd6",
   "metadata": {
    "ExecuteTime": {
     "end_time": "2023-04-21T13:49:58.546793Z",
     "start_time": "2023-04-21T13:49:58.541069Z"
    }
   },
   "outputs": [
    {
     "data": {
      "text/plain": [
       "match_id             int64\n",
       "country_id           int64\n",
       "league_id            int64\n",
       "season              object\n",
       "stage                int64\n",
       "date                object\n",
       "match_api_id         int64\n",
       "home_team_api_id     int64\n",
       "away_team_api_id     int64\n",
       "home_team_goal       int64\n",
       "away_team_goal       int64\n",
       "dtype: object"
      ]
     },
     "execution_count": 113,
     "metadata": {},
     "output_type": "execute_result"
    }
   ],
   "source": [
    "match.head(1).dtypes"
   ]
  },
  {
   "cell_type": "code",
   "execution_count": 114,
   "id": "1740d18f",
   "metadata": {
    "ExecuteTime": {
     "end_time": "2023-04-21T13:50:05.666912Z",
     "start_time": "2023-04-21T13:50:05.660954Z"
    }
   },
   "outputs": [
    {
     "data": {
      "text/plain": [
       "league_id       int64\n",
       "league_name    object\n",
       "dtype: object"
      ]
     },
     "execution_count": 114,
     "metadata": {},
     "output_type": "execute_result"
    }
   ],
   "source": [
    "league.head(1).dtypes"
   ]
  },
  {
   "cell_type": "code",
   "execution_count": null,
   "id": "9b2ac318",
   "metadata": {},
   "outputs": [],
   "source": []
  },
  {
   "cell_type": "code",
   "execution_count": null,
   "id": "f88dc61f",
   "metadata": {},
   "outputs": [],
   "source": []
  },
  {
   "cell_type": "code",
   "execution_count": null,
   "id": "0be329e0",
   "metadata": {},
   "outputs": [],
   "source": [
    "match.merge(league).head()"
   ]
  },
  {
   "cell_type": "code",
   "execution_count": 108,
   "id": "9520132c",
   "metadata": {
    "ExecuteTime": {
     "end_time": "2023-04-21T13:48:27.011590Z",
     "start_time": "2023-04-21T13:48:26.998069Z"
    }
   },
   "outputs": [
    {
     "ename": "KeyError",
     "evalue": "'country_id'",
     "output_type": "error",
     "traceback": [
      "\u001b[0;31m---------------------------------------------------------------------------\u001b[0m",
      "\u001b[0;31mKeyError\u001b[0m                                  Traceback (most recent call last)",
      "\u001b[0;32m<ipython-input-108-e5e5fdf61d7d>\u001b[0m in \u001b[0;36m<module>\u001b[0;34m\u001b[0m\n\u001b[0;32m----> 1\u001b[0;31m \u001b[0mmatch\u001b[0m\u001b[0;34m.\u001b[0m\u001b[0mmerge\u001b[0m\u001b[0;34m(\u001b[0m\u001b[0mleague\u001b[0m\u001b[0;34m.\u001b[0m\u001b[0mrename\u001b[0m\u001b[0;34m(\u001b[0m\u001b[0mcolumns\u001b[0m\u001b[0;34m=\u001b[0m\u001b[0;34m{\u001b[0m\u001b[0;34m'league_id'\u001b[0m\u001b[0;34m:\u001b[0m\u001b[0;34m'l_id'\u001b[0m\u001b[0;34m}\u001b[0m\u001b[0;34m)\u001b[0m\u001b[0;34m,\u001b[0m \u001b[0mon\u001b[0m\u001b[0;34m=\u001b[0m\u001b[0;34m[\u001b[0m\u001b[0;34m'country_id'\u001b[0m\u001b[0;34m,\u001b[0m \u001b[0;34m'league_id'\u001b[0m\u001b[0;34m]\u001b[0m\u001b[0;34m)\u001b[0m\u001b[0;34m\u001b[0m\u001b[0;34m\u001b[0m\u001b[0m\n\u001b[0m",
      "\u001b[0;32m/Library/Frameworks/Python.framework/Versions/3.8/lib/python3.8/site-packages/pandas/core/frame.py\u001b[0m in \u001b[0;36mmerge\u001b[0;34m(self, right, how, on, left_on, right_on, left_index, right_index, sort, suffixes, copy, indicator, validate)\u001b[0m\n\u001b[1;32m   8193\u001b[0m         \u001b[0;32mfrom\u001b[0m \u001b[0mpandas\u001b[0m\u001b[0;34m.\u001b[0m\u001b[0mcore\u001b[0m\u001b[0;34m.\u001b[0m\u001b[0mreshape\u001b[0m\u001b[0;34m.\u001b[0m\u001b[0mmerge\u001b[0m \u001b[0;32mimport\u001b[0m \u001b[0mmerge\u001b[0m\u001b[0;34m\u001b[0m\u001b[0;34m\u001b[0m\u001b[0m\n\u001b[1;32m   8194\u001b[0m \u001b[0;34m\u001b[0m\u001b[0m\n\u001b[0;32m-> 8195\u001b[0;31m         return merge(\n\u001b[0m\u001b[1;32m   8196\u001b[0m             \u001b[0mself\u001b[0m\u001b[0;34m,\u001b[0m\u001b[0;34m\u001b[0m\u001b[0;34m\u001b[0m\u001b[0m\n\u001b[1;32m   8197\u001b[0m             \u001b[0mright\u001b[0m\u001b[0;34m,\u001b[0m\u001b[0;34m\u001b[0m\u001b[0;34m\u001b[0m\u001b[0m\n",
      "\u001b[0;32m/Library/Frameworks/Python.framework/Versions/3.8/lib/python3.8/site-packages/pandas/core/reshape/merge.py\u001b[0m in \u001b[0;36mmerge\u001b[0;34m(left, right, how, on, left_on, right_on, left_index, right_index, sort, suffixes, copy, indicator, validate)\u001b[0m\n\u001b[1;32m     72\u001b[0m     \u001b[0mvalidate\u001b[0m\u001b[0;34m=\u001b[0m\u001b[0;32mNone\u001b[0m\u001b[0;34m,\u001b[0m\u001b[0;34m\u001b[0m\u001b[0;34m\u001b[0m\u001b[0m\n\u001b[1;32m     73\u001b[0m ) -> \"DataFrame\":\n\u001b[0;32m---> 74\u001b[0;31m     op = _MergeOperation(\n\u001b[0m\u001b[1;32m     75\u001b[0m         \u001b[0mleft\u001b[0m\u001b[0;34m,\u001b[0m\u001b[0;34m\u001b[0m\u001b[0;34m\u001b[0m\u001b[0m\n\u001b[1;32m     76\u001b[0m         \u001b[0mright\u001b[0m\u001b[0;34m,\u001b[0m\u001b[0;34m\u001b[0m\u001b[0;34m\u001b[0m\u001b[0m\n",
      "\u001b[0;32m/Library/Frameworks/Python.framework/Versions/3.8/lib/python3.8/site-packages/pandas/core/reshape/merge.py\u001b[0m in \u001b[0;36m__init__\u001b[0;34m(self, left, right, how, on, left_on, right_on, axis, left_index, right_index, sort, suffixes, copy, indicator, validate)\u001b[0m\n\u001b[1;32m    666\u001b[0m             \u001b[0mself\u001b[0m\u001b[0;34m.\u001b[0m\u001b[0mright_join_keys\u001b[0m\u001b[0;34m,\u001b[0m\u001b[0;34m\u001b[0m\u001b[0;34m\u001b[0m\u001b[0m\n\u001b[1;32m    667\u001b[0m             \u001b[0mself\u001b[0m\u001b[0;34m.\u001b[0m\u001b[0mjoin_names\u001b[0m\u001b[0;34m,\u001b[0m\u001b[0;34m\u001b[0m\u001b[0;34m\u001b[0m\u001b[0m\n\u001b[0;32m--> 668\u001b[0;31m         ) = self._get_merge_keys()\n\u001b[0m\u001b[1;32m    669\u001b[0m \u001b[0;34m\u001b[0m\u001b[0m\n\u001b[1;32m    670\u001b[0m         \u001b[0;31m# validate the merge keys dtypes. We may need to coerce\u001b[0m\u001b[0;34m\u001b[0m\u001b[0;34m\u001b[0m\u001b[0;34m\u001b[0m\u001b[0m\n",
      "\u001b[0;32m/Library/Frameworks/Python.framework/Versions/3.8/lib/python3.8/site-packages/pandas/core/reshape/merge.py\u001b[0m in \u001b[0;36m_get_merge_keys\u001b[0;34m(self)\u001b[0m\n\u001b[1;32m   1031\u001b[0m                     \u001b[0;32mif\u001b[0m \u001b[0;32mnot\u001b[0m \u001b[0mis_rkey\u001b[0m\u001b[0;34m(\u001b[0m\u001b[0mrk\u001b[0m\u001b[0;34m)\u001b[0m\u001b[0;34m:\u001b[0m\u001b[0;34m\u001b[0m\u001b[0;34m\u001b[0m\u001b[0m\n\u001b[1;32m   1032\u001b[0m                         \u001b[0;32mif\u001b[0m \u001b[0mrk\u001b[0m \u001b[0;32mis\u001b[0m \u001b[0;32mnot\u001b[0m \u001b[0;32mNone\u001b[0m\u001b[0;34m:\u001b[0m\u001b[0;34m\u001b[0m\u001b[0;34m\u001b[0m\u001b[0m\n\u001b[0;32m-> 1033\u001b[0;31m                             \u001b[0mright_keys\u001b[0m\u001b[0;34m.\u001b[0m\u001b[0mappend\u001b[0m\u001b[0;34m(\u001b[0m\u001b[0mright\u001b[0m\u001b[0;34m.\u001b[0m\u001b[0m_get_label_or_level_values\u001b[0m\u001b[0;34m(\u001b[0m\u001b[0mrk\u001b[0m\u001b[0;34m)\u001b[0m\u001b[0;34m)\u001b[0m\u001b[0;34m\u001b[0m\u001b[0;34m\u001b[0m\u001b[0m\n\u001b[0m\u001b[1;32m   1034\u001b[0m                         \u001b[0;32melse\u001b[0m\u001b[0;34m:\u001b[0m\u001b[0;34m\u001b[0m\u001b[0;34m\u001b[0m\u001b[0m\n\u001b[1;32m   1035\u001b[0m                             \u001b[0;31m# work-around for merge_asof(right_index=True)\u001b[0m\u001b[0;34m\u001b[0m\u001b[0;34m\u001b[0m\u001b[0;34m\u001b[0m\u001b[0m\n",
      "\u001b[0;32m/Library/Frameworks/Python.framework/Versions/3.8/lib/python3.8/site-packages/pandas/core/generic.py\u001b[0m in \u001b[0;36m_get_label_or_level_values\u001b[0;34m(self, key, axis)\u001b[0m\n\u001b[1;32m   1682\u001b[0m             \u001b[0mvalues\u001b[0m \u001b[0;34m=\u001b[0m \u001b[0mself\u001b[0m\u001b[0;34m.\u001b[0m\u001b[0maxes\u001b[0m\u001b[0;34m[\u001b[0m\u001b[0maxis\u001b[0m\u001b[0;34m]\u001b[0m\u001b[0;34m.\u001b[0m\u001b[0mget_level_values\u001b[0m\u001b[0;34m(\u001b[0m\u001b[0mkey\u001b[0m\u001b[0;34m)\u001b[0m\u001b[0;34m.\u001b[0m\u001b[0m_values\u001b[0m\u001b[0;34m\u001b[0m\u001b[0;34m\u001b[0m\u001b[0m\n\u001b[1;32m   1683\u001b[0m         \u001b[0;32melse\u001b[0m\u001b[0;34m:\u001b[0m\u001b[0;34m\u001b[0m\u001b[0;34m\u001b[0m\u001b[0m\n\u001b[0;32m-> 1684\u001b[0;31m             \u001b[0;32mraise\u001b[0m \u001b[0mKeyError\u001b[0m\u001b[0;34m(\u001b[0m\u001b[0mkey\u001b[0m\u001b[0;34m)\u001b[0m\u001b[0;34m\u001b[0m\u001b[0;34m\u001b[0m\u001b[0m\n\u001b[0m\u001b[1;32m   1685\u001b[0m \u001b[0;34m\u001b[0m\u001b[0m\n\u001b[1;32m   1686\u001b[0m         \u001b[0;31m# Check for duplicates\u001b[0m\u001b[0;34m\u001b[0m\u001b[0;34m\u001b[0m\u001b[0;34m\u001b[0m\u001b[0m\n",
      "\u001b[0;31mKeyError\u001b[0m: 'country_id'"
     ]
    }
   ],
   "source": [
    "match.merge(league.rename(columns={'league_id':'l_id'}), on=['country_id', 'league_id'])"
   ]
  },
  {
   "cell_type": "code",
   "execution_count": 76,
   "id": "35ffcce8",
   "metadata": {
    "ExecuteTime": {
     "end_time": "2023-04-21T13:36:29.073794Z",
     "start_time": "2023-04-21T13:36:29.063314Z"
    }
   },
   "outputs": [
    {
     "data": {
      "text/html": [
       "<div>\n",
       "<style scoped>\n",
       "    .dataframe tbody tr th:only-of-type {\n",
       "        vertical-align: middle;\n",
       "    }\n",
       "\n",
       "    .dataframe tbody tr th {\n",
       "        vertical-align: top;\n",
       "    }\n",
       "\n",
       "    .dataframe thead th {\n",
       "        text-align: right;\n",
       "    }\n",
       "</style>\n",
       "<table border=\"1\" class=\"dataframe\">\n",
       "  <thead>\n",
       "    <tr style=\"text-align: right;\">\n",
       "      <th></th>\n",
       "      <th>match_id</th>\n",
       "      <th>country_id</th>\n",
       "      <th>league_id</th>\n",
       "      <th>season</th>\n",
       "      <th>stage</th>\n",
       "      <th>date</th>\n",
       "      <th>match_api_id</th>\n",
       "      <th>home_team_api_id</th>\n",
       "      <th>away_team_api_id</th>\n",
       "      <th>home_team_goal</th>\n",
       "      <th>away_team_goal</th>\n",
       "    </tr>\n",
       "  </thead>\n",
       "  <tbody>\n",
       "    <tr>\n",
       "      <th>0</th>\n",
       "      <td>1</td>\n",
       "      <td>1</td>\n",
       "      <td>1</td>\n",
       "      <td>2008/2009</td>\n",
       "      <td>1</td>\n",
       "      <td>2008-08-17 00:00:00</td>\n",
       "      <td>492473</td>\n",
       "      <td>9987</td>\n",
       "      <td>9993</td>\n",
       "      <td>1</td>\n",
       "      <td>1</td>\n",
       "    </tr>\n",
       "  </tbody>\n",
       "</table>\n",
       "</div>"
      ],
      "text/plain": [
       "   match_id  country_id  league_id     season  stage                 date  \\\n",
       "0         1           1          1  2008/2009      1  2008-08-17 00:00:00   \n",
       "\n",
       "   match_api_id  home_team_api_id  away_team_api_id  home_team_goal  \\\n",
       "0        492473              9987              9993               1   \n",
       "\n",
       "   away_team_goal  \n",
       "0               1  "
      ]
     },
     "execution_count": 76,
     "metadata": {},
     "output_type": "execute_result"
    }
   ],
   "source": [
    "match.head(1)"
   ]
  },
  {
   "cell_type": "code",
   "execution_count": 77,
   "id": "7dbf98cc",
   "metadata": {
    "ExecuteTime": {
     "end_time": "2023-04-21T13:36:29.516021Z",
     "start_time": "2023-04-21T13:36:29.508555Z"
    }
   },
   "outputs": [
    {
     "data": {
      "text/html": [
       "<div>\n",
       "<style scoped>\n",
       "    .dataframe tbody tr th:only-of-type {\n",
       "        vertical-align: middle;\n",
       "    }\n",
       "\n",
       "    .dataframe tbody tr th {\n",
       "        vertical-align: top;\n",
       "    }\n",
       "\n",
       "    .dataframe thead th {\n",
       "        text-align: right;\n",
       "    }\n",
       "</style>\n",
       "<table border=\"1\" class=\"dataframe\">\n",
       "  <thead>\n",
       "    <tr style=\"text-align: right;\">\n",
       "      <th></th>\n",
       "      <th>id</th>\n",
       "      <th>name</th>\n",
       "    </tr>\n",
       "  </thead>\n",
       "  <tbody>\n",
       "    <tr>\n",
       "      <th>0</th>\n",
       "      <td>1</td>\n",
       "      <td>Belgium</td>\n",
       "    </tr>\n",
       "  </tbody>\n",
       "</table>\n",
       "</div>"
      ],
      "text/plain": [
       "   id     name\n",
       "0   1  Belgium"
      ]
     },
     "execution_count": 77,
     "metadata": {},
     "output_type": "execute_result"
    }
   ],
   "source": [
    "country.head(1)"
   ]
  },
  {
   "cell_type": "code",
   "execution_count": 78,
   "id": "6c72a79b",
   "metadata": {
    "ExecuteTime": {
     "end_time": "2023-04-21T13:36:30.058437Z",
     "start_time": "2023-04-21T13:36:30.050907Z"
    }
   },
   "outputs": [
    {
     "data": {
      "text/html": [
       "<div>\n",
       "<style scoped>\n",
       "    .dataframe tbody tr th:only-of-type {\n",
       "        vertical-align: middle;\n",
       "    }\n",
       "\n",
       "    .dataframe tbody tr th {\n",
       "        vertical-align: top;\n",
       "    }\n",
       "\n",
       "    .dataframe thead th {\n",
       "        text-align: right;\n",
       "    }\n",
       "</style>\n",
       "<table border=\"1\" class=\"dataframe\">\n",
       "  <thead>\n",
       "    <tr style=\"text-align: right;\">\n",
       "      <th></th>\n",
       "      <th>id</th>\n",
       "      <th>name</th>\n",
       "    </tr>\n",
       "  </thead>\n",
       "  <tbody>\n",
       "    <tr>\n",
       "      <th>0</th>\n",
       "      <td>1</td>\n",
       "      <td>Belgium Jupiler League</td>\n",
       "    </tr>\n",
       "  </tbody>\n",
       "</table>\n",
       "</div>"
      ],
      "text/plain": [
       "   id                    name\n",
       "0   1  Belgium Jupiler League"
      ]
     },
     "execution_count": 78,
     "metadata": {},
     "output_type": "execute_result"
    }
   ],
   "source": [
    "league.head(1)"
   ]
  },
  {
   "cell_type": "code",
   "execution_count": null,
   "id": "000d5210",
   "metadata": {},
   "outputs": [],
   "source": []
  },
  {
   "cell_type": "code",
   "execution_count": 86,
   "id": "237af07f",
   "metadata": {
    "ExecuteTime": {
     "end_time": "2023-04-21T13:39:42.592114Z",
     "start_time": "2023-04-21T13:39:42.565780Z"
    }
   },
   "outputs": [
    {
     "data": {
      "text/html": [
       "<div>\n",
       "<style scoped>\n",
       "    .dataframe tbody tr th:only-of-type {\n",
       "        vertical-align: middle;\n",
       "    }\n",
       "\n",
       "    .dataframe tbody tr th {\n",
       "        vertical-align: top;\n",
       "    }\n",
       "\n",
       "    .dataframe thead th {\n",
       "        text-align: right;\n",
       "    }\n",
       "</style>\n",
       "<table border=\"1\" class=\"dataframe\">\n",
       "  <thead>\n",
       "    <tr style=\"text-align: right;\">\n",
       "      <th></th>\n",
       "      <th>match_id</th>\n",
       "      <th>country_id</th>\n",
       "      <th>league_id</th>\n",
       "      <th>season</th>\n",
       "      <th>stage</th>\n",
       "      <th>date</th>\n",
       "      <th>match_api_id</th>\n",
       "      <th>home_team_api_id</th>\n",
       "      <th>away_team_api_id</th>\n",
       "      <th>home_team_goal</th>\n",
       "      <th>away_team_goal</th>\n",
       "      <th>country_name</th>\n",
       "      <th>league_name</th>\n",
       "    </tr>\n",
       "  </thead>\n",
       "  <tbody>\n",
       "    <tr>\n",
       "      <th>0</th>\n",
       "      <td>1</td>\n",
       "      <td>1</td>\n",
       "      <td>1</td>\n",
       "      <td>2008/2009</td>\n",
       "      <td>1</td>\n",
       "      <td>2008-08-17 00:00:00</td>\n",
       "      <td>492473</td>\n",
       "      <td>9987</td>\n",
       "      <td>9993</td>\n",
       "      <td>1</td>\n",
       "      <td>1</td>\n",
       "      <td>Belgium</td>\n",
       "      <td>Belgium Jupiler League</td>\n",
       "    </tr>\n",
       "  </tbody>\n",
       "</table>\n",
       "</div>"
      ],
      "text/plain": [
       "   match_id  country_id  league_id     season  stage                 date  \\\n",
       "0         1           1          1  2008/2009      1  2008-08-17 00:00:00   \n",
       "\n",
       "   match_api_id  home_team_api_id  away_team_api_id  home_team_goal  \\\n",
       "0        492473              9987              9993               1   \n",
       "\n",
       "   away_team_goal country_name             league_name  \n",
       "0               1      Belgium  Belgium Jupiler League  "
      ]
     },
     "execution_count": 86,
     "metadata": {},
     "output_type": "execute_result"
    }
   ],
   "source": [
    "match \\\n",
    "    .merge(country, left_on=['country_id'], right_on=['id']) \\\n",
    "    .head(1) \\\n",
    "    .drop(columns=['id']) \\\n",
    "    .merge(league, left_on=['league_id'], right_on=['id']) \\\n",
    "    .drop(columns=['id']) \\\n",
    "    .rename(columns={'name_x':'country_name', 'name_y':'league_name'})"
   ]
  },
  {
   "cell_type": "code",
   "execution_count": null,
   "id": "a934058e",
   "metadata": {
    "ExecuteTime": {
     "end_time": "2023-04-21T12:54:31.495214Z",
     "start_time": "2023-04-21T12:54:31.342063Z"
    }
   },
   "outputs": [],
   "source": [
    "pd.read_sql(\"\"\"\n",
    "SELECT  date,\n",
    "        match_api_id,\n",
    "        m.id,\n",
    "        l.name AS league_name,\n",
    "        c.name AS country_name\n",
    "FROM Match m\n",
    "INNER JOIN League l ON m.league_id = l.id\n",
    "INNER JOIN Country c ON m.country_id = c.id\n",
    "\"\"\", engine)"
   ]
  },
  {
   "cell_type": "code",
   "execution_count": 133,
   "id": "91f036d9",
   "metadata": {
    "ExecuteTime": {
     "end_time": "2023-04-21T14:00:33.458972Z",
     "start_time": "2023-04-21T14:00:33.426492Z"
    }
   },
   "outputs": [
    {
     "data": {
      "text/html": [
       "<div>\n",
       "<style scoped>\n",
       "    .dataframe tbody tr th:only-of-type {\n",
       "        vertical-align: middle;\n",
       "    }\n",
       "\n",
       "    .dataframe tbody tr th {\n",
       "        vertical-align: top;\n",
       "    }\n",
       "\n",
       "    .dataframe thead th {\n",
       "        text-align: right;\n",
       "    }\n",
       "</style>\n",
       "<table border=\"1\" class=\"dataframe\">\n",
       "  <thead>\n",
       "    <tr style=\"text-align: right;\">\n",
       "      <th></th>\n",
       "      <th>date</th>\n",
       "      <th>match_api_id</th>\n",
       "      <th>match_id</th>\n",
       "      <th>league_name</th>\n",
       "      <th>country_name</th>\n",
       "    </tr>\n",
       "  </thead>\n",
       "  <tbody>\n",
       "    <tr>\n",
       "      <th>0</th>\n",
       "      <td>2008-08-17 00:00:00</td>\n",
       "      <td>492473</td>\n",
       "      <td>1</td>\n",
       "      <td>Belgium Jupiler League</td>\n",
       "      <td>Belgium</td>\n",
       "    </tr>\n",
       "    <tr>\n",
       "      <th>1</th>\n",
       "      <td>2008-08-16 00:00:00</td>\n",
       "      <td>492474</td>\n",
       "      <td>2</td>\n",
       "      <td>Belgium Jupiler League</td>\n",
       "      <td>Belgium</td>\n",
       "    </tr>\n",
       "    <tr>\n",
       "      <th>2</th>\n",
       "      <td>2008-08-16 00:00:00</td>\n",
       "      <td>492475</td>\n",
       "      <td>3</td>\n",
       "      <td>Belgium Jupiler League</td>\n",
       "      <td>Belgium</td>\n",
       "    </tr>\n",
       "  </tbody>\n",
       "</table>\n",
       "</div>"
      ],
      "text/plain": [
       "                  date  match_api_id  match_id             league_name  \\\n",
       "0  2008-08-17 00:00:00        492473         1  Belgium Jupiler League   \n",
       "1  2008-08-16 00:00:00        492474         2  Belgium Jupiler League   \n",
       "2  2008-08-16 00:00:00        492475         3  Belgium Jupiler League   \n",
       "\n",
       "  country_name  \n",
       "0      Belgium  \n",
       "1      Belgium  \n",
       "2      Belgium  "
      ]
     },
     "execution_count": 133,
     "metadata": {},
     "output_type": "execute_result"
    }
   ],
   "source": [
    "df = match \\\n",
    "    .merge(league, on='league_id') \\\n",
    "    .merge(country, on='country_id') \\\n",
    "    [['date','match_api_id','match_id','league_name','country_name']]\n",
    "df.head(3)\n",
    "\n",
    "# merge(on=[''])"
   ]
  },
  {
   "cell_type": "code",
   "execution_count": 123,
   "id": "3a6d0542",
   "metadata": {
    "ExecuteTime": {
     "end_time": "2023-04-21T13:54:13.125454Z",
     "start_time": "2023-04-21T13:54:13.086150Z"
    }
   },
   "outputs": [
    {
     "data": {
      "text/html": [
       "<div>\n",
       "<style scoped>\n",
       "    .dataframe tbody tr th:only-of-type {\n",
       "        vertical-align: middle;\n",
       "    }\n",
       "\n",
       "    .dataframe tbody tr th {\n",
       "        vertical-align: top;\n",
       "    }\n",
       "\n",
       "    .dataframe thead th {\n",
       "        text-align: right;\n",
       "    }\n",
       "</style>\n",
       "<table border=\"1\" class=\"dataframe\">\n",
       "  <thead>\n",
       "    <tr style=\"text-align: right;\">\n",
       "      <th></th>\n",
       "      <th>league_id</th>\n",
       "      <th>match_id</th>\n",
       "      <th>country_id</th>\n",
       "      <th>season</th>\n",
       "      <th>stage</th>\n",
       "      <th>date</th>\n",
       "      <th>match_api_id</th>\n",
       "      <th>home_team_api_id</th>\n",
       "      <th>away_team_api_id</th>\n",
       "      <th>home_team_goal</th>\n",
       "      <th>away_team_goal</th>\n",
       "      <th>league_name</th>\n",
       "    </tr>\n",
       "  </thead>\n",
       "  <tbody>\n",
       "    <tr>\n",
       "      <th>0</th>\n",
       "      <td>1</td>\n",
       "      <td>1</td>\n",
       "      <td>1</td>\n",
       "      <td>2008/2009</td>\n",
       "      <td>1</td>\n",
       "      <td>2008-08-17 00:00:00</td>\n",
       "      <td>492473</td>\n",
       "      <td>9987</td>\n",
       "      <td>9993</td>\n",
       "      <td>1</td>\n",
       "      <td>1</td>\n",
       "      <td>Belgium Jupiler League</td>\n",
       "    </tr>\n",
       "    <tr>\n",
       "      <th>1</th>\n",
       "      <td>1</td>\n",
       "      <td>2</td>\n",
       "      <td>1</td>\n",
       "      <td>2008/2009</td>\n",
       "      <td>1</td>\n",
       "      <td>2008-08-16 00:00:00</td>\n",
       "      <td>492474</td>\n",
       "      <td>10000</td>\n",
       "      <td>9994</td>\n",
       "      <td>0</td>\n",
       "      <td>0</td>\n",
       "      <td>Belgium Jupiler League</td>\n",
       "    </tr>\n",
       "    <tr>\n",
       "      <th>2</th>\n",
       "      <td>1</td>\n",
       "      <td>3</td>\n",
       "      <td>1</td>\n",
       "      <td>2008/2009</td>\n",
       "      <td>1</td>\n",
       "      <td>2008-08-16 00:00:00</td>\n",
       "      <td>492475</td>\n",
       "      <td>9984</td>\n",
       "      <td>8635</td>\n",
       "      <td>0</td>\n",
       "      <td>3</td>\n",
       "      <td>Belgium Jupiler League</td>\n",
       "    </tr>\n",
       "    <tr>\n",
       "      <th>3</th>\n",
       "      <td>1</td>\n",
       "      <td>4</td>\n",
       "      <td>1</td>\n",
       "      <td>2008/2009</td>\n",
       "      <td>1</td>\n",
       "      <td>2008-08-17 00:00:00</td>\n",
       "      <td>492476</td>\n",
       "      <td>9991</td>\n",
       "      <td>9998</td>\n",
       "      <td>5</td>\n",
       "      <td>0</td>\n",
       "      <td>Belgium Jupiler League</td>\n",
       "    </tr>\n",
       "    <tr>\n",
       "      <th>4</th>\n",
       "      <td>1</td>\n",
       "      <td>5</td>\n",
       "      <td>1</td>\n",
       "      <td>2008/2009</td>\n",
       "      <td>1</td>\n",
       "      <td>2008-08-16 00:00:00</td>\n",
       "      <td>492477</td>\n",
       "      <td>7947</td>\n",
       "      <td>9985</td>\n",
       "      <td>1</td>\n",
       "      <td>3</td>\n",
       "      <td>Belgium Jupiler League</td>\n",
       "    </tr>\n",
       "    <tr>\n",
       "      <th>...</th>\n",
       "      <td>...</td>\n",
       "      <td>...</td>\n",
       "      <td>...</td>\n",
       "      <td>...</td>\n",
       "      <td>...</td>\n",
       "      <td>...</td>\n",
       "      <td>...</td>\n",
       "      <td>...</td>\n",
       "      <td>...</td>\n",
       "      <td>...</td>\n",
       "      <td>...</td>\n",
       "      <td>...</td>\n",
       "    </tr>\n",
       "    <tr>\n",
       "      <th>25974</th>\n",
       "      <td>24558</td>\n",
       "      <td>25975</td>\n",
       "      <td>24558</td>\n",
       "      <td>2015/2016</td>\n",
       "      <td>9</td>\n",
       "      <td>2015-09-22 00:00:00</td>\n",
       "      <td>1992091</td>\n",
       "      <td>10190</td>\n",
       "      <td>10191</td>\n",
       "      <td>1</td>\n",
       "      <td>0</td>\n",
       "      <td>Switzerland Super League</td>\n",
       "    </tr>\n",
       "    <tr>\n",
       "      <th>25975</th>\n",
       "      <td>24558</td>\n",
       "      <td>25976</td>\n",
       "      <td>24558</td>\n",
       "      <td>2015/2016</td>\n",
       "      <td>9</td>\n",
       "      <td>2015-09-23 00:00:00</td>\n",
       "      <td>1992092</td>\n",
       "      <td>9824</td>\n",
       "      <td>10199</td>\n",
       "      <td>1</td>\n",
       "      <td>2</td>\n",
       "      <td>Switzerland Super League</td>\n",
       "    </tr>\n",
       "    <tr>\n",
       "      <th>25976</th>\n",
       "      <td>24558</td>\n",
       "      <td>25977</td>\n",
       "      <td>24558</td>\n",
       "      <td>2015/2016</td>\n",
       "      <td>9</td>\n",
       "      <td>2015-09-23 00:00:00</td>\n",
       "      <td>1992093</td>\n",
       "      <td>9956</td>\n",
       "      <td>10179</td>\n",
       "      <td>2</td>\n",
       "      <td>0</td>\n",
       "      <td>Switzerland Super League</td>\n",
       "    </tr>\n",
       "    <tr>\n",
       "      <th>25977</th>\n",
       "      <td>24558</td>\n",
       "      <td>25978</td>\n",
       "      <td>24558</td>\n",
       "      <td>2015/2016</td>\n",
       "      <td>9</td>\n",
       "      <td>2015-09-22 00:00:00</td>\n",
       "      <td>1992094</td>\n",
       "      <td>7896</td>\n",
       "      <td>10243</td>\n",
       "      <td>0</td>\n",
       "      <td>0</td>\n",
       "      <td>Switzerland Super League</td>\n",
       "    </tr>\n",
       "    <tr>\n",
       "      <th>25978</th>\n",
       "      <td>24558</td>\n",
       "      <td>25979</td>\n",
       "      <td>24558</td>\n",
       "      <td>2015/2016</td>\n",
       "      <td>9</td>\n",
       "      <td>2015-09-23 00:00:00</td>\n",
       "      <td>1992095</td>\n",
       "      <td>10192</td>\n",
       "      <td>9931</td>\n",
       "      <td>4</td>\n",
       "      <td>3</td>\n",
       "      <td>Switzerland Super League</td>\n",
       "    </tr>\n",
       "  </tbody>\n",
       "</table>\n",
       "<p>25979 rows × 12 columns</p>\n",
       "</div>"
      ],
      "text/plain": [
       "       league_id  match_id  country_id     season  stage                 date  \\\n",
       "0              1         1           1  2008/2009      1  2008-08-17 00:00:00   \n",
       "1              1         2           1  2008/2009      1  2008-08-16 00:00:00   \n",
       "2              1         3           1  2008/2009      1  2008-08-16 00:00:00   \n",
       "3              1         4           1  2008/2009      1  2008-08-17 00:00:00   \n",
       "4              1         5           1  2008/2009      1  2008-08-16 00:00:00   \n",
       "...          ...       ...         ...        ...    ...                  ...   \n",
       "25974      24558     25975       24558  2015/2016      9  2015-09-22 00:00:00   \n",
       "25975      24558     25976       24558  2015/2016      9  2015-09-23 00:00:00   \n",
       "25976      24558     25977       24558  2015/2016      9  2015-09-23 00:00:00   \n",
       "25977      24558     25978       24558  2015/2016      9  2015-09-22 00:00:00   \n",
       "25978      24558     25979       24558  2015/2016      9  2015-09-23 00:00:00   \n",
       "\n",
       "       match_api_id  home_team_api_id  away_team_api_id  home_team_goal  \\\n",
       "0            492473              9987              9993               1   \n",
       "1            492474             10000              9994               0   \n",
       "2            492475              9984              8635               0   \n",
       "3            492476              9991              9998               5   \n",
       "4            492477              7947              9985               1   \n",
       "...             ...               ...               ...             ...   \n",
       "25974       1992091             10190             10191               1   \n",
       "25975       1992092              9824             10199               1   \n",
       "25976       1992093              9956             10179               2   \n",
       "25977       1992094              7896             10243               0   \n",
       "25978       1992095             10192              9931               4   \n",
       "\n",
       "       away_team_goal               league_name  \n",
       "0                   1    Belgium Jupiler League  \n",
       "1                   0    Belgium Jupiler League  \n",
       "2                   3    Belgium Jupiler League  \n",
       "3                   0    Belgium Jupiler League  \n",
       "4                   3    Belgium Jupiler League  \n",
       "...               ...                       ...  \n",
       "25974               0  Switzerland Super League  \n",
       "25975               2  Switzerland Super League  \n",
       "25976               0  Switzerland Super League  \n",
       "25977               0  Switzerland Super League  \n",
       "25978               3  Switzerland Super League  \n",
       "\n",
       "[25979 rows x 12 columns]"
      ]
     },
     "execution_count": 123,
     "metadata": {},
     "output_type": "execute_result"
    }
   ],
   "source": [
    "match.set_index('league_id')\n",
    "league.set_index('league_id')\n",
    "match.set_index('league_id').merge(league.set_index('league_id'), left_index=True, right_index=True).reset_index()"
   ]
  },
  {
   "cell_type": "code",
   "execution_count": 128,
   "id": "986359fb",
   "metadata": {
    "ExecuteTime": {
     "end_time": "2023-04-21T13:56:47.370071Z",
     "start_time": "2023-04-21T13:56:47.362052Z"
    }
   },
   "outputs": [
    {
     "data": {
      "text/plain": [
       "{'league_id', 'league_name'}"
      ]
     },
     "execution_count": 128,
     "metadata": {},
     "output_type": "execute_result"
    }
   ],
   "source": [
    "set(match.eval('league_name = \"Lionel Messi\"')) & set(league)"
   ]
  },
  {
   "cell_type": "code",
   "execution_count": 129,
   "id": "34b5c786",
   "metadata": {
    "ExecuteTime": {
     "end_time": "2023-04-21T13:57:30.370934Z",
     "start_time": "2023-04-21T13:57:30.350867Z"
    }
   },
   "outputs": [
    {
     "data": {
      "text/html": [
       "<div>\n",
       "<style scoped>\n",
       "    .dataframe tbody tr th:only-of-type {\n",
       "        vertical-align: middle;\n",
       "    }\n",
       "\n",
       "    .dataframe tbody tr th {\n",
       "        vertical-align: top;\n",
       "    }\n",
       "\n",
       "    .dataframe thead th {\n",
       "        text-align: right;\n",
       "    }\n",
       "</style>\n",
       "<table border=\"1\" class=\"dataframe\">\n",
       "  <thead>\n",
       "    <tr style=\"text-align: right;\">\n",
       "      <th></th>\n",
       "      <th>match_id</th>\n",
       "      <th>country_id</th>\n",
       "      <th>league_id</th>\n",
       "      <th>season</th>\n",
       "      <th>stage</th>\n",
       "      <th>date</th>\n",
       "      <th>match_api_id</th>\n",
       "      <th>home_team_api_id</th>\n",
       "      <th>away_team_api_id</th>\n",
       "      <th>home_team_goal</th>\n",
       "      <th>away_team_goal</th>\n",
       "      <th>league_name</th>\n",
       "    </tr>\n",
       "  </thead>\n",
       "  <tbody>\n",
       "  </tbody>\n",
       "</table>\n",
       "</div>"
      ],
      "text/plain": [
       "Empty DataFrame\n",
       "Columns: [match_id, country_id, league_id, season, stage, date, match_api_id, home_team_api_id, away_team_api_id, home_team_goal, away_team_goal, league_name]\n",
       "Index: []"
      ]
     },
     "execution_count": 129,
     "metadata": {},
     "output_type": "execute_result"
    }
   ],
   "source": [
    "match.eval('league_name = \"Lionel Messi\"').merge(league)"
   ]
  },
  {
   "cell_type": "code",
   "execution_count": 131,
   "id": "9612882e",
   "metadata": {
    "ExecuteTime": {
     "end_time": "2023-04-21T13:58:43.225570Z",
     "start_time": "2023-04-21T13:58:43.196700Z"
    }
   },
   "outputs": [
    {
     "data": {
      "text/html": [
       "<div>\n",
       "<style scoped>\n",
       "    .dataframe tbody tr th:only-of-type {\n",
       "        vertical-align: middle;\n",
       "    }\n",
       "\n",
       "    .dataframe tbody tr th {\n",
       "        vertical-align: top;\n",
       "    }\n",
       "\n",
       "    .dataframe thead th {\n",
       "        text-align: right;\n",
       "    }\n",
       "</style>\n",
       "<table border=\"1\" class=\"dataframe\">\n",
       "  <thead>\n",
       "    <tr style=\"text-align: right;\">\n",
       "      <th></th>\n",
       "      <th>match_id</th>\n",
       "      <th>country_id</th>\n",
       "      <th>league_id</th>\n",
       "      <th>season</th>\n",
       "      <th>stage</th>\n",
       "      <th>date</th>\n",
       "      <th>match_api_id</th>\n",
       "      <th>home_team_api_id</th>\n",
       "      <th>away_team_api_id</th>\n",
       "      <th>home_team_goal</th>\n",
       "      <th>away_team_goal</th>\n",
       "      <th>league_name</th>\n",
       "    </tr>\n",
       "  </thead>\n",
       "  <tbody>\n",
       "    <tr>\n",
       "      <th>0</th>\n",
       "      <td>1</td>\n",
       "      <td>1</td>\n",
       "      <td>1</td>\n",
       "      <td>2008/2009</td>\n",
       "      <td>1</td>\n",
       "      <td>2008-08-17 00:00:00</td>\n",
       "      <td>492473</td>\n",
       "      <td>9987</td>\n",
       "      <td>9993</td>\n",
       "      <td>1</td>\n",
       "      <td>1</td>\n",
       "      <td>Belgium Jupiler League</td>\n",
       "    </tr>\n",
       "    <tr>\n",
       "      <th>1</th>\n",
       "      <td>2</td>\n",
       "      <td>1</td>\n",
       "      <td>1</td>\n",
       "      <td>2008/2009</td>\n",
       "      <td>1</td>\n",
       "      <td>2008-08-16 00:00:00</td>\n",
       "      <td>492474</td>\n",
       "      <td>10000</td>\n",
       "      <td>9994</td>\n",
       "      <td>0</td>\n",
       "      <td>0</td>\n",
       "      <td>Belgium Jupiler League</td>\n",
       "    </tr>\n",
       "    <tr>\n",
       "      <th>2</th>\n",
       "      <td>3</td>\n",
       "      <td>1</td>\n",
       "      <td>1</td>\n",
       "      <td>2008/2009</td>\n",
       "      <td>1</td>\n",
       "      <td>2008-08-16 00:00:00</td>\n",
       "      <td>492475</td>\n",
       "      <td>9984</td>\n",
       "      <td>8635</td>\n",
       "      <td>0</td>\n",
       "      <td>3</td>\n",
       "      <td>Belgium Jupiler League</td>\n",
       "    </tr>\n",
       "    <tr>\n",
       "      <th>3</th>\n",
       "      <td>4</td>\n",
       "      <td>1</td>\n",
       "      <td>1</td>\n",
       "      <td>2008/2009</td>\n",
       "      <td>1</td>\n",
       "      <td>2008-08-17 00:00:00</td>\n",
       "      <td>492476</td>\n",
       "      <td>9991</td>\n",
       "      <td>9998</td>\n",
       "      <td>5</td>\n",
       "      <td>0</td>\n",
       "      <td>Belgium Jupiler League</td>\n",
       "    </tr>\n",
       "    <tr>\n",
       "      <th>4</th>\n",
       "      <td>5</td>\n",
       "      <td>1</td>\n",
       "      <td>1</td>\n",
       "      <td>2008/2009</td>\n",
       "      <td>1</td>\n",
       "      <td>2008-08-16 00:00:00</td>\n",
       "      <td>492477</td>\n",
       "      <td>7947</td>\n",
       "      <td>9985</td>\n",
       "      <td>1</td>\n",
       "      <td>3</td>\n",
       "      <td>Belgium Jupiler League</td>\n",
       "    </tr>\n",
       "    <tr>\n",
       "      <th>...</th>\n",
       "      <td>...</td>\n",
       "      <td>...</td>\n",
       "      <td>...</td>\n",
       "      <td>...</td>\n",
       "      <td>...</td>\n",
       "      <td>...</td>\n",
       "      <td>...</td>\n",
       "      <td>...</td>\n",
       "      <td>...</td>\n",
       "      <td>...</td>\n",
       "      <td>...</td>\n",
       "      <td>...</td>\n",
       "    </tr>\n",
       "    <tr>\n",
       "      <th>25974</th>\n",
       "      <td>25975</td>\n",
       "      <td>24558</td>\n",
       "      <td>24558</td>\n",
       "      <td>2015/2016</td>\n",
       "      <td>9</td>\n",
       "      <td>2015-09-22 00:00:00</td>\n",
       "      <td>1992091</td>\n",
       "      <td>10190</td>\n",
       "      <td>10191</td>\n",
       "      <td>1</td>\n",
       "      <td>0</td>\n",
       "      <td>Switzerland Super League</td>\n",
       "    </tr>\n",
       "    <tr>\n",
       "      <th>25975</th>\n",
       "      <td>25976</td>\n",
       "      <td>24558</td>\n",
       "      <td>24558</td>\n",
       "      <td>2015/2016</td>\n",
       "      <td>9</td>\n",
       "      <td>2015-09-23 00:00:00</td>\n",
       "      <td>1992092</td>\n",
       "      <td>9824</td>\n",
       "      <td>10199</td>\n",
       "      <td>1</td>\n",
       "      <td>2</td>\n",
       "      <td>Switzerland Super League</td>\n",
       "    </tr>\n",
       "    <tr>\n",
       "      <th>25976</th>\n",
       "      <td>25977</td>\n",
       "      <td>24558</td>\n",
       "      <td>24558</td>\n",
       "      <td>2015/2016</td>\n",
       "      <td>9</td>\n",
       "      <td>2015-09-23 00:00:00</td>\n",
       "      <td>1992093</td>\n",
       "      <td>9956</td>\n",
       "      <td>10179</td>\n",
       "      <td>2</td>\n",
       "      <td>0</td>\n",
       "      <td>Switzerland Super League</td>\n",
       "    </tr>\n",
       "    <tr>\n",
       "      <th>25977</th>\n",
       "      <td>25978</td>\n",
       "      <td>24558</td>\n",
       "      <td>24558</td>\n",
       "      <td>2015/2016</td>\n",
       "      <td>9</td>\n",
       "      <td>2015-09-22 00:00:00</td>\n",
       "      <td>1992094</td>\n",
       "      <td>7896</td>\n",
       "      <td>10243</td>\n",
       "      <td>0</td>\n",
       "      <td>0</td>\n",
       "      <td>Switzerland Super League</td>\n",
       "    </tr>\n",
       "    <tr>\n",
       "      <th>25978</th>\n",
       "      <td>25979</td>\n",
       "      <td>24558</td>\n",
       "      <td>24558</td>\n",
       "      <td>2015/2016</td>\n",
       "      <td>9</td>\n",
       "      <td>2015-09-23 00:00:00</td>\n",
       "      <td>1992095</td>\n",
       "      <td>10192</td>\n",
       "      <td>9931</td>\n",
       "      <td>4</td>\n",
       "      <td>3</td>\n",
       "      <td>Switzerland Super League</td>\n",
       "    </tr>\n",
       "  </tbody>\n",
       "</table>\n",
       "<p>25979 rows × 12 columns</p>\n",
       "</div>"
      ],
      "text/plain": [
       "       match_id  country_id  league_id     season  stage                 date  \\\n",
       "0             1           1          1  2008/2009      1  2008-08-17 00:00:00   \n",
       "1             2           1          1  2008/2009      1  2008-08-16 00:00:00   \n",
       "2             3           1          1  2008/2009      1  2008-08-16 00:00:00   \n",
       "3             4           1          1  2008/2009      1  2008-08-17 00:00:00   \n",
       "4             5           1          1  2008/2009      1  2008-08-16 00:00:00   \n",
       "...         ...         ...        ...        ...    ...                  ...   \n",
       "25974     25975       24558      24558  2015/2016      9  2015-09-22 00:00:00   \n",
       "25975     25976       24558      24558  2015/2016      9  2015-09-23 00:00:00   \n",
       "25976     25977       24558      24558  2015/2016      9  2015-09-23 00:00:00   \n",
       "25977     25978       24558      24558  2015/2016      9  2015-09-22 00:00:00   \n",
       "25978     25979       24558      24558  2015/2016      9  2015-09-23 00:00:00   \n",
       "\n",
       "       match_api_id  home_team_api_id  away_team_api_id  home_team_goal  \\\n",
       "0            492473              9987              9993               1   \n",
       "1            492474             10000              9994               0   \n",
       "2            492475              9984              8635               0   \n",
       "3            492476              9991              9998               5   \n",
       "4            492477              7947              9985               1   \n",
       "...             ...               ...               ...             ...   \n",
       "25974       1992091             10190             10191               1   \n",
       "25975       1992092              9824             10199               1   \n",
       "25976       1992093              9956             10179               2   \n",
       "25977       1992094              7896             10243               0   \n",
       "25978       1992095             10192              9931               4   \n",
       "\n",
       "       away_team_goal               league_name  \n",
       "0                   1    Belgium Jupiler League  \n",
       "1                   0    Belgium Jupiler League  \n",
       "2                   3    Belgium Jupiler League  \n",
       "3                   0    Belgium Jupiler League  \n",
       "4                   3    Belgium Jupiler League  \n",
       "...               ...                       ...  \n",
       "25974               0  Switzerland Super League  \n",
       "25975               2  Switzerland Super League  \n",
       "25976               0  Switzerland Super League  \n",
       "25977               0  Switzerland Super League  \n",
       "25978               3  Switzerland Super League  \n",
       "\n",
       "[25979 rows x 12 columns]"
      ]
     },
     "execution_count": 131,
     "metadata": {},
     "output_type": "execute_result"
    }
   ],
   "source": [
    "match.merge(league)"
   ]
  },
  {
   "cell_type": "code",
   "execution_count": 119,
   "id": "f867592e",
   "metadata": {
    "ExecuteTime": {
     "end_time": "2023-04-21T13:52:30.036073Z",
     "start_time": "2023-04-21T13:52:30.005093Z"
    }
   },
   "outputs": [
    {
     "data": {
      "text/html": [
       "<div>\n",
       "<style scoped>\n",
       "    .dataframe tbody tr th:only-of-type {\n",
       "        vertical-align: middle;\n",
       "    }\n",
       "\n",
       "    .dataframe tbody tr th {\n",
       "        vertical-align: top;\n",
       "    }\n",
       "\n",
       "    .dataframe thead th {\n",
       "        text-align: right;\n",
       "    }\n",
       "</style>\n",
       "<table border=\"1\" class=\"dataframe\">\n",
       "  <thead>\n",
       "    <tr style=\"text-align: right;\">\n",
       "      <th></th>\n",
       "      <th>match_id</th>\n",
       "      <th>country_id</th>\n",
       "      <th>league_id</th>\n",
       "      <th>season</th>\n",
       "      <th>stage</th>\n",
       "      <th>date</th>\n",
       "      <th>match_api_id</th>\n",
       "      <th>home_team_api_id</th>\n",
       "      <th>away_team_api_id</th>\n",
       "      <th>home_team_goal</th>\n",
       "      <th>away_team_goal</th>\n",
       "      <th>league_name</th>\n",
       "    </tr>\n",
       "  </thead>\n",
       "  <tbody>\n",
       "    <tr>\n",
       "      <th>0</th>\n",
       "      <td>1</td>\n",
       "      <td>1</td>\n",
       "      <td>1</td>\n",
       "      <td>2008/2009</td>\n",
       "      <td>1</td>\n",
       "      <td>2008-08-17 00:00:00</td>\n",
       "      <td>492473</td>\n",
       "      <td>9987</td>\n",
       "      <td>9993</td>\n",
       "      <td>1</td>\n",
       "      <td>1</td>\n",
       "      <td>Belgium Jupiler League</td>\n",
       "    </tr>\n",
       "    <tr>\n",
       "      <th>1</th>\n",
       "      <td>2</td>\n",
       "      <td>1</td>\n",
       "      <td>1</td>\n",
       "      <td>2008/2009</td>\n",
       "      <td>1</td>\n",
       "      <td>2008-08-16 00:00:00</td>\n",
       "      <td>492474</td>\n",
       "      <td>10000</td>\n",
       "      <td>9994</td>\n",
       "      <td>0</td>\n",
       "      <td>0</td>\n",
       "      <td>Belgium Jupiler League</td>\n",
       "    </tr>\n",
       "    <tr>\n",
       "      <th>2</th>\n",
       "      <td>3</td>\n",
       "      <td>1</td>\n",
       "      <td>1</td>\n",
       "      <td>2008/2009</td>\n",
       "      <td>1</td>\n",
       "      <td>2008-08-16 00:00:00</td>\n",
       "      <td>492475</td>\n",
       "      <td>9984</td>\n",
       "      <td>8635</td>\n",
       "      <td>0</td>\n",
       "      <td>3</td>\n",
       "      <td>Belgium Jupiler League</td>\n",
       "    </tr>\n",
       "    <tr>\n",
       "      <th>3</th>\n",
       "      <td>4</td>\n",
       "      <td>1</td>\n",
       "      <td>1</td>\n",
       "      <td>2008/2009</td>\n",
       "      <td>1</td>\n",
       "      <td>2008-08-17 00:00:00</td>\n",
       "      <td>492476</td>\n",
       "      <td>9991</td>\n",
       "      <td>9998</td>\n",
       "      <td>5</td>\n",
       "      <td>0</td>\n",
       "      <td>Belgium Jupiler League</td>\n",
       "    </tr>\n",
       "    <tr>\n",
       "      <th>4</th>\n",
       "      <td>5</td>\n",
       "      <td>1</td>\n",
       "      <td>1</td>\n",
       "      <td>2008/2009</td>\n",
       "      <td>1</td>\n",
       "      <td>2008-08-16 00:00:00</td>\n",
       "      <td>492477</td>\n",
       "      <td>7947</td>\n",
       "      <td>9985</td>\n",
       "      <td>1</td>\n",
       "      <td>3</td>\n",
       "      <td>Belgium Jupiler League</td>\n",
       "    </tr>\n",
       "    <tr>\n",
       "      <th>...</th>\n",
       "      <td>...</td>\n",
       "      <td>...</td>\n",
       "      <td>...</td>\n",
       "      <td>...</td>\n",
       "      <td>...</td>\n",
       "      <td>...</td>\n",
       "      <td>...</td>\n",
       "      <td>...</td>\n",
       "      <td>...</td>\n",
       "      <td>...</td>\n",
       "      <td>...</td>\n",
       "      <td>...</td>\n",
       "    </tr>\n",
       "    <tr>\n",
       "      <th>25974</th>\n",
       "      <td>25975</td>\n",
       "      <td>24558</td>\n",
       "      <td>24558</td>\n",
       "      <td>2015/2016</td>\n",
       "      <td>9</td>\n",
       "      <td>2015-09-22 00:00:00</td>\n",
       "      <td>1992091</td>\n",
       "      <td>10190</td>\n",
       "      <td>10191</td>\n",
       "      <td>1</td>\n",
       "      <td>0</td>\n",
       "      <td>Switzerland Super League</td>\n",
       "    </tr>\n",
       "    <tr>\n",
       "      <th>25975</th>\n",
       "      <td>25976</td>\n",
       "      <td>24558</td>\n",
       "      <td>24558</td>\n",
       "      <td>2015/2016</td>\n",
       "      <td>9</td>\n",
       "      <td>2015-09-23 00:00:00</td>\n",
       "      <td>1992092</td>\n",
       "      <td>9824</td>\n",
       "      <td>10199</td>\n",
       "      <td>1</td>\n",
       "      <td>2</td>\n",
       "      <td>Switzerland Super League</td>\n",
       "    </tr>\n",
       "    <tr>\n",
       "      <th>25976</th>\n",
       "      <td>25977</td>\n",
       "      <td>24558</td>\n",
       "      <td>24558</td>\n",
       "      <td>2015/2016</td>\n",
       "      <td>9</td>\n",
       "      <td>2015-09-23 00:00:00</td>\n",
       "      <td>1992093</td>\n",
       "      <td>9956</td>\n",
       "      <td>10179</td>\n",
       "      <td>2</td>\n",
       "      <td>0</td>\n",
       "      <td>Switzerland Super League</td>\n",
       "    </tr>\n",
       "    <tr>\n",
       "      <th>25977</th>\n",
       "      <td>25978</td>\n",
       "      <td>24558</td>\n",
       "      <td>24558</td>\n",
       "      <td>2015/2016</td>\n",
       "      <td>9</td>\n",
       "      <td>2015-09-22 00:00:00</td>\n",
       "      <td>1992094</td>\n",
       "      <td>7896</td>\n",
       "      <td>10243</td>\n",
       "      <td>0</td>\n",
       "      <td>0</td>\n",
       "      <td>Switzerland Super League</td>\n",
       "    </tr>\n",
       "    <tr>\n",
       "      <th>25978</th>\n",
       "      <td>25979</td>\n",
       "      <td>24558</td>\n",
       "      <td>24558</td>\n",
       "      <td>2015/2016</td>\n",
       "      <td>9</td>\n",
       "      <td>2015-09-23 00:00:00</td>\n",
       "      <td>1992095</td>\n",
       "      <td>10192</td>\n",
       "      <td>9931</td>\n",
       "      <td>4</td>\n",
       "      <td>3</td>\n",
       "      <td>Switzerland Super League</td>\n",
       "    </tr>\n",
       "  </tbody>\n",
       "</table>\n",
       "<p>25979 rows × 12 columns</p>\n",
       "</div>"
      ],
      "text/plain": [
       "       match_id  country_id  league_id     season  stage                 date  \\\n",
       "0             1           1          1  2008/2009      1  2008-08-17 00:00:00   \n",
       "1             2           1          1  2008/2009      1  2008-08-16 00:00:00   \n",
       "2             3           1          1  2008/2009      1  2008-08-16 00:00:00   \n",
       "3             4           1          1  2008/2009      1  2008-08-17 00:00:00   \n",
       "4             5           1          1  2008/2009      1  2008-08-16 00:00:00   \n",
       "...         ...         ...        ...        ...    ...                  ...   \n",
       "25974     25975       24558      24558  2015/2016      9  2015-09-22 00:00:00   \n",
       "25975     25976       24558      24558  2015/2016      9  2015-09-23 00:00:00   \n",
       "25976     25977       24558      24558  2015/2016      9  2015-09-23 00:00:00   \n",
       "25977     25978       24558      24558  2015/2016      9  2015-09-22 00:00:00   \n",
       "25978     25979       24558      24558  2015/2016      9  2015-09-23 00:00:00   \n",
       "\n",
       "       match_api_id  home_team_api_id  away_team_api_id  home_team_goal  \\\n",
       "0            492473              9987              9993               1   \n",
       "1            492474             10000              9994               0   \n",
       "2            492475              9984              8635               0   \n",
       "3            492476              9991              9998               5   \n",
       "4            492477              7947              9985               1   \n",
       "...             ...               ...               ...             ...   \n",
       "25974       1992091             10190             10191               1   \n",
       "25975       1992092              9824             10199               1   \n",
       "25976       1992093              9956             10179               2   \n",
       "25977       1992094              7896             10243               0   \n",
       "25978       1992095             10192              9931               4   \n",
       "\n",
       "       away_team_goal               league_name  \n",
       "0                   1    Belgium Jupiler League  \n",
       "1                   0    Belgium Jupiler League  \n",
       "2                   3    Belgium Jupiler League  \n",
       "3                   0    Belgium Jupiler League  \n",
       "4                   3    Belgium Jupiler League  \n",
       "...               ...                       ...  \n",
       "25974               0  Switzerland Super League  \n",
       "25975               2  Switzerland Super League  \n",
       "25976               0  Switzerland Super League  \n",
       "25977               0  Switzerland Super League  \n",
       "25978               3  Switzerland Super League  \n",
       "\n",
       "[25979 rows x 12 columns]"
      ]
     },
     "execution_count": 119,
     "metadata": {},
     "output_type": "execute_result"
    }
   ],
   "source": [
    "pd.merge(match, league)"
   ]
  },
  {
   "cell_type": "code",
   "execution_count": null,
   "id": "6886eae3",
   "metadata": {},
   "outputs": [],
   "source": []
  },
  {
   "cell_type": "markdown",
   "id": "f9e16add",
   "metadata": {},
   "source": [
    "### Объедините таблицы \"Match\" и \"League\" по полям (\"league_id\", \"id\") и найдите среднее количество забитых голов на матч в каждом чемпионате."
   ]
  },
  {
   "cell_type": "code",
   "execution_count": 134,
   "id": "8ba00cd4",
   "metadata": {
    "ExecuteTime": {
     "end_time": "2023-04-21T14:00:49.317281Z",
     "start_time": "2023-04-21T14:00:49.256380Z"
    }
   },
   "outputs": [
    {
     "data": {
      "text/html": [
       "<div>\n",
       "<style scoped>\n",
       "    .dataframe tbody tr th:only-of-type {\n",
       "        vertical-align: middle;\n",
       "    }\n",
       "\n",
       "    .dataframe tbody tr th {\n",
       "        vertical-align: top;\n",
       "    }\n",
       "\n",
       "    .dataframe thead th {\n",
       "        text-align: right;\n",
       "    }\n",
       "</style>\n",
       "<table border=\"1\" class=\"dataframe\">\n",
       "  <thead>\n",
       "    <tr style=\"text-align: right;\">\n",
       "      <th></th>\n",
       "      <th>name</th>\n",
       "      <th>avg_goals</th>\n",
       "    </tr>\n",
       "  </thead>\n",
       "  <tbody>\n",
       "    <tr>\n",
       "      <th>0</th>\n",
       "      <td>Belgium Jupiler League</td>\n",
       "      <td>2.801505</td>\n",
       "    </tr>\n",
       "    <tr>\n",
       "      <th>1</th>\n",
       "      <td>England Premier League</td>\n",
       "      <td>2.710526</td>\n",
       "    </tr>\n",
       "    <tr>\n",
       "      <th>2</th>\n",
       "      <td>France Ligue 1</td>\n",
       "      <td>2.443092</td>\n",
       "    </tr>\n",
       "    <tr>\n",
       "      <th>3</th>\n",
       "      <td>Germany 1. Bundesliga</td>\n",
       "      <td>2.901552</td>\n",
       "    </tr>\n",
       "    <tr>\n",
       "      <th>4</th>\n",
       "      <td>Italy Serie A</td>\n",
       "      <td>2.616838</td>\n",
       "    </tr>\n",
       "    <tr>\n",
       "      <th>5</th>\n",
       "      <td>Netherlands Eredivisie</td>\n",
       "      <td>3.080882</td>\n",
       "    </tr>\n",
       "    <tr>\n",
       "      <th>6</th>\n",
       "      <td>Poland Ekstraklasa</td>\n",
       "      <td>2.425000</td>\n",
       "    </tr>\n",
       "    <tr>\n",
       "      <th>7</th>\n",
       "      <td>Portugal Liga ZON Sagres</td>\n",
       "      <td>2.534600</td>\n",
       "    </tr>\n",
       "    <tr>\n",
       "      <th>8</th>\n",
       "      <td>Scotland Premier League</td>\n",
       "      <td>2.633772</td>\n",
       "    </tr>\n",
       "    <tr>\n",
       "      <th>9</th>\n",
       "      <td>Spain LIGA BBVA</td>\n",
       "      <td>2.767105</td>\n",
       "    </tr>\n",
       "    <tr>\n",
       "      <th>10</th>\n",
       "      <td>Switzerland Super League</td>\n",
       "      <td>2.929677</td>\n",
       "    </tr>\n",
       "  </tbody>\n",
       "</table>\n",
       "</div>"
      ],
      "text/plain": [
       "                        name  avg_goals\n",
       "0     Belgium Jupiler League   2.801505\n",
       "1     England Premier League   2.710526\n",
       "2             France Ligue 1   2.443092\n",
       "3      Germany 1. Bundesliga   2.901552\n",
       "4              Italy Serie A   2.616838\n",
       "5     Netherlands Eredivisie   3.080882\n",
       "6         Poland Ekstraklasa   2.425000\n",
       "7   Portugal Liga ZON Sagres   2.534600\n",
       "8    Scotland Premier League   2.633772\n",
       "9            Spain LIGA BBVA   2.767105\n",
       "10  Switzerland Super League   2.929677"
      ]
     },
     "execution_count": 134,
     "metadata": {},
     "output_type": "execute_result"
    }
   ],
   "source": [
    "pd.read_sql(\"\"\"\n",
    "SELECT  l.name,\n",
    "        AVG(m.home_team_goal + m.away_team_goal) as avg_goals\n",
    "FROM Match m\n",
    "JOIN League l ON m.league_id = l.id\n",
    "GROUP BY l.name\n",
    "\"\"\", engine)"
   ]
  },
  {
   "cell_type": "code",
   "execution_count": 149,
   "id": "bfc479f2",
   "metadata": {
    "ExecuteTime": {
     "end_time": "2023-04-21T14:04:31.037729Z",
     "start_time": "2023-04-21T14:04:31.012299Z"
    }
   },
   "outputs": [
    {
     "data": {
      "text/html": [
       "<div>\n",
       "<style scoped>\n",
       "    .dataframe tbody tr th:only-of-type {\n",
       "        vertical-align: middle;\n",
       "    }\n",
       "\n",
       "    .dataframe tbody tr th {\n",
       "        vertical-align: top;\n",
       "    }\n",
       "\n",
       "    .dataframe thead th {\n",
       "        text-align: right;\n",
       "    }\n",
       "</style>\n",
       "<table border=\"1\" class=\"dataframe\">\n",
       "  <thead>\n",
       "    <tr style=\"text-align: right;\">\n",
       "      <th></th>\n",
       "      <th>home_team_goal</th>\n",
       "      <th>away_team_goal</th>\n",
       "    </tr>\n",
       "    <tr>\n",
       "      <th>league_name</th>\n",
       "      <th></th>\n",
       "      <th></th>\n",
       "    </tr>\n",
       "  </thead>\n",
       "  <tbody>\n",
       "    <tr>\n",
       "      <th>Belgium Jupiler League</th>\n",
       "      <td>1.609375</td>\n",
       "      <td>1.192130</td>\n",
       "    </tr>\n",
       "    <tr>\n",
       "      <th>England Premier League</th>\n",
       "      <td>1.550987</td>\n",
       "      <td>1.159539</td>\n",
       "    </tr>\n",
       "    <tr>\n",
       "      <th>France Ligue 1</th>\n",
       "      <td>1.402961</td>\n",
       "      <td>1.040132</td>\n",
       "    </tr>\n",
       "    <tr>\n",
       "      <th>Germany 1. Bundesliga</th>\n",
       "      <td>1.626634</td>\n",
       "      <td>1.274918</td>\n",
       "    </tr>\n",
       "    <tr>\n",
       "      <th>Italy Serie A</th>\n",
       "      <td>1.500829</td>\n",
       "      <td>1.116009</td>\n",
       "    </tr>\n",
       "    <tr>\n",
       "      <th>Netherlands Eredivisie</th>\n",
       "      <td>1.779820</td>\n",
       "      <td>1.301062</td>\n",
       "    </tr>\n",
       "    <tr>\n",
       "      <th>Poland Ekstraklasa</th>\n",
       "      <td>1.394792</td>\n",
       "      <td>1.030208</td>\n",
       "    </tr>\n",
       "    <tr>\n",
       "      <th>Portugal Liga ZON Sagres</th>\n",
       "      <td>1.408382</td>\n",
       "      <td>1.126218</td>\n",
       "    </tr>\n",
       "    <tr>\n",
       "      <th>Scotland Premier League</th>\n",
       "      <td>1.429276</td>\n",
       "      <td>1.204496</td>\n",
       "    </tr>\n",
       "    <tr>\n",
       "      <th>Spain LIGA BBVA</th>\n",
       "      <td>1.631250</td>\n",
       "      <td>1.135855</td>\n",
       "    </tr>\n",
       "    <tr>\n",
       "      <th>Switzerland Super League</th>\n",
       "      <td>1.663150</td>\n",
       "      <td>1.266526</td>\n",
       "    </tr>\n",
       "  </tbody>\n",
       "</table>\n",
       "</div>"
      ],
      "text/plain": [
       "                          home_team_goal  away_team_goal\n",
       "league_name                                             \n",
       "Belgium Jupiler League          1.609375        1.192130\n",
       "England Premier League          1.550987        1.159539\n",
       "France Ligue 1                  1.402961        1.040132\n",
       "Germany 1. Bundesliga           1.626634        1.274918\n",
       "Italy Serie A                   1.500829        1.116009\n",
       "Netherlands Eredivisie          1.779820        1.301062\n",
       "Poland Ekstraklasa              1.394792        1.030208\n",
       "Portugal Liga ZON Sagres        1.408382        1.126218\n",
       "Scotland Premier League         1.429276        1.204496\n",
       "Spain LIGA BBVA                 1.631250        1.135855\n",
       "Switzerland Super League        1.663150        1.266526"
      ]
     },
     "execution_count": 149,
     "metadata": {},
     "output_type": "execute_result"
    }
   ],
   "source": [
    "df = match.merge(league, on='league_id')\n",
    "\n",
    "df = df \\\n",
    "    .groupby('league_name') \\\n",
    "    [['home_team_goal', 'away_team_goal']] \\\n",
    "    .mean() \\\n",
    "#     .sum(axis=1) \\\n",
    "#     .reset_index() \\\n",
    "#     .rename(columns={0:'avg_goals'})\n",
    "# df.columns = ['league_name', 'avg_goals']\n",
    "df"
   ]
  },
  {
   "cell_type": "code",
   "execution_count": 169,
   "id": "799794e1",
   "metadata": {
    "ExecuteTime": {
     "end_time": "2023-04-21T14:09:02.061638Z",
     "start_time": "2023-04-21T14:09:02.016441Z"
    }
   },
   "outputs": [
    {
     "data": {
      "text/html": [
       "<div>\n",
       "<style scoped>\n",
       "    .dataframe tbody tr th:only-of-type {\n",
       "        vertical-align: middle;\n",
       "    }\n",
       "\n",
       "    .dataframe tbody tr th {\n",
       "        vertical-align: top;\n",
       "    }\n",
       "\n",
       "    .dataframe thead th {\n",
       "        text-align: right;\n",
       "    }\n",
       "</style>\n",
       "<table border=\"1\" class=\"dataframe\">\n",
       "  <thead>\n",
       "    <tr style=\"text-align: right;\">\n",
       "      <th></th>\n",
       "      <th>league_name</th>\n",
       "      <th>avg_goals</th>\n",
       "      <th>sum_goals</th>\n",
       "    </tr>\n",
       "  </thead>\n",
       "  <tbody>\n",
       "    <tr>\n",
       "      <th>0</th>\n",
       "      <td>Belgium Jupiler League</td>\n",
       "      <td>2.801505</td>\n",
       "      <td>4841</td>\n",
       "    </tr>\n",
       "    <tr>\n",
       "      <th>1</th>\n",
       "      <td>England Premier League</td>\n",
       "      <td>2.710526</td>\n",
       "      <td>8240</td>\n",
       "    </tr>\n",
       "    <tr>\n",
       "      <th>2</th>\n",
       "      <td>France Ligue 1</td>\n",
       "      <td>2.443092</td>\n",
       "      <td>7427</td>\n",
       "    </tr>\n",
       "    <tr>\n",
       "      <th>3</th>\n",
       "      <td>Germany 1. Bundesliga</td>\n",
       "      <td>2.901552</td>\n",
       "      <td>7103</td>\n",
       "    </tr>\n",
       "    <tr>\n",
       "      <th>4</th>\n",
       "      <td>Italy Serie A</td>\n",
       "      <td>2.616838</td>\n",
       "      <td>7895</td>\n",
       "    </tr>\n",
       "    <tr>\n",
       "      <th>5</th>\n",
       "      <td>Netherlands Eredivisie</td>\n",
       "      <td>3.080882</td>\n",
       "      <td>7542</td>\n",
       "    </tr>\n",
       "    <tr>\n",
       "      <th>6</th>\n",
       "      <td>Poland Ekstraklasa</td>\n",
       "      <td>2.425000</td>\n",
       "      <td>4656</td>\n",
       "    </tr>\n",
       "    <tr>\n",
       "      <th>7</th>\n",
       "      <td>Portugal Liga ZON Sagres</td>\n",
       "      <td>2.534600</td>\n",
       "      <td>5201</td>\n",
       "    </tr>\n",
       "    <tr>\n",
       "      <th>8</th>\n",
       "      <td>Scotland Premier League</td>\n",
       "      <td>2.633772</td>\n",
       "      <td>4804</td>\n",
       "    </tr>\n",
       "    <tr>\n",
       "      <th>9</th>\n",
       "      <td>Spain LIGA BBVA</td>\n",
       "      <td>2.767105</td>\n",
       "      <td>8412</td>\n",
       "    </tr>\n",
       "    <tr>\n",
       "      <th>10</th>\n",
       "      <td>Switzerland Super League</td>\n",
       "      <td>2.929677</td>\n",
       "      <td>4166</td>\n",
       "    </tr>\n",
       "  </tbody>\n",
       "</table>\n",
       "</div>"
      ],
      "text/plain": [
       "                 league_name  avg_goals  sum_goals\n",
       "0     Belgium Jupiler League   2.801505       4841\n",
       "1     England Premier League   2.710526       8240\n",
       "2             France Ligue 1   2.443092       7427\n",
       "3      Germany 1. Bundesliga   2.901552       7103\n",
       "4              Italy Serie A   2.616838       7895\n",
       "5     Netherlands Eredivisie   3.080882       7542\n",
       "6         Poland Ekstraklasa   2.425000       4656\n",
       "7   Portugal Liga ZON Sagres   2.534600       5201\n",
       "8    Scotland Premier League   2.633772       4804\n",
       "9            Spain LIGA BBVA   2.767105       8412\n",
       "10  Switzerland Super League   2.929677       4166"
      ]
     },
     "execution_count": 169,
     "metadata": {},
     "output_type": "execute_result"
    }
   ],
   "source": [
    "df = match.merge(league, on='league_id')\n",
    "# df = df \\\n",
    "#     .eval('home_team_goal + away_team_goal')\n",
    "    \n",
    "# df['goals'] = df \\\n",
    "#     .eval('home_team_goal + away_team_goal')\n",
    "df = df \\\n",
    "    .eval('goals = home_team_goal + away_team_goal') \\\n",
    "    .groupby('league_name', as_index=False) \\\n",
    "    .agg(avg_goals=('goals','mean'),\n",
    "         sum_goals=('goals','sum'))\n",
    "#     ['goals'].mean()\n",
    "#     .agg({'goals':['mean','sum']})\n",
    "\n",
    "df"
   ]
  },
  {
   "cell_type": "code",
   "execution_count": null,
   "id": "a8609d21",
   "metadata": {},
   "outputs": [],
   "source": []
  },
  {
   "cell_type": "markdown",
   "id": "a8f1a77a",
   "metadata": {},
   "source": [
    "## Задачи для решения на семинаре"
   ]
  },
  {
   "cell_type": "markdown",
   "id": "90016da8",
   "metadata": {},
   "source": [
    "### Найдите 10 команд, у которых самое большое количество побед на домашнем поле.\n",
    "Критерий победы на домашнем поле: хозяева забили больше голов, чем гости."
   ]
  },
  {
   "cell_type": "code",
   "execution_count": null,
   "id": "9a3481a4",
   "metadata": {
    "ExecuteTime": {
     "end_time": "2023-04-21T12:54:42.774911Z",
     "start_time": "2023-04-21T12:54:42.715185Z"
    }
   },
   "outputs": [],
   "source": [
    "pd.read_sql(\"\"\"\n",
    "SELECT \n",
    "    t.team_long_name, \n",
    "    COUNT(distinct m.id) as home_wins_count\n",
    "FROM Match m \n",
    "INNER JOIN Team t ON t.team_api_id = m.home_team_api_id\n",
    "WHERE m.home_team_goal > m.away_team_goal\n",
    "GROUP BY t.team_long_name\n",
    "ORDER BY home_wins_count DESC\n",
    "LIMIT 10\n",
    "\"\"\", engine)"
   ]
  },
  {
   "cell_type": "markdown",
   "id": "eae106d1",
   "metadata": {},
   "source": [
    "### Напишите запрос, который позволяет вывести общее количество голов, забитых каждой командой в каждом сезоне. Выведите результаты в порядке убывания количества забитых голов (вывести топ 10 записей)\n",
    "Нужно учитывать голы, забитые как дома, так и в гостях"
   ]
  },
  {
   "cell_type": "code",
   "execution_count": null,
   "id": "145c646c",
   "metadata": {
    "ExecuteTime": {
     "end_time": "2023-04-21T12:54:59.689910Z",
     "start_time": "2023-04-21T12:54:59.539527Z"
    }
   },
   "outputs": [],
   "source": [
    "pd.read_sql(\"\"\"\n",
    "with u as (\n",
    "    SELECT \n",
    "        m.home_team_api_id as team_api_id, \n",
    "        m.season, \n",
    "        m.home_team_goal AS goals_scored\n",
    "    FROM Match m \n",
    "    UNION ALL\n",
    "    SELECT \n",
    "        m.away_team_api_id as team_api_id, \n",
    "        m.season, \n",
    "        m.away_team_goal AS goals_scored\n",
    "    FROM Match m\n",
    ")\n",
    "SELECT \n",
    "    t.team_long_name, \n",
    "    u.season, \n",
    "    SUM(u.goals_scored) AS goals_scored\n",
    "FROM u\n",
    "INNER JOIN Team t ON u.team_api_id = t.team_api_id\n",
    "GROUP BY t.team_long_name, u.season\n",
    "ORDER BY goals_scored DESC\n",
    "LIMIT 10\n",
    "\"\"\", engine)"
   ]
  },
  {
   "cell_type": "code",
   "execution_count": null,
   "id": "6d74ed20",
   "metadata": {
    "ExecuteTime": {
     "end_time": "2023-04-21T12:52:17.366897Z",
     "start_time": "2023-04-21T12:52:17.318897Z"
    }
   },
   "outputs": [],
   "source": [
    "df_home = match[['home_team_api_id','season','home_team_goal']] \\\n",
    "    .rename(columns={'home_team_api_id':'team_api_id','home_team_goal':'goals_scored'})\n",
    "df_away = match[['away_team_api_id','season','away_team_goal']] \\\n",
    "    .rename(columns={'away_team_api_id':'team_api_id','away_team_goal':'goals_scored'})\n",
    "\n",
    "df = pd.concat([df_home, df_away])\n",
    "\n",
    "# Enter your code here\n",
    "# ..."
   ]
  },
  {
   "cell_type": "markdown",
   "id": "78b036f9",
   "metadata": {},
   "source": [
    "## Задачи в качестве домашней работы"
   ]
  },
  {
   "cell_type": "markdown",
   "id": "36dee111",
   "metadata": {},
   "source": [
    "### Вывести id, название страны, название лиги, сезон, этап, дату, название домашней команды, название гостевой команды, количество голов, забитых домашней и гостевой командами, для всех матчей в Испании, отсортированных по дате"
   ]
  },
  {
   "cell_type": "markdown",
   "id": "a63c66fe",
   "metadata": {},
   "source": [
    "### Найдите количество побед, поражений и ничьих для каждой команды в каждом сезоне. Для этого необходимо объединить информацию из таблицы Match и Team. Отобразите результаты в порядке убывания количества побед."
   ]
  },
  {
   "cell_type": "markdown",
   "id": "f8f75a71",
   "metadata": {},
   "source": [
    "### Для каждой команды определите максимальное количество забитых голов на домашнем поле и на выезде за каждый сезон. Отобразите результаты в порядке убывания максимального количества забитых голов на выезде."
   ]
  },
  {
   "cell_type": "markdown",
   "id": "b88dcea6",
   "metadata": {},
   "source": [
    "### Найдите среднее количество забитых голов за игру на домашнем поле и на выезде для каждой команды в каждом сезоне. Отобразите результаты в порядке убывания среднего количества забитых голов на выезде."
   ]
  },
  {
   "cell_type": "markdown",
   "id": "1cfdf135",
   "metadata": {},
   "source": [
    " # Виды рангов и сравнение SQL vs Pandas"
   ]
  },
  {
   "cell_type": "markdown",
   "id": "135e16eb",
   "metadata": {},
   "source": [
    "## SQL. ROW_NUMBER vs RANK vs DENSE_RANK"
   ]
  },
  {
   "cell_type": "markdown",
   "id": "7a2e30d4",
   "metadata": {},
   "source": [
    "- https://datageeks.medium.com/row-number-rank-and-dense-rank-functions-in-sql-dbc41acc61d5"
   ]
  },
  {
   "cell_type": "markdown",
   "id": "749e49fe",
   "metadata": {},
   "source": [
    "## Pandas. RANKS (average, min, max, first, dense)"
   ]
  },
  {
   "cell_type": "markdown",
   "id": "bf3b7586",
   "metadata": {},
   "source": [
    "- https://pandas.pydata.org/docs/reference/api/pandas.DataFrame.rank.html"
   ]
  },
  {
   "cell_type": "code",
   "execution_count": 177,
   "id": "a13c8de7",
   "metadata": {
    "ExecuteTime": {
     "end_time": "2023-04-21T14:46:08.977242Z",
     "start_time": "2023-04-21T14:46:08.970537Z"
    }
   },
   "outputs": [
    {
     "data": {
      "text/html": [
       "<div>\n",
       "<style scoped>\n",
       "    .dataframe tbody tr th:only-of-type {\n",
       "        vertical-align: middle;\n",
       "    }\n",
       "\n",
       "    .dataframe tbody tr th {\n",
       "        vertical-align: top;\n",
       "    }\n",
       "\n",
       "    .dataframe thead th {\n",
       "        text-align: right;\n",
       "    }\n",
       "</style>\n",
       "<table border=\"1\" class=\"dataframe\">\n",
       "  <thead>\n",
       "    <tr style=\"text-align: right;\">\n",
       "      <th></th>\n",
       "      <th>a</th>\n",
       "    </tr>\n",
       "  </thead>\n",
       "  <tbody>\n",
       "    <tr>\n",
       "      <th>0</th>\n",
       "      <td>1</td>\n",
       "    </tr>\n",
       "    <tr>\n",
       "      <th>1</th>\n",
       "      <td>2</td>\n",
       "    </tr>\n",
       "    <tr>\n",
       "      <th>2</th>\n",
       "      <td>2</td>\n",
       "    </tr>\n",
       "    <tr>\n",
       "      <th>3</th>\n",
       "      <td>3</td>\n",
       "    </tr>\n",
       "    <tr>\n",
       "      <th>4</th>\n",
       "      <td>4</td>\n",
       "    </tr>\n",
       "  </tbody>\n",
       "</table>\n",
       "</div>"
      ],
      "text/plain": [
       "   a\n",
       "0  1\n",
       "1  2\n",
       "2  2\n",
       "3  3\n",
       "4  4"
      ]
     },
     "execution_count": 177,
     "metadata": {},
     "output_type": "execute_result"
    }
   ],
   "source": [
    "df = pd.DataFrame({'a': [1,2,2,3,4]})\n",
    "df"
   ]
  },
  {
   "cell_type": "code",
   "execution_count": 180,
   "id": "5cc90d0e",
   "metadata": {
    "ExecuteTime": {
     "end_time": "2023-04-21T14:47:25.894915Z",
     "start_time": "2023-04-21T14:47:25.880234Z"
    }
   },
   "outputs": [
    {
     "data": {
      "text/html": [
       "<div>\n",
       "<style scoped>\n",
       "    .dataframe tbody tr th:only-of-type {\n",
       "        vertical-align: middle;\n",
       "    }\n",
       "\n",
       "    .dataframe tbody tr th {\n",
       "        vertical-align: top;\n",
       "    }\n",
       "\n",
       "    .dataframe thead th {\n",
       "        text-align: right;\n",
       "    }\n",
       "</style>\n",
       "<table border=\"1\" class=\"dataframe\">\n",
       "  <thead>\n",
       "    <tr style=\"text-align: right;\">\n",
       "      <th></th>\n",
       "      <th>a</th>\n",
       "      <th>rank_average</th>\n",
       "      <th>rank_min</th>\n",
       "      <th>rank_max</th>\n",
       "      <th>rank_first</th>\n",
       "      <th>rank_dense</th>\n",
       "    </tr>\n",
       "  </thead>\n",
       "  <tbody>\n",
       "    <tr>\n",
       "      <th>0</th>\n",
       "      <td>1</td>\n",
       "      <td>1.0</td>\n",
       "      <td>1.0</td>\n",
       "      <td>1.0</td>\n",
       "      <td>1.0</td>\n",
       "      <td>1.0</td>\n",
       "    </tr>\n",
       "    <tr>\n",
       "      <th>1</th>\n",
       "      <td>2</td>\n",
       "      <td>2.5</td>\n",
       "      <td>2.0</td>\n",
       "      <td>3.0</td>\n",
       "      <td>2.0</td>\n",
       "      <td>2.0</td>\n",
       "    </tr>\n",
       "    <tr>\n",
       "      <th>2</th>\n",
       "      <td>2</td>\n",
       "      <td>2.5</td>\n",
       "      <td>2.0</td>\n",
       "      <td>3.0</td>\n",
       "      <td>3.0</td>\n",
       "      <td>2.0</td>\n",
       "    </tr>\n",
       "    <tr>\n",
       "      <th>3</th>\n",
       "      <td>3</td>\n",
       "      <td>4.0</td>\n",
       "      <td>4.0</td>\n",
       "      <td>4.0</td>\n",
       "      <td>4.0</td>\n",
       "      <td>3.0</td>\n",
       "    </tr>\n",
       "    <tr>\n",
       "      <th>4</th>\n",
       "      <td>4</td>\n",
       "      <td>5.0</td>\n",
       "      <td>5.0</td>\n",
       "      <td>5.0</td>\n",
       "      <td>5.0</td>\n",
       "      <td>4.0</td>\n",
       "    </tr>\n",
       "  </tbody>\n",
       "</table>\n",
       "</div>"
      ],
      "text/plain": [
       "   a  rank_average  rank_min  rank_max  rank_first  rank_dense\n",
       "0  1           1.0       1.0       1.0         1.0         1.0\n",
       "1  2           2.5       2.0       3.0         2.0         2.0\n",
       "2  2           2.5       2.0       3.0         3.0         2.0\n",
       "3  3           4.0       4.0       4.0         4.0         3.0\n",
       "4  4           5.0       5.0       5.0         5.0         4.0"
      ]
     },
     "execution_count": 180,
     "metadata": {},
     "output_type": "execute_result"
    }
   ],
   "source": [
    "methods = ['average', 'min', 'max', 'first', 'dense']\n",
    "for method in methods:\n",
    "    df[f'rank_{method}'] = df['a'].rank(method=method)\n",
    "df"
   ]
  },
  {
   "cell_type": "code",
   "execution_count": 178,
   "id": "dadc7aca",
   "metadata": {
    "ExecuteTime": {
     "end_time": "2023-04-21T14:46:21.543979Z",
     "start_time": "2023-04-21T14:46:21.541662Z"
    }
   },
   "outputs": [],
   "source": [
    "# df = pd.DataFrame({'a': [2,1,4,3,2]})"
   ]
  },
  {
   "cell_type": "markdown",
   "id": "4589a7a7",
   "metadata": {},
   "source": [
    "## SQL vs Pandas"
   ]
  },
  {
   "cell_type": "code",
   "execution_count": 182,
   "id": "2934de55",
   "metadata": {
    "ExecuteTime": {
     "end_time": "2023-04-21T14:47:46.507454Z",
     "start_time": "2023-04-21T14:47:46.487644Z"
    }
   },
   "outputs": [
    {
     "data": {
      "text/html": [
       "<div>\n",
       "<style scoped>\n",
       "    .dataframe tbody tr th:only-of-type {\n",
       "        vertical-align: middle;\n",
       "    }\n",
       "\n",
       "    .dataframe tbody tr th {\n",
       "        vertical-align: top;\n",
       "    }\n",
       "\n",
       "    .dataframe thead th {\n",
       "        text-align: right;\n",
       "    }\n",
       "</style>\n",
       "<table border=\"1\" class=\"dataframe\">\n",
       "  <thead>\n",
       "    <tr style=\"text-align: right;\">\n",
       "      <th></th>\n",
       "      <th>a</th>\n",
       "      <th>rank_average</th>\n",
       "      <th>rank_min</th>\n",
       "      <th>rank_max</th>\n",
       "      <th>rank_first</th>\n",
       "      <th>rank_dense</th>\n",
       "      <th>rank</th>\n",
       "      <th>dense_rank</th>\n",
       "      <th>row_number</th>\n",
       "    </tr>\n",
       "  </thead>\n",
       "  <tbody>\n",
       "    <tr>\n",
       "      <th>0</th>\n",
       "      <td>1</td>\n",
       "      <td>1.0</td>\n",
       "      <td>1.0</td>\n",
       "      <td>1.0</td>\n",
       "      <td>1.0</td>\n",
       "      <td>1.0</td>\n",
       "      <td>1</td>\n",
       "      <td>1</td>\n",
       "      <td>1</td>\n",
       "    </tr>\n",
       "    <tr>\n",
       "      <th>1</th>\n",
       "      <td>2</td>\n",
       "      <td>2.5</td>\n",
       "      <td>2.0</td>\n",
       "      <td>3.0</td>\n",
       "      <td>2.0</td>\n",
       "      <td>2.0</td>\n",
       "      <td>2</td>\n",
       "      <td>2</td>\n",
       "      <td>2</td>\n",
       "    </tr>\n",
       "    <tr>\n",
       "      <th>2</th>\n",
       "      <td>2</td>\n",
       "      <td>2.5</td>\n",
       "      <td>2.0</td>\n",
       "      <td>3.0</td>\n",
       "      <td>3.0</td>\n",
       "      <td>2.0</td>\n",
       "      <td>2</td>\n",
       "      <td>2</td>\n",
       "      <td>3</td>\n",
       "    </tr>\n",
       "    <tr>\n",
       "      <th>3</th>\n",
       "      <td>3</td>\n",
       "      <td>4.0</td>\n",
       "      <td>4.0</td>\n",
       "      <td>4.0</td>\n",
       "      <td>4.0</td>\n",
       "      <td>3.0</td>\n",
       "      <td>4</td>\n",
       "      <td>3</td>\n",
       "      <td>4</td>\n",
       "    </tr>\n",
       "    <tr>\n",
       "      <th>4</th>\n",
       "      <td>4</td>\n",
       "      <td>5.0</td>\n",
       "      <td>5.0</td>\n",
       "      <td>5.0</td>\n",
       "      <td>5.0</td>\n",
       "      <td>4.0</td>\n",
       "      <td>5</td>\n",
       "      <td>4</td>\n",
       "      <td>5</td>\n",
       "    </tr>\n",
       "  </tbody>\n",
       "</table>\n",
       "</div>"
      ],
      "text/plain": [
       "   a  rank_average  rank_min  rank_max  rank_first  rank_dense  rank  \\\n",
       "0  1           1.0       1.0       1.0         1.0         1.0     1   \n",
       "1  2           2.5       2.0       3.0         2.0         2.0     2   \n",
       "2  2           2.5       2.0       3.0         3.0         2.0     2   \n",
       "3  3           4.0       4.0       4.0         4.0         3.0     4   \n",
       "4  4           5.0       5.0       5.0         5.0         4.0     5   \n",
       "\n",
       "   dense_rank  row_number  \n",
       "0           1           1  \n",
       "1           2           2  \n",
       "2           2           3  \n",
       "3           3           4  \n",
       "4           4           5  "
      ]
     },
     "execution_count": 182,
     "metadata": {},
     "output_type": "execute_result"
    }
   ],
   "source": [
    "from pandasql import sqldf\n",
    "\n",
    "def execute_sql(query):\n",
    "    return sqldf(query, globals())\n",
    "\n",
    "sql_query = \"\"\"\n",
    "SELECT  df.*,\n",
    "        RANK() OVER(ORDER BY a) rank,\n",
    "        DENSE_RANK() OVER(ORDER BY a) dense_rank,\n",
    "        ROW_NUMBER() OVER(ORDER BY a) row_number\n",
    "FROM df\n",
    "\"\"\"\n",
    "execute_sql(sql_query)"
   ]
  },
  {
   "cell_type": "markdown",
   "id": "2895bf37",
   "metadata": {},
   "source": [
    "Соответствие:\n",
    "- row_number -> rank_first\n",
    "- rank -> min\n",
    "- dense_rank -> rank_dense"
   ]
  },
  {
   "cell_type": "markdown",
   "id": "ebf9634b",
   "metadata": {},
   "source": [
    "# Batch 2. Оконные функции"
   ]
  },
  {
   "cell_type": "markdown",
   "id": "c014e614",
   "metadata": {},
   "source": [
    "## Примеры"
   ]
  },
  {
   "cell_type": "markdown",
   "id": "8408f358",
   "metadata": {},
   "source": [
    "### Найдите топ-3 лиги с самым большим количеством забитых голов в каждом сезоне. Выведите название лиги, сезон и количество забитых голов. Определите ранг лиги в топ-3 по количеству забитых голов."
   ]
  },
  {
   "cell_type": "code",
   "execution_count": null,
   "id": "8500f90d",
   "metadata": {
    "ExecuteTime": {
     "end_time": "2023-04-21T12:55:44.755644Z",
     "start_time": "2023-04-21T12:55:44.688853Z"
    }
   },
   "outputs": [],
   "source": [
    "pd.read_sql(\"\"\"\n",
    "with t as (\n",
    "    SELECT season, league_name, goals_scored, \n",
    "           RANK() OVER (PARTITION BY season ORDER BY goals_scored DESC) AS rank\n",
    "    FROM (\n",
    "      SELECT m.season, l.name AS league_name, \n",
    "             SUM(m.home_team_goal + m.away_team_goal) AS goals_scored\n",
    "      FROM Match AS m\n",
    "      JOIN League AS l ON m.league_id = l.id\n",
    "      GROUP BY m.season, l.name\n",
    "    ) AS goals\n",
    ")\n",
    "select *\n",
    "from t\n",
    "WHERE rank <= 3\n",
    "ORDER BY season, rank\n",
    "\"\"\", engine)"
   ]
  },
  {
   "cell_type": "code",
   "execution_count": null,
   "id": "078a88bc",
   "metadata": {
    "ExecuteTime": {
     "end_time": "2023-04-21T12:55:48.596119Z",
     "start_time": "2023-04-21T12:55:48.553508Z"
    }
   },
   "outputs": [],
   "source": [
    "df = pd.merge(match, league, left_on=\"league_id\", right_on=\"league_id\")\n",
    "\n",
    "df = df.groupby([\"season\", \"league_name\"])[[\"home_team_goal\", \"away_team_goal\"]].sum().reset_index()\n",
    "df[\"goals_scored\"] = df[\"home_team_goal\"] + df[\"away_team_goal\"]\n",
    "df[\"rank\"] = df.groupby(\"season\")[\"goals_scored\"].rank(method=\"min\", ascending=False).astype(int)\n",
    "df = df[df[\"rank\"] <= 3]\n",
    "df = df.sort_values([\"season\", \"rank\"])\n",
    "df = df[[\"season\", \"league_name\", \"goals_scored\", \"rank\"]]\n",
    "\n",
    "df"
   ]
  },
  {
   "cell_type": "markdown",
   "id": "0ea66c22",
   "metadata": {},
   "source": [
    "## Задачи для решения на семинаре"
   ]
  },
  {
   "cell_type": "markdown",
   "id": "1b4d294a",
   "metadata": {},
   "source": [
    "### Для каждого сезона и каждой лиги необходимо вывести топ-3 команд по количеству забитых голов за сезон. Выводить название команды, количество забитых голов, сезон и название лиги."
   ]
  },
  {
   "cell_type": "code",
   "execution_count": null,
   "id": "49b2a663",
   "metadata": {
    "ExecuteTime": {
     "end_time": "2023-04-21T12:53:13.092292Z",
     "start_time": "2023-04-21T12:53:12.989197Z"
    }
   },
   "outputs": [],
   "source": [
    "df_home = match.merge(league, left_on='league_id', right_on='league_id') \\\n",
    "          .merge(team, left_on='home_team_api_id', right_on='team_api_id', how='left')\n",
    "\n",
    "df_away = match.merge(league, left_on='league_id', right_on='league_id') \\\n",
    "          .merge(team, left_on='away_team_api_id', right_on='team_api_id', how='left')\n",
    "\n",
    "df = pd.concat([df_home, df_away])\n",
    "\n",
    "# Enter your code here\n",
    "# ..."
   ]
  },
  {
   "cell_type": "markdown",
   "id": "6a8aa011",
   "metadata": {},
   "source": [
    "## Задачи в качестве домашней работы"
   ]
  },
  {
   "cell_type": "markdown",
   "id": "3951c594",
   "metadata": {},
   "source": [
    "### Найдите топ-3 команды с самым большим количеством выигранных матчей в каждой лиге за каждый сезон. Выведите название команды, лигу, сезон и количество выигранных матчей. Определите ранг команды в топ-3 по количеству выигранных матчей."
   ]
  },
  {
   "cell_type": "markdown",
   "id": "f1ccf848",
   "metadata": {},
   "source": [
    "### Найдите топ-3 (среди всех стран) команды с самым большим количеством пропущенных голов в каждом сезоне. Выведите название команды, сезон и количество пропущенных голов. Определите ранг команды в топ-3 по количеству пропущенных голов."
   ]
  },
  {
   "cell_type": "markdown",
   "id": "b5865b95",
   "metadata": {},
   "source": [
    "### Найдите топ-3 команды с наибольшим количеством набранных очков в каждой лиге за каждый сезон. Выведите название команды, лигу, сезон и количество набранных очков."
   ]
  },
  {
   "cell_type": "markdown",
   "id": "4d29dce9",
   "metadata": {},
   "source": [
    "# Полезные функции для обработки данных"
   ]
  },
  {
   "cell_type": "code",
   "execution_count": 183,
   "id": "4608a497",
   "metadata": {
    "ExecuteTime": {
     "end_time": "2023-04-21T14:49:27.142433Z",
     "start_time": "2023-04-21T14:49:27.134671Z"
    }
   },
   "outputs": [
    {
     "data": {
      "text/html": [
       "<div>\n",
       "<style scoped>\n",
       "    .dataframe tbody tr th:only-of-type {\n",
       "        vertical-align: middle;\n",
       "    }\n",
       "\n",
       "    .dataframe tbody tr th {\n",
       "        vertical-align: top;\n",
       "    }\n",
       "\n",
       "    .dataframe thead th {\n",
       "        text-align: right;\n",
       "    }\n",
       "</style>\n",
       "<table border=\"1\" class=\"dataframe\">\n",
       "  <thead>\n",
       "    <tr style=\"text-align: right;\">\n",
       "      <th></th>\n",
       "      <th>country_id</th>\n",
       "      <th>country_name</th>\n",
       "    </tr>\n",
       "  </thead>\n",
       "  <tbody>\n",
       "    <tr>\n",
       "      <th>0</th>\n",
       "      <td>1</td>\n",
       "      <td>Belgium</td>\n",
       "    </tr>\n",
       "    <tr>\n",
       "      <th>1</th>\n",
       "      <td>1729</td>\n",
       "      <td>England</td>\n",
       "    </tr>\n",
       "    <tr>\n",
       "      <th>2</th>\n",
       "      <td>4769</td>\n",
       "      <td>France</td>\n",
       "    </tr>\n",
       "    <tr>\n",
       "      <th>3</th>\n",
       "      <td>7809</td>\n",
       "      <td>Germany</td>\n",
       "    </tr>\n",
       "    <tr>\n",
       "      <th>4</th>\n",
       "      <td>10257</td>\n",
       "      <td>Italy</td>\n",
       "    </tr>\n",
       "    <tr>\n",
       "      <th>5</th>\n",
       "      <td>13274</td>\n",
       "      <td>Netherlands</td>\n",
       "    </tr>\n",
       "    <tr>\n",
       "      <th>6</th>\n",
       "      <td>15722</td>\n",
       "      <td>Poland</td>\n",
       "    </tr>\n",
       "    <tr>\n",
       "      <th>7</th>\n",
       "      <td>17642</td>\n",
       "      <td>Portugal</td>\n",
       "    </tr>\n",
       "    <tr>\n",
       "      <th>8</th>\n",
       "      <td>19694</td>\n",
       "      <td>Scotland</td>\n",
       "    </tr>\n",
       "    <tr>\n",
       "      <th>9</th>\n",
       "      <td>21518</td>\n",
       "      <td>Spain</td>\n",
       "    </tr>\n",
       "    <tr>\n",
       "      <th>10</th>\n",
       "      <td>24558</td>\n",
       "      <td>Switzerland</td>\n",
       "    </tr>\n",
       "  </tbody>\n",
       "</table>\n",
       "</div>"
      ],
      "text/plain": [
       "    country_id country_name\n",
       "0            1      Belgium\n",
       "1         1729      England\n",
       "2         4769       France\n",
       "3         7809      Germany\n",
       "4        10257        Italy\n",
       "5        13274  Netherlands\n",
       "6        15722       Poland\n",
       "7        17642     Portugal\n",
       "8        19694     Scotland\n",
       "9        21518        Spain\n",
       "10       24558  Switzerland"
      ]
     },
     "execution_count": 183,
     "metadata": {},
     "output_type": "execute_result"
    }
   ],
   "source": [
    "country"
   ]
  },
  {
   "cell_type": "code",
   "execution_count": 185,
   "id": "784fb7e0",
   "metadata": {
    "ExecuteTime": {
     "end_time": "2023-04-21T14:50:29.122429Z",
     "start_time": "2023-04-21T14:50:29.110707Z"
    }
   },
   "outputs": [
    {
     "data": {
      "text/html": [
       "<div>\n",
       "<style scoped>\n",
       "    .dataframe tbody tr th:only-of-type {\n",
       "        vertical-align: middle;\n",
       "    }\n",
       "\n",
       "    .dataframe tbody tr th {\n",
       "        vertical-align: top;\n",
       "    }\n",
       "\n",
       "    .dataframe thead th {\n",
       "        text-align: right;\n",
       "    }\n",
       "</style>\n",
       "<table border=\"1\" class=\"dataframe\">\n",
       "  <thead>\n",
       "    <tr style=\"text-align: right;\">\n",
       "      <th></th>\n",
       "      <th>country_id</th>\n",
       "      <th>country_name</th>\n",
       "      <th>first_letter</th>\n",
       "    </tr>\n",
       "  </thead>\n",
       "  <tbody>\n",
       "    <tr>\n",
       "      <th>0</th>\n",
       "      <td>1</td>\n",
       "      <td>Belgium</td>\n",
       "      <td>B</td>\n",
       "    </tr>\n",
       "    <tr>\n",
       "      <th>1</th>\n",
       "      <td>1729</td>\n",
       "      <td>England</td>\n",
       "      <td>E</td>\n",
       "    </tr>\n",
       "    <tr>\n",
       "      <th>2</th>\n",
       "      <td>4769</td>\n",
       "      <td>France</td>\n",
       "      <td>F</td>\n",
       "    </tr>\n",
       "    <tr>\n",
       "      <th>3</th>\n",
       "      <td>7809</td>\n",
       "      <td>Germany</td>\n",
       "      <td>G</td>\n",
       "    </tr>\n",
       "    <tr>\n",
       "      <th>4</th>\n",
       "      <td>10257</td>\n",
       "      <td>Italy</td>\n",
       "      <td>I</td>\n",
       "    </tr>\n",
       "    <tr>\n",
       "      <th>5</th>\n",
       "      <td>13274</td>\n",
       "      <td>Netherlands</td>\n",
       "      <td>N</td>\n",
       "    </tr>\n",
       "    <tr>\n",
       "      <th>6</th>\n",
       "      <td>15722</td>\n",
       "      <td>Poland</td>\n",
       "      <td>P</td>\n",
       "    </tr>\n",
       "    <tr>\n",
       "      <th>7</th>\n",
       "      <td>17642</td>\n",
       "      <td>Portugal</td>\n",
       "      <td>P</td>\n",
       "    </tr>\n",
       "    <tr>\n",
       "      <th>8</th>\n",
       "      <td>19694</td>\n",
       "      <td>Scotland</td>\n",
       "      <td>S</td>\n",
       "    </tr>\n",
       "    <tr>\n",
       "      <th>9</th>\n",
       "      <td>21518</td>\n",
       "      <td>Spain</td>\n",
       "      <td>S</td>\n",
       "    </tr>\n",
       "    <tr>\n",
       "      <th>10</th>\n",
       "      <td>24558</td>\n",
       "      <td>Switzerland</td>\n",
       "      <td>S</td>\n",
       "    </tr>\n",
       "  </tbody>\n",
       "</table>\n",
       "</div>"
      ],
      "text/plain": [
       "    country_id country_name first_letter\n",
       "0            1      Belgium            B\n",
       "1         1729      England            E\n",
       "2         4769       France            F\n",
       "3         7809      Germany            G\n",
       "4        10257        Italy            I\n",
       "5        13274  Netherlands            N\n",
       "6        15722       Poland            P\n",
       "7        17642     Portugal            P\n",
       "8        19694     Scotland            S\n",
       "9        21518        Spain            S\n",
       "10       24558  Switzerland            S"
      ]
     },
     "execution_count": 185,
     "metadata": {},
     "output_type": "execute_result"
    }
   ],
   "source": [
    "# 1-я буква из наименования каждой страны\n",
    "country['first_letter'] = country['country_name'].apply(lambda x: x[0])\n",
    "country"
   ]
  },
  {
   "cell_type": "code",
   "execution_count": 187,
   "id": "7c4e1e2e",
   "metadata": {
    "ExecuteTime": {
     "end_time": "2023-04-21T14:50:48.291828Z",
     "start_time": "2023-04-21T14:50:48.287037Z"
    }
   },
   "outputs": [
    {
     "data": {
      "text/plain": [
       "'I'"
      ]
     },
     "execution_count": 187,
     "metadata": {},
     "output_type": "execute_result"
    }
   ],
   "source": [
    "def get_first_letter(x):\n",
    "    return x[0]\n",
    "get_first_letter('Italy')"
   ]
  },
  {
   "cell_type": "code",
   "execution_count": 193,
   "id": "08f3a096",
   "metadata": {
    "ExecuteTime": {
     "end_time": "2023-04-21T14:52:11.881932Z",
     "start_time": "2023-04-21T14:52:11.872465Z"
    }
   },
   "outputs": [
    {
     "data": {
      "text/html": [
       "<div>\n",
       "<style scoped>\n",
       "    .dataframe tbody tr th:only-of-type {\n",
       "        vertical-align: middle;\n",
       "    }\n",
       "\n",
       "    .dataframe tbody tr th {\n",
       "        vertical-align: top;\n",
       "    }\n",
       "\n",
       "    .dataframe thead th {\n",
       "        text-align: right;\n",
       "    }\n",
       "</style>\n",
       "<table border=\"1\" class=\"dataframe\">\n",
       "  <thead>\n",
       "    <tr style=\"text-align: right;\">\n",
       "      <th></th>\n",
       "      <th>country_id</th>\n",
       "      <th>country_name</th>\n",
       "      <th>first_letter</th>\n",
       "    </tr>\n",
       "  </thead>\n",
       "  <tbody>\n",
       "    <tr>\n",
       "      <th>0</th>\n",
       "      <td>1</td>\n",
       "      <td>Belgium</td>\n",
       "      <td>B</td>\n",
       "    </tr>\n",
       "    <tr>\n",
       "      <th>1</th>\n",
       "      <td>1729</td>\n",
       "      <td>England</td>\n",
       "      <td>E</td>\n",
       "    </tr>\n",
       "    <tr>\n",
       "      <th>2</th>\n",
       "      <td>4769</td>\n",
       "      <td>France</td>\n",
       "      <td>F</td>\n",
       "    </tr>\n",
       "    <tr>\n",
       "      <th>3</th>\n",
       "      <td>7809</td>\n",
       "      <td>Germany</td>\n",
       "      <td>G</td>\n",
       "    </tr>\n",
       "    <tr>\n",
       "      <th>4</th>\n",
       "      <td>10257</td>\n",
       "      <td>Italy</td>\n",
       "      <td>I</td>\n",
       "    </tr>\n",
       "    <tr>\n",
       "      <th>5</th>\n",
       "      <td>13274</td>\n",
       "      <td>Netherlands</td>\n",
       "      <td>N</td>\n",
       "    </tr>\n",
       "    <tr>\n",
       "      <th>6</th>\n",
       "      <td>15722</td>\n",
       "      <td>Poland</td>\n",
       "      <td>P</td>\n",
       "    </tr>\n",
       "    <tr>\n",
       "      <th>7</th>\n",
       "      <td>17642</td>\n",
       "      <td>Portugal</td>\n",
       "      <td>P</td>\n",
       "    </tr>\n",
       "    <tr>\n",
       "      <th>8</th>\n",
       "      <td>19694</td>\n",
       "      <td>Scotland</td>\n",
       "      <td>S</td>\n",
       "    </tr>\n",
       "    <tr>\n",
       "      <th>9</th>\n",
       "      <td>21518</td>\n",
       "      <td>Spain</td>\n",
       "      <td>S</td>\n",
       "    </tr>\n",
       "    <tr>\n",
       "      <th>10</th>\n",
       "      <td>24558</td>\n",
       "      <td>Switzerland</td>\n",
       "      <td>S</td>\n",
       "    </tr>\n",
       "  </tbody>\n",
       "</table>\n",
       "</div>"
      ],
      "text/plain": [
       "    country_id country_name first_letter\n",
       "0            1      Belgium            B\n",
       "1         1729      England            E\n",
       "2         4769       France            F\n",
       "3         7809      Germany            G\n",
       "4        10257        Italy            I\n",
       "5        13274  Netherlands            N\n",
       "6        15722       Poland            P\n",
       "7        17642     Portugal            P\n",
       "8        19694     Scotland            S\n",
       "9        21518        Spain            S\n",
       "10       24558  Switzerland            S"
      ]
     },
     "execution_count": 193,
     "metadata": {},
     "output_type": "execute_result"
    }
   ],
   "source": [
    "# del country['first_letter']\n",
    "country['first_letter'] = country['country_name'].apply(get_first_letter)\n",
    "# country['first_letter'] = country['country_name'].apply(lambda x: get_first_letter(x))\n",
    "# country['first_letter'] = country['country_name'].apply(lambda x: x[0])\n",
    "country"
   ]
  },
  {
   "cell_type": "code",
   "execution_count": 194,
   "id": "a67bc875",
   "metadata": {
    "ExecuteTime": {
     "end_time": "2023-04-21T14:53:16.310401Z",
     "start_time": "2023-04-21T14:53:16.302318Z"
    }
   },
   "outputs": [
    {
     "data": {
      "text/html": [
       "<div>\n",
       "<style scoped>\n",
       "    .dataframe tbody tr th:only-of-type {\n",
       "        vertical-align: middle;\n",
       "    }\n",
       "\n",
       "    .dataframe tbody tr th {\n",
       "        vertical-align: top;\n",
       "    }\n",
       "\n",
       "    .dataframe thead th {\n",
       "        text-align: right;\n",
       "    }\n",
       "</style>\n",
       "<table border=\"1\" class=\"dataframe\">\n",
       "  <thead>\n",
       "    <tr style=\"text-align: right;\">\n",
       "      <th></th>\n",
       "      <th>country_id</th>\n",
       "      <th>country_name</th>\n",
       "      <th>first_letter</th>\n",
       "    </tr>\n",
       "  </thead>\n",
       "  <tbody>\n",
       "    <tr>\n",
       "      <th>0</th>\n",
       "      <td>1</td>\n",
       "      <td>Belgium</td>\n",
       "      <td>B</td>\n",
       "    </tr>\n",
       "    <tr>\n",
       "      <th>1</th>\n",
       "      <td>1729</td>\n",
       "      <td>England</td>\n",
       "      <td>E</td>\n",
       "    </tr>\n",
       "    <tr>\n",
       "      <th>2</th>\n",
       "      <td>4769</td>\n",
       "      <td>France</td>\n",
       "      <td>F</td>\n",
       "    </tr>\n",
       "    <tr>\n",
       "      <th>3</th>\n",
       "      <td>7809</td>\n",
       "      <td>Germany</td>\n",
       "      <td>G</td>\n",
       "    </tr>\n",
       "    <tr>\n",
       "      <th>4</th>\n",
       "      <td>10257</td>\n",
       "      <td>Italy</td>\n",
       "      <td>I</td>\n",
       "    </tr>\n",
       "    <tr>\n",
       "      <th>5</th>\n",
       "      <td>13274</td>\n",
       "      <td>Netherlands</td>\n",
       "      <td>N</td>\n",
       "    </tr>\n",
       "    <tr>\n",
       "      <th>6</th>\n",
       "      <td>15722</td>\n",
       "      <td>Poland</td>\n",
       "      <td>P</td>\n",
       "    </tr>\n",
       "    <tr>\n",
       "      <th>7</th>\n",
       "      <td>17642</td>\n",
       "      <td>Portugal</td>\n",
       "      <td>P</td>\n",
       "    </tr>\n",
       "    <tr>\n",
       "      <th>8</th>\n",
       "      <td>19694</td>\n",
       "      <td>Scotland</td>\n",
       "      <td>S</td>\n",
       "    </tr>\n",
       "    <tr>\n",
       "      <th>9</th>\n",
       "      <td>21518</td>\n",
       "      <td>Spain</td>\n",
       "      <td>S</td>\n",
       "    </tr>\n",
       "    <tr>\n",
       "      <th>10</th>\n",
       "      <td>24558</td>\n",
       "      <td>Switzerland</td>\n",
       "      <td>S</td>\n",
       "    </tr>\n",
       "  </tbody>\n",
       "</table>\n",
       "</div>"
      ],
      "text/plain": [
       "    country_id country_name first_letter\n",
       "0            1      Belgium            B\n",
       "1         1729      England            E\n",
       "2         4769       France            F\n",
       "3         7809      Germany            G\n",
       "4        10257        Italy            I\n",
       "5        13274  Netherlands            N\n",
       "6        15722       Poland            P\n",
       "7        17642     Portugal            P\n",
       "8        19694     Scotland            S\n",
       "9        21518        Spain            S\n",
       "10       24558  Switzerland            S"
      ]
     },
     "execution_count": 194,
     "metadata": {},
     "output_type": "execute_result"
    }
   ],
   "source": [
    "country"
   ]
  },
  {
   "cell_type": "code",
   "execution_count": 197,
   "id": "695a96d2",
   "metadata": {
    "ExecuteTime": {
     "end_time": "2023-04-21T14:53:57.265528Z",
     "start_time": "2023-04-21T14:53:57.254530Z"
    }
   },
   "outputs": [
    {
     "data": {
      "text/html": [
       "<div>\n",
       "<style scoped>\n",
       "    .dataframe tbody tr th:only-of-type {\n",
       "        vertical-align: middle;\n",
       "    }\n",
       "\n",
       "    .dataframe tbody tr th {\n",
       "        vertical-align: top;\n",
       "    }\n",
       "\n",
       "    .dataframe thead th {\n",
       "        text-align: right;\n",
       "    }\n",
       "</style>\n",
       "<table border=\"1\" class=\"dataframe\">\n",
       "  <thead>\n",
       "    <tr style=\"text-align: right;\">\n",
       "      <th></th>\n",
       "      <th>country_id</th>\n",
       "      <th>country_name</th>\n",
       "      <th>first_letter</th>\n",
       "      <th>is_france</th>\n",
       "    </tr>\n",
       "  </thead>\n",
       "  <tbody>\n",
       "    <tr>\n",
       "      <th>0</th>\n",
       "      <td>1</td>\n",
       "      <td>Belgium</td>\n",
       "      <td>B</td>\n",
       "      <td>0</td>\n",
       "    </tr>\n",
       "    <tr>\n",
       "      <th>1</th>\n",
       "      <td>1729</td>\n",
       "      <td>England</td>\n",
       "      <td>E</td>\n",
       "      <td>0</td>\n",
       "    </tr>\n",
       "    <tr>\n",
       "      <th>2</th>\n",
       "      <td>4769</td>\n",
       "      <td>France</td>\n",
       "      <td>F</td>\n",
       "      <td>1</td>\n",
       "    </tr>\n",
       "    <tr>\n",
       "      <th>3</th>\n",
       "      <td>7809</td>\n",
       "      <td>Germany</td>\n",
       "      <td>G</td>\n",
       "      <td>0</td>\n",
       "    </tr>\n",
       "    <tr>\n",
       "      <th>4</th>\n",
       "      <td>10257</td>\n",
       "      <td>Italy</td>\n",
       "      <td>I</td>\n",
       "      <td>0</td>\n",
       "    </tr>\n",
       "    <tr>\n",
       "      <th>5</th>\n",
       "      <td>13274</td>\n",
       "      <td>Netherlands</td>\n",
       "      <td>N</td>\n",
       "      <td>0</td>\n",
       "    </tr>\n",
       "    <tr>\n",
       "      <th>6</th>\n",
       "      <td>15722</td>\n",
       "      <td>Poland</td>\n",
       "      <td>P</td>\n",
       "      <td>0</td>\n",
       "    </tr>\n",
       "    <tr>\n",
       "      <th>7</th>\n",
       "      <td>17642</td>\n",
       "      <td>Portugal</td>\n",
       "      <td>P</td>\n",
       "      <td>0</td>\n",
       "    </tr>\n",
       "    <tr>\n",
       "      <th>8</th>\n",
       "      <td>19694</td>\n",
       "      <td>Scotland</td>\n",
       "      <td>S</td>\n",
       "      <td>0</td>\n",
       "    </tr>\n",
       "    <tr>\n",
       "      <th>9</th>\n",
       "      <td>21518</td>\n",
       "      <td>Spain</td>\n",
       "      <td>S</td>\n",
       "      <td>0</td>\n",
       "    </tr>\n",
       "    <tr>\n",
       "      <th>10</th>\n",
       "      <td>24558</td>\n",
       "      <td>Switzerland</td>\n",
       "      <td>S</td>\n",
       "      <td>0</td>\n",
       "    </tr>\n",
       "  </tbody>\n",
       "</table>\n",
       "</div>"
      ],
      "text/plain": [
       "    country_id country_name first_letter  is_france\n",
       "0            1      Belgium            B          0\n",
       "1         1729      England            E          0\n",
       "2         4769       France            F          1\n",
       "3         7809      Germany            G          0\n",
       "4        10257        Italy            I          0\n",
       "5        13274  Netherlands            N          0\n",
       "6        15722       Poland            P          0\n",
       "7        17642     Portugal            P          0\n",
       "8        19694     Scotland            S          0\n",
       "9        21518        Spain            S          0\n",
       "10       24558  Switzerland            S          0"
      ]
     },
     "execution_count": 197,
     "metadata": {},
     "output_type": "execute_result"
    }
   ],
   "source": [
    "def is_france(x):\n",
    "    if x == 'France':\n",
    "        return 1\n",
    "    else:\n",
    "        return 0\n",
    "# is_france('France')\n",
    "country['is_france'] = country['country_name'].apply(lambda x: is_france(x))\n",
    "# country['is_france'] = country['country_name'].apply(is_france)\n",
    "# country['is_france'] = country['country_name'].apply(lambda x: 1 if x == 'France' else 0)\n",
    "country"
   ]
  },
  {
   "cell_type": "code",
   "execution_count": 198,
   "id": "ff1d2c69",
   "metadata": {
    "ExecuteTime": {
     "end_time": "2023-04-21T14:56:02.069238Z",
     "start_time": "2023-04-21T14:56:02.056324Z"
    }
   },
   "outputs": [
    {
     "data": {
      "text/html": [
       "<div>\n",
       "<style scoped>\n",
       "    .dataframe tbody tr th:only-of-type {\n",
       "        vertical-align: middle;\n",
       "    }\n",
       "\n",
       "    .dataframe tbody tr th {\n",
       "        vertical-align: top;\n",
       "    }\n",
       "\n",
       "    .dataframe thead th {\n",
       "        text-align: right;\n",
       "    }\n",
       "</style>\n",
       "<table border=\"1\" class=\"dataframe\">\n",
       "  <thead>\n",
       "    <tr style=\"text-align: right;\">\n",
       "      <th></th>\n",
       "      <th>id</th>\n",
       "      <th>name</th>\n",
       "      <th>is_france</th>\n",
       "    </tr>\n",
       "  </thead>\n",
       "  <tbody>\n",
       "    <tr>\n",
       "      <th>0</th>\n",
       "      <td>1</td>\n",
       "      <td>Belgium</td>\n",
       "      <td>0</td>\n",
       "    </tr>\n",
       "    <tr>\n",
       "      <th>1</th>\n",
       "      <td>1729</td>\n",
       "      <td>England</td>\n",
       "      <td>0</td>\n",
       "    </tr>\n",
       "    <tr>\n",
       "      <th>2</th>\n",
       "      <td>4769</td>\n",
       "      <td>France</td>\n",
       "      <td>1</td>\n",
       "    </tr>\n",
       "    <tr>\n",
       "      <th>3</th>\n",
       "      <td>7809</td>\n",
       "      <td>Germany</td>\n",
       "      <td>0</td>\n",
       "    </tr>\n",
       "    <tr>\n",
       "      <th>4</th>\n",
       "      <td>10257</td>\n",
       "      <td>Italy</td>\n",
       "      <td>0</td>\n",
       "    </tr>\n",
       "    <tr>\n",
       "      <th>5</th>\n",
       "      <td>13274</td>\n",
       "      <td>Netherlands</td>\n",
       "      <td>0</td>\n",
       "    </tr>\n",
       "    <tr>\n",
       "      <th>6</th>\n",
       "      <td>15722</td>\n",
       "      <td>Poland</td>\n",
       "      <td>0</td>\n",
       "    </tr>\n",
       "    <tr>\n",
       "      <th>7</th>\n",
       "      <td>17642</td>\n",
       "      <td>Portugal</td>\n",
       "      <td>0</td>\n",
       "    </tr>\n",
       "    <tr>\n",
       "      <th>8</th>\n",
       "      <td>19694</td>\n",
       "      <td>Scotland</td>\n",
       "      <td>0</td>\n",
       "    </tr>\n",
       "    <tr>\n",
       "      <th>9</th>\n",
       "      <td>21518</td>\n",
       "      <td>Spain</td>\n",
       "      <td>0</td>\n",
       "    </tr>\n",
       "    <tr>\n",
       "      <th>10</th>\n",
       "      <td>24558</td>\n",
       "      <td>Switzerland</td>\n",
       "      <td>0</td>\n",
       "    </tr>\n",
       "  </tbody>\n",
       "</table>\n",
       "</div>"
      ],
      "text/plain": [
       "       id         name  is_france\n",
       "0       1      Belgium          0\n",
       "1    1729      England          0\n",
       "2    4769       France          1\n",
       "3    7809      Germany          0\n",
       "4   10257        Italy          0\n",
       "5   13274  Netherlands          0\n",
       "6   15722       Poland          0\n",
       "7   17642     Portugal          0\n",
       "8   19694     Scotland          0\n",
       "9   21518        Spain          0\n",
       "10  24558  Switzerland          0"
      ]
     },
     "execution_count": 198,
     "metadata": {},
     "output_type": "execute_result"
    }
   ],
   "source": [
    "pd.read_sql(\"\"\"\n",
    "select  *,\n",
    "        case when name == 'France' then 1\n",
    "             else 0\n",
    "        end as is_france\n",
    "from country\n",
    "\"\"\", engine)"
   ]
  },
  {
   "cell_type": "code",
   "execution_count": null,
   "id": "8a3ed927",
   "metadata": {
    "ExecuteTime": {
     "end_time": "2023-04-21T12:57:08.954929Z",
     "start_time": "2023-04-21T12:57:08.952718Z"
    }
   },
   "outputs": [],
   "source": [
    "# condition ? if_true : if_false"
   ]
  },
  {
   "cell_type": "code",
   "execution_count": 199,
   "id": "154383ff",
   "metadata": {
    "ExecuteTime": {
     "end_time": "2023-04-21T14:56:09.884682Z",
     "start_time": "2023-04-21T14:56:09.874026Z"
    }
   },
   "outputs": [
    {
     "data": {
      "text/html": [
       "<div>\n",
       "<style scoped>\n",
       "    .dataframe tbody tr th:only-of-type {\n",
       "        vertical-align: middle;\n",
       "    }\n",
       "\n",
       "    .dataframe tbody tr th {\n",
       "        vertical-align: top;\n",
       "    }\n",
       "\n",
       "    .dataframe thead th {\n",
       "        text-align: right;\n",
       "    }\n",
       "</style>\n",
       "<table border=\"1\" class=\"dataframe\">\n",
       "  <thead>\n",
       "    <tr style=\"text-align: right;\">\n",
       "      <th></th>\n",
       "      <th>id</th>\n",
       "      <th>name</th>\n",
       "      <th>is_france</th>\n",
       "    </tr>\n",
       "  </thead>\n",
       "  <tbody>\n",
       "    <tr>\n",
       "      <th>0</th>\n",
       "      <td>1</td>\n",
       "      <td>Belgium</td>\n",
       "      <td>0</td>\n",
       "    </tr>\n",
       "    <tr>\n",
       "      <th>1</th>\n",
       "      <td>1729</td>\n",
       "      <td>England</td>\n",
       "      <td>2</td>\n",
       "    </tr>\n",
       "    <tr>\n",
       "      <th>2</th>\n",
       "      <td>4769</td>\n",
       "      <td>France</td>\n",
       "      <td>1</td>\n",
       "    </tr>\n",
       "    <tr>\n",
       "      <th>3</th>\n",
       "      <td>7809</td>\n",
       "      <td>Germany</td>\n",
       "      <td>0</td>\n",
       "    </tr>\n",
       "    <tr>\n",
       "      <th>4</th>\n",
       "      <td>10257</td>\n",
       "      <td>Italy</td>\n",
       "      <td>0</td>\n",
       "    </tr>\n",
       "    <tr>\n",
       "      <th>5</th>\n",
       "      <td>13274</td>\n",
       "      <td>Netherlands</td>\n",
       "      <td>0</td>\n",
       "    </tr>\n",
       "    <tr>\n",
       "      <th>6</th>\n",
       "      <td>15722</td>\n",
       "      <td>Poland</td>\n",
       "      <td>0</td>\n",
       "    </tr>\n",
       "    <tr>\n",
       "      <th>7</th>\n",
       "      <td>17642</td>\n",
       "      <td>Portugal</td>\n",
       "      <td>0</td>\n",
       "    </tr>\n",
       "    <tr>\n",
       "      <th>8</th>\n",
       "      <td>19694</td>\n",
       "      <td>Scotland</td>\n",
       "      <td>0</td>\n",
       "    </tr>\n",
       "    <tr>\n",
       "      <th>9</th>\n",
       "      <td>21518</td>\n",
       "      <td>Spain</td>\n",
       "      <td>0</td>\n",
       "    </tr>\n",
       "    <tr>\n",
       "      <th>10</th>\n",
       "      <td>24558</td>\n",
       "      <td>Switzerland</td>\n",
       "      <td>0</td>\n",
       "    </tr>\n",
       "  </tbody>\n",
       "</table>\n",
       "</div>"
      ],
      "text/plain": [
       "       id         name  is_france\n",
       "0       1      Belgium          0\n",
       "1    1729      England          2\n",
       "2    4769       France          1\n",
       "3    7809      Germany          0\n",
       "4   10257        Italy          0\n",
       "5   13274  Netherlands          0\n",
       "6   15722       Poland          0\n",
       "7   17642     Portugal          0\n",
       "8   19694     Scotland          0\n",
       "9   21518        Spain          0\n",
       "10  24558  Switzerland          0"
      ]
     },
     "execution_count": 199,
     "metadata": {},
     "output_type": "execute_result"
    }
   ],
   "source": [
    "pd.read_sql(\"\"\"\n",
    "select  *,\n",
    "        case when name == 'France' then 1\n",
    "             when name == 'England' then 2\n",
    "        else 0 end as is_france\n",
    "from country\n",
    "\"\"\", engine)"
   ]
  },
  {
   "cell_type": "code",
   "execution_count": 200,
   "id": "0ee36f20",
   "metadata": {
    "ExecuteTime": {
     "end_time": "2023-04-21T14:57:13.560153Z",
     "start_time": "2023-04-21T14:57:13.548264Z"
    },
    "scrolled": true
   },
   "outputs": [
    {
     "data": {
      "text/html": [
       "<div>\n",
       "<style scoped>\n",
       "    .dataframe tbody tr th:only-of-type {\n",
       "        vertical-align: middle;\n",
       "    }\n",
       "\n",
       "    .dataframe tbody tr th {\n",
       "        vertical-align: top;\n",
       "    }\n",
       "\n",
       "    .dataframe thead th {\n",
       "        text-align: right;\n",
       "    }\n",
       "</style>\n",
       "<table border=\"1\" class=\"dataframe\">\n",
       "  <thead>\n",
       "    <tr style=\"text-align: right;\">\n",
       "      <th></th>\n",
       "      <th>country_id</th>\n",
       "      <th>country_name</th>\n",
       "      <th>first_letter</th>\n",
       "      <th>is_france</th>\n",
       "      <th>is_france_or_england</th>\n",
       "    </tr>\n",
       "  </thead>\n",
       "  <tbody>\n",
       "    <tr>\n",
       "      <th>0</th>\n",
       "      <td>1</td>\n",
       "      <td>Belgium</td>\n",
       "      <td>B</td>\n",
       "      <td>0</td>\n",
       "      <td>0</td>\n",
       "    </tr>\n",
       "    <tr>\n",
       "      <th>1</th>\n",
       "      <td>1729</td>\n",
       "      <td>England</td>\n",
       "      <td>E</td>\n",
       "      <td>0</td>\n",
       "      <td>2</td>\n",
       "    </tr>\n",
       "    <tr>\n",
       "      <th>2</th>\n",
       "      <td>4769</td>\n",
       "      <td>France</td>\n",
       "      <td>F</td>\n",
       "      <td>1</td>\n",
       "      <td>1</td>\n",
       "    </tr>\n",
       "    <tr>\n",
       "      <th>3</th>\n",
       "      <td>7809</td>\n",
       "      <td>Germany</td>\n",
       "      <td>G</td>\n",
       "      <td>0</td>\n",
       "      <td>0</td>\n",
       "    </tr>\n",
       "    <tr>\n",
       "      <th>4</th>\n",
       "      <td>10257</td>\n",
       "      <td>Italy</td>\n",
       "      <td>I</td>\n",
       "      <td>0</td>\n",
       "      <td>0</td>\n",
       "    </tr>\n",
       "    <tr>\n",
       "      <th>5</th>\n",
       "      <td>13274</td>\n",
       "      <td>Netherlands</td>\n",
       "      <td>N</td>\n",
       "      <td>0</td>\n",
       "      <td>0</td>\n",
       "    </tr>\n",
       "    <tr>\n",
       "      <th>6</th>\n",
       "      <td>15722</td>\n",
       "      <td>Poland</td>\n",
       "      <td>P</td>\n",
       "      <td>0</td>\n",
       "      <td>0</td>\n",
       "    </tr>\n",
       "    <tr>\n",
       "      <th>7</th>\n",
       "      <td>17642</td>\n",
       "      <td>Portugal</td>\n",
       "      <td>P</td>\n",
       "      <td>0</td>\n",
       "      <td>0</td>\n",
       "    </tr>\n",
       "    <tr>\n",
       "      <th>8</th>\n",
       "      <td>19694</td>\n",
       "      <td>Scotland</td>\n",
       "      <td>S</td>\n",
       "      <td>0</td>\n",
       "      <td>0</td>\n",
       "    </tr>\n",
       "    <tr>\n",
       "      <th>9</th>\n",
       "      <td>21518</td>\n",
       "      <td>Spain</td>\n",
       "      <td>S</td>\n",
       "      <td>0</td>\n",
       "      <td>0</td>\n",
       "    </tr>\n",
       "    <tr>\n",
       "      <th>10</th>\n",
       "      <td>24558</td>\n",
       "      <td>Switzerland</td>\n",
       "      <td>S</td>\n",
       "      <td>0</td>\n",
       "      <td>0</td>\n",
       "    </tr>\n",
       "  </tbody>\n",
       "</table>\n",
       "</div>"
      ],
      "text/plain": [
       "    country_id country_name first_letter  is_france  is_france_or_england\n",
       "0            1      Belgium            B          0                     0\n",
       "1         1729      England            E          0                     2\n",
       "2         4769       France            F          1                     1\n",
       "3         7809      Germany            G          0                     0\n",
       "4        10257        Italy            I          0                     0\n",
       "5        13274  Netherlands            N          0                     0\n",
       "6        15722       Poland            P          0                     0\n",
       "7        17642     Portugal            P          0                     0\n",
       "8        19694     Scotland            S          0                     0\n",
       "9        21518        Spain            S          0                     0\n",
       "10       24558  Switzerland            S          0                     0"
      ]
     },
     "execution_count": 200,
     "metadata": {},
     "output_type": "execute_result"
    }
   ],
   "source": [
    "def is_france_or_england(x):\n",
    "    if x == 'France':\n",
    "        return 1\n",
    "    elif x == 'England':\n",
    "#     if x == 'England':\n",
    "        return 2\n",
    "    else:\n",
    "        return 0\n",
    "\n",
    "country['is_france_or_england'] = country['country_name'].apply(is_france_or_england)\n",
    "country"
   ]
  },
  {
   "cell_type": "code",
   "execution_count": 203,
   "id": "6a4a085b",
   "metadata": {
    "ExecuteTime": {
     "end_time": "2023-04-21T14:59:43.037194Z",
     "start_time": "2023-04-21T14:59:43.032190Z"
    }
   },
   "outputs": [
    {
     "ename": "SyntaxError",
     "evalue": "invalid syntax (<ipython-input-203-ebffe7ff4150>, line 1)",
     "output_type": "error",
     "traceback": [
      "\u001b[0;36m  File \u001b[0;32m\"<ipython-input-203-ebffe7ff4150>\"\u001b[0;36m, line \u001b[0;32m1\u001b[0m\n\u001b[0;31m    country['country_name'].apply(lambda x: 1 if x=='France' 2 elif x=='England' else 0)\u001b[0m\n\u001b[0m                                                             ^\u001b[0m\n\u001b[0;31mSyntaxError\u001b[0m\u001b[0;31m:\u001b[0m invalid syntax\n"
     ]
    }
   ],
   "source": [
    "country['country_name'].apply(lambda x: 1 if x=='France' 2 elif x=='England' else 0)\n",
    "country['country_name'].apply(is_france_or_england)"
   ]
  }
 ],
 "metadata": {
  "kernelspec": {
   "display_name": "Python 3",
   "language": "python",
   "name": "python3"
  },
  "language_info": {
   "codemirror_mode": {
    "name": "ipython",
    "version": 3
   },
   "file_extension": ".py",
   "mimetype": "text/x-python",
   "name": "python",
   "nbconvert_exporter": "python",
   "pygments_lexer": "ipython3",
   "version": "3.8.8"
  },
  "toc": {
   "base_numbering": 1,
   "nav_menu": {},
   "number_sections": true,
   "sideBar": true,
   "skip_h1_title": false,
   "title_cell": "Table of Contents",
   "title_sidebar": "Contents",
   "toc_cell": false,
   "toc_position": {
    "height": "calc(100% - 180px)",
    "left": "10px",
    "top": "150px",
    "width": "269.188px"
   },
   "toc_section_display": true,
   "toc_window_display": true
  }
 },
 "nbformat": 4,
 "nbformat_minor": 5
}
