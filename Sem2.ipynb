{
 "cells": [
  {
   "cell_type": "code",
   "execution_count": 3,
   "id": "52ea5e99",
   "metadata": {},
   "outputs": [
    {
     "name": "stdout",
     "output_type": "stream",
     "text": [
      "123\n",
      "321\n",
      "Yes\n"
     ]
    }
   ],
   "source": [
    "a = input()\n",
    "b = input()\n",
    "print(\"Yes\" if sorted(a) == sorted(b) else \"No\")"
   ]
  },
  {
   "cell_type": "markdown",
   "id": "051044f0",
   "metadata": {},
   "source": [
    "Batch 3, 5"
   ]
  },
  {
   "cell_type": "code",
   "execution_count": 6,
   "id": "a05e8457",
   "metadata": {},
   "outputs": [
    {
     "name": "stdout",
     "output_type": "stream",
     "text": [
      "{1, 2, 5, 6}\n"
     ]
    }
   ],
   "source": [
    "def U(a: set, b : set):\n",
    "    return (a | b) - (a & b)\n",
    "print(U({1, 2, 3, 4}, {3, 4, 5, 6}))"
   ]
  },
  {
   "cell_type": "markdown",
   "id": "f3bead87",
   "metadata": {},
   "source": [
    "Batch 3, 4"
   ]
  },
  {
   "cell_type": "code",
   "execution_count": 12,
   "id": "c1fc0134",
   "metadata": {},
   "outputs": [
    {
     "data": {
      "text/plain": [
       "'cherry'"
      ]
     },
     "execution_count": 12,
     "metadata": {},
     "output_type": "execute_result"
    }
   ],
   "source": [
    "def max_key(l: dict):\n",
    "    mx = max(l.values())\n",
    "    for a, b in l.items():\n",
    "        if b == mx:\n",
    "            return a\n",
    "max_key({'apple': 10, 'banana': 5, 'cherry': 20, 'kiwi': 15})"
   ]
  },
  {
   "cell_type": "code",
   "execution_count": 16,
   "id": "df9971c5",
   "metadata": {},
   "outputs": [
    {
     "data": {
      "text/plain": [
       "[2, 4, 5]"
      ]
     },
     "execution_count": 16,
     "metadata": {},
     "output_type": "execute_result"
    }
   ],
   "source": [
    "def f(l: list):\n",
    "    w = set(l)\n",
    "    return [x for x in w if l.count(x) > 1]\n",
    "f([1, 2, 2, 3, 4, 4, 4, 5, 5])"
   ]
  },
  {
   "cell_type": "code",
   "execution_count": 18,
   "id": "af712e84",
   "metadata": {},
   "outputs": [
    {
     "data": {
      "text/plain": [
       "[3, 4, 5]"
      ]
     },
     "execution_count": 18,
     "metadata": {},
     "output_type": "execute_result"
    }
   ],
   "source": [
    "def U(a: list, b: list):\n",
    "    return list(set(a)&set(b))\n",
    "U([1, 2, 3, 4, 5], [3, 4, 5, 6, 7])"
   ]
  },
  {
   "cell_type": "code",
   "execution_count": 20,
   "id": "44774df8",
   "metadata": {},
   "outputs": [
    {
     "data": {
      "text/plain": [
       "{'a': ['apple', 'avocado'], 'b': ['banana'], 'c': ['cherry'], 'k': ['kiwi']}"
      ]
     },
     "execution_count": 20,
     "metadata": {},
     "output_type": "execute_result"
    }
   ],
   "source": [
    "def f(l):\n",
    "    r = dict()\n",
    "    for x in l:\n",
    "        r[x[0]] = []\n",
    "    for x in l:\n",
    "        r[x[0]].append(x)\n",
    "    return r\n",
    "f([\"apple\", \"banana\", \"avocado\", \"cherry\", \"kiwi\"])"
   ]
  },
  {
   "cell_type": "code",
   "execution_count": null,
   "id": "f1c58a35",
   "metadata": {},
   "outputs": [],
   "source": []
  }
 ],
 "metadata": {
  "kernelspec": {
   "display_name": "Python 3 (ipykernel)",
   "language": "python",
   "name": "python3"
  },
  "language_info": {
   "codemirror_mode": {
    "name": "ipython",
    "version": 3
   },
   "file_extension": ".py",
   "mimetype": "text/x-python",
   "name": "python",
   "nbconvert_exporter": "python",
   "pygments_lexer": "ipython3",
   "version": "3.11.1"
  }
 },
 "nbformat": 4,
 "nbformat_minor": 5
}
