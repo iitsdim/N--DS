{
 "cells": [
  {
   "cell_type": "code",
   "execution_count": 1,
   "id": "759482a6",
   "metadata": {},
   "outputs": [],
   "source": [
    "import pandas as pd"
   ]
  },
  {
   "cell_type": "markdown",
   "id": "c0adebbe",
   "metadata": {},
   "source": [
    "**Кредитный скоринг** является важной банковской задачей. \n",
    "\n",
    "Стандартный подход заключается в построении классических моделей машинного обучения, таких как логистическая регрессия и градиентный бустинг на табличных данных, в том числе с использованием *агрегирования* из некоторых последовательных данных, таких как истории транзакций клиентов. \n"
   ]
  },
  {
   "cell_type": "markdown",
   "id": "306295cd",
   "metadata": {},
   "source": [
    "### Описание полей:\n",
    "- id - identifier of the application\n",
    "- <span style = 'color : red'> **flag** </span> - target (целевая переменная)\n",
    "- pre_since_opened - days from credit opening date to data collection date\n",
    "- pre_since_confirmed - days from credit information confirmation date till data collection date\n",
    "- pre_pterm - planned number of days from credit opening date to closing date\n",
    "- pre_fterm - actual number of days from credit opening date to closing date\n",
    "- pre_till_pclose - planned number of days from data collection date until loan closing date\n",
    "- pre_till_fclose - actual number of days from data collection date until loan closing date\n",
    "- pre_loans_credit_limit - credit limit\n",
    "- pre_loans_next_pay_summ - amount of the next loan payment\n",
    "- pre_loans_outstanding - outstanding loan amount\n",
    "- pre_loans_total_overdue - current overdue amount\n",
    "- pre_loans_max_overdue_sum - maximum overdue amount\n",
    "- pre_loans_credit_cost_rate - total cost of credit\n",
    "- pre_loans5 - number of delinquencies of up to 5 days\n",
    "- pre_loans530 - number of delinquencies from 5 to 30 days\n",
    "- pre_loans3060 - number of delinquencies from 30 to 60 days\n",
    "- pre_loans6090 - number of delinquencies from 60 to 90 days\n",
    "- pre_loans90 - number of delinquencies of more than 90 days\n",
    "- is_zero_loans_5 - flag: no delinquencies of up to 5 days\n",
    "- is_zero_loans_530 - flag: no delinquencies of 5 to 30 days\n",
    "- is_zero_loans_3060 - flag: no delinquencies of 30 to 60 days\n",
    "- is_zero_loans_6090 - flag: no delinquencies of 60 to 90 days\n",
    "- is_zero_loans90 - flag: no delinquencies of more than 90 days\n",
    "- pre_util - ratio of outstanding loan amount to credit limit\n",
    "- pre_over2limit - ratio of currently overdue debt to credit limit\n",
    "- pre_maxover2limit - ratio of maximum overdue debt to credit limit\n",
    "- is_zero_util - flag: ratio of outstanding loan amount to credit limit equals 0\n",
    "- is_zero_over2limit - flag: ratio of current overdue debt to credit limit equals 0\n",
    "- is_zero_maxover2limit - flag: ratio of maximum overdue debt to credit limit equals 0\n",
    "- **<span style = 'color : blue'> enc_paym_{0…n} </span>** - monthly payment statuses of the last n months\n",
    "- enc_loans_account_holder_type - type of relation to the loan\n",
    "- enc_loans_credit_status - credit status\n",
    "- enc_loans_account_cur - currency of the loan\n",
    "- enc_loans_credit_type - credit type\n",
    "- pclose_flag - flag: planned number of days from opening date to closing date of the loan\n",
    "- fclose_flag - flag: actual number of days from credit opening date to closing date undefined"
   ]
  },
  {
   "cell_type": "markdown",
   "id": "a519febb",
   "metadata": {},
   "source": [
    "# Open files"
   ]
  },
  {
   "cell_type": "code",
   "execution_count": 5,
   "id": "df3f59d4",
   "metadata": {},
   "outputs": [],
   "source": [
    "df_train = pd.read_parquet('./parquets/P03_train.pq')\n",
    "df_test = pd.read_parquet('./parquets/P03_test.pq')"
   ]
  }
 ],
 "metadata": {
  "kernelspec": {
   "display_name": "Python 3 (ipykernel)",
   "language": "python",
   "name": "python3"
  },
  "language_info": {
   "codemirror_mode": {
    "name": "ipython",
    "version": 3
   },
   "file_extension": ".py",
   "mimetype": "text/x-python",
   "name": "python",
   "nbconvert_exporter": "python",
   "pygments_lexer": "ipython3",
   "version": "3.9.2"
  }
 },
 "nbformat": 4,
 "nbformat_minor": 5
}
