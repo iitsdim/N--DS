{
 "cells": [
  {
   "cell_type": "markdown",
   "id": "4038e8ec",
   "metadata": {
    "toc": true
   },
   "source": [
    "<h1>Table of Contents<span class=\"tocSkip\"></span></h1>\n",
    "<div class=\"toc\"><ul class=\"toc-item\"><li><span><a href=\"#Заключение-по-доверительным-интервалам\" data-toc-modified-id=\"Заключение-по-доверительным-интервалам-1\"><span class=\"toc-item-num\">1&nbsp;&nbsp;</span>Заключение по доверительным интервалам</a></span></li><li><span><a href=\"#Bootstrap\" data-toc-modified-id=\"Bootstrap-2\"><span class=\"toc-item-num\">2&nbsp;&nbsp;</span>Bootstrap</a></span><ul class=\"toc-item\"><li><span><a href=\"#Метод-бутстрап-из-Scipy\" data-toc-modified-id=\"Метод-бутстрап-из-Scipy-2.1\"><span class=\"toc-item-num\">2.1&nbsp;&nbsp;</span>Метод бутстрап из Scipy</a></span></li><li><span><a href=\"#Ручная-реализация-метода-bootstrap\" data-toc-modified-id=\"Ручная-реализация-метода-bootstrap-2.2\"><span class=\"toc-item-num\">2.2&nbsp;&nbsp;</span>Ручная реализация метода bootstrap</a></span></li></ul></li><li><span><a href=\"#Линейная-регрессия\" data-toc-modified-id=\"Линейная-регрессия-3\"><span class=\"toc-item-num\">3&nbsp;&nbsp;</span>Линейная регрессия</a></span><ul class=\"toc-item\"><li><span><a href=\"#Знакомство-с-датасетом\" data-toc-modified-id=\"Знакомство-с-датасетом-3.1\"><span class=\"toc-item-num\">3.1&nbsp;&nbsp;</span>Знакомство с датасетом</a></span></li><li><span><a href=\"#Наличие/отсутствие-пропусков\" data-toc-modified-id=\"Наличие/отсутствие-пропусков-3.2\"><span class=\"toc-item-num\">3.2&nbsp;&nbsp;</span>Наличие/отсутствие пропусков</a></span></li><li><span><a href=\"#Корреляция-признаков\" data-toc-modified-id=\"Корреляция-признаков-3.3\"><span class=\"toc-item-num\">3.3&nbsp;&nbsp;</span>Корреляция признаков</a></span></li><li><span><a href=\"#Обучение-модели-на-1-признаке\" data-toc-modified-id=\"Обучение-модели-на-1-признаке-3.4\"><span class=\"toc-item-num\">3.4&nbsp;&nbsp;</span>Обучение модели на 1 признаке</a></span></li><li><span><a href=\"#Обучение-модели-на-нескольких-признаках\" data-toc-modified-id=\"Обучение-модели-на-нескольких-признаках-3.5\"><span class=\"toc-item-num\">3.5&nbsp;&nbsp;</span>Обучение модели на нескольких признаках</a></span></li><li><span><a href=\"#Интерпретация-коэффициентов-линейной-регрессии\" data-toc-modified-id=\"Интерпретация-коэффициентов-линейной-регрессии-3.6\"><span class=\"toc-item-num\">3.6&nbsp;&nbsp;</span>Интерпретация коэффициентов линейной регрессии</a></span></li><li><span><a href=\"#Анализ-остатков\" data-toc-modified-id=\"Анализ-остатков-3.7\"><span class=\"toc-item-num\">3.7&nbsp;&nbsp;</span>Анализ остатков</a></span><ul class=\"toc-item\"><li><span><a href=\"#Проверка-остатков-на-нормальность\" data-toc-modified-id=\"Проверка-остатков-на-нормальность-3.7.1\"><span class=\"toc-item-num\">3.7.1&nbsp;&nbsp;</span>Проверка остатков на нормальность</a></span></li><li><span><a href=\"#Диаграмма-рассеяния\" data-toc-modified-id=\"Диаграмма-рассеяния-3.7.2\"><span class=\"toc-item-num\">3.7.2&nbsp;&nbsp;</span>Диаграмма рассеяния</a></span></li></ul></li><li><span><a href=\"#Стат.-значимость-коэффициентов-регрессии\" data-toc-modified-id=\"Стат.-значимость-коэффициентов-регрессии-3.8\"><span class=\"toc-item-num\">3.8&nbsp;&nbsp;</span>Стат. значимость коэффициентов регрессии</a></span></li><li><span><a href=\"#Стандартизация-признаков\" data-toc-modified-id=\"Стандартизация-признаков-3.9\"><span class=\"toc-item-num\">3.9&nbsp;&nbsp;</span>Стандартизация признаков</a></span></li></ul></li><li><span><a href=\"#Вариации-линейной-регресии:\" data-toc-modified-id=\"Вариации-линейной-регресии:-4\"><span class=\"toc-item-num\">4&nbsp;&nbsp;</span>Вариации линейной регресии:</a></span><ul class=\"toc-item\"><li><span><a href=\"#Вариации-по-способу-нахождения-коэффициентов\" data-toc-modified-id=\"Вариации-по-способу-нахождения-коэффициентов-4.1\"><span class=\"toc-item-num\">4.1&nbsp;&nbsp;</span>Вариации по способу нахождения коэффициентов</a></span></li><li><span><a href=\"#Вариации-по-формулам-loss-function.-Виды-регуляризация:\" data-toc-modified-id=\"Вариации-по-формулам-loss-function.-Виды-регуляризация:-4.2\"><span class=\"toc-item-num\">4.2&nbsp;&nbsp;</span>Вариации по формулам loss function. Виды регуляризация:</a></span></li><li><span><a href=\"#Вариации-регрессии-для-работы-с-выбросами\" data-toc-modified-id=\"Вариации-регрессии-для-работы-с-выбросами-4.3\"><span class=\"toc-item-num\">4.3&nbsp;&nbsp;</span>Вариации регрессии для работы с выбросами</a></span></li></ul></li></ul></div>"
   ]
  },
  {
   "cell_type": "markdown",
   "id": "69b405aa",
   "metadata": {},
   "source": [
    "# Заключение по доверительным интервалам"
   ]
  },
  {
   "cell_type": "code",
   "execution_count": 4,
   "id": "f09cdae1",
   "metadata": {
    "ExecuteTime": {
     "end_time": "2023-05-05T12:09:29.371253Z",
     "start_time": "2023-05-05T12:09:28.082166Z"
    }
   },
   "outputs": [],
   "source": [
    "import pandas as pd\n",
    "from tqdm.auto import tqdm\n",
    "import numpy as np\n",
    "import matplotlib.pyplot as plt\n",
    "from scipy import stats\n",
    "import seaborn as sns"
   ]
  },
  {
   "cell_type": "code",
   "execution_count": 5,
   "id": "488ff59b",
   "metadata": {
    "ExecuteTime": {
     "end_time": "2023-05-05T12:09:29.377264Z",
     "start_time": "2023-05-05T12:09:29.374119Z"
    }
   },
   "outputs": [],
   "source": [
    "mu_1, sigma_1 = 10, 4 # mean and standard deviation\n",
    "n = 10000\n",
    "sample_1 = np.random.normal(mu_1, sigma_1, n)"
   ]
  },
  {
   "cell_type": "code",
   "execution_count": 6,
   "id": "66f01e58",
   "metadata": {
    "ExecuteTime": {
     "end_time": "2023-05-05T12:09:29.385747Z",
     "start_time": "2023-05-05T12:09:29.381079Z"
    }
   },
   "outputs": [],
   "source": [
    "mu_2, sigma_2 = 9.9, 4\n",
    "n = 10000\n",
    "sample_2 = np.random.normal(mu_2, sigma_2, n)"
   ]
  },
  {
   "cell_type": "code",
   "execution_count": 7,
   "id": "d3ed19de",
   "metadata": {
    "ExecuteTime": {
     "end_time": "2023-05-05T12:09:29.395759Z",
     "start_time": "2023-05-05T12:09:29.389033Z"
    }
   },
   "outputs": [
    {
     "name": "stdout",
     "output_type": "stream",
     "text": [
      "Доверительный интервал для среднего значения: [9.95, 10.10]\n"
     ]
    }
   ],
   "source": [
    "# Уровень доверия\n",
    "alpha = 0.95\n",
    "\n",
    "# Расчет доверительного интервала\n",
    "confidence_interval_1 = stats.norm.interval(confidence=alpha, loc=np.mean(sample_1), scale=stats.sem(sample_1))\n",
    "# stats.sem(sample) == np.std(sample, ddof=1) / np.sqrt(n)\n",
    "print(\"Доверительный интервал для среднего значения: [%.2f, %.2f]\" % confidence_interval_1)"
   ]
  },
  {
   "cell_type": "code",
   "execution_count": 8,
   "id": "958f901d",
   "metadata": {
    "ExecuteTime": {
     "end_time": "2023-05-05T12:09:29.402493Z",
     "start_time": "2023-05-05T12:09:29.397990Z"
    }
   },
   "outputs": [
    {
     "name": "stdout",
     "output_type": "stream",
     "text": [
      "Доверительный интервал для среднего значения: [9.85, 10.00]\n"
     ]
    }
   ],
   "source": [
    "confidence_interval_2 = stats.norm.interval(confidence=alpha, loc=np.mean(sample_2), scale=stats.sem(sample_2))\n",
    "print(\"Доверительный интервал для среднего значения: [%.2f, %.2f]\" % confidence_interval_2)"
   ]
  },
  {
   "cell_type": "code",
   "execution_count": 9,
   "id": "c7af35ea",
   "metadata": {
    "ExecuteTime": {
     "end_time": "2023-05-05T12:09:29.407960Z",
     "start_time": "2023-05-05T12:09:29.404821Z"
    }
   },
   "outputs": [],
   "source": [
    "mu_3, sigma_3 = 9.5, 4\n",
    "n = 10000\n",
    "sample_3 = np.random.normal(mu_3, sigma_3, n)"
   ]
  },
  {
   "cell_type": "code",
   "execution_count": 10,
   "id": "37c03c67",
   "metadata": {
    "ExecuteTime": {
     "end_time": "2023-05-05T12:09:29.415954Z",
     "start_time": "2023-05-05T12:09:29.410722Z"
    }
   },
   "outputs": [
    {
     "name": "stdout",
     "output_type": "stream",
     "text": [
      "Доверительный интервал для среднего значения: [9.44, 9.59]\n"
     ]
    }
   ],
   "source": [
    "# Расчет доверительного интервала\n",
    "confidence_interval_3 = stats.norm.interval(confidence=alpha, loc=np.mean(sample_3), scale=stats.sem(sample_3))\n",
    "print(\"Доверительный интервал для среднего значения: [%.2f, %.2f]\" % confidence_interval_3)"
   ]
  },
  {
   "cell_type": "markdown",
   "id": "86de4f1f",
   "metadata": {},
   "source": [
    "- Не можем судить о величине разницы, можем судить только о том, есть ли статистически значимая разница\n",
    "- Тесты могут ошибаться в обе стороны (false positive, false negative)"
   ]
  },
  {
   "cell_type": "markdown",
   "id": "15e6cf00",
   "metadata": {},
   "source": [
    "# Bootstrap"
   ]
  },
  {
   "cell_type": "markdown",
   "id": "23aa8075",
   "metadata": {},
   "source": [
    "## Метод бутстрап из Scipy"
   ]
  },
  {
   "cell_type": "markdown",
   "id": "322690c1",
   "metadata": {},
   "source": [
    "- https://docs.scipy.org/doc/scipy/reference/generated/scipy.stats.bootstrap.html\n",
    "- http://users.stat.umn.edu/~helwig/notes/bootci-Notes.pdf"
   ]
  },
  {
   "cell_type": "code",
   "execution_count": 12,
   "id": "be3ca518",
   "metadata": {
    "ExecuteTime": {
     "end_time": "2023-05-05T12:09:32.213298Z",
     "start_time": "2023-05-05T12:09:29.421880Z"
    }
   },
   "outputs": [
    {
     "data": {
      "image/png": "[encoded data removed]",
      "text/plain": [
       "<Figure size 640x480 with 1 Axes>"
      ]
     },
     "metadata": {},
     "output_type": "display_data"
    },
    {
     "name": "stdout",
     "output_type": "stream",
     "text": [
      "ConfidenceInterval(low=9.945568763808476, high=10.103042240963633)\n"
     ]
    }
   ],
   "source": [
    "from scipy.stats import bootstrap\n",
    "\n",
    "res = bootstrap((sample_1,), np.mean, confidence_level=0.95, method='percentile')\n",
    "fig, ax = plt.subplots()\n",
    "ax.hist(res.bootstrap_distribution, bins=25)\n",
    "ax.set_title('Bootstrap Distribution')\n",
    "ax.set_xlabel('statistic value')\n",
    "ax.set_ylabel('frequency')\n",
    "plt.axvline(x=res.confidence_interval.low, color='g', label='Нижняя граница доверительного интервала')\n",
    "plt.axvline(x=res.confidence_interval.high, color='g', label='Верхняя граница доверительного интервала')\n",
    "plt.show()\n",
    "print(res.confidence_interval)"
   ]
  },
  {
   "cell_type": "markdown",
   "id": "d256b2bb",
   "metadata": {},
   "source": [
    "## Ручная реализация метода bootstrap"
   ]
  },
  {
   "cell_type": "code",
   "execution_count": 9,
   "id": "762921f0",
   "metadata": {
    "ExecuteTime": {
     "end_time": "2023-05-05T12:09:34.153198Z",
     "start_time": "2023-05-05T12:09:32.216689Z"
    }
   },
   "outputs": [
    {
     "name": "stdout",
     "output_type": "stream",
     "text": [
      "9.954053692969048 10.084566938570976\n"
     ]
    },
    {
     "data": {
      "image/png": "[encoded data removed]",
      "text/plain": [
       "<Figure size 432x288 with 1 Axes>"
      ]
     },
     "metadata": {
      "needs_background": "light"
     },
     "output_type": "display_data"
    }
   ],
   "source": [
    "means = list()\n",
    "for i in range(10000):\n",
    "    means.append(np.mean(np.random.choice(sample_1, size=10000, replace=True)))\n",
    "\n",
    "plt.axvline(x=np.percentile(means, 5), color='g', label='Нижняя граница доверительного интервала')\n",
    "plt.axvline(x=np.percentile(means, 95), color='g', label='Верхняя граница доверительного интервала')\n",
    "pd.Series(means).hist(bins=25);\n",
    "print(np.percentile(means, 5), np.percentile(means, 95))"
   ]
  },
  {
   "cell_type": "markdown",
   "id": "3a512b73",
   "metadata": {
    "ExecuteTime": {
     "end_time": "2023-05-04T12:02:36.506699Z",
     "start_time": "2023-05-04T12:02:36.503127Z"
    }
   },
   "source": [
    "- Плюсы bootstrap-а:\n",
    "    - умеет работать с различными распределениями (не только с нормальным)\n",
    "    - умеет работать с различными статистиками (не только среднее, но и медиана и любой иной персентиль)\n",
    "- Минусы:\n",
    "    - Bootstrap может быть вычислительно затратным, особенно при большом количестве повторений и/или при большом размере выборки\n",
    "    - Bootstrap может не давать точных результатов и результат зависит от рандома"
   ]
  },
  {
   "cell_type": "markdown",
   "id": "42489b04",
   "metadata": {},
   "source": [
    "# Линейная регрессия"
   ]
  },
  {
   "cell_type": "markdown",
   "id": "ec3497a6",
   "metadata": {},
   "source": [
    "## Знакомство с датасетом"
   ]
  },
  {
   "cell_type": "code",
   "execution_count": 10,
   "id": "4a3c0dc2",
   "metadata": {
    "ExecuteTime": {
     "end_time": "2023-05-05T12:09:34.314957Z",
     "start_time": "2023-05-05T12:09:34.155357Z"
    }
   },
   "outputs": [
    {
     "name": "stdout",
     "output_type": "stream",
     "text": [
      "(20640, 9)\n"
     ]
    },
    {
     "data": {
      "text/html": [
       "<div>\n",
       "<style scoped>\n",
       "    .dataframe tbody tr th:only-of-type {\n",
       "        vertical-align: middle;\n",
       "    }\n",
       "\n",
       "    .dataframe tbody tr th {\n",
       "        vertical-align: top;\n",
       "    }\n",
       "\n",
       "    .dataframe thead th {\n",
       "        text-align: right;\n",
       "    }\n",
       "</style>\n",
       "<table border=\"1\" class=\"dataframe\">\n",
       "  <thead>\n",
       "    <tr style=\"text-align: right;\">\n",
       "      <th></th>\n",
       "      <th>MedInc</th>\n",
       "      <th>HouseAge</th>\n",
       "      <th>AveRooms</th>\n",
       "      <th>AveBedrms</th>\n",
       "      <th>Population</th>\n",
       "      <th>AveOccup</th>\n",
       "      <th>Latitude</th>\n",
       "      <th>Longitude</th>\n",
       "      <th>Price</th>\n",
       "    </tr>\n",
       "  </thead>\n",
       "  <tbody>\n",
       "    <tr>\n",
       "      <th>0</th>\n",
       "      <td>8.3252</td>\n",
       "      <td>41.0</td>\n",
       "      <td>6.984127</td>\n",
       "      <td>1.023810</td>\n",
       "      <td>322.0</td>\n",
       "      <td>2.555556</td>\n",
       "      <td>37.88</td>\n",
       "      <td>-122.23</td>\n",
       "      <td>4.526</td>\n",
       "    </tr>\n",
       "    <tr>\n",
       "      <th>1</th>\n",
       "      <td>8.3014</td>\n",
       "      <td>21.0</td>\n",
       "      <td>6.238137</td>\n",
       "      <td>0.971880</td>\n",
       "      <td>2401.0</td>\n",
       "      <td>2.109842</td>\n",
       "      <td>37.86</td>\n",
       "      <td>-122.22</td>\n",
       "      <td>3.585</td>\n",
       "    </tr>\n",
       "    <tr>\n",
       "      <th>2</th>\n",
       "      <td>7.2574</td>\n",
       "      <td>52.0</td>\n",
       "      <td>8.288136</td>\n",
       "      <td>1.073446</td>\n",
       "      <td>496.0</td>\n",
       "      <td>2.802260</td>\n",
       "      <td>37.85</td>\n",
       "      <td>-122.24</td>\n",
       "      <td>3.521</td>\n",
       "    </tr>\n",
       "    <tr>\n",
       "      <th>3</th>\n",
       "      <td>5.6431</td>\n",
       "      <td>52.0</td>\n",
       "      <td>5.817352</td>\n",
       "      <td>1.073059</td>\n",
       "      <td>558.0</td>\n",
       "      <td>2.547945</td>\n",
       "      <td>37.85</td>\n",
       "      <td>-122.25</td>\n",
       "      <td>3.413</td>\n",
       "    </tr>\n",
       "    <tr>\n",
       "      <th>4</th>\n",
       "      <td>3.8462</td>\n",
       "      <td>52.0</td>\n",
       "      <td>6.281853</td>\n",
       "      <td>1.081081</td>\n",
       "      <td>565.0</td>\n",
       "      <td>2.181467</td>\n",
       "      <td>37.85</td>\n",
       "      <td>-122.25</td>\n",
       "      <td>3.422</td>\n",
       "    </tr>\n",
       "  </tbody>\n",
       "</table>\n",
       "</div>"
      ],
      "text/plain": [
       "   MedInc  HouseAge  AveRooms  AveBedrms  Population  AveOccup  Latitude  \\\n",
       "0  8.3252      41.0  6.984127   1.023810       322.0  2.555556     37.88   \n",
       "1  8.3014      21.0  6.238137   0.971880      2401.0  2.109842     37.86   \n",
       "2  7.2574      52.0  8.288136   1.073446       496.0  2.802260     37.85   \n",
       "3  5.6431      52.0  5.817352   1.073059       558.0  2.547945     37.85   \n",
       "4  3.8462      52.0  6.281853   1.081081       565.0  2.181467     37.85   \n",
       "\n",
       "   Longitude  Price  \n",
       "0    -122.23  4.526  \n",
       "1    -122.22  3.585  \n",
       "2    -122.24  3.521  \n",
       "3    -122.25  3.413  \n",
       "4    -122.25  3.422  "
      ]
     },
     "execution_count": 10,
     "metadata": {},
     "output_type": "execute_result"
    }
   ],
   "source": [
    "from sklearn.datasets import fetch_california_housing\n",
    "\n",
    "housing = fetch_california_housing()\n",
    "features = pd.DataFrame(housing.data, columns=housing.feature_names)\n",
    "target = pd.DataFrame({'Price':housing.target})\n",
    "data = pd.concat([features,target], axis=1)\n",
    "\n",
    "print(data.shape)\n",
    "data.head()"
   ]
  },
  {
   "cell_type": "markdown",
   "id": "252910d2",
   "metadata": {},
   "source": [
    "- MedInc - медианный доход в блочной группе\n",
    "- HouseAge - медианный возраст домов в блочной группе\n",
    "- AveRooms - среднее количество комнат в доме в блочной группе\n",
    "- AveBedrms - среднее количество спален в доме в блочной группе\n",
    "- Population - население блочной группы\n",
    "- AveOccup - среднее количество членов семьи в доме в блочной группе\n",
    "- Latitude - широта блочной группы\n",
    "- Longitude - долгота блочной группы"
   ]
  },
  {
   "cell_type": "code",
   "execution_count": 11,
   "id": "31aad113",
   "metadata": {
    "ExecuteTime": {
     "end_time": "2023-05-05T12:09:34.319296Z",
     "start_time": "2023-05-05T12:09:34.316862Z"
    }
   },
   "outputs": [
    {
     "name": "stdout",
     "output_type": "stream",
     "text": [
      ".. _california_housing_dataset:\n",
      "\n",
      "California Housing dataset\n",
      "--------------------------\n",
      "\n",
      "**Data Set Characteristics:**\n",
      "\n",
      "    :Number of Instances: 20640\n",
      "\n",
      "    :Number of Attributes: 8 numeric, predictive attributes and the target\n",
      "\n",
      "    :Attribute Information:\n",
      "        - MedInc        median income in block group\n",
      "        - HouseAge      median house age in block group\n",
      "        - AveRooms      average number of rooms per household\n",
      "        - AveBedrms     average number of bedrooms per household\n",
      "        - Population    block group population\n",
      "        - AveOccup      average number of household members\n",
      "        - Latitude      block group latitude\n",
      "        - Longitude     block group longitude\n",
      "\n",
      "    :Missing Attribute Values: None\n",
      "\n",
      "This dataset was obtained from the StatLib repository.\n",
      "https://www.dcc.fc.up.pt/~ltorgo/Regression/cal_housing.html\n",
      "\n",
      "The target variable is the median house value for California districts,\n",
      "expressed in hundreds of thousands of dollars ($100,000).\n",
      "\n",
      "This dataset was derived from the 1990 U.S. census, using one row per census\n",
      "block group. A block group is the smallest geographical unit for which the U.S.\n",
      "Census Bureau publishes sample data (a block group typically has a population\n",
      "of 600 to 3,000 people).\n",
      "\n",
      "An household is a group of people residing within a home. Since the average\n",
      "number of rooms and bedrooms in this dataset are provided per household, these\n",
      "columns may take surpinsingly large values for block groups with few households\n",
      "and many empty houses, such as vacation resorts.\n",
      "\n",
      "It can be downloaded/loaded using the\n",
      ":func:`sklearn.datasets.fetch_california_housing` function.\n",
      "\n",
      ".. topic:: References\n",
      "\n",
      "    - Pace, R. Kelley and Ronald Barry, Sparse Spatial Autoregressions,\n",
      "      Statistics and Probability Letters, 33 (1997) 291-297\n",
      "\n"
     ]
    }
   ],
   "source": [
    "print(housing['DESCR'])"
   ]
  },
  {
   "cell_type": "markdown",
   "id": "a8596e84",
   "metadata": {},
   "source": [
    "## Наличие/отсутствие пропусков"
   ]
  },
  {
   "cell_type": "code",
   "execution_count": 12,
   "id": "6d42bc38",
   "metadata": {
    "ExecuteTime": {
     "end_time": "2023-05-05T12:09:34.326088Z",
     "start_time": "2023-05-05T12:09:34.321100Z"
    }
   },
   "outputs": [
    {
     "data": {
      "text/plain": [
       "MedInc        0\n",
       "HouseAge      0\n",
       "AveRooms      0\n",
       "AveBedrms     0\n",
       "Population    0\n",
       "AveOccup      0\n",
       "Latitude      0\n",
       "Longitude     0\n",
       "Price         0\n",
       "dtype: int64"
      ]
     },
     "execution_count": 12,
     "metadata": {},
     "output_type": "execute_result"
    }
   ],
   "source": [
    "data.isna().sum()"
   ]
  },
  {
   "cell_type": "markdown",
   "id": "3eb090da",
   "metadata": {},
   "source": [
    "## Корреляция признаков"
   ]
  },
  {
   "cell_type": "code",
   "execution_count": 13,
   "id": "66e26664",
   "metadata": {
    "ExecuteTime": {
     "end_time": "2023-05-05T12:09:34.727929Z",
     "start_time": "2023-05-05T12:09:34.327981Z"
    }
   },
   "outputs": [
    {
     "data": {
      "image/png": "[encoded data removed]",
      "text/plain": [
       "<Figure size 720x720 with 2 Axes>"
      ]
     },
     "metadata": {
      "needs_background": "light"
     },
     "output_type": "display_data"
    }
   ],
   "source": [
    "plt.figure(figsize=(10,10))\n",
    "mask = np.tril(data.corr())\n",
    "cmap = sns.diverging_palette(0, 230, 90, 60, as_cmap=True)\n",
    "heatmap = sns.heatmap(data.corr(), vmin=-1, vmax=1, annot=True, mask=mask, fmt=\".2f\", cmap=cmap)"
   ]
  },
  {
   "cell_type": "markdown",
   "id": "35bef75e",
   "metadata": {},
   "source": [
    "## Обучение модели на 1 признаке"
   ]
  },
  {
   "cell_type": "code",
   "execution_count": 14,
   "id": "d80cd9bb",
   "metadata": {
    "ExecuteTime": {
     "end_time": "2023-05-05T12:09:34.735909Z",
     "start_time": "2023-05-05T12:09:34.730597Z"
    }
   },
   "outputs": [],
   "source": [
    "X = data[['MedInc']]\n",
    "y = data['Price']"
   ]
  },
  {
   "cell_type": "code",
   "execution_count": 15,
   "id": "b1ceef12",
   "metadata": {
    "ExecuteTime": {
     "end_time": "2023-05-05T12:09:34.788352Z",
     "start_time": "2023-05-05T12:09:34.738264Z"
    }
   },
   "outputs": [],
   "source": [
    "from sklearn.model_selection import train_test_split\n",
    "\n",
    "X_train, X_test, y_train, y_test = train_test_split(X, y, test_size = 0.33, random_state=42)"
   ]
  },
  {
   "cell_type": "code",
   "execution_count": 16,
   "id": "22573d4f",
   "metadata": {
    "ExecuteTime": {
     "end_time": "2023-05-05T12:09:34.853901Z",
     "start_time": "2023-05-05T12:09:34.790977Z"
    }
   },
   "outputs": [
    {
     "data": {
      "text/html": [
       "<style>#sk-container-id-1 {color: black;background-color: white;}#sk-container-id-1 pre{padding: 0;}#sk-container-id-1 div.sk-toggleable {background-color: white;}#sk-container-id-1 label.sk-toggleable__label {cursor: pointer;display: block;width: 100%;margin-bottom: 0;padding: 0.3em;box-sizing: border-box;text-align: center;}#sk-container-id-1 label.sk-toggleable__label-arrow:before {content: \"▸\";float: left;margin-right: 0.25em;color: #696969;}#sk-container-id-1 label.sk-toggleable__label-arrow:hover:before {color: black;}#sk-container-id-1 div.sk-estimator:hover label.sk-toggleable__label-arrow:before {color: black;}#sk-container-id-1 div.sk-toggleable__content {max-height: 0;max-width: 0;overflow: hidden;text-align: left;background-color: #f0f8ff;}#sk-container-id-1 div.sk-toggleable__content pre {margin: 0.2em;color: black;border-radius: 0.25em;background-color: #f0f8ff;}#sk-container-id-1 input.sk-toggleable__control:checked~div.sk-toggleable__content {max-height: 200px;max-width: 100%;overflow: auto;}#sk-container-id-1 input.sk-toggleable__control:checked~label.sk-toggleable__label-arrow:before {content: \"▾\";}#sk-container-id-1 div.sk-estimator input.sk-toggleable__control:checked~label.sk-toggleable__label {background-color: #d4ebff;}#sk-container-id-1 div.sk-label input.sk-toggleable__control:checked~label.sk-toggleable__label {background-color: #d4ebff;}#sk-container-id-1 input.sk-hidden--visually {border: 0;clip: rect(1px 1px 1px 1px);clip: rect(1px, 1px, 1px, 1px);height: 1px;margin: -1px;overflow: hidden;padding: 0;position: absolute;width: 1px;}#sk-container-id-1 div.sk-estimator {font-family: monospace;background-color: #f0f8ff;border: 1px dotted black;border-radius: 0.25em;box-sizing: border-box;margin-bottom: 0.5em;}#sk-container-id-1 div.sk-estimator:hover {background-color: #d4ebff;}#sk-container-id-1 div.sk-parallel-item::after {content: \"\";width: 100%;border-bottom: 1px solid gray;flex-grow: 1;}#sk-container-id-1 div.sk-label:hover label.sk-toggleable__label {background-color: #d4ebff;}#sk-container-id-1 div.sk-serial::before {content: \"\";position: absolute;border-left: 1px solid gray;box-sizing: border-box;top: 0;bottom: 0;left: 50%;z-index: 0;}#sk-container-id-1 div.sk-serial {display: flex;flex-direction: column;align-items: center;background-color: white;padding-right: 0.2em;padding-left: 0.2em;position: relative;}#sk-container-id-1 div.sk-item {position: relative;z-index: 1;}#sk-container-id-1 div.sk-parallel {display: flex;align-items: stretch;justify-content: center;background-color: white;position: relative;}#sk-container-id-1 div.sk-item::before, #sk-container-id-1 div.sk-parallel-item::before {content: \"\";position: absolute;border-left: 1px solid gray;box-sizing: border-box;top: 0;bottom: 0;left: 50%;z-index: -1;}#sk-container-id-1 div.sk-parallel-item {display: flex;flex-direction: column;z-index: 1;position: relative;background-color: white;}#sk-container-id-1 div.sk-parallel-item:first-child::after {align-self: flex-end;width: 50%;}#sk-container-id-1 div.sk-parallel-item:last-child::after {align-self: flex-start;width: 50%;}#sk-container-id-1 div.sk-parallel-item:only-child::after {width: 0;}#sk-container-id-1 div.sk-dashed-wrapped {border: 1px dashed gray;margin: 0 0.4em 0.5em 0.4em;box-sizing: border-box;padding-bottom: 0.4em;background-color: white;}#sk-container-id-1 div.sk-label label {font-family: monospace;font-weight: bold;display: inline-block;line-height: 1.2em;}#sk-container-id-1 div.sk-label-container {text-align: center;}#sk-container-id-1 div.sk-container {/* jupyter's `normalize.less` sets `[hidden] { display: none; }` but bootstrap.min.css set `[hidden] { display: none !important; }` so we also need the `!important` here to be able to override the default hidden behavior on the sphinx rendered scikit-learn.org. See: https://github.com/scikit-learn/scikit-learn/issues/21755 */display: inline-block !important;position: relative;}#sk-container-id-1 div.sk-text-repr-fallback {display: none;}</style><div id=\"sk-container-id-1\" class=\"sk-top-container\"><div class=\"sk-text-repr-fallback\"><pre>LinearRegression()</pre><b>In a Jupyter environment, please rerun this cell to show the HTML representation or trust the notebook. <br />On GitHub, the HTML representation is unable to render, please try loading this page with nbviewer.org.</b></div><div class=\"sk-container\" hidden><div class=\"sk-item\"><div class=\"sk-estimator sk-toggleable\"><input class=\"sk-toggleable__control sk-hidden--visually\" id=\"sk-estimator-id-1\" type=\"checkbox\" checked><label for=\"sk-estimator-id-1\" class=\"sk-toggleable__label sk-toggleable__label-arrow\">LinearRegression</label><div class=\"sk-toggleable__content\"><pre>LinearRegression()</pre></div></div></div></div></div>"
      ],
      "text/plain": [
       "LinearRegression()"
      ]
     },
     "execution_count": 16,
     "metadata": {},
     "output_type": "execute_result"
    }
   ],
   "source": [
    "from sklearn.linear_model import LinearRegression\n",
    "\n",
    "model = LinearRegression()\n",
    "model.fit(X_train, y_train)"
   ]
  },
  {
   "cell_type": "code",
   "execution_count": 17,
   "id": "cf0981c3",
   "metadata": {
    "ExecuteTime": {
     "end_time": "2023-05-05T12:09:34.862660Z",
     "start_time": "2023-05-05T12:09:34.856224Z"
    }
   },
   "outputs": [
    {
     "name": "stdout",
     "output_type": "stream",
     "text": [
      "Train MSE: 0.700\n"
     ]
    }
   ],
   "source": [
    "from sklearn.metrics import mean_squared_error\n",
    "\n",
    "train_pred = model.predict(X_train)\n",
    "print('Train MSE: %.3f' % mean_squared_error(y_train, train_pred))"
   ]
  },
  {
   "cell_type": "code",
   "execution_count": 18,
   "id": "bdb515a0",
   "metadata": {
    "ExecuteTime": {
     "end_time": "2023-05-05T12:09:34.873505Z",
     "start_time": "2023-05-05T12:09:34.865408Z"
    }
   },
   "outputs": [
    {
     "name": "stdout",
     "output_type": "stream",
     "text": [
      "Test MSE: 0.703\n"
     ]
    }
   ],
   "source": [
    "test_pred = model.predict(X_test)\n",
    "print('Test MSE: %.3f' % mean_squared_error(y_test, test_pred))"
   ]
  },
  {
   "cell_type": "code",
   "execution_count": 19,
   "id": "0b41a93f",
   "metadata": {
    "ExecuteTime": {
     "end_time": "2023-05-05T12:09:34.882247Z",
     "start_time": "2023-05-05T12:09:34.876295Z"
    }
   },
   "outputs": [
    {
     "name": "stdout",
     "output_type": "stream",
     "text": [
      "Train R2: 0.474\n",
      "Test R2: 0.473\n"
     ]
    }
   ],
   "source": [
    "from sklearn.metrics import r2_score\n",
    "\n",
    "print('Train R2: %.3f' % r2_score(y_train, train_pred))\n",
    "print('Test R2: %.3f' % r2_score(y_test, test_pred))"
   ]
  },
  {
   "cell_type": "code",
   "execution_count": 20,
   "id": "a0cffaae",
   "metadata": {
    "ExecuteTime": {
     "end_time": "2023-05-05T12:09:35.059630Z",
     "start_time": "2023-05-05T12:09:34.885945Z"
    }
   },
   "outputs": [
    {
     "data": {
      "image/png": "[encoded data removed]",
      "text/plain": [
       "<Figure size 432x288 with 1 Axes>"
      ]
     },
     "metadata": {
      "needs_background": "light"
     },
     "output_type": "display_data"
    }
   ],
   "source": [
    "plt.scatter(X_train.iloc[:,0], y_train, color=\"g\")\n",
    "plt.plot(X_train.iloc[:,0], train_pred, color=\"blue\", linewidth=3);\n",
    "plt.xlabel(X_train.columns[0])\n",
    "plt.ylabel('Price')\n",
    "plt.show()"
   ]
  },
  {
   "cell_type": "code",
   "execution_count": 21,
   "id": "9f35819f",
   "metadata": {
    "ExecuteTime": {
     "end_time": "2023-05-05T12:09:35.066593Z",
     "start_time": "2023-05-05T12:09:35.062150Z"
    }
   },
   "outputs": [
    {
     "data": {
      "text/plain": [
       "array([0.41731856])"
      ]
     },
     "execution_count": 21,
     "metadata": {},
     "output_type": "execute_result"
    }
   ],
   "source": [
    "model.coef_"
   ]
  },
  {
   "cell_type": "code",
   "execution_count": 22,
   "id": "6bfac4c5",
   "metadata": {
    "ExecuteTime": {
     "end_time": "2023-05-05T12:09:35.073120Z",
     "start_time": "2023-05-05T12:09:35.069171Z"
    }
   },
   "outputs": [
    {
     "data": {
      "text/plain": [
       "0.4487983669680782"
      ]
     },
     "execution_count": 22,
     "metadata": {},
     "output_type": "execute_result"
    }
   ],
   "source": [
    "model.intercept_"
   ]
  },
  {
   "cell_type": "markdown",
   "id": "4beb2066",
   "metadata": {},
   "source": [
    "## Обучение модели на нескольких признаках"
   ]
  },
  {
   "cell_type": "code",
   "execution_count": 23,
   "id": "3f80cce9",
   "metadata": {
    "ExecuteTime": {
     "end_time": "2023-05-05T12:09:35.104243Z",
     "start_time": "2023-05-05T12:09:35.080722Z"
    }
   },
   "outputs": [
    {
     "name": "stdout",
     "output_type": "stream",
     "text": [
      "Train MSE: 0.693\n",
      "Test MSE: 0.694\n",
      "Train R2: 0.479\n",
      "Test R2: 0.479\n"
     ]
    }
   ],
   "source": [
    "X = data[['MedInc','AveRooms']]\n",
    "y = data['Price']\n",
    "\n",
    "X_train, X_test, y_train, y_test = train_test_split(X, y, test_size = 0.33, random_state=42)\n",
    "\n",
    "model = LinearRegression()\n",
    "model.fit(X_train, y_train)\n",
    "\n",
    "train_pred = model.predict(X_train)\n",
    "\n",
    "print('Train MSE: %.3f' % mean_squared_error(y_train, train_pred))\n",
    "\n",
    "test_pred = model.predict(X_test)\n",
    "print('Test MSE: %.3f' % mean_squared_error(y_test, test_pred))\n",
    "\n",
    "print('Train R2: %.3f' % r2_score(y_train, train_pred))\n",
    "print('Test R2: %.3f' % r2_score(y_test, test_pred))"
   ]
  },
  {
   "cell_type": "markdown",
   "id": "b73ff1db",
   "metadata": {},
   "source": [
    "## Интерпретация коэффициентов линейной регрессии"
   ]
  },
  {
   "cell_type": "code",
   "execution_count": 24,
   "id": "5d61816d",
   "metadata": {
    "ExecuteTime": {
     "end_time": "2023-05-05T12:09:35.114345Z",
     "start_time": "2023-05-05T12:09:35.109290Z"
    },
    "scrolled": true
   },
   "outputs": [
    {
     "name": "stdout",
     "output_type": "stream",
     "text": [
      "['MedInc', 'AveRooms']\n",
      "[ 0.43279733 -0.03718147]\n",
      "0.5909302875500895\n"
     ]
    }
   ],
   "source": [
    "print(X.columns.tolist())\n",
    "print(model.coef_)\n",
    "print(model.intercept_)"
   ]
  },
  {
   "cell_type": "markdown",
   "id": "f57a7119",
   "metadata": {},
   "source": [
    "Для интерпретации коэффициентов множественной линейной регрессии, можно использовать следующие методы:\n",
    "\n",
    "- Определение знака коэффициента - если коэффициент положительный, то с увеличением значения независимой переменной увеличивается и значение зависимой переменной, и наоборот, если коэффициент отрицательный, то с увеличением значения независимой переменной уменьшается значение зависимой переменной.\n",
    "- Определение величины коэффициента - чем больше по модулю значение коэффициента, тем сильнее влияние соответствующей независимой переменной на зависимую переменную.\n",
    "- Проверка статистической значимости коэффициента - для определения значимости коэффициента можно использовать статистические тесты, такие как t-тест."
   ]
  },
  {
   "cell_type": "markdown",
   "id": "8a8db042",
   "metadata": {},
   "source": [
    "## Анализ остатков"
   ]
  },
  {
   "cell_type": "code",
   "execution_count": 25,
   "id": "3305c0d6",
   "metadata": {
    "ExecuteTime": {
     "end_time": "2023-05-05T12:09:35.127056Z",
     "start_time": "2023-05-05T12:09:35.119185Z"
    }
   },
   "outputs": [],
   "source": [
    "train_residuals = train_pred - y_train\n",
    "test_residuals = test_pred - y_test"
   ]
  },
  {
   "cell_type": "markdown",
   "id": "122fa888",
   "metadata": {},
   "source": [
    "### Проверка остатков на нормальность"
   ]
  },
  {
   "cell_type": "code",
   "execution_count": 26,
   "id": "4ef54aed",
   "metadata": {
    "ExecuteTime": {
     "end_time": "2023-05-05T12:09:35.627491Z",
     "start_time": "2023-05-05T12:09:35.132381Z"
    },
    "scrolled": false
   },
   "outputs": [
    {
     "name": "stderr",
     "output_type": "stream",
     "text": [
      "<ipython-input-26-adeadd365519>:1: UserWarning: \n",
      "\n",
      "`distplot` is a deprecated function and will be removed in seaborn v0.14.0.\n",
      "\n",
      "Please adapt your code to use either `displot` (a figure-level function with\n",
      "similar flexibility) or `histplot` (an axes-level function for histograms).\n",
      "\n",
      "For a guide to updating your code to use the new functions, please see\n",
      "https://gist.github.com/mwaskom/de44147ed2974457ad6372750bbe5751\n",
      "\n",
      "  sns.distplot(train_residuals, kde=True, rug=True)\n"
     ]
    },
    {
     "data": {
      "image/png": "[encoded data removed]",
      "text/plain": [
       "<Figure size 432x288 with 1 Axes>"
      ]
     },
     "metadata": {
      "needs_background": "light"
     },
     "output_type": "display_data"
    }
   ],
   "source": [
    "sns.distplot(train_residuals, kde=True, rug=True)\n",
    "plt.xlabel('Residuals')\n",
    "plt.title('Residuals distribution plot')\n",
    "plt.show()"
   ]
  },
  {
   "cell_type": "code",
   "execution_count": 27,
   "id": "19796efa",
   "metadata": {
    "ExecuteTime": {
     "end_time": "2023-05-05T12:09:35.955637Z",
     "start_time": "2023-05-05T12:09:35.629825Z"
    }
   },
   "outputs": [
    {
     "name": "stderr",
     "output_type": "stream",
     "text": [
      "<ipython-input-27-69906509f8a4>:1: UserWarning: \n",
      "\n",
      "`distplot` is a deprecated function and will be removed in seaborn v0.14.0.\n",
      "\n",
      "Please adapt your code to use either `displot` (a figure-level function with\n",
      "similar flexibility) or `histplot` (an axes-level function for histograms).\n",
      "\n",
      "For a guide to updating your code to use the new functions, please see\n",
      "https://gist.github.com/mwaskom/de44147ed2974457ad6372750bbe5751\n",
      "\n",
      "  sns.distplot(test_residuals, kde=True, rug=True)\n"
     ]
    },
    {
     "data": {
      "image/png": "[encoded data removed]",
      "text/plain": [
       "<Figure size 432x288 with 1 Axes>"
      ]
     },
     "metadata": {
      "needs_background": "light"
     },
     "output_type": "display_data"
    }
   ],
   "source": [
    "sns.distplot(test_residuals, kde=True, rug=True)\n",
    "plt.xlabel('Residuals')\n",
    "plt.title('Residuals distribution plot')\n",
    "plt.show()"
   ]
  },
  {
   "cell_type": "markdown",
   "id": "13613075",
   "metadata": {
    "ExecuteTime": {
     "end_time": "2023-05-05T11:40:58.873939Z",
     "start_time": "2023-05-05T11:40:58.871599Z"
    }
   },
   "source": [
    "### Диаграмма рассеяния"
   ]
  },
  {
   "cell_type": "code",
   "execution_count": 28,
   "id": "31401b81",
   "metadata": {
    "ExecuteTime": {
     "end_time": "2023-05-05T12:09:36.112342Z",
     "start_time": "2023-05-05T12:09:35.958176Z"
    }
   },
   "outputs": [
    {
     "data": {
      "image/png": "[encoded data removed]",
      "text/plain": [
       "<Figure size 432x288 with 1 Axes>"
      ]
     },
     "metadata": {
      "needs_background": "light"
     },
     "output_type": "display_data"
    }
   ],
   "source": [
    "plt.scatter(train_pred, train_residuals)\n",
    "plt.axhline(y=0, color='red', linestyle='--')\n",
    "plt.xlabel('Predicted values')\n",
    "plt.ylabel('Residuals')\n",
    "plt.title('Residual plot')\n",
    "plt.show()"
   ]
  },
  {
   "cell_type": "code",
   "execution_count": 29,
   "id": "aecdc3ad",
   "metadata": {
    "ExecuteTime": {
     "end_time": "2023-05-05T12:09:36.249343Z",
     "start_time": "2023-05-05T12:09:36.114242Z"
    }
   },
   "outputs": [
    {
     "data": {
      "image/png": "[encoded data removed]",
      "text/plain": [
       "<Figure size 432x288 with 1 Axes>"
      ]
     },
     "metadata": {
      "needs_background": "light"
     },
     "output_type": "display_data"
    }
   ],
   "source": [
    "plt.scatter(test_pred, test_residuals)\n",
    "plt.axhline(y=0, color='red', linestyle='--')\n",
    "plt.xlabel('Predicted values')\n",
    "plt.ylabel('Residuals')\n",
    "plt.title('Residual plot')\n",
    "plt.show()"
   ]
  },
  {
   "cell_type": "markdown",
   "id": "8b9436d5",
   "metadata": {},
   "source": [
    "Гомоскедастичность и гетероскедастичность остатков:\n",
    "<img src='https://media.geeksforgeeks.org/wp-content/uploads/20190425172205/hetero.jpg'>"
   ]
  },
  {
   "cell_type": "markdown",
   "id": "dbda7896",
   "metadata": {},
   "source": [
    "## Стат. значимость коэффициентов регрессии"
   ]
  },
  {
   "cell_type": "code",
   "execution_count": 30,
   "id": "89f5e17b",
   "metadata": {
    "ExecuteTime": {
     "end_time": "2023-05-05T12:09:36.267412Z",
     "start_time": "2023-05-05T12:09:36.251471Z"
    }
   },
   "outputs": [
    {
     "data": {
      "text/html": [
       "<div>\n",
       "<style scoped>\n",
       "    .dataframe tbody tr th:only-of-type {\n",
       "        vertical-align: middle;\n",
       "    }\n",
       "\n",
       "    .dataframe tbody tr th {\n",
       "        vertical-align: top;\n",
       "    }\n",
       "\n",
       "    .dataframe thead th {\n",
       "        text-align: right;\n",
       "    }\n",
       "</style>\n",
       "<table border=\"1\" class=\"dataframe\">\n",
       "  <thead>\n",
       "    <tr style=\"text-align: right;\">\n",
       "      <th></th>\n",
       "      <th>lower</th>\n",
       "      <th>upper</th>\n",
       "    </tr>\n",
       "  </thead>\n",
       "  <tbody>\n",
       "    <tr>\n",
       "      <th>const</th>\n",
       "      <td>0.552001</td>\n",
       "      <td>0.629860</td>\n",
       "    </tr>\n",
       "    <tr>\n",
       "      <th>MedInc</th>\n",
       "      <td>0.425091</td>\n",
       "      <td>0.440503</td>\n",
       "    </tr>\n",
       "    <tr>\n",
       "      <th>AveRooms</th>\n",
       "      <td>-0.043169</td>\n",
       "      <td>-0.031194</td>\n",
       "    </tr>\n",
       "  </tbody>\n",
       "</table>\n",
       "</div>"
      ],
      "text/plain": [
       "             lower     upper\n",
       "const     0.552001  0.629860\n",
       "MedInc    0.425091  0.440503\n",
       "AveRooms -0.043169 -0.031194"
      ]
     },
     "execution_count": 30,
     "metadata": {},
     "output_type": "execute_result"
    }
   ],
   "source": [
    "def get_conf_int(alpha, lr, X, y):\n",
    "    \n",
    "    \"\"\"\n",
    "    Returns (1-alpha) 2-sided confidence intervals\n",
    "    for sklearn.LinearRegression coefficients\n",
    "    as a pandas DataFrame\n",
    "    \"\"\"\n",
    "    coefs = np.r_[[lr.intercept_], lr.coef_]\n",
    "    X_aux = X.copy()\n",
    "    X_aux.insert(0, 'const', 1)\n",
    "    dof = -np.diff(X_aux.shape)[0]\n",
    "    mse = np.sum((y - lr.predict(X)) ** 2) / dof\n",
    "    var_params = np.diag(np.linalg.inv(X_aux.T.dot(X_aux)))\n",
    "    t_val = stats.t.isf(alpha/2, dof)\n",
    "    gap = t_val * np.sqrt(mse * var_params)\n",
    "\n",
    "    return pd.DataFrame({\n",
    "        'lower': coefs - gap, 'upper': coefs + gap\n",
    "    }, index=X_aux.columns)\n",
    "\n",
    "\n",
    "# for 95% confidence interval; use 0.01 for 99%-CI.\n",
    "alpha = 0.05\n",
    "get_conf_int(alpha, model, X_train, y_train)"
   ]
  },
  {
   "cell_type": "code",
   "execution_count": 31,
   "id": "075a0eaa",
   "metadata": {
    "ExecuteTime": {
     "end_time": "2023-05-05T12:09:36.746777Z",
     "start_time": "2023-05-05T12:09:36.270307Z"
    }
   },
   "outputs": [
    {
     "name": "stdout",
     "output_type": "stream",
     "text": [
      "                            OLS Regression Results                            \n",
      "==============================================================================\n",
      "Dep. Variable:                  Price   R-squared:                       0.479\n",
      "Model:                            OLS   Adj. R-squared:                  0.479\n",
      "Method:                 Least Squares   F-statistic:                     6366.\n",
      "Date:                Fri, 05 May 2023   Prob (F-statistic):               0.00\n",
      "Time:                        18:09:36   Log-Likelihood:                -17084.\n",
      "No. Observations:               13828   AIC:                         3.417e+04\n",
      "Df Residuals:                   13825   BIC:                         3.420e+04\n",
      "Df Model:                           2                                         \n",
      "Covariance Type:            nonrobust                                         \n",
      "==============================================================================\n",
      "                 coef    std err          t      P>|t|      [0.025      0.975]\n",
      "------------------------------------------------------------------------------\n",
      "const          0.5909      0.020     29.754      0.000       0.552       0.630\n",
      "MedInc         0.4328      0.004    110.087      0.000       0.425       0.441\n",
      "AveRooms      -0.0372      0.003    -12.173      0.000      -0.043      -0.031\n",
      "==============================================================================\n",
      "Omnibus:                     3385.701   Durbin-Watson:                   1.992\n",
      "Prob(Omnibus):                  0.000   Jarque-Bera (JB):             9823.056\n",
      "Skew:                           1.280   Prob(JB):                         0.00\n",
      "Kurtosis:                       6.240   Cond. No.                         20.4\n",
      "==============================================================================\n",
      "\n",
      "Notes:\n",
      "[1] Standard Errors assume that the covariance matrix of the errors is correctly specified.\n"
     ]
    }
   ],
   "source": [
    "import statsmodels.api as sm\n",
    "\n",
    "# Обучение модели линейной регрессии\n",
    "model = sm.OLS(y_train, sm.add_constant(X_train)).fit()\n",
    "\n",
    "# Вывод результатов\n",
    "print(model.summary())"
   ]
  },
  {
   "cell_type": "markdown",
   "id": "8a660be2",
   "metadata": {},
   "source": [
    "# Вариации линейной регресии:\n",
    "## Вариации по способу нахождения коэффициентов\n",
    "- Метод наименьших квадратов (МНК) - это классический метод линейной регрессии, который основывается на минимизации суммы квадратов отклонений предсказанных значений от фактических.\n",
    "- Градиентный спуск (Gradient Descent) - это метод оптимизации, который используется для поиска минимума функции стоимости. В контексте линейной регрессии, градиентный спуск используется для поиска коэффициентов, которые минимизируют сумму квадратов отклонений.\n",
    "- Метод максимального правдоподобия (Maximum Likelihood Estimation, MLE) - это метод, который используется для определения наиболее вероятных значений параметров модели. В контексте линейной регрессии, MLE используется для определения коэффициентов, которые наиболее вероятно приводят к наблюдаемым данным."
   ]
  },
  {
   "cell_type": "markdown",
   "id": "792333e7",
   "metadata": {},
   "source": [
    "## Вариации по формулам loss function. Виды регуляризация:\n",
    "- Метод Риджа (Ridge Regression) - это метод регуляризации линейной регрессии, который добавляет штраф к функции потерь за большие значения коэффициентов модели. Это позволяет снизить переобучение и улучшить обобщающую способность модели.\n",
    "- Метод Лассо (Lasso Regression) - это еще один метод регуляризации линейной регрессии, который добавляет штраф за абсолютные значения коэффициентов. Он также помогает снизить переобучение и улучшить обобщающую способность модели.\n",
    "- Elastic Net - это комбинация методов Ridge и Lasso, которая используется для регуляризации модели линейной регрессии."
   ]
  },
  {
   "cell_type": "markdown",
   "id": "ae7c436e",
   "metadata": {},
   "source": [
    "<img src='https://static.packt-cdn.com/products/9781838556334/graphics/C12624_04_60.jpg'>"
   ]
  },
  {
   "cell_type": "markdown",
   "id": "fa30dd82",
   "metadata": {},
   "source": [
    "## Вариации регрессии для работы с выбросами\n",
    "- Метод Хьюбера (Huber Regression) - это метод линейной регрессии, который использует комбинацию МНК и LAD. Он уменьшает влияние выбросов на модель, при этом сохраняя хорошую аппроксимацию данных.\n",
    "- Метод Квантильной регрессии (Quantile Regression) - это метод, который позволяет оценить условные квантили зависимой переменной в зависимости от значений независимых переменных. В отличие от метода наименьших квадратов, который оптимизирует среднеквадратическую ошибку, метод квантильной регрессии оптимизирует абсолютную ошибку. Это делает его более устойчивым к выбросам и может быть полезным, когда мы хотим оценить квантили зависимой переменной, такие как медиана или 90-й процентиль."
   ]
  },
  {
   "cell_type": "markdown",
   "id": "c1409e12",
   "metadata": {},
   "source": [
    "<img src='https://machinelearningmastery.com/wp-content/uploads/2020/03/Comparison-of-Robust-Regression-Algorithms-Line-of-Best-Fit.png'>\n",
    "https://machinelearningmastery.com/robust-regression-for-machine-learning-in-python/"
   ]
  },
  {
   "cell_type": "markdown",
   "id": "e118b830",
   "metadata": {},
   "source": [
    "<img src='https://miro.medium.com/v2/resize:fit:1400/format:webp/1*X8YMmvAynEf7nbF5LzHvig.png'>\n",
    "<img src='https://miro.medium.com/v2/resize:fit:1400/format:webp/1*6he8cMUlfTBPXnz4NoMD4g.png'>\n",
    "<img src='https://miro.medium.com/v2/resize:fit:1400/format:webp/1*DBwGphqlz1TokehmFPBlBQ.png'>\n",
    "https://towardsdatascience.com/regression-in-the-face-of-messy-outliers-try-huber-regressor-3a54ddc12516"
   ]
  },
  {
   "cell_type": "markdown",
   "id": "510702b0",
   "metadata": {},
   "source": [
    "Реализации линейной регресии:\n",
    "- https://scikit-learn.org/stable/modules/generated/sklearn.linear_model.LinearRegression.html\n",
    "- https://www.statsmodels.org/devel/generated/statsmodels.regression.linear_model.OLS.html\n",
    "- https://www.statsmodels.org/devel/examples/notebooks/generated/ols.html\n",
    "- https://gregorygundersen.com/blog/2020/01/04/ols/"
   ]
  }
 ],
 "metadata": {
  "kernelspec": {
   "display_name": "Python 3 (ipykernel)",
   "language": "python",
   "name": "python3"
  },
  "language_info": {
   "codemirror_mode": {
    "name": "ipython",
    "version": 3
   },
   "file_extension": ".py",
   "mimetype": "text/x-python",
   "name": "python",
   "nbconvert_exporter": "python",
   "pygments_lexer": "ipython3",
   "version": "3.11.1"
  },
  "toc": {
   "base_numbering": 1,
   "nav_menu": {},
   "number_sections": true,
   "sideBar": true,
   "skip_h1_title": false,
   "title_cell": "Table of Contents",
   "title_sidebar": "Contents",
   "toc_cell": true,
   "toc_position": {
    "height": "701px",
    "left": "48px",
    "top": "247px",
    "width": "328.188px"
   },
   "toc_section_display": true,
   "toc_window_display": true
  }
 },
 "nbformat": 4,
 "nbformat_minor": 5
}
