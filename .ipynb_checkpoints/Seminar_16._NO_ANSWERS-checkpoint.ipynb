{
 "cells": [
  {
   "cell_type": "markdown",
   "id": "a0ee4f67",
   "metadata": {
    "toc": true
   },
   "source": [
    "<h1>Table of Contents<span class=\"tocSkip\"></span></h1>\n",
    "<div class=\"toc\"><ul class=\"toc-item\"><li><span><a href=\"#Понижение-размерности\" data-toc-modified-id=\"Понижение-размерности-1\"><span class=\"toc-item-num\">1&nbsp;&nbsp;</span>Понижение размерности</a></span><ul class=\"toc-item\"><li><span><a href=\"#PCA\" data-toc-modified-id=\"PCA-1.1\"><span class=\"toc-item-num\">1.1&nbsp;&nbsp;</span>PCA</a></span></li><li><span><a href=\"#T-SNE\" data-toc-modified-id=\"T-SNE-1.2\"><span class=\"toc-item-num\">1.2&nbsp;&nbsp;</span>T-SNE</a></span></li></ul></li><li><span><a href=\"#Оценка-качества-кластеризации\" data-toc-modified-id=\"Оценка-качества-кластеризации-2\"><span class=\"toc-item-num\">2&nbsp;&nbsp;</span>Оценка качества кластеризации</a></span><ul class=\"toc-item\"><li><span><a href=\"#Силуэтная-мера\" data-toc-modified-id=\"Силуэтная-мера-2.1\"><span class=\"toc-item-num\">2.1&nbsp;&nbsp;</span>Силуэтная мера</a></span></li><li><span><a href=\"#Инерция\" data-toc-modified-id=\"Инерция-2.2\"><span class=\"toc-item-num\">2.2&nbsp;&nbsp;</span>Инерция</a></span></li><li><span><a href=\"#Метод-локтя-(Elbow-method)\" data-toc-modified-id=\"Метод-локтя-(Elbow-method)-2.3\"><span class=\"toc-item-num\">2.3&nbsp;&nbsp;</span>Метод локтя (Elbow method)</a></span></li><li><span><a href=\"#Пример-кластеризации\" data-toc-modified-id=\"Пример-кластеризации-2.4\"><span class=\"toc-item-num\">2.4&nbsp;&nbsp;</span>Пример кластеризации</a></span></li><li><span><a href=\"#Задание\" data-toc-modified-id=\"Задание-2.5\"><span class=\"toc-item-num\">2.5&nbsp;&nbsp;</span>Задание</a></span></li></ul></li><li><span><a href=\"#Обработка-категориальных-признаков-для-линейных-методов\" data-toc-modified-id=\"Обработка-категориальных-признаков-для-линейных-методов-3\"><span class=\"toc-item-num\">3&nbsp;&nbsp;</span>Обработка категориальных признаков для линейных методов</a></span><ul class=\"toc-item\"><li><span><a href=\"#One-Hot-Encoding\" data-toc-modified-id=\"One-Hot-Encoding-3.1\"><span class=\"toc-item-num\">3.1&nbsp;&nbsp;</span>One-Hot Encoding</a></span></li><li><span><a href=\"#Label-Encoding\" data-toc-modified-id=\"Label-Encoding-3.2\"><span class=\"toc-item-num\">3.2&nbsp;&nbsp;</span>Label Encoding</a></span></li><li><span><a href=\"#Ordinal-Encoding\" data-toc-modified-id=\"Ordinal-Encoding-3.3\"><span class=\"toc-item-num\">3.3&nbsp;&nbsp;</span>Ordinal Encoding</a></span></li><li><span><a href=\"#Target-encoding-/-Mean-encoding\" data-toc-modified-id=\"Target-encoding-/-Mean-encoding-3.4\"><span class=\"toc-item-num\">3.4&nbsp;&nbsp;</span>Target encoding / Mean encoding</a></span></li><li><span><a href=\"#Прочее\" data-toc-modified-id=\"Прочее-3.5\"><span class=\"toc-item-num\">3.5&nbsp;&nbsp;</span>Прочее</a></span></li></ul></li><li><span><a href=\"#Масштабирование-признаков\" data-toc-modified-id=\"Масштабирование-признаков-4\"><span class=\"toc-item-num\">4&nbsp;&nbsp;</span>Масштабирование признаков</a></span><ul class=\"toc-item\"><li><span><a href=\"#StandardScaler\" data-toc-modified-id=\"StandardScaler-4.1\"><span class=\"toc-item-num\">4.1&nbsp;&nbsp;</span>StandardScaler</a></span></li><li><span><a href=\"#MinMaxScaler\" data-toc-modified-id=\"MinMaxScaler-4.2\"><span class=\"toc-item-num\">4.2&nbsp;&nbsp;</span>MinMaxScaler</a></span></li><li><span><a href=\"#MaxAbsScaler\" data-toc-modified-id=\"MaxAbsScaler-4.3\"><span class=\"toc-item-num\">4.3&nbsp;&nbsp;</span>MaxAbsScaler</a></span></li><li><span><a href=\"#Задание\" data-toc-modified-id=\"Задание-4.4\"><span class=\"toc-item-num\">4.4&nbsp;&nbsp;</span>Задание</a></span></li></ul></li></ul></div>"
   ]
  },
  {
   "cell_type": "markdown",
   "id": "a126fce6",
   "metadata": {},
   "source": [
    "# Понижение размерности"
   ]
  },
  {
   "cell_type": "markdown",
   "id": "14513cd9",
   "metadata": {},
   "source": [
    "## PCA"
   ]
  },
  {
   "cell_type": "markdown",
   "id": "0169918a",
   "metadata": {},
   "source": [
    "- https://scikit-learn.org/stable/modules/generated/sklearn.decomposition.PCA.html\n",
    "- Описание реализации: https://builtin.com/data-science/step-step-explanation-principal-component-analysis"
   ]
  },
  {
   "cell_type": "markdown",
   "id": "ca5c7ce4",
   "metadata": {},
   "source": [
    "Хорошо подходит для построения прогнозных моделей"
   ]
  },
  {
   "cell_type": "markdown",
   "id": "b8d60db6",
   "metadata": {},
   "source": [
    "## T-SNE"
   ]
  },
  {
   "cell_type": "markdown",
   "id": "17680b48",
   "metadata": {},
   "source": [
    "- https://scikit-learn.org/stable/modules/generated/sklearn.manifold.TSNE.html"
   ]
  },
  {
   "cell_type": "markdown",
   "id": "16f5078a",
   "metadata": {},
   "source": [
    "<img src='https://miro.medium.com/v2/1*LeOHKmUFha2r3QJ7riR1zg.png'>"
   ]
  },
  {
   "cell_type": "markdown",
   "id": "f9eaef26",
   "metadata": {},
   "source": [
    "Хорошо подходит для визуализации данных"
   ]
  },
  {
   "cell_type": "markdown",
   "id": "a6008162",
   "metadata": {},
   "source": [
    "# Оценка качества кластеризации"
   ]
  },
  {
   "cell_type": "markdown",
   "id": "47320b71",
   "metadata": {},
   "source": [
    "Визуализация работы алгоритма k-means"
   ]
  },
  {
   "cell_type": "markdown",
   "id": "6600ee64",
   "metadata": {
    "ExecuteTime": {
     "end_time": "2023-06-02T09:27:16.061860Z",
     "start_time": "2023-06-02T09:27:16.057626Z"
    }
   },
   "source": [
    "<img src='https://ben-tanen.com/assets/img/posts/kmeans-cluster.gif'>"
   ]
  },
  {
   "cell_type": "markdown",
   "id": "3226e74b",
   "metadata": {},
   "source": [
    "Иерархическая кластеризация:"
   ]
  },
  {
   "cell_type": "markdown",
   "id": "2c4bbb7a",
   "metadata": {},
   "source": [
    "<img src='https://dashee87.github.io/images/hierarch.gif'>"
   ]
  },
  {
   "cell_type": "markdown",
   "id": "b08619e4",
   "metadata": {},
   "source": [
    "## Силуэтная мера"
   ]
  },
  {
   "cell_type": "markdown",
   "id": "8008a97c",
   "metadata": {},
   "source": [
    "- https://scikit-learn.org/stable/modules/clustering.html#silhouette-coefficient"
   ]
  },
  {
   "cell_type": "markdown",
   "id": "752d9622",
   "metadata": {},
   "source": [
    "<img src='https://uploads-ssl.webflow.com/5f5148a709e16c7d368ea080/5f7dea907b8e8c7769e769c8_5f7c9650bc3b1ed0ad2247eb_silhouette_formula.jpg'>"
   ]
  },
  {
   "cell_type": "markdown",
   "id": "6f48fcf9",
   "metadata": {},
   "source": [
    "## Инерция"
   ]
  },
  {
   "cell_type": "markdown",
   "id": "1868148f",
   "metadata": {},
   "source": [
    "- https://scikit-learn.org/stable/modules/clustering.html#k-means"
   ]
  },
  {
   "cell_type": "markdown",
   "id": "ffe1b438",
   "metadata": {},
   "source": [
    "<img src='https://miro.medium.com/v2/resize:fit:1104/0*uqLhZv-oQj_zGLJo.png'>"
   ]
  },
  {
   "cell_type": "markdown",
   "id": "07cb52f6",
   "metadata": {},
   "source": [
    "## Метод локтя (Elbow method)"
   ]
  },
  {
   "cell_type": "markdown",
   "id": "66a94210",
   "metadata": {},
   "source": [
    "<img src='https://av-eks-blogoptimized.s3.amazonaws.com/62725cluster0.png'>"
   ]
  },
  {
   "cell_type": "markdown",
   "id": "58a2dc28",
   "metadata": {},
   "source": [
    "## Пример кластеризации"
   ]
  },
  {
   "cell_type": "code",
   "execution_count": 1,
   "id": "3cf247e1",
   "metadata": {
    "ExecuteTime": {
     "end_time": "2023-06-02T11:21:08.614221Z",
     "start_time": "2023-06-02T11:21:06.990518Z"
    }
   },
   "outputs": [
    {
     "data": {
      "image/png": "[encoded data removed]",
      "text/plain": [
       "<Figure size 432x288 with 1 Axes>"
      ]
     },
     "metadata": {
      "needs_background": "light"
     },
     "output_type": "display_data"
    },
    {
     "data": {
      "image/png": "[encoded data removed]",
      "text/plain": [
       "<Figure size 432x288 with 1 Axes>"
      ]
     },
     "metadata": {
      "needs_background": "light"
     },
     "output_type": "display_data"
    },
    {
     "name": "stdout",
     "output_type": "stream",
     "text": [
      "Silhouette score 0.76\n",
      "Inertia 3426.26\n"
     ]
    }
   ],
   "source": [
    "import pandas as pd\n",
    "import numpy as np\n",
    "import matplotlib.pyplot as plt\n",
    "from sklearn.datasets import make_blobs\n",
    "from sklearn.cluster import KMeans\n",
    "from sklearn.metrics import silhouette_score\n",
    "\n",
    "X, labels = make_blobs(n_samples=500, centers=4, random_state=42)\n",
    "\n",
    "plt.scatter(X[:, 0], X[:, 1], c=labels)\n",
    "plt.xlabel('Признак 1')\n",
    "plt.ylabel('Признак 2')\n",
    "plt.title('True labels')\n",
    "plt.show()\n",
    "\n",
    "# Специально выберем k = 3 < 4\n",
    "k = 3\n",
    "kmeans = KMeans(n_clusters=k, n_init='auto', random_state=42)\n",
    "kmeans.fit(X)\n",
    "\n",
    "plt.scatter(X[:, 0], X[:, 1], c=kmeans.labels_)\n",
    "plt.xlabel('Признак 1')\n",
    "plt.ylabel('Признак 2')\n",
    "plt.title('Kmeans Clustering')\n",
    "plt.scatter(kmeans.cluster_centers_[:, 0], kmeans.cluster_centers_[:, 1], s=100, c='black', label='Centroids')\n",
    "plt.show()\n",
    "\n",
    "# Silhouette score\n",
    "silhouette = silhouette_score(X, kmeans.labels_)\n",
    "print('Silhouette score %.2f' % silhouette)\n",
    "\n",
    "# Inertia\n",
    "inertia = kmeans.inertia_\n",
    "print('Inertia %.2f' % inertia)"
   ]
  },
  {
   "cell_type": "markdown",
   "id": "4d70a0a1",
   "metadata": {},
   "source": [
    "## Задание"
   ]
  },
  {
   "cell_type": "markdown",
   "id": "777bb71b",
   "metadata": {},
   "source": [
    "1. Загрузить датасет mnist\n",
    "2. Отрисовать на true метках с помощью PCA на 2 компоненты\n",
    "3. Отрисовать на true метках с помощью T-SNE на 2 компоненты\n",
    "4. Для k=2..15 обучить алгоритм kmeans.\n",
    "5. Для каждого k рассчитать инерцию и силуэтную меру. Построить график метрик в зависимости от k\n",
    "6. Выбрать оптимальное значение k"
   ]
  },
  {
   "cell_type": "code",
   "execution_count": 2,
   "id": "da06b76d",
   "metadata": {
    "ExecuteTime": {
     "end_time": "2023-06-02T11:21:11.795551Z",
     "start_time": "2023-06-02T11:21:08.617810Z"
    }
   },
   "outputs": [],
   "source": [
    "mnist = pd.read_csv('mnist_train.csv')\n",
    "mnist = mnist.sample(int(mnist.shape[0]/6)).reset_index(drop=True)\n",
    "X = mnist.drop(columns=['label']).values\n",
    "y = mnist['label']"
   ]
  },
  {
   "cell_type": "code",
   "execution_count": 3,
   "id": "0eddc6cd",
   "metadata": {
    "ExecuteTime": {
     "end_time": "2023-06-02T11:21:12.251574Z",
     "start_time": "2023-06-02T11:21:11.799264Z"
    }
   },
   "outputs": [
    {
     "data": {
      "image/png": "[encoded data removed]",
      "text/plain": [
       "<Figure size 720x288 with 10 Axes>"
      ]
     },
     "metadata": {
      "needs_background": "light"
     },
     "output_type": "display_data"
    }
   ],
   "source": [
    "fig, axes = plt.subplots(2, 5, figsize=(10, 4))\n",
    "\n",
    "for i, ax in enumerate(axes.ravel()):\n",
    "    ax.imshow(X[i].reshape(28, 28), cmap='gray')\n",
    "    ax.set_title(f\"Label: {y[i]}\")\n",
    "    ax.axis('off')\n",
    "\n",
    "plt.tight_layout()\n",
    "plt.show()"
   ]
  },
  {
   "cell_type": "code",
   "execution_count": 6,
   "id": "a0c4424b",
   "metadata": {
    "ExecuteTime": {
     "end_time": "2023-06-02T11:21:12.835711Z",
     "start_time": "2023-06-02T11:21:12.533143Z"
    }
   },
   "outputs": [
    {
     "data": {
      "image/png": "[encoded data removed]",
      "text/plain": [
       "<Figure size 432x288 with 1 Axes>"
      ]
     },
     "metadata": {
      "needs_background": "light"
     },
     "output_type": "display_data"
    }
   ],
   "source": [
    "# Визуализация с помощью PCA\n",
    "# Your code here\n",
    "#"
   ]
  },
  {
   "cell_type": "code",
   "execution_count": 8,
   "id": "ee9d549e",
   "metadata": {
    "ExecuteTime": {
     "end_time": "2023-06-02T11:21:38.060265Z",
     "start_time": "2023-06-02T11:21:37.728829Z"
    }
   },
   "outputs": [
    {
     "data": {
      "image/png": "[encoded data removed]",
      "text/plain": [
       "<Figure size 432x288 with 1 Axes>"
      ]
     },
     "metadata": {
      "needs_background": "light"
     },
     "output_type": "display_data"
    }
   ],
   "source": [
    "# Визуализация с помощью TSNE\n",
    "# Your code here\n",
    "#"
   ]
  },
  {
   "cell_type": "code",
   "execution_count": 9,
   "id": "6a691174",
   "metadata": {
    "ExecuteTime": {
     "end_time": "2023-06-02T11:22:04.789669Z",
     "start_time": "2023-06-02T11:21:38.063634Z"
    }
   },
   "outputs": [
    {
     "data": {
      "application/vnd.jupyter.widget-view+json": {
       "model_id": "4fedf61bdf534ca8958c4c291d04e6aa",
       "version_major": 2,
       "version_minor": 0
      },
      "text/plain": [
       "  0%|          | 0/13 [00:00<?, ?it/s]"
      ]
     },
     "metadata": {},
     "output_type": "display_data"
    },
    {
     "data": {
      "image/png": "[encoded data removed]",
      "text/plain": [
       "<Figure size 864x288 with 2 Axes>"
      ]
     },
     "metadata": {
      "needs_background": "light"
     },
     "output_type": "display_data"
    }
   ],
   "source": [
    "# График метрик кластеризации в зависимости от числа k\n",
    "# Your code here\n",
    "#"
   ]
  },
  {
   "cell_type": "markdown",
   "id": "44ce6b85",
   "metadata": {},
   "source": [
    "# Обработка категориальных признаков для линейных методов"
   ]
  },
  {
   "cell_type": "markdown",
   "id": "a343fa50",
   "metadata": {},
   "source": [
    "- https://scikit-learn.org/stable/modules/classes.html#module-sklearn.preprocessing\n",
    "- https://contrib.scikit-learn.org/category_encoders/"
   ]
  },
  {
   "cell_type": "code",
   "execution_count": 10,
   "id": "b008c84f",
   "metadata": {
    "ExecuteTime": {
     "end_time": "2023-06-02T11:22:04.806115Z",
     "start_time": "2023-06-02T11:22:04.792390Z"
    }
   },
   "outputs": [
    {
     "data": {
      "text/html": [
       "<div>\n",
       "<style scoped>\n",
       "    .dataframe tbody tr th:only-of-type {\n",
       "        vertical-align: middle;\n",
       "    }\n",
       "\n",
       "    .dataframe tbody tr th {\n",
       "        vertical-align: top;\n",
       "    }\n",
       "\n",
       "    .dataframe thead th {\n",
       "        text-align: right;\n",
       "    }\n",
       "</style>\n",
       "<table border=\"1\" class=\"dataframe\">\n",
       "  <thead>\n",
       "    <tr style=\"text-align: right;\">\n",
       "      <th></th>\n",
       "      <th>Color</th>\n",
       "      <th>Size</th>\n",
       "    </tr>\n",
       "  </thead>\n",
       "  <tbody>\n",
       "    <tr>\n",
       "      <th>0</th>\n",
       "      <td>Red</td>\n",
       "      <td>Small</td>\n",
       "    </tr>\n",
       "    <tr>\n",
       "      <th>1</th>\n",
       "      <td>Blue</td>\n",
       "      <td>Large</td>\n",
       "    </tr>\n",
       "    <tr>\n",
       "      <th>2</th>\n",
       "      <td>Green</td>\n",
       "      <td>Medium</td>\n",
       "    </tr>\n",
       "    <tr>\n",
       "      <th>3</th>\n",
       "      <td>Red</td>\n",
       "      <td>Small</td>\n",
       "    </tr>\n",
       "    <tr>\n",
       "      <th>4</th>\n",
       "      <td>Yellow</td>\n",
       "      <td>X-Large</td>\n",
       "    </tr>\n",
       "  </tbody>\n",
       "</table>\n",
       "</div>"
      ],
      "text/plain": [
       "    Color     Size\n",
       "0     Red    Small\n",
       "1    Blue    Large\n",
       "2   Green   Medium\n",
       "3     Red    Small\n",
       "4  Yellow  X-Large"
      ]
     },
     "execution_count": 10,
     "metadata": {},
     "output_type": "execute_result"
    }
   ],
   "source": [
    "from sklearn.preprocessing import OneHotEncoder, LabelEncoder, OrdinalEncoder\n",
    "\n",
    "df = pd.DataFrame({\n",
    "    'Color': ['Red', 'Blue', 'Green', 'Red', 'Yellow'],\n",
    "    'Size': ['Small', 'Large', 'Medium', 'Small', 'X-Large']\n",
    "})\n",
    "df"
   ]
  },
  {
   "cell_type": "markdown",
   "id": "54670b70",
   "metadata": {},
   "source": [
    "## One-Hot Encoding"
   ]
  },
  {
   "cell_type": "markdown",
   "id": "d0d646d4",
   "metadata": {},
   "source": [
    "- https://scikit-learn.org/stable/modules/generated/sklearn.preprocessing.OneHotEncoder.html"
   ]
  },
  {
   "cell_type": "code",
   "execution_count": 11,
   "id": "e2d80835",
   "metadata": {
    "ExecuteTime": {
     "end_time": "2023-06-02T11:22:04.825171Z",
     "start_time": "2023-06-02T11:22:04.808637Z"
    }
   },
   "outputs": [
    {
     "data": {
      "text/html": [
       "<div>\n",
       "<style scoped>\n",
       "    .dataframe tbody tr th:only-of-type {\n",
       "        vertical-align: middle;\n",
       "    }\n",
       "\n",
       "    .dataframe tbody tr th {\n",
       "        vertical-align: top;\n",
       "    }\n",
       "\n",
       "    .dataframe thead th {\n",
       "        text-align: right;\n",
       "    }\n",
       "</style>\n",
       "<table border=\"1\" class=\"dataframe\">\n",
       "  <thead>\n",
       "    <tr style=\"text-align: right;\">\n",
       "      <th></th>\n",
       "      <th>Color_Blue</th>\n",
       "      <th>Color_Green</th>\n",
       "      <th>Color_Red</th>\n",
       "      <th>Color_Yellow</th>\n",
       "      <th>Size_Large</th>\n",
       "      <th>Size_Medium</th>\n",
       "      <th>Size_Small</th>\n",
       "      <th>Size_X-Large</th>\n",
       "    </tr>\n",
       "  </thead>\n",
       "  <tbody>\n",
       "    <tr>\n",
       "      <th>0</th>\n",
       "      <td>0.0</td>\n",
       "      <td>0.0</td>\n",
       "      <td>1.0</td>\n",
       "      <td>0.0</td>\n",
       "      <td>0.0</td>\n",
       "      <td>0.0</td>\n",
       "      <td>1.0</td>\n",
       "      <td>0.0</td>\n",
       "    </tr>\n",
       "    <tr>\n",
       "      <th>1</th>\n",
       "      <td>1.0</td>\n",
       "      <td>0.0</td>\n",
       "      <td>0.0</td>\n",
       "      <td>0.0</td>\n",
       "      <td>1.0</td>\n",
       "      <td>0.0</td>\n",
       "      <td>0.0</td>\n",
       "      <td>0.0</td>\n",
       "    </tr>\n",
       "    <tr>\n",
       "      <th>2</th>\n",
       "      <td>0.0</td>\n",
       "      <td>1.0</td>\n",
       "      <td>0.0</td>\n",
       "      <td>0.0</td>\n",
       "      <td>0.0</td>\n",
       "      <td>1.0</td>\n",
       "      <td>0.0</td>\n",
       "      <td>0.0</td>\n",
       "    </tr>\n",
       "    <tr>\n",
       "      <th>3</th>\n",
       "      <td>0.0</td>\n",
       "      <td>0.0</td>\n",
       "      <td>1.0</td>\n",
       "      <td>0.0</td>\n",
       "      <td>0.0</td>\n",
       "      <td>0.0</td>\n",
       "      <td>1.0</td>\n",
       "      <td>0.0</td>\n",
       "    </tr>\n",
       "    <tr>\n",
       "      <th>4</th>\n",
       "      <td>0.0</td>\n",
       "      <td>0.0</td>\n",
       "      <td>0.0</td>\n",
       "      <td>1.0</td>\n",
       "      <td>0.0</td>\n",
       "      <td>0.0</td>\n",
       "      <td>0.0</td>\n",
       "      <td>1.0</td>\n",
       "    </tr>\n",
       "  </tbody>\n",
       "</table>\n",
       "</div>"
      ],
      "text/plain": [
       "   Color_Blue  Color_Green  Color_Red  Color_Yellow  Size_Large  Size_Medium  \\\n",
       "0         0.0          0.0        1.0           0.0         0.0          0.0   \n",
       "1         1.0          0.0        0.0           0.0         1.0          0.0   \n",
       "2         0.0          1.0        0.0           0.0         0.0          1.0   \n",
       "3         0.0          0.0        1.0           0.0         0.0          0.0   \n",
       "4         0.0          0.0        0.0           1.0         0.0          0.0   \n",
       "\n",
       "   Size_Small  Size_X-Large  \n",
       "0         1.0           0.0  \n",
       "1         0.0           0.0  \n",
       "2         0.0           0.0  \n",
       "3         1.0           0.0  \n",
       "4         0.0           1.0  "
      ]
     },
     "execution_count": 11,
     "metadata": {},
     "output_type": "execute_result"
    }
   ],
   "source": [
    "ohe = OneHotEncoder()\n",
    "ohe_df = ohe.fit_transform(df)\n",
    "ohe_df = pd.DataFrame(ohe_df.toarray(), columns=ohe.get_feature_names_out())\n",
    "ohe_df"
   ]
  },
  {
   "cell_type": "markdown",
   "id": "11278820",
   "metadata": {},
   "source": [
    "## Label Encoding"
   ]
  },
  {
   "cell_type": "markdown",
   "id": "e6d20492",
   "metadata": {},
   "source": [
    "- https://scikit-learn.org/stable/modules/generated/sklearn.preprocessing.LabelEncoder.html"
   ]
  },
  {
   "cell_type": "code",
   "execution_count": 12,
   "id": "50154a4a",
   "metadata": {
    "ExecuteTime": {
     "end_time": "2023-06-02T11:22:04.835859Z",
     "start_time": "2023-06-02T11:22:04.827241Z"
    }
   },
   "outputs": [
    {
     "data": {
      "text/html": [
       "<div>\n",
       "<style scoped>\n",
       "    .dataframe tbody tr th:only-of-type {\n",
       "        vertical-align: middle;\n",
       "    }\n",
       "\n",
       "    .dataframe tbody tr th {\n",
       "        vertical-align: top;\n",
       "    }\n",
       "\n",
       "    .dataframe thead th {\n",
       "        text-align: right;\n",
       "    }\n",
       "</style>\n",
       "<table border=\"1\" class=\"dataframe\">\n",
       "  <thead>\n",
       "    <tr style=\"text-align: right;\">\n",
       "      <th></th>\n",
       "      <th>Color</th>\n",
       "      <th>Size</th>\n",
       "    </tr>\n",
       "  </thead>\n",
       "  <tbody>\n",
       "    <tr>\n",
       "      <th>0</th>\n",
       "      <td>2</td>\n",
       "      <td>2</td>\n",
       "    </tr>\n",
       "    <tr>\n",
       "      <th>1</th>\n",
       "      <td>0</td>\n",
       "      <td>0</td>\n",
       "    </tr>\n",
       "    <tr>\n",
       "      <th>2</th>\n",
       "      <td>1</td>\n",
       "      <td>1</td>\n",
       "    </tr>\n",
       "    <tr>\n",
       "      <th>3</th>\n",
       "      <td>2</td>\n",
       "      <td>2</td>\n",
       "    </tr>\n",
       "    <tr>\n",
       "      <th>4</th>\n",
       "      <td>3</td>\n",
       "      <td>3</td>\n",
       "    </tr>\n",
       "  </tbody>\n",
       "</table>\n",
       "</div>"
      ],
      "text/plain": [
       "   Color  Size\n",
       "0      2     2\n",
       "1      0     0\n",
       "2      1     1\n",
       "3      2     2\n",
       "4      3     3"
      ]
     },
     "execution_count": 12,
     "metadata": {},
     "output_type": "execute_result"
    }
   ],
   "source": [
    "le = LabelEncoder()\n",
    "le_df = df.apply(le.fit_transform)\n",
    "le_df"
   ]
  },
  {
   "cell_type": "markdown",
   "id": "0efd6454",
   "metadata": {},
   "source": [
    "## Ordinal Encoding"
   ]
  },
  {
   "cell_type": "markdown",
   "id": "539b0965",
   "metadata": {},
   "source": [
    "- https://scikit-learn.org/stable/modules/generated/sklearn.preprocessing.OrdinalEncoder.html"
   ]
  },
  {
   "cell_type": "code",
   "execution_count": 13,
   "id": "0285298f",
   "metadata": {
    "ExecuteTime": {
     "end_time": "2023-06-02T11:22:04.848550Z",
     "start_time": "2023-06-02T11:22:04.838570Z"
    }
   },
   "outputs": [
    {
     "data": {
      "text/html": [
       "<div>\n",
       "<style scoped>\n",
       "    .dataframe tbody tr th:only-of-type {\n",
       "        vertical-align: middle;\n",
       "    }\n",
       "\n",
       "    .dataframe tbody tr th {\n",
       "        vertical-align: top;\n",
       "    }\n",
       "\n",
       "    .dataframe thead th {\n",
       "        text-align: right;\n",
       "    }\n",
       "</style>\n",
       "<table border=\"1\" class=\"dataframe\">\n",
       "  <thead>\n",
       "    <tr style=\"text-align: right;\">\n",
       "      <th></th>\n",
       "      <th>Color</th>\n",
       "      <th>Size</th>\n",
       "    </tr>\n",
       "  </thead>\n",
       "  <tbody>\n",
       "    <tr>\n",
       "      <th>0</th>\n",
       "      <td>Red</td>\n",
       "      <td>0.0</td>\n",
       "    </tr>\n",
       "    <tr>\n",
       "      <th>1</th>\n",
       "      <td>Blue</td>\n",
       "      <td>2.0</td>\n",
       "    </tr>\n",
       "    <tr>\n",
       "      <th>2</th>\n",
       "      <td>Green</td>\n",
       "      <td>1.0</td>\n",
       "    </tr>\n",
       "    <tr>\n",
       "      <th>3</th>\n",
       "      <td>Red</td>\n",
       "      <td>0.0</td>\n",
       "    </tr>\n",
       "    <tr>\n",
       "      <th>4</th>\n",
       "      <td>Yellow</td>\n",
       "      <td>3.0</td>\n",
       "    </tr>\n",
       "  </tbody>\n",
       "</table>\n",
       "</div>"
      ],
      "text/plain": [
       "    Color  Size\n",
       "0     Red   0.0\n",
       "1    Blue   2.0\n",
       "2   Green   1.0\n",
       "3     Red   0.0\n",
       "4  Yellow   3.0"
      ]
     },
     "execution_count": 13,
     "metadata": {},
     "output_type": "execute_result"
    }
   ],
   "source": [
    "oe_df = df.copy()\n",
    "oe = OrdinalEncoder(categories=[['Small', 'Medium', 'Large', 'X-Large']])\n",
    "oe_df['Size'] = oe.fit_transform(oe_df[['Size']])\n",
    "oe_df"
   ]
  },
  {
   "cell_type": "markdown",
   "id": "3ca3da47",
   "metadata": {},
   "source": [
    "## Target encoding / Mean encoding"
   ]
  },
  {
   "cell_type": "markdown",
   "id": "4312ee2f",
   "metadata": {},
   "source": [
    "- https://scikit-learn.org/dev/modules/generated/sklearn.preprocessing.TargetEncoder.html (dev)\n",
    "- https://contrib.scikit-learn.org/category_encoders/targetencoder.html"
   ]
  },
  {
   "cell_type": "markdown",
   "id": "74c55f1f",
   "metadata": {},
   "source": [
    "<img src='https://miro.medium.com/v2/resize:fit:1400/1*iiM9g-qCa-Vff_HAFk-ppQ.png'>"
   ]
  },
  {
   "cell_type": "markdown",
   "id": "2701b1c3",
   "metadata": {},
   "source": [
    "Популярный подход в соревновательном DS. На самом деле происходит кодирование с помощью кросс-валидации, чтобы избежать data leak-и."
   ]
  },
  {
   "cell_type": "markdown",
   "id": "41b12942",
   "metadata": {},
   "source": [
    "- Формула расчета рейтинга в IMDB https://help.imdb.com/article/imdb/track-movies-tv/ratings-faq/G67Y87TFYYP6TWAV#\n",
    "- Формула расчета рейтинга на Кинопоиске https://yandex.ru/support/kinopoisk/rating.html"
   ]
  },
  {
   "cell_type": "markdown",
   "id": "12a74e5f",
   "metadata": {},
   "source": [
    "## Прочее"
   ]
  },
  {
   "cell_type": "markdown",
   "id": "35537cfe",
   "metadata": {},
   "source": [
    "- Больше подходов: https://contrib.scikit-learn.org/category_encoders/"
   ]
  },
  {
   "cell_type": "markdown",
   "id": "d19eeb7c",
   "metadata": {},
   "source": [
    "# Масштабирование признаков"
   ]
  },
  {
   "cell_type": "code",
   "execution_count": 14,
   "id": "12dbf904",
   "metadata": {
    "ExecuteTime": {
     "end_time": "2023-06-02T11:22:04.853890Z",
     "start_time": "2023-06-02T11:22:04.850918Z"
    }
   },
   "outputs": [],
   "source": [
    "from sklearn.preprocessing import StandardScaler, MinMaxScaler, MaxAbsScaler"
   ]
  },
  {
   "cell_type": "code",
   "execution_count": 15,
   "id": "9c06c69e",
   "metadata": {
    "ExecuteTime": {
     "end_time": "2023-06-02T11:22:04.863091Z",
     "start_time": "2023-06-02T11:22:04.856936Z"
    }
   },
   "outputs": [
    {
     "data": {
      "text/html": [
       "<div>\n",
       "<style scoped>\n",
       "    .dataframe tbody tr th:only-of-type {\n",
       "        vertical-align: middle;\n",
       "    }\n",
       "\n",
       "    .dataframe tbody tr th {\n",
       "        vertical-align: top;\n",
       "    }\n",
       "\n",
       "    .dataframe thead th {\n",
       "        text-align: right;\n",
       "    }\n",
       "</style>\n",
       "<table border=\"1\" class=\"dataframe\">\n",
       "  <thead>\n",
       "    <tr style=\"text-align: right;\">\n",
       "      <th></th>\n",
       "      <th>Color</th>\n",
       "      <th>Size</th>\n",
       "    </tr>\n",
       "  </thead>\n",
       "  <tbody>\n",
       "    <tr>\n",
       "      <th>0</th>\n",
       "      <td>2</td>\n",
       "      <td>2</td>\n",
       "    </tr>\n",
       "    <tr>\n",
       "      <th>1</th>\n",
       "      <td>0</td>\n",
       "      <td>0</td>\n",
       "    </tr>\n",
       "    <tr>\n",
       "      <th>2</th>\n",
       "      <td>1</td>\n",
       "      <td>1</td>\n",
       "    </tr>\n",
       "    <tr>\n",
       "      <th>3</th>\n",
       "      <td>2</td>\n",
       "      <td>2</td>\n",
       "    </tr>\n",
       "    <tr>\n",
       "      <th>4</th>\n",
       "      <td>3</td>\n",
       "      <td>3</td>\n",
       "    </tr>\n",
       "  </tbody>\n",
       "</table>\n",
       "</div>"
      ],
      "text/plain": [
       "   Color  Size\n",
       "0      2     2\n",
       "1      0     0\n",
       "2      1     1\n",
       "3      2     2\n",
       "4      3     3"
      ]
     },
     "execution_count": 15,
     "metadata": {},
     "output_type": "execute_result"
    }
   ],
   "source": [
    "df = le_df.copy()\n",
    "df"
   ]
  },
  {
   "cell_type": "markdown",
   "id": "4f9ae90a",
   "metadata": {},
   "source": [
    "## StandardScaler"
   ]
  },
  {
   "cell_type": "markdown",
   "id": "784c0974",
   "metadata": {},
   "source": [
    "- https://scikit-learn.org/stable/modules/generated/sklearn.preprocessing.StandardScaler.html"
   ]
  },
  {
   "cell_type": "code",
   "execution_count": 16,
   "id": "38edf820",
   "metadata": {
    "ExecuteTime": {
     "end_time": "2023-06-02T11:22:04.877281Z",
     "start_time": "2023-06-02T11:22:04.865235Z"
    }
   },
   "outputs": [
    {
     "data": {
      "text/html": [
       "<div>\n",
       "<style scoped>\n",
       "    .dataframe tbody tr th:only-of-type {\n",
       "        vertical-align: middle;\n",
       "    }\n",
       "\n",
       "    .dataframe tbody tr th {\n",
       "        vertical-align: top;\n",
       "    }\n",
       "\n",
       "    .dataframe thead th {\n",
       "        text-align: right;\n",
       "    }\n",
       "</style>\n",
       "<table border=\"1\" class=\"dataframe\">\n",
       "  <thead>\n",
       "    <tr style=\"text-align: right;\">\n",
       "      <th></th>\n",
       "      <th>Color</th>\n",
       "      <th>Size</th>\n",
       "    </tr>\n",
       "  </thead>\n",
       "  <tbody>\n",
       "    <tr>\n",
       "      <th>0</th>\n",
       "      <td>0.392232</td>\n",
       "      <td>0.392232</td>\n",
       "    </tr>\n",
       "    <tr>\n",
       "      <th>1</th>\n",
       "      <td>-1.568929</td>\n",
       "      <td>-1.568929</td>\n",
       "    </tr>\n",
       "    <tr>\n",
       "      <th>2</th>\n",
       "      <td>-0.588348</td>\n",
       "      <td>-0.588348</td>\n",
       "    </tr>\n",
       "    <tr>\n",
       "      <th>3</th>\n",
       "      <td>0.392232</td>\n",
       "      <td>0.392232</td>\n",
       "    </tr>\n",
       "    <tr>\n",
       "      <th>4</th>\n",
       "      <td>1.372813</td>\n",
       "      <td>1.372813</td>\n",
       "    </tr>\n",
       "  </tbody>\n",
       "</table>\n",
       "</div>"
      ],
      "text/plain": [
       "      Color      Size\n",
       "0  0.392232  0.392232\n",
       "1 -1.568929 -1.568929\n",
       "2 -0.588348 -0.588348\n",
       "3  0.392232  0.392232\n",
       "4  1.372813  1.372813"
      ]
     },
     "execution_count": 16,
     "metadata": {},
     "output_type": "execute_result"
    }
   ],
   "source": [
    "scaler = StandardScaler()\n",
    "scaled_data = pd.DataFrame(scaler.fit_transform(df), columns=df.columns)\n",
    "scaled_data"
   ]
  },
  {
   "cell_type": "markdown",
   "id": "c286d424",
   "metadata": {},
   "source": [
    "## MinMaxScaler"
   ]
  },
  {
   "cell_type": "markdown",
   "id": "8154b7f5",
   "metadata": {},
   "source": [
    "- https://scikit-learn.org/stable/modules/generated/sklearn.preprocessing.MinMaxScaler.html"
   ]
  },
  {
   "cell_type": "markdown",
   "id": "970db551",
   "metadata": {},
   "source": [
    "<img src='https://i.stack.imgur.com/EuitP.png'>"
   ]
  },
  {
   "cell_type": "code",
   "execution_count": 17,
   "id": "0356b0ba",
   "metadata": {
    "ExecuteTime": {
     "end_time": "2023-06-02T11:22:04.890781Z",
     "start_time": "2023-06-02T11:22:04.879521Z"
    }
   },
   "outputs": [
    {
     "data": {
      "text/html": [
       "<div>\n",
       "<style scoped>\n",
       "    .dataframe tbody tr th:only-of-type {\n",
       "        vertical-align: middle;\n",
       "    }\n",
       "\n",
       "    .dataframe tbody tr th {\n",
       "        vertical-align: top;\n",
       "    }\n",
       "\n",
       "    .dataframe thead th {\n",
       "        text-align: right;\n",
       "    }\n",
       "</style>\n",
       "<table border=\"1\" class=\"dataframe\">\n",
       "  <thead>\n",
       "    <tr style=\"text-align: right;\">\n",
       "      <th></th>\n",
       "      <th>Color</th>\n",
       "      <th>Size</th>\n",
       "    </tr>\n",
       "  </thead>\n",
       "  <tbody>\n",
       "    <tr>\n",
       "      <th>0</th>\n",
       "      <td>0.666667</td>\n",
       "      <td>0.666667</td>\n",
       "    </tr>\n",
       "    <tr>\n",
       "      <th>1</th>\n",
       "      <td>0.000000</td>\n",
       "      <td>0.000000</td>\n",
       "    </tr>\n",
       "    <tr>\n",
       "      <th>2</th>\n",
       "      <td>0.333333</td>\n",
       "      <td>0.333333</td>\n",
       "    </tr>\n",
       "    <tr>\n",
       "      <th>3</th>\n",
       "      <td>0.666667</td>\n",
       "      <td>0.666667</td>\n",
       "    </tr>\n",
       "    <tr>\n",
       "      <th>4</th>\n",
       "      <td>1.000000</td>\n",
       "      <td>1.000000</td>\n",
       "    </tr>\n",
       "  </tbody>\n",
       "</table>\n",
       "</div>"
      ],
      "text/plain": [
       "      Color      Size\n",
       "0  0.666667  0.666667\n",
       "1  0.000000  0.000000\n",
       "2  0.333333  0.333333\n",
       "3  0.666667  0.666667\n",
       "4  1.000000  1.000000"
      ]
     },
     "execution_count": 17,
     "metadata": {},
     "output_type": "execute_result"
    }
   ],
   "source": [
    "scaler = MinMaxScaler()\n",
    "scaled_data = pd.DataFrame(scaler.fit_transform(df), columns=df.columns)\n",
    "scaled_data"
   ]
  },
  {
   "cell_type": "markdown",
   "id": "470487b5",
   "metadata": {},
   "source": [
    "## MaxAbsScaler"
   ]
  },
  {
   "cell_type": "markdown",
   "id": "5c2de3c4",
   "metadata": {},
   "source": [
    "- https://scikit-learn.org/stable/modules/generated/sklearn.preprocessing.MaxAbsScaler.html"
   ]
  },
  {
   "cell_type": "markdown",
   "id": "25048a85",
   "metadata": {},
   "source": [
    "<img src='https://b2611031.smushcdn.com/2611031/wp-content/uploads/2021/09/MaxAbs.png?lossy=0&strip=1&webp=1'>"
   ]
  },
  {
   "cell_type": "code",
   "execution_count": 18,
   "id": "41b26f65",
   "metadata": {
    "ExecuteTime": {
     "end_time": "2023-06-02T11:22:04.904741Z",
     "start_time": "2023-06-02T11:22:04.893508Z"
    },
    "scrolled": true
   },
   "outputs": [
    {
     "data": {
      "text/html": [
       "<div>\n",
       "<style scoped>\n",
       "    .dataframe tbody tr th:only-of-type {\n",
       "        vertical-align: middle;\n",
       "    }\n",
       "\n",
       "    .dataframe tbody tr th {\n",
       "        vertical-align: top;\n",
       "    }\n",
       "\n",
       "    .dataframe thead th {\n",
       "        text-align: right;\n",
       "    }\n",
       "</style>\n",
       "<table border=\"1\" class=\"dataframe\">\n",
       "  <thead>\n",
       "    <tr style=\"text-align: right;\">\n",
       "      <th></th>\n",
       "      <th>Color</th>\n",
       "      <th>Size</th>\n",
       "    </tr>\n",
       "  </thead>\n",
       "  <tbody>\n",
       "    <tr>\n",
       "      <th>0</th>\n",
       "      <td>0.666667</td>\n",
       "      <td>0.666667</td>\n",
       "    </tr>\n",
       "    <tr>\n",
       "      <th>1</th>\n",
       "      <td>0.000000</td>\n",
       "      <td>0.000000</td>\n",
       "    </tr>\n",
       "    <tr>\n",
       "      <th>2</th>\n",
       "      <td>0.333333</td>\n",
       "      <td>0.333333</td>\n",
       "    </tr>\n",
       "    <tr>\n",
       "      <th>3</th>\n",
       "      <td>0.666667</td>\n",
       "      <td>0.666667</td>\n",
       "    </tr>\n",
       "    <tr>\n",
       "      <th>4</th>\n",
       "      <td>1.000000</td>\n",
       "      <td>1.000000</td>\n",
       "    </tr>\n",
       "  </tbody>\n",
       "</table>\n",
       "</div>"
      ],
      "text/plain": [
       "      Color      Size\n",
       "0  0.666667  0.666667\n",
       "1  0.000000  0.000000\n",
       "2  0.333333  0.333333\n",
       "3  0.666667  0.666667\n",
       "4  1.000000  1.000000"
      ]
     },
     "execution_count": 18,
     "metadata": {},
     "output_type": "execute_result"
    }
   ],
   "source": [
    "scaler = MaxAbsScaler()\n",
    "scaled_data = pd.DataFrame(scaler.fit_transform(df), columns=df.columns)\n",
    "scaled_data"
   ]
  },
  {
   "cell_type": "markdown",
   "id": "1825c6c1",
   "metadata": {},
   "source": [
    "Примечание. Масштабирование также важно в задаче кластеризации. Например, когда мы имеем дело с признаками различной природы и масштабов (возраст клиента, кол-во транзакций, сумма на депозите)"
   ]
  },
  {
   "cell_type": "markdown",
   "id": "bf9611d9",
   "metadata": {},
   "source": [
    "## Задание"
   ]
  },
  {
   "cell_type": "code",
   "execution_count": 19,
   "id": "0d2c4c4f",
   "metadata": {
    "ExecuteTime": {
     "end_time": "2023-06-02T11:22:04.911151Z",
     "start_time": "2023-06-02T11:22:04.908001Z"
    }
   },
   "outputs": [],
   "source": [
    "from sklearn.model_selection import train_test_split\n",
    "from sklearn.linear_model import LogisticRegression\n",
    "from sklearn.metrics import accuracy_score, precision_score, recall_score, f1_score, roc_auc_score, confusion_matrix"
   ]
  },
  {
   "cell_type": "code",
   "execution_count": 20,
   "id": "88a59349",
   "metadata": {
    "ExecuteTime": {
     "end_time": "2023-06-02T11:22:04.945235Z",
     "start_time": "2023-06-02T11:22:04.913589Z"
    }
   },
   "outputs": [
    {
     "data": {
      "text/html": [
       "<div>\n",
       "<style scoped>\n",
       "    .dataframe tbody tr th:only-of-type {\n",
       "        vertical-align: middle;\n",
       "    }\n",
       "\n",
       "    .dataframe tbody tr th {\n",
       "        vertical-align: top;\n",
       "    }\n",
       "\n",
       "    .dataframe thead th {\n",
       "        text-align: right;\n",
       "    }\n",
       "</style>\n",
       "<table border=\"1\" class=\"dataframe\">\n",
       "  <thead>\n",
       "    <tr style=\"text-align: right;\">\n",
       "      <th></th>\n",
       "      <th>Survived</th>\n",
       "      <th>Pclass</th>\n",
       "      <th>Sex</th>\n",
       "      <th>Age</th>\n",
       "      <th>SibSp</th>\n",
       "      <th>Parch</th>\n",
       "      <th>Fare</th>\n",
       "      <th>Embarked</th>\n",
       "    </tr>\n",
       "  </thead>\n",
       "  <tbody>\n",
       "    <tr>\n",
       "      <th>0</th>\n",
       "      <td>0</td>\n",
       "      <td>3</td>\n",
       "      <td>male</td>\n",
       "      <td>22.0</td>\n",
       "      <td>1</td>\n",
       "      <td>0</td>\n",
       "      <td>7.2500</td>\n",
       "      <td>S</td>\n",
       "    </tr>\n",
       "    <tr>\n",
       "      <th>1</th>\n",
       "      <td>1</td>\n",
       "      <td>1</td>\n",
       "      <td>female</td>\n",
       "      <td>38.0</td>\n",
       "      <td>1</td>\n",
       "      <td>0</td>\n",
       "      <td>71.2833</td>\n",
       "      <td>C</td>\n",
       "    </tr>\n",
       "    <tr>\n",
       "      <th>2</th>\n",
       "      <td>1</td>\n",
       "      <td>3</td>\n",
       "      <td>female</td>\n",
       "      <td>26.0</td>\n",
       "      <td>0</td>\n",
       "      <td>0</td>\n",
       "      <td>7.9250</td>\n",
       "      <td>S</td>\n",
       "    </tr>\n",
       "    <tr>\n",
       "      <th>3</th>\n",
       "      <td>1</td>\n",
       "      <td>1</td>\n",
       "      <td>female</td>\n",
       "      <td>35.0</td>\n",
       "      <td>1</td>\n",
       "      <td>0</td>\n",
       "      <td>53.1000</td>\n",
       "      <td>S</td>\n",
       "    </tr>\n",
       "    <tr>\n",
       "      <th>4</th>\n",
       "      <td>0</td>\n",
       "      <td>3</td>\n",
       "      <td>male</td>\n",
       "      <td>35.0</td>\n",
       "      <td>0</td>\n",
       "      <td>0</td>\n",
       "      <td>8.0500</td>\n",
       "      <td>S</td>\n",
       "    </tr>\n",
       "    <tr>\n",
       "      <th>...</th>\n",
       "      <td>...</td>\n",
       "      <td>...</td>\n",
       "      <td>...</td>\n",
       "      <td>...</td>\n",
       "      <td>...</td>\n",
       "      <td>...</td>\n",
       "      <td>...</td>\n",
       "      <td>...</td>\n",
       "    </tr>\n",
       "    <tr>\n",
       "      <th>707</th>\n",
       "      <td>0</td>\n",
       "      <td>3</td>\n",
       "      <td>female</td>\n",
       "      <td>39.0</td>\n",
       "      <td>0</td>\n",
       "      <td>5</td>\n",
       "      <td>29.1250</td>\n",
       "      <td>Q</td>\n",
       "    </tr>\n",
       "    <tr>\n",
       "      <th>708</th>\n",
       "      <td>0</td>\n",
       "      <td>2</td>\n",
       "      <td>male</td>\n",
       "      <td>27.0</td>\n",
       "      <td>0</td>\n",
       "      <td>0</td>\n",
       "      <td>13.0000</td>\n",
       "      <td>S</td>\n",
       "    </tr>\n",
       "    <tr>\n",
       "      <th>709</th>\n",
       "      <td>1</td>\n",
       "      <td>1</td>\n",
       "      <td>female</td>\n",
       "      <td>19.0</td>\n",
       "      <td>0</td>\n",
       "      <td>0</td>\n",
       "      <td>30.0000</td>\n",
       "      <td>S</td>\n",
       "    </tr>\n",
       "    <tr>\n",
       "      <th>710</th>\n",
       "      <td>1</td>\n",
       "      <td>1</td>\n",
       "      <td>male</td>\n",
       "      <td>26.0</td>\n",
       "      <td>0</td>\n",
       "      <td>0</td>\n",
       "      <td>30.0000</td>\n",
       "      <td>C</td>\n",
       "    </tr>\n",
       "    <tr>\n",
       "      <th>711</th>\n",
       "      <td>0</td>\n",
       "      <td>3</td>\n",
       "      <td>male</td>\n",
       "      <td>32.0</td>\n",
       "      <td>0</td>\n",
       "      <td>0</td>\n",
       "      <td>7.7500</td>\n",
       "      <td>Q</td>\n",
       "    </tr>\n",
       "  </tbody>\n",
       "</table>\n",
       "<p>712 rows × 8 columns</p>\n",
       "</div>"
      ],
      "text/plain": [
       "     Survived  Pclass     Sex   Age  SibSp  Parch     Fare Embarked\n",
       "0           0       3    male  22.0      1      0   7.2500        S\n",
       "1           1       1  female  38.0      1      0  71.2833        C\n",
       "2           1       3  female  26.0      0      0   7.9250        S\n",
       "3           1       1  female  35.0      1      0  53.1000        S\n",
       "4           0       3    male  35.0      0      0   8.0500        S\n",
       "..        ...     ...     ...   ...    ...    ...      ...      ...\n",
       "707         0       3  female  39.0      0      5  29.1250        Q\n",
       "708         0       2    male  27.0      0      0  13.0000        S\n",
       "709         1       1  female  19.0      0      0  30.0000        S\n",
       "710         1       1    male  26.0      0      0  30.0000        C\n",
       "711         0       3    male  32.0      0      0   7.7500        Q\n",
       "\n",
       "[712 rows x 8 columns]"
      ]
     },
     "execution_count": 20,
     "metadata": {},
     "output_type": "execute_result"
    }
   ],
   "source": [
    "titanic_data = pd.read_csv('titanic_train.csv')\n",
    "titanic_data = titanic_data.drop(columns=['PassengerId'])\n",
    "# data.columns = [x.lower() for x in data.columns]\n",
    "\n",
    "titanic_data = titanic_data.drop(columns=['Ticket','Cabin','Name'])\n",
    "titanic_data = titanic_data.dropna().reset_index(drop=True)\n",
    "# X = titanic_data.drop(columns=['survived'])\n",
    "# y = titanic_data['survived']\n",
    "titanic_data"
   ]
  },
  {
   "cell_type": "markdown",
   "id": "86f745bb",
   "metadata": {},
   "source": [
    "1. Подготовьте данные для обучения модели машинного обучения, включая кодирование категориальных признаков и масштабирование числовых признаков. Пример кодирования категориальных признаков:\n",
    "- sex - label encoder\n",
    "- embarked - one hot encoder\n",
    "Для масштабирования числовых признаков использовать z-стандартизацию.\n",
    "\n",
    "2. Разделите данные на обучающий и тестовый наборы в пропорции 70 на 30.\n",
    "3. Обучите модель машинного обучения на обучающем наборе данных, такие как логистическая регрессия, метод опорных векторов или случайный лес (1 алгоритм на выбор).\n",
    "4. Оцените производительность модели на тестовом наборе данных, используя метрики, такие как точность, полноту, F1-меру, матрицу ошибок и AUC.\n",
    "5. Примените обученную модель к новым данным для прогнозирования выживаемости пассажиров, используя предварительно неизвестные данные (titanic_test). Формат датафрейма на выходе: PassengerId, y_pred, y_pred_score"
   ]
  },
  {
   "cell_type": "code",
   "execution_count": 21,
   "id": "fd7f0aad",
   "metadata": {
    "ExecuteTime": {
     "end_time": "2023-06-02T11:22:04.957083Z",
     "start_time": "2023-06-02T11:22:04.947459Z"
    }
   },
   "outputs": [
    {
     "name": "stderr",
     "output_type": "stream",
     "text": [
      "/Library/Frameworks/Python.framework/Versions/3.8/lib/python3.8/site-packages/sklearn/preprocessing/_encoders.py:868: FutureWarning: `sparse` was renamed to `sparse_output` in version 1.2 and will be removed in 1.4. `sparse_output` is ignored unless you leave `sparse` to its default value.\n",
      "  warnings.warn(\n"
     ]
    }
   ],
   "source": [
    "# Кодирование категориальных признаков\n",
    "# Your code here\n",
    "#\n",
    "\n",
    "# One-hot encoding для признака 'Embarked'\n",
    "# Your code here\n",
    "#"
   ]
  },
  {
   "cell_type": "code",
   "execution_count": 22,
   "id": "e0c7aad4",
   "metadata": {
    "ExecuteTime": {
     "end_time": "2023-06-02T11:22:04.967925Z",
     "start_time": "2023-06-02T11:22:04.959328Z"
    }
   },
   "outputs": [],
   "source": [
    "# Масштабирование числовых признаков\n",
    "# Your code here\n",
    "#"
   ]
  },
  {
   "cell_type": "code",
   "execution_count": 23,
   "id": "e680f94b",
   "metadata": {
    "ExecuteTime": {
     "end_time": "2023-06-02T11:22:04.985422Z",
     "start_time": "2023-06-02T11:22:04.975353Z"
    }
   },
   "outputs": [],
   "source": [
    "# Разделение данных на обучающий и тестовый наборы\n",
    "# Your code here\n",
    "#"
   ]
  },
  {
   "cell_type": "code",
   "execution_count": 24,
   "id": "1d2fe88d",
   "metadata": {
    "ExecuteTime": {
     "end_time": "2023-06-02T11:22:05.003429Z",
     "start_time": "2023-06-02T11:22:04.988769Z"
    }
   },
   "outputs": [
    {
     "data": {
      "text/html": [
       "<style>#sk-container-id-1 {color: black;background-color: white;}#sk-container-id-1 pre{padding: 0;}#sk-container-id-1 div.sk-toggleable {background-color: white;}#sk-container-id-1 label.sk-toggleable__label {cursor: pointer;display: block;width: 100%;margin-bottom: 0;padding: 0.3em;box-sizing: border-box;text-align: center;}#sk-container-id-1 label.sk-toggleable__label-arrow:before {content: \"▸\";float: left;margin-right: 0.25em;color: #696969;}#sk-container-id-1 label.sk-toggleable__label-arrow:hover:before {color: black;}#sk-container-id-1 div.sk-estimator:hover label.sk-toggleable__label-arrow:before {color: black;}#sk-container-id-1 div.sk-toggleable__content {max-height: 0;max-width: 0;overflow: hidden;text-align: left;background-color: #f0f8ff;}#sk-container-id-1 div.sk-toggleable__content pre {margin: 0.2em;color: black;border-radius: 0.25em;background-color: #f0f8ff;}#sk-container-id-1 input.sk-toggleable__control:checked~div.sk-toggleable__content {max-height: 200px;max-width: 100%;overflow: auto;}#sk-container-id-1 input.sk-toggleable__control:checked~label.sk-toggleable__label-arrow:before {content: \"▾\";}#sk-container-id-1 div.sk-estimator input.sk-toggleable__control:checked~label.sk-toggleable__label {background-color: #d4ebff;}#sk-container-id-1 div.sk-label input.sk-toggleable__control:checked~label.sk-toggleable__label {background-color: #d4ebff;}#sk-container-id-1 input.sk-hidden--visually {border: 0;clip: rect(1px 1px 1px 1px);clip: rect(1px, 1px, 1px, 1px);height: 1px;margin: -1px;overflow: hidden;padding: 0;position: absolute;width: 1px;}#sk-container-id-1 div.sk-estimator {font-family: monospace;background-color: #f0f8ff;border: 1px dotted black;border-radius: 0.25em;box-sizing: border-box;margin-bottom: 0.5em;}#sk-container-id-1 div.sk-estimator:hover {background-color: #d4ebff;}#sk-container-id-1 div.sk-parallel-item::after {content: \"\";width: 100%;border-bottom: 1px solid gray;flex-grow: 1;}#sk-container-id-1 div.sk-label:hover label.sk-toggleable__label {background-color: #d4ebff;}#sk-container-id-1 div.sk-serial::before {content: \"\";position: absolute;border-left: 1px solid gray;box-sizing: border-box;top: 0;bottom: 0;left: 50%;z-index: 0;}#sk-container-id-1 div.sk-serial {display: flex;flex-direction: column;align-items: center;background-color: white;padding-right: 0.2em;padding-left: 0.2em;position: relative;}#sk-container-id-1 div.sk-item {position: relative;z-index: 1;}#sk-container-id-1 div.sk-parallel {display: flex;align-items: stretch;justify-content: center;background-color: white;position: relative;}#sk-container-id-1 div.sk-item::before, #sk-container-id-1 div.sk-parallel-item::before {content: \"\";position: absolute;border-left: 1px solid gray;box-sizing: border-box;top: 0;bottom: 0;left: 50%;z-index: -1;}#sk-container-id-1 div.sk-parallel-item {display: flex;flex-direction: column;z-index: 1;position: relative;background-color: white;}#sk-container-id-1 div.sk-parallel-item:first-child::after {align-self: flex-end;width: 50%;}#sk-container-id-1 div.sk-parallel-item:last-child::after {align-self: flex-start;width: 50%;}#sk-container-id-1 div.sk-parallel-item:only-child::after {width: 0;}#sk-container-id-1 div.sk-dashed-wrapped {border: 1px dashed gray;margin: 0 0.4em 0.5em 0.4em;box-sizing: border-box;padding-bottom: 0.4em;background-color: white;}#sk-container-id-1 div.sk-label label {font-family: monospace;font-weight: bold;display: inline-block;line-height: 1.2em;}#sk-container-id-1 div.sk-label-container {text-align: center;}#sk-container-id-1 div.sk-container {/* jupyter's `normalize.less` sets `[hidden] { display: none; }` but bootstrap.min.css set `[hidden] { display: none !important; }` so we also need the `!important` here to be able to override the default hidden behavior on the sphinx rendered scikit-learn.org. See: https://github.com/scikit-learn/scikit-learn/issues/21755 */display: inline-block !important;position: relative;}#sk-container-id-1 div.sk-text-repr-fallback {display: none;}</style><div id=\"sk-container-id-1\" class=\"sk-top-container\"><div class=\"sk-text-repr-fallback\"><pre>LogisticRegression()</pre><b>In a Jupyter environment, please rerun this cell to show the HTML representation or trust the notebook. <br />On GitHub, the HTML representation is unable to render, please try loading this page with nbviewer.org.</b></div><div class=\"sk-container\" hidden><div class=\"sk-item\"><div class=\"sk-estimator sk-toggleable\"><input class=\"sk-toggleable__control sk-hidden--visually\" id=\"sk-estimator-id-1\" type=\"checkbox\" checked><label for=\"sk-estimator-id-1\" class=\"sk-toggleable__label sk-toggleable__label-arrow\">LogisticRegression</label><div class=\"sk-toggleable__content\"><pre>LogisticRegression()</pre></div></div></div></div></div>"
      ],
      "text/plain": [
       "LogisticRegression()"
      ]
     },
     "execution_count": 24,
     "metadata": {},
     "output_type": "execute_result"
    }
   ],
   "source": [
    "# Обучение модели логистической регрессии\n",
    "# Your code here\n",
    "#"
   ]
  },
  {
   "cell_type": "code",
   "execution_count": 25,
   "id": "ecdf894d",
   "metadata": {
    "ExecuteTime": {
     "end_time": "2023-06-02T11:22:05.026034Z",
     "start_time": "2023-06-02T11:22:05.005996Z"
    }
   },
   "outputs": [
    {
     "name": "stdout",
     "output_type": "stream",
     "text": [
      "Accuracy: 0.7476635514018691\n",
      "Precision: 0.7261904761904762\n",
      "Recall: 0.6630434782608695\n",
      "F1-score: 0.6931818181818181\n",
      "AUC: 0.7961511047754811\n",
      "Confusion Matrix:\n",
      "[[99 23]\n",
      " [31 61]]\n"
     ]
    }
   ],
   "source": [
    "# Оценка производительности модели на тестовом наборе\n",
    "# Your code here\n",
    "#\n",
    "\n",
    "print(\"Accuracy:\", accuracy)\n",
    "print(\"Precision:\", precision)\n",
    "print(\"Recall:\", recall)\n",
    "print(\"F1-score:\", f1)\n",
    "print(\"AUC:\", auc)\n",
    "print(\"Confusion Matrix:\")\n",
    "print(confusion_mat)"
   ]
  },
  {
   "cell_type": "code",
   "execution_count": 26,
   "id": "600f1c9a",
   "metadata": {
    "ExecuteTime": {
     "end_time": "2023-06-02T11:22:05.059192Z",
     "start_time": "2023-06-02T11:22:05.028756Z"
    }
   },
   "outputs": [
    {
     "name": "stdout",
     "output_type": "stream",
     "text": [
      "Output DataFrame:\n",
      "     PassengerId  y_pred  y_pred_score\n",
      "0            892       0      0.126792\n",
      "1            893       1      0.613134\n",
      "2            894       0      0.115897\n",
      "3            895       0      0.147490\n",
      "4            896       1      0.656706\n",
      "..           ...     ...           ...\n",
      "326         1301       1      0.680726\n",
      "327         1303       1      0.819106\n",
      "328         1304       1      0.636277\n",
      "329         1306       1      0.925368\n",
      "330         1307       0      0.138589\n",
      "\n",
      "[331 rows x 3 columns]\n"
     ]
    }
   ],
   "source": [
    "# Применение модели к новым данным (titanic_test)\n",
    "titanic_test = pd.read_csv('titanic_test.csv')\n",
    "\n",
    "# Your code here\n",
    "#\n",
    "\n",
    "print(\"Output DataFrame:\")\n",
    "print(output_df)"
   ]
  }
 ],
 "metadata": {
  "kernelspec": {
   "display_name": "Python 3 (ipykernel)",
   "language": "python",
   "name": "python3"
  },
  "language_info": {
   "codemirror_mode": {
    "name": "ipython",
    "version": 3
   },
   "file_extension": ".py",
   "mimetype": "text/x-python",
   "name": "python",
   "nbconvert_exporter": "python",
   "pygments_lexer": "ipython3",
   "version": "3.9.6"
  },
  "toc": {
   "base_numbering": 1,
   "nav_menu": {},
   "number_sections": true,
   "sideBar": true,
   "skip_h1_title": false,
   "title_cell": "Table of Contents",
   "title_sidebar": "Contents",
   "toc_cell": true,
   "toc_position": {
    "height": "calc(100% - 180px)",
    "left": "10px",
    "top": "150px",
    "width": "314.188px"
   },
   "toc_section_display": true,
   "toc_window_display": true
  }
 },
 "nbformat": 4,
 "nbformat_minor": 5
}
