{
 "cells": [
  {
   "cell_type": "markdown",
   "id": "9e1a4ebb",
   "metadata": {
    "toc": true
   },
   "source": [
    "<h1>Table of Contents<span class=\"tocSkip\"></span></h1>\n",
    "<div class=\"toc\"><ul class=\"toc-item\"><li><span><a href=\"#Математика-методов\" data-toc-modified-id=\"Математика-методов-1\"><span class=\"toc-item-num\">1&nbsp;&nbsp;</span>Математика методов</a></span><ul class=\"toc-item\"><li><span><a href=\"#Использование-второй-производной-для-оптимизации\" data-toc-modified-id=\"Использование-второй-производной-для-оптимизации-1.1\"><span class=\"toc-item-num\">1.1&nbsp;&nbsp;</span>Использование второй производной для оптимизации</a></span></li></ul></li><li><span><a href=\"#Регуляризация\" data-toc-modified-id=\"Регуляризация-2\"><span class=\"toc-item-num\">2&nbsp;&nbsp;</span>Регуляризация</a></span></li><li><span><a href=\"#Отличия-и-схожести-методов\" data-toc-modified-id=\"Отличия-и-схожести-методов-3\"><span class=\"toc-item-num\">3&nbsp;&nbsp;</span>Отличия и схожести методов</a></span><ul class=\"toc-item\"><li><span><a href=\"#Отличия\" data-toc-modified-id=\"Отличия-3.1\"><span class=\"toc-item-num\">3.1&nbsp;&nbsp;</span>Отличия</a></span><ul class=\"toc-item\"><li><span><a href=\"#Подход-к-построению-деревьев\" data-toc-modified-id=\"Подход-к-построению-деревьев-3.1.1\"><span class=\"toc-item-num\">3.1.1&nbsp;&nbsp;</span>Подход к построению деревьев</a></span></li></ul></li><li><span><a href=\"#Схожести\" data-toc-modified-id=\"Схожести-3.2\"><span class=\"toc-item-num\">3.2&nbsp;&nbsp;</span>Схожести</a></span></li></ul></li><li><span><a href=\"#Различные-API-обучения\" data-toc-modified-id=\"Различные-API-обучения-4\"><span class=\"toc-item-num\">4&nbsp;&nbsp;</span>Различные API обучения</a></span><ul class=\"toc-item\"><li><span><a href=\"#XGBoost\" data-toc-modified-id=\"XGBoost-4.1\"><span class=\"toc-item-num\">4.1&nbsp;&nbsp;</span>XGBoost</a></span><ul class=\"toc-item\"><li><span><a href=\"#Sklearn-API\" data-toc-modified-id=\"Sklearn-API-4.1.1\"><span class=\"toc-item-num\">4.1.1&nbsp;&nbsp;</span>Sklearn API</a></span></li><li><span><a href=\"#DMatrix\" data-toc-modified-id=\"DMatrix-4.1.2\"><span class=\"toc-item-num\">4.1.2&nbsp;&nbsp;</span>DMatrix</a></span></li><li><span><a href=\"#cv\" data-toc-modified-id=\"cv-4.1.3\"><span class=\"toc-item-num\">4.1.3&nbsp;&nbsp;</span>cv</a></span></li></ul></li><li><span><a href=\"#LighGBM\" data-toc-modified-id=\"LighGBM-4.2\"><span class=\"toc-item-num\">4.2&nbsp;&nbsp;</span>LighGBM</a></span><ul class=\"toc-item\"><li><span><a href=\"#Sklearn-API\" data-toc-modified-id=\"Sklearn-API-4.2.1\"><span class=\"toc-item-num\">4.2.1&nbsp;&nbsp;</span>Sklearn API</a></span></li><li><span><a href=\"#LightGBM-dataset\" data-toc-modified-id=\"LightGBM-dataset-4.2.2\"><span class=\"toc-item-num\">4.2.2&nbsp;&nbsp;</span>LightGBM dataset</a></span></li><li><span><a href=\"#cv\" data-toc-modified-id=\"cv-4.2.3\"><span class=\"toc-item-num\">4.2.3&nbsp;&nbsp;</span>cv</a></span></li></ul></li></ul></li></ul></div>"
   ]
  },
  {
   "cell_type": "markdown",
   "id": "2965e230",
   "metadata": {},
   "source": [
    "# Математика методов"
   ]
  },
  {
   "cell_type": "markdown",
   "id": "60c0a016",
   "metadata": {},
   "source": [
    "## Использование второй производной для оптимизации"
   ]
  },
  {
   "cell_type": "markdown",
   "id": "bcd891ce",
   "metadata": {},
   "source": [
    "Ряд Тэйлора <img src='data:image/png;base64,iVBORw0KGgoAAAANSUhEUgAAAagAAAB3CAMAAABhcyS8AAAAkFBMVEX///8AAABYWFiioqLh4eH8/Pzo6Oj5+fnv7+/09PSVlZXx8fFERETb29vs7Oz29vbR0dGOjo5+fn7e3t6/v7/Pz8+ZmZnJycmxsbGkpKSrq6uJiYloaGi4uLjCwsJubm5fX182NjYYGBguLi4lJSVcXFxJSUmAgIBPT09tbW0fHx8LCwt2dnYwMDA8PDwTExNnWkWhAAAR/0lEQVR4nO1diZqqOgwmyqIomyIgi6KiojLO+7/dpS1lE0RGZtRz+b9z1JEKadOkSdqmDNOjR48ePf7vULXIit/4+D8nv5qYHrUwTowFY8YGiWGc+EMKeZQvpv41XT2KMGPe8CuGm15iaYJASC+o0SRfbmn8OWk9clB2Gn6XYMgwK9DTC+p0XCzpaH9JV48SbCA6zZnGLyc//X4Ci1JJbmv9GVU9ylhdrvhd2MUjFAOZsptNueSTqjPcAmlE6zK6+X2Pv8F6AFcfsWiBRqDVMr2ggEg+8BvHikJAH+fQi9TLYIJZ+b0OK/zOoncRHPRZ2fh/RVaPMiJgK7/3AHtUHCBJMxKuDaZ/RlePEjaH6u81wOORg3Ve9E2M9kEwri7d47chwaz6gogZRUaq8W5PvuyCUcrTd/hfwkuUWsUFpPpsbKMPqRExuD77PDbcuPNnb/J/xAn46gs6ZpGD2KVegLStcA2ffBz3pevBto8ntkewr7nAAjLVndgbVo/TqYCDEjw8G5uwWKRtvSfv8j+ECsu6S9cTg+QKpqdJcF6PSOlntRaySZRttUNwF+oxsp98NmPOTs90keUxVtpcuH2WjB/BgkndpQW2JlaGGpeySZDCXXfxTHZT+8xaLF1mmfkR+Th+Oc5VD83Nzw0U5gIk7rZ4GQMPqR8WBvmH53/HF6sltbCa2EYb7eDUX9PK9qC6KT27zcRHVvbYPryxAIWRqdXDzfTcJdUVqn5xCysWhTmVZSUq0M4PGvtO5MciycZeS87tLBDCjHGEh2I4fIwsjFEkNRS43CPQKapFflA0AoR1G0aZUdL7zDt9ow7b/NjoFxmtDx7i1AjyqnNX0r78tiGKqZLQtbDJzfVEJV6Md1lza8dHiMqef63nlOAbjF9jmyfwCr8Wi/LEXe//+OZmPuYUP3tQAnLAU5opGYPSVfehNhHz5m10o8MLd+XYG7W1D/CbusmoXwblQiugqhCpgFawv/JalM23ETdba48r+Fs45QZrwgCJ0mhWokNptE9k8wJy+guWxCYFmUc6iFVRZ2/QG3FdeR2u2T2kVH/xHs+wSFEoeVN09F0UOIE3IMLqZJhdmKQR6pE+ZzA1TGoVJ3N8I17CFajtm/KKZVjUg8bnvPqCoq6SHxhCazFPdAGPnyPVt9VcHyssUiyL2GaUt/soOp1yl3VoeJDg+DB1U3EgERNGjeAyikUNGUO7qIlYZTaAMJuvntFnanvT0ci823SQtcaoZJey6w345RF7SO0wO9Q1jVjPYiJSC9I4ynEXf1h818S9GcYY6NqRdJHoO/c9dLjs4Ugqu4jgGxEINU7s5HRcOWtAXWoSOMxyHcPNC3Ijo4rTzswXbdAV2LqmIvUbTpMeq2tihuIAYuXF7uKSd/eEOtwGm1xJbBOjzKi4GS83dpmbtKy2iV+AKFb6FJFWSoCIXaurGqNuPcA/xZ+HeQI7ZJSyoUEKHXR7uahRopNvG5UgWnJfFYB6gFFOvhdkscndJjFLZlSTGddphqIn75+ze5AZgSTgPId1QkfWUONtqTrjzc20wfiLRLMtTByEuK+YiVvqppVyL27taGUgmeSA3LrQGwvKXGZ/AqptR0CNNw729XbcxsU0EG2+roodrRoZJUzPOaozRrnUPHCaB6lJkBtRZdKcJEKiJg2kJ+8rYzgUL7PhcGhnunBOZ1Fzdzzvyb1E/Ook5UgX2KSVstJYKmdQedfIk3hsh/IJb82kkfT4+Us4xs9fJhwewE9AZVJOGcX4KVVSqnocwhIbdzcxach1qUEFOyYnguVwaNwzICeQ6wgypAOSQW83a2aUCjmzmiNt42L+Rwm7KaM8R9Ocy1rTNCMzAYa3umhMgm/Er1om16XkMde0SRZAVTB3nFEQu+WIBwRaCzOxZtDzRYji54udzDPkGGWkhq8aUVKIjcTgVuUOO3K5zCjFiMlxQYxb5l5ox8orhUz1KSFtg1T1qZ6eQ/4ehRGAqD4eE8dCoiLvqr684qRldlj3kzA1bAlTzcRZy1TfEWqjOfj58jYpataqvueQqb7RoXYlBeklHi26Pld4lc2qLyoE+M907HHUjR8/Pf603ySDtZgfowreQ7jLefYcbiK8PI45xKoLq7hhbiAsGxOTXYUrskdBPxaQBXukvcdL7DuNVkpf+WeFqTS0SIQ7giN5/jIvtF0aEyntR8QzpdKuMRDd7IauO/M3FWUajQnlWrBBIjx3KTH6kvEDxUA8vPrJNU7gUgh532O8zXsEhBA0ZTqJRJjbPPku0zRlRqlQERDGpgh7CRlBc8AisYEhEMmysIzzE3mNQpSrSutcBpdR4p+aS5bcLudsdWmeR6hDcSxjWcw0YMTKTjOMKyhp+4DFQ7GycSvKNDKKLbaSidpAgOkRdcIQjW1887TJojg96qG4wWQDYSg7sCbNmJ/BkUuOj1E1aSfh/jeAw8C0ICQ0DnxyjUM0c9PAHcfFvmomKOLnDyQD9kQfhfmudLOk8gl4yLaUYCoifgyqdSoLMIiEQexLoL/mlX6f18Qou9RKIVKkQ1Q7wcAdz542Ou7GuTgwb1HbsZoVt6NGSF/kpxGERTEEevCrbuoifTcyljLDO0QCJuk0kIiGLl1Ewm/rVT9GPxXtSUwE4QlbmEFatJ9fqAV3jVW8ghtMEasXMsUPdGIqPYOIm1E5PSw3TU75pbgDfy0yTgmaJ8mC0rJ59rsc1Pm6Q4ZcrYkmN3K2zh5zbTnn5tbOC9bQpNa1+Q1YaBeBkjcP3zoPflfWqqxbGBD3zRaStCvzZVEKuc/ump1+9ffytWgc2Tk3gqtRMjVw2m3A4PzYU7qm3Ue9r/ula5s4uOD/wOQ8GMzpVnOM897nsGEBhrJbMuGtRPCFHmzV0saDJJSn4bJ7G/m+WmquYQv1VW1u1GMfWNYUqFciX+pWKCWQ28yNiT9Ztr6OngrwIwgDZ/YjUSaQA+vY4YDRDSRslQ2oUyABtOHEr6D93FXn9+iChI6xwoOjSn119lwbnu/xBqDhZGa86dLv6tE11FSOwqdXh/X4RTgHasq4wdsNoz1S8FnkVus32bwx9llkTa9b7tzj9XBy3rXU74J/W3h+7g+2N/reFQmfuptf7PEr8LaSJC1MN4kc2U6/O/AtYSULWLbEKpcvfWTiLSEsDQIaBR4e+63VPXr06NGjR48ePXr06NGjR48ePXr06NGjR48ePXpUQtG9mtyePd4GCstM3PUO4rcPZla6coX7V9ewjGcyo7OMgDa8Gx+7mkDMNhzpL99V0zlkk2UYutkvWKFsFJ+XaVhRVY5Z5hdVRu0y7r0/htoKzEWyV5jHu1LEQlYwrvaP94E6UK/OeMOjndwuL7kaWmeeL/AJlbgPcc8IW3WGd45yQ7jijH75Og4L2t54Yifi70GFMeM7Ku5tJizsI0qzkd8ApRZ2tep1m+7fGCrZ1LpJEsmYgPaljHIZWdxiihnu8IZLgYUAD0hDH7/ubeaEFpl/ZTsCrFPxBy33ab8Dpj5+S/ODrFBO5lGWZOBYTkgyqTlA5pVIko8MMa27A6MEqDddU26Y5/Je1UPLzAcvh5XkZPqicsN/K4hRdJe3eps6XKtK+vNSjM4kdRGWKAEkRg3QcuW0Ttxt4qkHUrW+E7wDwAH3uyMao/iYPQb6MxujfLrda+FH3hBbgzy8l4afD7aw89GnBUrbaAWxZlvHJiCTir5NswrzUaRJU+x8fDWman0njJXzlMUiY/oMTvjlYGVv0H1EE3pognaQUVYg/Bneq47CZAYmHlMnKD/NcYnShkookSgtcU32g5pnlVmcyd7dWVXWtveFDDStNvKjFBYnX2YUn1aCJsQzkC7Rk5SW092bmbchzddtxwRO4s8yqsYs9aPSVJsqUu1ER9gfpvtS7S04qf0giGkdliRll4qznFjJPvII3iuNBL9NDZ5l5uTqqbkgkyRoQoCzkicZ0RafxSgnsxWE1JibZLZ5krmQnP4XBkTVvxujFjlboSrWx5NcqEtsGnqJd/VhjPre3NdiRKIkPFKxNDtNB4yS7A6T6zkNGSNI2kyB5JoMd2S3zWcxSm4624pk9yU670B9rWnw7Bi1/DrcpnD+Ma7Xhp1OuJYj/LqERE1aH8Uoq8nSlrFWwYmCtRAYfAI0U5+a90GwXi4d/dPgG63QM8rPj1Nwmy6sZKzjtbpT9d4Ss8ajI/DJZTa4K1cKdjaOyXBVyWJbw3v65EeKukORMxhIV4/ge6EZGnhHrA8OH5VmotkjshArFRf2EjM9kzHba5kcshqzztyY2blpjyePDYglbKyYZw7WCnJDtr4HoEYic5z+yYQQ/4CeniLucMg2FBL3ftdBYIIdQGdh0W3zaGf46BV5WFxi5WpVOZXbYXyxRPNvMl9VJ6wtYvxV0uVi6awKqY1VYCX9eMJGXWVhk+6eu5ZgXQr2qfuiFArHFoasRPqYAIai/n7mK95ilM0jcjt2C9HyZUkSVn4rRXhM3dBLB/Frzh4x0UOHCoqFlKjqsZhjQjm0MgEtfFCeFbsuHQhmE5yL5Dy2NELIixRXmuOY79oZT9yFjg1++1MbbzAHz35QoNnaP9CJMy1piVDgLRrEw0AHlWiAonsdSC13fVTxUbmzkAWG/hVMEtZ/kN/SoCALpteFN2Scm8tgUJL52NAULiayUnJ0c+v3XRSkE29EEtGZiRO3NgX1fB0OzZCclDdkVHBFt8AZ6dHZyAV0n8YjmSIYGVEYm6JibTZ3QRtErIt9k30YVwJVP59ymjv/vnz9FH5yFIs8A1XYuHU5tL0tHztjAbbIr1OOkRel0bEFo7rPYOQlh0UIVuyuDKJrjVUrg8fIV+K02cTa4wo2Hxe8L6POdC0Cf1kfa00TD8mdmjhtx6qmnj/KKPUXAsLHNEjhQu1ZE7Hcefj8NIGQUeWG7X7hmHgpHPwcIe1Io8xjDtP4AJcdRUdYQk50WSWhQrvMKFaSJA/0+LWBWaigBWr8mjTs+PRMJVKr0/2m6nSY1SerRNL/QjR9LG990nzl6IwcUyUFxjx+7Xayjh8+AYPKzig7k89IXT82O4qO8C7C0yNOsg7jhlHTtPh9W1c4pAUTOcan0/0Y6VDkpmcD5w4J2qYPI34jCVSpSW+Tyv66kRa/Pd7sDZCTqHUa3+X4FFhN8BfETYFmhr9hlMzzsgmL+K0hqoQK6jBvLtgSp0s2oe3TL7NKEOOYnBfnJt3xRqLGqGSwRCS+2fQ3wZkKgalt6+KGRJ/PaB98dozq3piY0VWMk5lbF6Ue4/UiKwgpGVVjVPALY1RHCA9kbB9HXHitOQHaQ5WyQ2DnuG+GVXOVRasvGYNUXF5Q86z5DasvnZrS+CHwXKU5MQEfOXGgkYlwvSpKWrT6eFJiTt5IldiXLYkkB4q5nsvGkmJXy5QKh4VjuLAgk5RQda5tgVEqYGfYA3wep1YYun6DUSzW2qKxtONHa7NK11v5Bn0ZeeCR02GiKkekwCguwEb/GB8jHmsMJKo8vGzx6ghJi4APsJ3DvsZyjmBrxtqdxDDYSlrnu9y3PDkOeQE+erMLs9Dq9hcywbpIrflYN1/rmlKH+LoOIRnOzlWxf26aV30hETpAC1pjHwx1ulGwfdkaNbvt/N+p/qDoFH89HPN1Z8HXQW9YavIHGB9301YzRWK7tQ/eAzMrfw+13SrtUfDyxZvxmHmCbE2E1ny26M28x114D8hT11g8sLJXOrUIeLD1J9n/GSI02JypSaNMwW/+TZsg/CsSI2vwwDqaUQtdNnm53kuCjOnkq3BoCBZ8BMRHGPWRmE2pHnA7XH33Mizh69Uk/A6EMHXmojfbYfMYJqbhCIztJuOrDv4rqfk1jF031cHiRx6LIBlwYhwXLuRPvmk58GdieAHYUPtg9VHrflOooBsr5nxI/oRP2wb6IMxzOnnBX15viP4AGhhe7GlQv+H5tZZvCjYdffnD3YLvil0gpjuGYhzecYaoE/jJRihmMrtf8D0xB7Qs8pQa5S9wsv8I6/RAzZeHSn4CvNNfyOIr/+wxrtyGBo6Uj7QlQrQGwgR9nriD0r93UNQkPMrCZJ0qvOg2QcP7g8O2kAOrxFnX/4XwSgmTDVwGfhaInXWyFeqPscDbTbR0v7/3DzIqVhOFNVvc5x6nrmSkS++1N7xHjx6/gf8Acg31ls/HQZQAAAAASUVORK5CYII='>"
   ]
  },
  {
   "cell_type": "markdown",
   "id": "15e70561",
   "metadata": {},
   "source": [
    "- Метод Ньютона-Рафсона с ипользование второй производной https://ru.wikipedia.org/wiki/Метод_Ньютона#Метод_Ньютона_—_Рафсона\n",
    "- Newton's method in optimization https://en.wikipedia.org/wiki/Newton's_method_in_optimization#Method"
   ]
  },
  {
   "cell_type": "markdown",
   "id": "5e0c199f",
   "metadata": {},
   "source": [
    "Gradient Descent (and Beyond)\n",
    "- https://www.cs.cornell.edu/courses/cs4780/2018fa/lectures/lecturenote07.html\n",
    "\n",
    "<img src='https://www.cs.cornell.edu/courses/cs4780/2018fa/lectures/images/gradient_descent/gradientfigures.png'>"
   ]
  },
  {
   "cell_type": "markdown",
   "id": "d65dc074",
   "metadata": {},
   "source": [
    "<img src='https://images.slideplayer.com/16/4932612/slides/slide_3.jpg'>"
   ]
  },
  {
   "cell_type": "markdown",
   "id": "3630166e",
   "metadata": {},
   "source": [
    "- Introduction to Boosted Trees https://xgboost.readthedocs.io/en/stable/tutorials/model.html\n",
    "- https://ru.wikipedia.org/wiki/Гессиан_функции"
   ]
  },
  {
   "cell_type": "markdown",
   "id": "b9b04667",
   "metadata": {},
   "source": [
    "# Регуляризация"
   ]
  },
  {
   "cell_type": "markdown",
   "id": "581577b0",
   "metadata": {},
   "source": [
    "- Переобучение - результат использования слишком сложных моделей (что приводит к плохому обобщению на новые данные)\n",
    "- Управление сложностью модели\n",
    "    - с помощью настройки параметров (n_estimators, max_depth, max_leaves, subsample, colsample_bytree)\n",
    "    - с помощью изменения loss_function\n",
    "        - leaf scores    \n",
    "        - number of leaves"
   ]
  },
  {
   "cell_type": "markdown",
   "id": "d91a3d3a",
   "metadata": {},
   "source": [
    "Регуляризация в линейной/логистической регрессии\n",
    "<img src='https://miro.medium.com/v2/resize:fit:886/1*ztg38FhJKkcAFoySgWXlUQ.png'>"
   ]
  },
  {
   "cell_type": "markdown",
   "id": "a4cca222",
   "metadata": {},
   "source": [
    "- https://xgboost.readthedocs.io/en/stable/tutorials/model.html#model-complexity\n",
    "<img src='https://miro.medium.com/v2/resize:fit:438/format:webp/1*qtZUQQuVk7NxnJVpMZX-ag.png'>"
   ]
  },
  {
   "cell_type": "markdown",
   "id": "8d2e258b",
   "metadata": {},
   "source": [
    "Дополнительные материалы:\n",
    "- XGBoost Mathematics Explained https://dimleve.medium.com/xgboost-mathematics-explained-58262530904a\n",
    "- XGBoost: A Scalable Tree Boosting System (статья от авторов алгоритма) https://arxiv.org/pdf/1603.02754.pdf\n",
    "- XGBoost Loss function Approximation With Taylor Expansion https://stats.stackexchange.com/questions/202858/xgboost-loss-function-approximation-with-taylor-expansion\n",
    "- How leave's scores are calculated in this XGBoost trees? https://stackoverflow.com/questions/41433209/how-leaves-scores-are-calculated-in-this-xgboost-trees\n",
    "- Finding the weights of a decision tree https://gabrieltseng.github.io/appendix/2018-02-25-XGB.html"
   ]
  },
  {
   "cell_type": "markdown",
   "id": "2f2f85ba",
   "metadata": {},
   "source": [
    "# Отличия и схожести методов"
   ]
  },
  {
   "cell_type": "markdown",
   "id": "20486d95",
   "metadata": {},
   "source": [
    "## Отличия"
   ]
  },
  {
   "cell_type": "markdown",
   "id": "0aadcd08",
   "metadata": {},
   "source": [
    "XGBoost vs LightGBM: How Are They Different\n",
    "- https://neptune.ai/blog/xgboost-vs-lightgbm"
   ]
  },
  {
   "cell_type": "markdown",
   "id": "ac42e77b",
   "metadata": {},
   "source": [
    "### Подход к построению деревьев"
   ]
  },
  {
   "cell_type": "markdown",
   "id": "9cdcfb73",
   "metadata": {},
   "source": [
    "- https://lightgbm.readthedocs.io/en/latest/Features.html#leaf-wise-best-first-tree-growth\n",
    "- https://towardsdatascience.com/catboost-vs-lightgbm-vs-xgboost-c80f40662924"
   ]
  },
  {
   "cell_type": "markdown",
   "id": "33e5a042",
   "metadata": {},
   "source": [
    "<img src='https://lightgbm.readthedocs.io/en/latest/_images/level-wise.png'>"
   ]
  },
  {
   "cell_type": "markdown",
   "id": "03ca8e10",
   "metadata": {},
   "source": [
    "LightGBM\n",
    "<img src='https://lightgbm.readthedocs.io/en/latest/_images/leaf-wise.png'>"
   ]
  },
  {
   "cell_type": "markdown",
   "id": "cbb38e1b",
   "metadata": {},
   "source": [
    "- Decision trees: best-first (leaf-wise) and depth-first (level-wise) tree traverse \n",
    "https://datascience.stackexchange.com/questions/26699/decision-trees-leaf-wise-best-first-and-level-wise-tree-traverse"
   ]
  },
  {
   "cell_type": "markdown",
   "id": "2dce054b",
   "metadata": {},
   "source": [
    "## Схожести"
   ]
  },
  {
   "cell_type": "markdown",
   "id": "6b782784",
   "metadata": {},
   "source": [
    "LightGBM тоже использует Гессиан:\n",
    "- https://lightgbm.readthedocs.io/en/latest/Parameters.html"
   ]
  },
  {
   "cell_type": "markdown",
   "id": "8a06ee0b",
   "metadata": {},
   "source": [
    "Гистрограммный подход тоже реализован в XGBoost\n",
    "- https://xgboost.readthedocs.io/en/stable/treemethod.html"
   ]
  },
  {
   "cell_type": "markdown",
   "id": "2a4da9db",
   "metadata": {},
   "source": [
    "# Различные API обучения"
   ]
  },
  {
   "cell_type": "code",
   "execution_count": 1,
   "id": "c0b801c6",
   "metadata": {
    "ExecuteTime": {
     "end_time": "2023-06-16T12:15:07.524346Z",
     "start_time": "2023-06-16T12:15:07.522104Z"
    }
   },
   "outputs": [],
   "source": [
    "# !pip install xgboost\n",
    "# !pip install lightgbm"
   ]
  },
  {
   "cell_type": "code",
   "execution_count": 2,
   "id": "f57d4b1a",
   "metadata": {
    "ExecuteTime": {
     "end_time": "2023-06-16T12:15:08.454591Z",
     "start_time": "2023-06-16T12:15:07.527025Z"
    }
   },
   "outputs": [],
   "source": [
    "from sklearn.model_selection import train_test_split\n",
    "from sklearn.metrics import roc_auc_score\n",
    "from sklearn.datasets import make_classification\n",
    "import numpy as np"
   ]
  },
  {
   "cell_type": "code",
   "execution_count": 3,
   "id": "2d69f713",
   "metadata": {
    "ExecuteTime": {
     "end_time": "2023-06-16T12:15:08.462329Z",
     "start_time": "2023-06-16T12:15:08.457257Z"
    }
   },
   "outputs": [],
   "source": [
    "n_features = 2\n",
    "n_samples = 3_000\n",
    "X, y = make_classification(n_samples=n_samples, n_features=n_features, n_redundant=0)\n",
    "\n",
    "# Разделение данных на обучающую и тестовую выборки\n",
    "X_train, X_test, y_train, y_test = train_test_split(X, y, test_size=0.3, random_state=42)"
   ]
  },
  {
   "cell_type": "markdown",
   "id": "999167e3",
   "metadata": {},
   "source": [
    "## XGBoost"
   ]
  },
  {
   "cell_type": "code",
   "execution_count": 4,
   "id": "f51b40cc",
   "metadata": {
    "ExecuteTime": {
     "end_time": "2023-06-16T12:15:08.833855Z",
     "start_time": "2023-06-16T12:15:08.465288Z"
    }
   },
   "outputs": [],
   "source": [
    "import xgboost as xgb"
   ]
  },
  {
   "cell_type": "markdown",
   "id": "d13c8337",
   "metadata": {},
   "source": [
    "### Sklearn API"
   ]
  },
  {
   "cell_type": "code",
   "execution_count": 5,
   "id": "e3ec82c9",
   "metadata": {
    "ExecuteTime": {
     "end_time": "2023-06-16T12:15:08.839836Z",
     "start_time": "2023-06-16T12:15:08.836510Z"
    }
   },
   "outputs": [
    {
     "name": "stdout",
     "output_type": "stream",
     "text": [
      "Implementation of the scikit-learn API for XGBoost classification.\n",
      "\n",
      "\n",
      "Parameters\n",
      "----------\n",
      "\n",
      "    n_estimators : int\n",
      "        Number of boosting rounds.\n",
      "\n",
      "    max_depth :  Optional[int]\n",
      "        Maximum tree depth for base learners.\n",
      "    max_leaves :\n",
      "        Maximum number of leaves; 0 indicates no limit.\n",
      "    max_bin :\n",
      "        If using histogram-based algorithm, maximum number of bins per feature\n",
      "    grow_policy :\n",
      "        Tree growing policy. 0: favor splitting at nodes closest to the node, i.e. grow\n",
      "        depth-wise. 1: favor splitting at nodes with highest loss change.\n",
      "    learning_rate : Optional[float]\n",
      "        Boosting learning rate (xgb's \"eta\")\n",
      "    verbosity : Optional[int]\n",
      "        The degree of verbosity. Valid values are 0 (silent) - 3 (debug).\n",
      "    objective : typing.Union[str, typing.Callable[[numpy.ndarray, numpy.ndarray], typing.Tuple[numpy.ndarray, numpy.ndarray]], NoneType]\n",
      "        Specify the learning task and the corresponding learning objective or\n",
      "        a custom objective function to be used (see note below).\n",
      "    booster: Optional[str]\n",
      "        Specify which booster to use: gbtree, gblinear or dart.\n",
      "    tree_method: Optional[str]\n",
      "        Specify which tree method to use.  Default to auto.  If this parameter is set to\n",
      "        default, XGBoost will choose the most conservative option available.  It's\n",
      "        recommended to study this option from the parameters document :doc:`tree method\n",
      "        </treemethod>`\n",
      "    n_jobs : Optional[int]\n",
      "        Number of parallel threads used to run xgboost.  When used with other\n",
      "        Scikit-Learn algorithms like grid search, you may choose which algorithm to\n",
      "        parallelize and balance the threads.  Creating thread contention will\n",
      "        significantly slow down both algorithms.\n",
      "    gamma : Optional[float]\n",
      "        (min_split_loss) Minimum loss reduction required to make a further partition on a\n",
      "        leaf node of the tree.\n",
      "    min_child_weight : Optional[float]\n",
      "        Minimum sum of instance weight(hessian) needed in a child.\n",
      "    max_delta_step : Optional[float]\n",
      "        Maximum delta step we allow each tree's weight estimation to be.\n",
      "    subsample : Optional[float]\n",
      "        Subsample ratio of the training instance.\n",
      "    sampling_method :\n",
      "        Sampling method. Used only by `gpu_hist` tree method.\n",
      "          - `uniform`: select random training instances uniformly.\n",
      "          - `gradient_based` select random training instances with higher probability when\n",
      "            the gradient and hessian are larger. (cf. CatBoost)\n",
      "    colsample_bytree : Optional[float]\n",
      "        Subsample ratio of columns when constructing each tree.\n",
      "    colsample_bylevel : Optional[float]\n",
      "        Subsample ratio of columns for each level.\n",
      "    colsample_bynode : Optional[float]\n",
      "        Subsample ratio of columns for each split.\n",
      "    reg_alpha : Optional[float]\n",
      "        L1 regularization term on weights (xgb's alpha).\n",
      "    reg_lambda : Optional[float]\n",
      "        L2 regularization term on weights (xgb's lambda).\n",
      "    scale_pos_weight : Optional[float]\n",
      "        Balancing of positive and negative weights.\n",
      "    base_score : Optional[float]\n",
      "        The initial prediction score of all instances, global bias.\n",
      "    random_state : Optional[Union[numpy.random.RandomState, int]]\n",
      "        Random number seed.\n",
      "\n",
      "        .. note::\n",
      "\n",
      "           Using gblinear booster with shotgun updater is nondeterministic as\n",
      "           it uses Hogwild algorithm.\n",
      "\n",
      "    missing : float, default np.nan\n",
      "        Value in the data which needs to be present as a missing value.\n",
      "    num_parallel_tree: Optional[int]\n",
      "        Used for boosting random forest.\n",
      "    monotone_constraints : Optional[Union[Dict[str, int], str]]\n",
      "        Constraint of variable monotonicity.  See :doc:`tutorial </tutorials/monotonic>`\n",
      "        for more information.\n",
      "    interaction_constraints : Optional[Union[str, List[Tuple[str]]]]\n",
      "        Constraints for interaction representing permitted interactions.  The\n",
      "        constraints must be specified in the form of a nested list, e.g. ``[[0, 1], [2,\n",
      "        3, 4]]``, where each inner list is a group of indices of features that are\n",
      "        allowed to interact with each other.  See :doc:`tutorial\n",
      "        </tutorials/feature_interaction_constraint>` for more information\n",
      "    importance_type: Optional[str]\n",
      "        The feature importance type for the feature_importances\\_ property:\n",
      "\n",
      "        * For tree model, it's either \"gain\", \"weight\", \"cover\", \"total_gain\" or\n",
      "          \"total_cover\".\n",
      "        * For linear model, only \"weight\" is defined and it's the normalized coefficients\n",
      "          without bias.\n",
      "\n",
      "    gpu_id : Optional[int]\n",
      "        Device ordinal.\n",
      "    validate_parameters : Optional[bool]\n",
      "        Give warnings for unknown parameter.\n",
      "    predictor : Optional[str]\n",
      "        Force XGBoost to use specific predictor, available choices are [cpu_predictor,\n",
      "        gpu_predictor].\n",
      "    enable_categorical : bool\n",
      "\n",
      "        .. versionadded:: 1.5.0\n",
      "\n",
      "        .. note:: This parameter is experimental\n",
      "\n",
      "        Experimental support for categorical data.  When enabled, cudf/pandas.DataFrame\n",
      "        should be used to specify categorical data type.  Also, JSON/UBJSON\n",
      "        serialization format is required.\n",
      "\n",
      "    feature_types : FeatureTypes\n",
      "\n",
      "        .. versionadded:: 1.7.0\n",
      "\n",
      "        Used for specifying feature types without constructing a dataframe. See\n",
      "        :py:class:`DMatrix` for details.\n",
      "\n",
      "    max_cat_to_onehot : Optional[int]\n",
      "\n",
      "        .. versionadded:: 1.6.0\n",
      "\n",
      "        .. note:: This parameter is experimental\n",
      "\n",
      "        A threshold for deciding whether XGBoost should use one-hot encoding based split\n",
      "        for categorical data.  When number of categories is lesser than the threshold\n",
      "        then one-hot encoding is chosen, otherwise the categories will be partitioned\n",
      "        into children nodes. Also, `enable_categorical` needs to be set to have\n",
      "        categorical feature support. See :doc:`Categorical Data\n",
      "        </tutorials/categorical>` and :ref:`cat-param` for details.\n",
      "\n",
      "    max_cat_threshold : Optional[int]\n",
      "\n",
      "        .. versionadded:: 1.7.0\n",
      "\n",
      "        .. note:: This parameter is experimental\n",
      "\n",
      "        Maximum number of categories considered for each split. Used only by\n",
      "        partition-based splits for preventing over-fitting. Also, `enable_categorical`\n",
      "        needs to be set to have categorical feature support. See :doc:`Categorical Data\n",
      "        </tutorials/categorical>` and :ref:`cat-param` for details.\n",
      "\n",
      "    eval_metric : Optional[Union[str, List[str], Callable]]\n",
      "\n",
      "        .. versionadded:: 1.6.0\n",
      "\n",
      "        Metric used for monitoring the training result and early stopping.  It can be a\n",
      "        string or list of strings as names of predefined metric in XGBoost (See\n",
      "        doc/parameter.rst), one of the metrics in :py:mod:`sklearn.metrics`, or any other\n",
      "        user defined metric that looks like `sklearn.metrics`.\n",
      "\n",
      "        If custom objective is also provided, then custom metric should implement the\n",
      "        corresponding reverse link function.\n",
      "\n",
      "        Unlike the `scoring` parameter commonly used in scikit-learn, when a callable\n",
      "        object is provided, it's assumed to be a cost function and by default XGBoost will\n",
      "        minimize the result during early stopping.\n",
      "\n",
      "        For advanced usage on Early stopping like directly choosing to maximize instead of\n",
      "        minimize, see :py:obj:`xgboost.callback.EarlyStopping`.\n",
      "\n",
      "        See :doc:`Custom Objective and Evaluation Metric </tutorials/custom_metric_obj>`\n",
      "        for more.\n",
      "\n",
      "        .. note::\n",
      "\n",
      "             This parameter replaces `eval_metric` in :py:meth:`fit` method.  The old one\n",
      "             receives un-transformed prediction regardless of whether custom objective is\n",
      "             being used.\n",
      "\n",
      "        .. code-block:: python\n",
      "\n",
      "            from sklearn.datasets import load_diabetes\n",
      "            from sklearn.metrics import mean_absolute_error\n",
      "            X, y = load_diabetes(return_X_y=True)\n",
      "            reg = xgb.XGBRegressor(\n",
      "                tree_method=\"hist\",\n",
      "                eval_metric=mean_absolute_error,\n",
      "            )\n",
      "            reg.fit(X, y, eval_set=[(X, y)])\n",
      "\n",
      "    early_stopping_rounds : Optional[int]\n",
      "\n",
      "        .. versionadded:: 1.6.0\n",
      "\n",
      "        Activates early stopping. Validation metric needs to improve at least once in\n",
      "        every **early_stopping_rounds** round(s) to continue training.  Requires at least\n",
      "        one item in **eval_set** in :py:meth:`fit`.\n",
      "\n",
      "        The method returns the model from the last iteration (not the best one).  If\n",
      "        there's more than one item in **eval_set**, the last entry will be used for early\n",
      "        stopping.  If there's more than one metric in **eval_metric**, the last metric\n",
      "        will be used for early stopping.\n",
      "\n",
      "        If early stopping occurs, the model will have three additional fields:\n",
      "        :py:attr:`best_score`, :py:attr:`best_iteration` and\n",
      "        :py:attr:`best_ntree_limit`.\n",
      "\n",
      "        .. note::\n",
      "\n",
      "            This parameter replaces `early_stopping_rounds` in :py:meth:`fit` method.\n",
      "\n",
      "    callbacks : Optional[List[TrainingCallback]]\n",
      "        List of callback functions that are applied at end of each iteration.\n",
      "        It is possible to use predefined callbacks by using\n",
      "        :ref:`Callback API <callback_api>`.\n",
      "\n",
      "        .. note::\n",
      "\n",
      "           States in callback are not preserved during training, which means callback\n",
      "           objects can not be reused for multiple training sessions without\n",
      "           reinitialization or deepcopy.\n",
      "\n",
      "        .. code-block:: python\n",
      "\n",
      "            for params in parameters_grid:\n",
      "                # be sure to (re)initialize the callbacks before each run\n",
      "                callbacks = [xgb.callback.LearningRateScheduler(custom_rates)]\n",
      "                xgboost.train(params, Xy, callbacks=callbacks)\n",
      "\n",
      "    kwargs : dict, optional\n",
      "        Keyword arguments for XGBoost Booster object.  Full documentation of parameters\n",
      "        can be found :doc:`here </parameter>`.\n",
      "        Attempting to set a parameter via the constructor args and \\*\\*kwargs\n",
      "        dict simultaneously will result in a TypeError.\n",
      "\n",
      "        .. note:: \\*\\*kwargs unsupported by scikit-learn\n",
      "\n",
      "            \\*\\*kwargs is unsupported by scikit-learn.  We do not guarantee\n",
      "            that parameters passed via this argument will interact properly\n",
      "            with scikit-learn.\n",
      "\n",
      "        .. note::  Custom objective function\n",
      "\n",
      "            A custom objective function can be provided for the ``objective``\n",
      "            parameter. In this case, it should have the signature\n",
      "            ``objective(y_true, y_pred) -> grad, hess``:\n",
      "\n",
      "            y_true: array_like of shape [n_samples]\n",
      "                The target values\n",
      "            y_pred: array_like of shape [n_samples]\n",
      "                The predicted values\n",
      "\n",
      "            grad: array_like of shape [n_samples]\n",
      "                The value of the gradient for each sample point.\n",
      "            hess: array_like of shape [n_samples]\n",
      "                The value of the second derivative for each sample point\n",
      "\n"
     ]
    }
   ],
   "source": [
    "print(xgb.XGBClassifier.__doc__)"
   ]
  },
  {
   "cell_type": "code",
   "execution_count": 6,
   "id": "7aef238f",
   "metadata": {
    "ExecuteTime": {
     "end_time": "2023-06-16T12:15:08.955572Z",
     "start_time": "2023-06-16T12:15:08.841988Z"
    },
    "scrolled": true
   },
   "outputs": [
    {
     "name": "stdout",
     "output_type": "stream",
     "text": [
      "AUC: 0.9762\n"
     ]
    }
   ],
   "source": [
    "# Создание классификатора XGBoost\n",
    "clf = xgb.XGBClassifier(objective='binary:logistic', eval_metric='auc')\n",
    "\n",
    "# Обучение модели на обучающей выборке\n",
    "clf.fit(X_train, y_train)\n",
    "\n",
    "# Прогнозирование классов на тестовой выборке\n",
    "y_pred = clf.predict_proba(X_test)[:,1]\n",
    "\n",
    "# Оценка точности модели\n",
    "auc = roc_auc_score(y_test, y_pred)\n",
    "print(\"AUC: %.4f\" % auc)"
   ]
  },
  {
   "cell_type": "markdown",
   "id": "e30dfe8c",
   "metadata": {},
   "source": [
    "### DMatrix"
   ]
  },
  {
   "cell_type": "code",
   "execution_count": 7,
   "id": "0fb76b62",
   "metadata": {
    "ExecuteTime": {
     "end_time": "2023-06-16T12:15:09.006037Z",
     "start_time": "2023-06-16T12:15:08.960520Z"
    }
   },
   "outputs": [
    {
     "name": "stdout",
     "output_type": "stream",
     "text": [
      "AUC: 0.9799\n"
     ]
    }
   ],
   "source": [
    "# Создание DMatrix из данных\n",
    "dtrain = xgb.DMatrix(X_train, label=y_train)\n",
    "\n",
    "# Задание параметров модели\n",
    "params = {\n",
    "    'objective': 'binary:logistic',\n",
    "    'eval_metric': 'auc',\n",
    "    'learning_rate': 0.1\n",
    "}\n",
    "\n",
    "# Обучение модели\n",
    "model = xgb.train(params, dtrain)\n",
    "\n",
    "y_pred = model.predict(xgb.DMatrix(X_test))\n",
    "\n",
    "# Оценка точности модели\n",
    "auc = roc_auc_score(y_test, y_pred)\n",
    "print(\"AUC: %.4f\" % auc)"
   ]
  },
  {
   "cell_type": "code",
   "execution_count": 8,
   "id": "2bf3ff30",
   "metadata": {
    "ExecuteTime": {
     "end_time": "2023-06-16T12:15:09.023241Z",
     "start_time": "2023-06-16T12:15:09.010063Z"
    }
   },
   "outputs": [
    {
     "data": {
      "text/plain": [
       "{'learner': {'generic_param': {'fail_on_invalid_gpu_id': '0',\n",
       "   'gpu_id': '-1',\n",
       "   'n_jobs': '0',\n",
       "   'nthread': '0',\n",
       "   'random_state': '0',\n",
       "   'seed': '0',\n",
       "   'seed_per_iteration': '0',\n",
       "   'validate_parameters': '1'},\n",
       "  'gradient_booster': {'gbtree_model_param': {'num_parallel_tree': '1',\n",
       "    'num_trees': '10',\n",
       "    'size_leaf_vector': '0'},\n",
       "   'gbtree_train_param': {'predictor': 'auto',\n",
       "    'process_type': 'default',\n",
       "    'tree_method': 'exact',\n",
       "    'updater': 'grow_colmaker,prune',\n",
       "    'updater_seq': 'grow_colmaker,prune'},\n",
       "   'name': 'gbtree',\n",
       "   'specified_updater': False,\n",
       "   'updater': {'grow_colmaker': {'colmaker_train_param': {'default_direction': 'learn',\n",
       "      'opt_dense_col': '1'},\n",
       "     'train_param': {'alpha': '0',\n",
       "      'cache_opt': '1',\n",
       "      'colsample_bylevel': '1',\n",
       "      'colsample_bynode': '1',\n",
       "      'colsample_bytree': '1',\n",
       "      'eta': '0.100000001',\n",
       "      'gamma': '0',\n",
       "      'grow_policy': 'depthwise',\n",
       "      'interaction_constraints': '',\n",
       "      'lambda': '1',\n",
       "      'learning_rate': '0.100000001',\n",
       "      'max_bin': '256',\n",
       "      'max_cat_threshold': '64',\n",
       "      'max_cat_to_onehot': '4',\n",
       "      'max_delta_step': '0',\n",
       "      'max_depth': '6',\n",
       "      'max_leaves': '0',\n",
       "      'min_child_weight': '1',\n",
       "      'min_split_loss': '0',\n",
       "      'monotone_constraints': '()',\n",
       "      'refresh_leaf': '1',\n",
       "      'reg_alpha': '0',\n",
       "      'reg_lambda': '1',\n",
       "      'sampling_method': 'uniform',\n",
       "      'sketch_ratio': '2',\n",
       "      'sparse_threshold': '0.20000000000000001',\n",
       "      'subsample': '1'}},\n",
       "    'prune': {'train_param': {'alpha': '0',\n",
       "      'cache_opt': '1',\n",
       "      'colsample_bylevel': '1',\n",
       "      'colsample_bynode': '1',\n",
       "      'colsample_bytree': '1',\n",
       "      'eta': '0.100000001',\n",
       "      'gamma': '0',\n",
       "      'grow_policy': 'depthwise',\n",
       "      'interaction_constraints': '',\n",
       "      'lambda': '1',\n",
       "      'learning_rate': '0.100000001',\n",
       "      'max_bin': '256',\n",
       "      'max_cat_threshold': '64',\n",
       "      'max_cat_to_onehot': '4',\n",
       "      'max_delta_step': '0',\n",
       "      'max_depth': '6',\n",
       "      'max_leaves': '0',\n",
       "      'min_child_weight': '1',\n",
       "      'min_split_loss': '0',\n",
       "      'monotone_constraints': '()',\n",
       "      'refresh_leaf': '1',\n",
       "      'reg_alpha': '0',\n",
       "      'reg_lambda': '1',\n",
       "      'sampling_method': 'uniform',\n",
       "      'sketch_ratio': '2',\n",
       "      'sparse_threshold': '0.20000000000000001',\n",
       "      'subsample': '1'}}}},\n",
       "  'learner_model_param': {'base_score': '5E-1',\n",
       "   'boost_from_average': '1',\n",
       "   'num_class': '0',\n",
       "   'num_feature': '2',\n",
       "   'num_target': '1'},\n",
       "  'learner_train_param': {'booster': 'gbtree',\n",
       "   'disable_default_eval_metric': '0',\n",
       "   'dsplit': 'auto',\n",
       "   'objective': 'binary:logistic'},\n",
       "  'metrics': [{'name': 'auc'}],\n",
       "  'objective': {'name': 'binary:logistic',\n",
       "   'reg_loss_param': {'scale_pos_weight': '1'}}},\n",
       " 'version': [1, 7, 5]}"
      ]
     },
     "execution_count": 8,
     "metadata": {},
     "output_type": "execute_result"
    }
   ],
   "source": [
    "import json\n",
    "json.loads(model.save_config())"
   ]
  },
  {
   "cell_type": "markdown",
   "id": "f7ddafb6",
   "metadata": {},
   "source": [
    "### cv"
   ]
  },
  {
   "cell_type": "markdown",
   "id": "2768817f",
   "metadata": {},
   "source": [
    "https://lightgbm.readthedocs.io/en/latest/pythonapi/lightgbm.cv.html"
   ]
  },
  {
   "cell_type": "code",
   "execution_count": 9,
   "id": "f865f0ee",
   "metadata": {
    "ExecuteTime": {
     "end_time": "2023-06-16T12:15:09.119333Z",
     "start_time": "2023-06-16T12:15:09.025998Z"
    }
   },
   "outputs": [
    {
     "data": {
      "text/html": [
       "<div>\n",
       "<style scoped>\n",
       "    .dataframe tbody tr th:only-of-type {\n",
       "        vertical-align: middle;\n",
       "    }\n",
       "\n",
       "    .dataframe tbody tr th {\n",
       "        vertical-align: top;\n",
       "    }\n",
       "\n",
       "    .dataframe thead th {\n",
       "        text-align: right;\n",
       "    }\n",
       "</style>\n",
       "<table border=\"1\" class=\"dataframe\">\n",
       "  <thead>\n",
       "    <tr style=\"text-align: right;\">\n",
       "      <th></th>\n",
       "      <th>train-auc-mean</th>\n",
       "      <th>train-auc-std</th>\n",
       "      <th>test-auc-mean</th>\n",
       "      <th>test-auc-std</th>\n",
       "    </tr>\n",
       "  </thead>\n",
       "  <tbody>\n",
       "    <tr>\n",
       "      <th>0</th>\n",
       "      <td>0.977342</td>\n",
       "      <td>0.003763</td>\n",
       "      <td>0.964689</td>\n",
       "      <td>0.002251</td>\n",
       "    </tr>\n",
       "    <tr>\n",
       "      <th>1</th>\n",
       "      <td>0.978272</td>\n",
       "      <td>0.002621</td>\n",
       "      <td>0.964979</td>\n",
       "      <td>0.002398</td>\n",
       "    </tr>\n",
       "    <tr>\n",
       "      <th>2</th>\n",
       "      <td>0.979510</td>\n",
       "      <td>0.001436</td>\n",
       "      <td>0.967876</td>\n",
       "      <td>0.003273</td>\n",
       "    </tr>\n",
       "    <tr>\n",
       "      <th>3</th>\n",
       "      <td>0.980046</td>\n",
       "      <td>0.001321</td>\n",
       "      <td>0.968064</td>\n",
       "      <td>0.003494</td>\n",
       "    </tr>\n",
       "    <tr>\n",
       "      <th>4</th>\n",
       "      <td>0.980119</td>\n",
       "      <td>0.001226</td>\n",
       "      <td>0.968426</td>\n",
       "      <td>0.003449</td>\n",
       "    </tr>\n",
       "    <tr>\n",
       "      <th>5</th>\n",
       "      <td>0.980828</td>\n",
       "      <td>0.001788</td>\n",
       "      <td>0.968566</td>\n",
       "      <td>0.003356</td>\n",
       "    </tr>\n",
       "    <tr>\n",
       "      <th>6</th>\n",
       "      <td>0.982269</td>\n",
       "      <td>0.001975</td>\n",
       "      <td>0.970558</td>\n",
       "      <td>0.001785</td>\n",
       "    </tr>\n",
       "    <tr>\n",
       "      <th>7</th>\n",
       "      <td>0.983135</td>\n",
       "      <td>0.002553</td>\n",
       "      <td>0.970772</td>\n",
       "      <td>0.001743</td>\n",
       "    </tr>\n",
       "    <tr>\n",
       "      <th>8</th>\n",
       "      <td>0.985379</td>\n",
       "      <td>0.001615</td>\n",
       "      <td>0.971757</td>\n",
       "      <td>0.002535</td>\n",
       "    </tr>\n",
       "    <tr>\n",
       "      <th>9</th>\n",
       "      <td>0.985661</td>\n",
       "      <td>0.001545</td>\n",
       "      <td>0.972175</td>\n",
       "      <td>0.002411</td>\n",
       "    </tr>\n",
       "    <tr>\n",
       "      <th>10</th>\n",
       "      <td>0.986312</td>\n",
       "      <td>0.000893</td>\n",
       "      <td>0.972287</td>\n",
       "      <td>0.002264</td>\n",
       "    </tr>\n",
       "    <tr>\n",
       "      <th>11</th>\n",
       "      <td>0.986735</td>\n",
       "      <td>0.000725</td>\n",
       "      <td>0.972809</td>\n",
       "      <td>0.002591</td>\n",
       "    </tr>\n",
       "    <tr>\n",
       "      <th>12</th>\n",
       "      <td>0.987470</td>\n",
       "      <td>0.000529</td>\n",
       "      <td>0.973340</td>\n",
       "      <td>0.003264</td>\n",
       "    </tr>\n",
       "    <tr>\n",
       "      <th>13</th>\n",
       "      <td>0.987665</td>\n",
       "      <td>0.000537</td>\n",
       "      <td>0.973424</td>\n",
       "      <td>0.003399</td>\n",
       "    </tr>\n",
       "    <tr>\n",
       "      <th>14</th>\n",
       "      <td>0.988380</td>\n",
       "      <td>0.000385</td>\n",
       "      <td>0.974303</td>\n",
       "      <td>0.003202</td>\n",
       "    </tr>\n",
       "    <tr>\n",
       "      <th>15</th>\n",
       "      <td>0.988687</td>\n",
       "      <td>0.000444</td>\n",
       "      <td>0.974526</td>\n",
       "      <td>0.003254</td>\n",
       "    </tr>\n",
       "    <tr>\n",
       "      <th>16</th>\n",
       "      <td>0.988816</td>\n",
       "      <td>0.000422</td>\n",
       "      <td>0.974999</td>\n",
       "      <td>0.002945</td>\n",
       "    </tr>\n",
       "    <tr>\n",
       "      <th>17</th>\n",
       "      <td>0.989011</td>\n",
       "      <td>0.000541</td>\n",
       "      <td>0.974966</td>\n",
       "      <td>0.002834</td>\n",
       "    </tr>\n",
       "    <tr>\n",
       "      <th>18</th>\n",
       "      <td>0.989110</td>\n",
       "      <td>0.000653</td>\n",
       "      <td>0.975127</td>\n",
       "      <td>0.002876</td>\n",
       "    </tr>\n",
       "    <tr>\n",
       "      <th>19</th>\n",
       "      <td>0.989303</td>\n",
       "      <td>0.000583</td>\n",
       "      <td>0.975347</td>\n",
       "      <td>0.002790</td>\n",
       "    </tr>\n",
       "  </tbody>\n",
       "</table>\n",
       "</div>"
      ],
      "text/plain": [
       "    train-auc-mean  train-auc-std  test-auc-mean  test-auc-std\n",
       "0         0.977342       0.003763       0.964689      0.002251\n",
       "1         0.978272       0.002621       0.964979      0.002398\n",
       "2         0.979510       0.001436       0.967876      0.003273\n",
       "3         0.980046       0.001321       0.968064      0.003494\n",
       "4         0.980119       0.001226       0.968426      0.003449\n",
       "5         0.980828       0.001788       0.968566      0.003356\n",
       "6         0.982269       0.001975       0.970558      0.001785\n",
       "7         0.983135       0.002553       0.970772      0.001743\n",
       "8         0.985379       0.001615       0.971757      0.002535\n",
       "9         0.985661       0.001545       0.972175      0.002411\n",
       "10        0.986312       0.000893       0.972287      0.002264\n",
       "11        0.986735       0.000725       0.972809      0.002591\n",
       "12        0.987470       0.000529       0.973340      0.003264\n",
       "13        0.987665       0.000537       0.973424      0.003399\n",
       "14        0.988380       0.000385       0.974303      0.003202\n",
       "15        0.988687       0.000444       0.974526      0.003254\n",
       "16        0.988816       0.000422       0.974999      0.002945\n",
       "17        0.989011       0.000541       0.974966      0.002834\n",
       "18        0.989110       0.000653       0.975127      0.002876\n",
       "19        0.989303       0.000583       0.975347      0.002790"
      ]
     },
     "execution_count": 9,
     "metadata": {},
     "output_type": "execute_result"
    }
   ],
   "source": [
    "xgb.cv(params, dtrain, nfold=3, num_boost_round=1000, early_stopping_rounds=5)"
   ]
  },
  {
   "cell_type": "markdown",
   "id": "0149bf03",
   "metadata": {},
   "source": [
    "Документация по XGBoost.DMatrix\n",
    "- https://xgboost.readthedocs.io/en/stable/python/python_api.html#module-xgboost.core\n",
    "- https://xgboost.readthedocs.io/en/stable/python/python_intro.html#data-interface\n",
    "\n",
    "DMatrix is an internal data structure that is used by XGBoost, which is optimized for both memory efficiency and training speed. You can construct DMatrix from multiple different sources of data."
   ]
  },
  {
   "cell_type": "markdown",
   "id": "a120efdb",
   "metadata": {},
   "source": [
    "## LighGBM"
   ]
  },
  {
   "cell_type": "code",
   "execution_count": 10,
   "id": "e70a5203",
   "metadata": {
    "ExecuteTime": {
     "end_time": "2023-06-16T12:15:09.848449Z",
     "start_time": "2023-06-16T12:15:09.121747Z"
    }
   },
   "outputs": [],
   "source": [
    "import lightgbm as lgb"
   ]
  },
  {
   "cell_type": "markdown",
   "id": "ea83a6fa",
   "metadata": {},
   "source": [
    "### Sklearn API"
   ]
  },
  {
   "cell_type": "code",
   "execution_count": 11,
   "id": "f459c11a",
   "metadata": {
    "ExecuteTime": {
     "end_time": "2023-06-16T12:15:09.912981Z",
     "start_time": "2023-06-16T12:15:09.850457Z"
    }
   },
   "outputs": [
    {
     "name": "stdout",
     "output_type": "stream",
     "text": [
      "AUC: 0.9775\n"
     ]
    }
   ],
   "source": [
    "# Создание классификатора LightGBM\n",
    "clf = lgb.LGBMClassifier()\n",
    "\n",
    "# Обучение модели на обучающей выборке\n",
    "clf.fit(X_train, y_train)\n",
    "\n",
    "# Прогнозирование классов на тестовой выборке\n",
    "y_pred = clf.predict_proba(X_test)[:,1]\n",
    "\n",
    "# Оценка точности модели\n",
    "auc = roc_auc_score(y_test, y_pred)\n",
    "print(\"AUC: %.4f\" % auc)"
   ]
  },
  {
   "cell_type": "markdown",
   "id": "6a904452",
   "metadata": {},
   "source": [
    "### LightGBM dataset"
   ]
  },
  {
   "cell_type": "code",
   "execution_count": 12,
   "id": "c7a3426d",
   "metadata": {
    "ExecuteTime": {
     "end_time": "2023-06-16T12:15:09.982313Z",
     "start_time": "2023-06-16T12:15:09.915467Z"
    }
   },
   "outputs": [
    {
     "name": "stdout",
     "output_type": "stream",
     "text": [
      "[LightGBM] [Info] Number of positive: 1053, number of negative: 1047\n",
      "[LightGBM] [Warning] Auto-choosing col-wise multi-threading, the overhead of testing was 0.000273 seconds.\n",
      "You can set `force_col_wise=true` to remove the overhead.\n",
      "[LightGBM] [Info] Total Bins 510\n",
      "[LightGBM] [Info] Number of data points in the train set: 2100, number of used features: 2\n",
      "[LightGBM] [Info] [binary:BoostFromScore]: pavg=0.501429 -> initscore=0.005714\n",
      "[LightGBM] [Info] Start training from score 0.005714\n",
      "AUC: 0.9775\n"
     ]
    }
   ],
   "source": [
    "# Создание Dataset из данных\n",
    "train_data = lgb.Dataset(X_train, label=y_train)\n",
    "\n",
    "# Задание параметров модели\n",
    "params = {\n",
    "    'objective': 'binary',\n",
    "    'metric': 'auc',\n",
    "    'learning_rate': 0.1\n",
    "}\n",
    "\n",
    "# Обучение модели\n",
    "model = lgb.train(params, train_data)\n",
    "\n",
    "y_pred = model.predict(X_test)\n",
    "\n",
    "# Оценка точности модели\n",
    "auc = roc_auc_score(y_test, y_pred)\n",
    "print(\"AUC: %.4f\" % auc)"
   ]
  },
  {
   "cell_type": "markdown",
   "id": "16d3685b",
   "metadata": {},
   "source": [
    "Документация по lightgbm.Dataset https://lightgbm.readthedocs.io/en/latest/pythonapi/lightgbm.Dataset.html"
   ]
  },
  {
   "cell_type": "markdown",
   "id": "6a5d9884",
   "metadata": {},
   "source": [
    "### cv"
   ]
  },
  {
   "cell_type": "markdown",
   "id": "51ab6d02",
   "metadata": {},
   "source": [
    "https://lightgbm.readthedocs.io/en/latest/pythonapi/lightgbm.cv.html"
   ]
  },
  {
   "cell_type": "code",
   "execution_count": 13,
   "id": "fb709ec7",
   "metadata": {
    "ExecuteTime": {
     "end_time": "2023-06-16T12:15:10.191525Z",
     "start_time": "2023-06-16T12:15:09.984577Z"
    }
   },
   "outputs": [
    {
     "name": "stdout",
     "output_type": "stream",
     "text": [
      "[LightGBM] [Info] Number of positive: 702, number of negative: 698\n",
      "[LightGBM] [Warning] Auto-choosing col-wise multi-threading, the overhead of testing was 0.000108 seconds.\n",
      "You can set `force_col_wise=true` to remove the overhead.\n",
      "[LightGBM] [Info] Total Bins 510\n",
      "[LightGBM] [Info] Number of data points in the train set: 1400, number of used features: 2\n",
      "[LightGBM] [Info] Number of positive: 702, number of negative: 698\n",
      "[LightGBM] [Warning] Auto-choosing col-wise multi-threading, the overhead of testing was 0.000127 seconds.\n",
      "You can set `force_col_wise=true` to remove the overhead.\n",
      "[LightGBM] [Info] Total Bins 510\n",
      "[LightGBM] [Info] Number of data points in the train set: 1400, number of used features: 2\n",
      "[LightGBM] [Info] Number of positive: 702, number of negative: 698\n",
      "[LightGBM] [Warning] Auto-choosing col-wise multi-threading, the overhead of testing was 0.000306 seconds.\n",
      "You can set `force_col_wise=true` to remove the overhead.\n",
      "[LightGBM] [Info] Total Bins 510\n",
      "[LightGBM] [Info] Number of data points in the train set: 1400, number of used features: 2\n",
      "[LightGBM] [Info] [binary:BoostFromScore]: pavg=0.501429 -> initscore=0.005714\n",
      "[LightGBM] [Info] Start training from score 0.005714\n",
      "[LightGBM] [Info] [binary:BoostFromScore]: pavg=0.501429 -> initscore=0.005714\n",
      "[LightGBM] [Info] Start training from score 0.005714\n",
      "[LightGBM] [Info] [binary:BoostFromScore]: pavg=0.501429 -> initscore=0.005714\n",
      "[LightGBM] [Info] Start training from score 0.005714\n"
     ]
    },
    {
     "data": {
      "text/plain": [
       "{'auc-mean': [0.9687412414251001,\n",
       "  0.9678310299131695,\n",
       "  0.9686351181098077,\n",
       "  0.9698079167993208,\n",
       "  0.9698582573463185,\n",
       "  0.9692922663314257,\n",
       "  0.9696609768243006,\n",
       "  0.9705888755554467,\n",
       "  0.9709984027080493,\n",
       "  0.9716922859234224,\n",
       "  0.9723072569299885,\n",
       "  0.9723780058068501,\n",
       "  0.9724215435772265,\n",
       "  0.9724079380239838,\n",
       "  0.9727235868592125,\n",
       "  0.9736269955945219,\n",
       "  0.9740718971855552,\n",
       "  0.9748637403842753,\n",
       "  0.9748215631692232,\n",
       "  0.9748732642715451,\n",
       "  0.9747644198456041,\n",
       "  0.9749154414865971,\n",
       "  0.9745616971022892,\n",
       "  0.9744936693360762,\n",
       "  0.9744133965719448,\n",
       "  0.9738269972271882,\n",
       "  0.9741235982878772,\n",
       "  0.9735984239327125,\n",
       "  0.9736351589264673,\n",
       "  0.9737426427970841,\n",
       "  0.9735820972688213,\n",
       "  0.9732093051099736,\n",
       "  0.9729167857152575,\n",
       "  0.9730746101328718,\n",
       "  0.9736093083753065,\n",
       "  0.9739725766468842,\n",
       "  0.9738759772188618,\n",
       "  0.973841963335755,\n",
       "  0.9735480833857147,\n",
       "  0.9736297167051703,\n",
       "  0.9738746166635375,\n",
       "  0.9737004655820319,\n",
       "  0.973794343899406,\n",
       "  0.9738977461040498,\n",
       "  0.9739712160915599,\n",
       "  0.9740256383045303,\n",
       "  0.973919514989238,\n",
       "  0.9738378816697825,\n",
       "  0.973711350024626,\n",
       "  0.9737521666843539,\n",
       "  0.9736460433690616,\n",
       "  0.9737222344672202,\n",
       "  0.9736773361415195,\n",
       "  0.9735222328345539,\n",
       "  0.9736052267093337,\n",
       "  0.9735154300579324,\n",
       "  0.9734310756278283,\n",
       "  0.9734705317322319,\n",
       "  0.9733684900829123,\n",
       "  0.9733059045379963,\n",
       "  0.9733535239743453,\n",
       "  0.9732446795484044,\n",
       "  0.9731956995567311,\n",
       "  0.9731127056819512,\n",
       "  0.9729848134814706,\n",
       "  0.9727698457402374,\n",
       "  0.9727943357360741,\n",
       "  0.97285692128099,\n",
       "  0.9729045407173391,\n",
       "  0.9729616840409582,\n",
       "  0.9730133851432802,\n",
       "  0.9728854929427996,\n",
       "  0.9727058996399971,\n",
       "  0.9726936546420787,\n",
       "  0.9725195035605733,\n",
       "  0.9724922924540881,\n",
       "  0.9724569180156574,\n",
       "  0.972372563585553,\n",
       "  0.9724133802452809,\n",
       "  0.9724215435772264,\n",
       "  0.9723943324707413,\n",
       "  0.9723072569299885,\n",
       "  0.9722392291637755,\n",
       "  0.9721439902910772,\n",
       "  0.9720541936396759,\n",
       "  0.9720024925373539,\n",
       "  0.9719643969882746,\n",
       "  0.9720324247544877,\n",
       "  0.9719997714267056,\n",
       "  0.971836504787794,\n",
       "  0.9719317436604925,\n",
       "  0.9719181381072498,\n",
       "  0.9719018114433586,\n",
       "  0.971757592578987,\n",
       "  0.9717385448044474,\n",
       "  0.9716800409255041,\n",
       "  0.9716201764912368,\n",
       "  0.971538543171781,\n",
       "  0.9715657542782662,\n",
       "  0.9715902442741028],\n",
       " 'auc-stdv': [0.0019121674548426431,\n",
       "  0.0031562379297989107,\n",
       "  0.0014937683072032244,\n",
       "  0.0044891497667431226,\n",
       "  0.004551934616415176,\n",
       "  0.006081218718969394,\n",
       "  0.005744530754459504,\n",
       "  0.004669464326629725,\n",
       "  0.004139601312494531,\n",
       "  0.0038353419917259743,\n",
       "  0.0036202334498446707,\n",
       "  0.0038115335161901633,\n",
       "  0.004060715891542216,\n",
       "  0.004219381933644894,\n",
       "  0.0043316846666320045,\n",
       "  0.003924303852560533,\n",
       "  0.0038578607997368165,\n",
       "  0.00233082386884472,\n",
       "  0.002409825023250657,\n",
       "  0.0027510691076958983,\n",
       "  0.002568736379157108,\n",
       "  0.002392363125422451,\n",
       "  0.0024893262465708246,\n",
       "  0.002558682640015097,\n",
       "  0.002412869588990317,\n",
       "  0.0027839641687097787,\n",
       "  0.0026988472823633388,\n",
       "  0.003043000530912201,\n",
       "  0.002794405096360978,\n",
       "  0.002807998315612795,\n",
       "  0.0028354279799033405,\n",
       "  0.0022883027877171926,\n",
       "  0.002150554705392052,\n",
       "  0.0021319437409776133,\n",
       "  0.002410797306951835,\n",
       "  0.002109433863520949,\n",
       "  0.0020529071188607555,\n",
       "  0.002053250638643839,\n",
       "  0.002021852963808374,\n",
       "  0.0018879763005101278,\n",
       "  0.0017494445514495663,\n",
       "  0.0016239229513628458,\n",
       "  0.0017494953401573636,\n",
       "  0.001889395492779801,\n",
       "  0.001772414590990944,\n",
       "  0.001681888533393677,\n",
       "  0.001717359307542533,\n",
       "  0.0016124365863718756,\n",
       "  0.0016742140494045818,\n",
       "  0.0018957696870080117,\n",
       "  0.0020305658064875,\n",
       "  0.0018865864579466797,\n",
       "  0.001951756328703167,\n",
       "  0.0019142302661303663,\n",
       "  0.0020856696291221273,\n",
       "  0.0019973276540600614,\n",
       "  0.001993091421369209,\n",
       "  0.0020621001282142863,\n",
       "  0.0020689452644318753,\n",
       "  0.0019023570431497,\n",
       "  0.0018941168251361544,\n",
       "  0.0019159527318351234,\n",
       "  0.0018277692326515982,\n",
       "  0.0017911037787837977,\n",
       "  0.001554417637007391,\n",
       "  0.0015550891431719111,\n",
       "  0.001634673108777443,\n",
       "  0.0015422325206947802,\n",
       "  0.0016569765316703986,\n",
       "  0.0015751435211860626,\n",
       "  0.0015793334174193467,\n",
       "  0.0015999332308384326,\n",
       "  0.0016893462716435583,\n",
       "  0.0016149923512984716,\n",
       "  0.0015528985342655353,\n",
       "  0.001593200408743855,\n",
       "  0.0015878607463531392,\n",
       "  0.0015331472472070668,\n",
       "  0.0016119819060165237,\n",
       "  0.0016503709937339176,\n",
       "  0.0016396763409450557,\n",
       "  0.0016139512624479498,\n",
       "  0.001638646416092658,\n",
       "  0.001723350504385163,\n",
       "  0.0017296163574280227,\n",
       "  0.0016480004019962299,\n",
       "  0.0018037372032823347,\n",
       "  0.0018721399465272748,\n",
       "  0.001834856027957055,\n",
       "  0.001859090197153741,\n",
       "  0.0017338237188435038,\n",
       "  0.001722998152142354,\n",
       "  0.0018043364419940819,\n",
       "  0.001798483289270145,\n",
       "  0.0017214503865083909,\n",
       "  0.0017167092216184357,\n",
       "  0.0017148470827281776,\n",
       "  0.0016707563984631518,\n",
       "  0.0017386374603296233,\n",
       "  0.00176485476339548]}"
      ]
     },
     "execution_count": 13,
     "metadata": {},
     "output_type": "execute_result"
    }
   ],
   "source": [
    "lgb.cv(params, train_data, num_boost_round=100, nfold=3)"
   ]
  }
 ],
 "metadata": {
  "kernelspec": {
   "display_name": "Python 3 (ipykernel)",
   "language": "python",
   "name": "python3"
  },
  "language_info": {
   "codemirror_mode": {
    "name": "ipython",
    "version": 3
   },
   "file_extension": ".py",
   "mimetype": "text/x-python",
   "name": "python",
   "nbconvert_exporter": "python",
   "pygments_lexer": "ipython3",
   "version": "3.9.6"
  },
  "toc": {
   "base_numbering": 1,
   "nav_menu": {},
   "number_sections": true,
   "sideBar": true,
   "skip_h1_title": false,
   "title_cell": "Table of Contents",
   "title_sidebar": "Contents",
   "toc_cell": true,
   "toc_position": {
    "height": "calc(100% - 180px)",
    "left": "10px",
    "top": "150px",
    "width": "307.195px"
   },
   "toc_section_display": true,
   "toc_window_display": true
  }
 },
 "nbformat": 4,
 "nbformat_minor": 5
}
