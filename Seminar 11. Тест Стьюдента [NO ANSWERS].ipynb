{
 "cells": [
  {
   "cell_type": "markdown",
   "id": "8607bd82",
   "metadata": {
    "toc": true
   },
   "source": [
    "<h1>Table of Contents<span class=\"tocSkip\"></span></h1>\n",
    "<div class=\"toc\"><ul class=\"toc-item\"><li><span><a href=\"#Нулевая-гипотеза\" data-toc-modified-id=\"Нулевая-гипотеза-1\"><span class=\"toc-item-num\">1&nbsp;&nbsp;</span>Нулевая гипотеза</a></span></li><li><span><a href=\"#Т-тест-Стьюдента-для-независимых-выборок\" data-toc-modified-id=\"Т-тест-Стьюдента-для-независимых-выборок-2\"><span class=\"toc-item-num\">2&nbsp;&nbsp;</span>Т-тест Стьюдента для независимых выборок</a></span><ul class=\"toc-item\"><li><span><a href=\"#Генерация-данных\" data-toc-modified-id=\"Генерация-данных-2.1\"><span class=\"toc-item-num\">2.1&nbsp;&nbsp;</span>Генерация данных</a></span></li><li><span><a href=\"#Проверка-на-нормальность-распределения\" data-toc-modified-id=\"Проверка-на-нормальность-распределения-2.2\"><span class=\"toc-item-num\">2.2&nbsp;&nbsp;</span>Проверка на нормальность распределения</a></span><ul class=\"toc-item\"><li><span><a href=\"#QQ-plot\" data-toc-modified-id=\"QQ-plot-2.2.1\"><span class=\"toc-item-num\">2.2.1&nbsp;&nbsp;</span>QQ-plot</a></span></li><li><span><a href=\"#Shapiro\" data-toc-modified-id=\"Shapiro-2.2.2\"><span class=\"toc-item-num\">2.2.2&nbsp;&nbsp;</span>Shapiro</a></span></li><li><span><a href=\"#Тест-Колмогорова-Смирнова\" data-toc-modified-id=\"Тест-Колмогорова-Смирнова-2.2.3\"><span class=\"toc-item-num\">2.2.3&nbsp;&nbsp;</span>Тест Колмогорова-Смирнова</a></span></li></ul></li><li><span><a href=\"#Проверка-равенства-дисперсий\" data-toc-modified-id=\"Проверка-равенства-дисперсий-2.3\"><span class=\"toc-item-num\">2.3&nbsp;&nbsp;</span>Проверка равенства дисперсий</a></span><ul class=\"toc-item\"><li><span><a href=\"#Визуализация\" data-toc-modified-id=\"Визуализация-2.3.1\"><span class=\"toc-item-num\">2.3.1&nbsp;&nbsp;</span>Визуализация</a></span></li><li><span><a href=\"#Тест-Левена\" data-toc-modified-id=\"Тест-Левена-2.3.2\"><span class=\"toc-item-num\">2.3.2&nbsp;&nbsp;</span>Тест Левена</a></span></li><li><span><a href=\"#Теста-Бартлетта\" data-toc-modified-id=\"Теста-Бартлетта-2.3.3\"><span class=\"toc-item-num\">2.3.3&nbsp;&nbsp;</span>Теста Бартлетта</a></span></li></ul></li><li><span><a href=\"#T-тест-для-независимых-выборок\" data-toc-modified-id=\"T-тест-для-независимых-выборок-2.4\"><span class=\"toc-item-num\">2.4&nbsp;&nbsp;</span>T тест для независимых выборок</a></span><ul class=\"toc-item\"><li><span><a href=\"#С-помощью-использования-scipy.stats\" data-toc-modified-id=\"С-помощью-использования-scipy.stats-2.4.1\"><span class=\"toc-item-num\">2.4.1&nbsp;&nbsp;</span>С помощью использования scipy.stats</a></span></li><li><span><a href=\"#Через-формулы\" data-toc-modified-id=\"Через-формулы-2.4.2\"><span class=\"toc-item-num\">2.4.2&nbsp;&nbsp;</span>Через формулы</a></span></li></ul></li><li><span><a href=\"#U-тест---как-альтернатива-(если-не-выполняются-условия)\" data-toc-modified-id=\"U-тест---как-альтернатива-(если-не-выполняются-условия)-2.5\"><span class=\"toc-item-num\">2.5&nbsp;&nbsp;</span>U-тест - как альтернатива (если не выполняются условия)</a></span></li></ul></li><li><span><a href=\"#Т-тест-Стьюдента-для-зависимых-выборок\" data-toc-modified-id=\"Т-тест-Стьюдента-для-зависимых-выборок-3\"><span class=\"toc-item-num\">3&nbsp;&nbsp;</span>Т-тест Стьюдента для зависимых выборок</a></span><ul class=\"toc-item\"><li><span><a href=\"#Т-тест\" data-toc-modified-id=\"Т-тест-3.1\"><span class=\"toc-item-num\">3.1&nbsp;&nbsp;</span>Т-тест</a></span><ul class=\"toc-item\"><li><span><a href=\"#С-помощью-использования-scipy.stats\" data-toc-modified-id=\"С-помощью-использования-scipy.stats-3.1.1\"><span class=\"toc-item-num\">3.1.1&nbsp;&nbsp;</span>С помощью использования scipy.stats</a></span></li><li><span><a href=\"#С-помощью-формул\" data-toc-modified-id=\"С-помощью-формул-3.1.2\"><span class=\"toc-item-num\">3.1.2&nbsp;&nbsp;</span>С помощью формул</a></span></li></ul></li><li><span><a href=\"#Wilcoxon---как-альтернатива-(если-не-выполняются-условия)\" data-toc-modified-id=\"Wilcoxon---как-альтернатива-(если-не-выполняются-условия)-3.2\"><span class=\"toc-item-num\">3.2&nbsp;&nbsp;</span>Wilcoxon - как альтернатива (если не выполняются условия)</a></span></li></ul></li></ul></div>"
   ]
  },
  {
   "cell_type": "markdown",
   "id": "b7022f86",
   "metadata": {},
   "source": [
    "https://docs.scipy.org/doc/scipy/reference/stats.html#statistical-tests"
   ]
  },
  {
   "cell_type": "markdown",
   "id": "f4587701",
   "metadata": {},
   "source": [
    "# Нулевая гипотеза"
   ]
  },
  {
   "cell_type": "markdown",
   "id": "c85163b2",
   "metadata": {
    "ExecuteTime": {
     "end_time": "2023-05-16T08:52:13.480758Z",
     "start_time": "2023-05-16T08:52:13.477266Z"
    }
   },
   "source": [
    "<img src='https://leansixsigmadefinition.com/wp-content/uploads/2019/10/p-value-decision-1024x316.jpg'>"
   ]
  },
  {
   "cell_type": "markdown",
   "id": "04adb18a",
   "metadata": {},
   "source": [
    "Примеры формулировок нулевых гипотез:\n",
    "\n",
    "    - H0: средние двух выборок не отличаются\n",
    "        - Если p-value < 0.05 - то нулевую гипотезу отвергаем -> средние двух выборок НЕ РАВНЫ\n",
    "        - Если p-value >= 0.05 - то нулевую гипотезу не отвергаем -> средние двух выборок РАВНЫ\n",
    "        \n",
    "    - H0: выборка соответствует нормальному распределению\n",
    "        - Если p-value < 0.05 - то нулевую гипотезу отвергаем -> выборка НЕ ПРИНАДЛЕЖИТ нормальному распределению\n",
    "        - Если p-value >= 0.05 - то нулевую гипотезу не отвергаем -> выборка ПРИНАДЛЕЖИТ нормальному распределению"
   ]
  },
  {
   "cell_type": "code",
   "execution_count": 1,
   "id": "cd2909e1",
   "metadata": {
    "ExecuteTime": {
     "end_time": "2023-05-16T10:42:46.525640Z",
     "start_time": "2023-05-16T10:42:44.969415Z"
    }
   },
   "outputs": [],
   "source": [
    "from scipy import stats\n",
    "import numpy as np\n",
    "import matplotlib.pyplot as plt\n",
    "import pandas as pd"
   ]
  },
  {
   "cell_type": "markdown",
   "id": "0fe97795",
   "metadata": {},
   "source": [
    "# Т-тест Стьюдента для независимых выборок"
   ]
  },
  {
   "cell_type": "markdown",
   "id": "95e818b9",
   "metadata": {},
   "source": [
    "1. Выборки должны быть независимы\n",
    "2. Переменные должны быть численными\n",
    "3. Переменные должны быть распределены нормально\n",
    "4. Дисперсия между выборками должна быть похожей"
   ]
  },
  {
   "cell_type": "markdown",
   "id": "44655d81",
   "metadata": {},
   "source": [
    "## Генерация данных"
   ]
  },
  {
   "cell_type": "code",
   "execution_count": 2,
   "id": "0a7e0d61",
   "metadata": {
    "ExecuteTime": {
     "end_time": "2023-05-16T10:42:46.532536Z",
     "start_time": "2023-05-16T10:42:46.528644Z"
    }
   },
   "outputs": [],
   "source": [
    "# Генерация выборки из нормального распределения с заданными параметрами\n",
    "mu_1 = 0\n",
    "mu_2 = 0.5\n",
    "sigma_1 = 1\n",
    "sigma_2 = 1\n",
    "n = 30\n",
    "\n",
    "sample_1 = np.random.normal(loc=mu_1, scale=sigma_1, size=n)\n",
    "sample_2 = np.random.normal(loc=mu_2, scale=sigma_2, size=n)"
   ]
  },
  {
   "cell_type": "code",
   "execution_count": 3,
   "id": "2ec64fc4",
   "metadata": {
    "ExecuteTime": {
     "end_time": "2023-05-16T10:42:46.703763Z",
     "start_time": "2023-05-16T10:42:46.539509Z"
    }
   },
   "outputs": [
    {
     "data": {
      "image/png": "[encoded data removed]",
      "text/plain": [
       "<Figure size 640x480 with 1 Axes>"
      ]
     },
     "metadata": {},
     "output_type": "display_data"
    }
   ],
   "source": [
    "pd.Series(sample_1).hist(color='orange', bins=10)\n",
    "pd.Series(sample_2).hist(color='pink', bins=10)\n",
    "plt.axvline(x=mu_1, color='red', linestyle='--')\n",
    "plt.axvline(x=mu_2, color='red', linestyle='--')\n",
    "plt.show()"
   ]
  },
  {
   "cell_type": "markdown",
   "id": "cded5116",
   "metadata": {},
   "source": [
    "## Проверка на нормальность распределения"
   ]
  },
  {
   "cell_type": "markdown",
   "id": "25cf58e4",
   "metadata": {},
   "source": [
    "### QQ-plot"
   ]
  },
  {
   "cell_type": "code",
   "execution_count": 5,
   "id": "d393d71f",
   "metadata": {
    "ExecuteTime": {
     "end_time": "2023-05-16T10:42:47.401958Z",
     "start_time": "2023-05-16T10:42:46.705511Z"
    }
   },
   "outputs": [
    {
     "data": {
      "image/png": "[encoded data removed]",
      "text/plain": [
       "<Figure size 1000x500 with 2 Axes>"
      ]
     },
     "metadata": {},
     "output_type": "display_data"
    }
   ],
   "source": [
    "import statsmodels.api as sm\n",
    "\n",
    "# Строим QQ-plot для каждой выборки\n",
    "fig, ax = plt.subplots(1, 2, figsize=(10,5))\n",
    "_ = sm.graphics.qqplot(sample_1, line='s', ax=ax[0])\n",
    "_ = sm.graphics.qqplot(sample_2, line='s', ax=ax[1])\n",
    "ax[0].set_title('Sample 1 QQ-plot')\n",
    "ax[1].set_title('Sample 2 QQ-plot')\n",
    "plt.show()"
   ]
  },
  {
   "cell_type": "markdown",
   "id": "5726ba85",
   "metadata": {},
   "source": [
    "### Shapiro"
   ]
  },
  {
   "cell_type": "code",
   "execution_count": 6,
   "id": "c9dd5f1a",
   "metadata": {
    "ExecuteTime": {
     "end_time": "2023-05-16T10:42:47.407074Z",
     "start_time": "2023-05-16T10:42:47.403883Z"
    }
   },
   "outputs": [
    {
     "name": "stdout",
     "output_type": "stream",
     "text": [
      "\n",
      "This is a hypotheses test and the two hypotheses are as follows:\n",
      "- Ho(Accepted): Sample is from the normal distributions.(Po>0.05)\n",
      "- Ha(Rejected): Sample is not from the normal distributions.\n",
      "\n"
     ]
    }
   ],
   "source": [
    "print(\"\"\"\n",
    "This is a hypotheses test and the two hypotheses are as follows:\n",
    "- Ho(Accepted): Sample is from the normal distributions.(Po>0.05)\n",
    "- Ha(Rejected): Sample is not from the normal distributions.\n",
    "\"\"\")"
   ]
  },
  {
   "cell_type": "code",
   "execution_count": 7,
   "id": "f9ac569b",
   "metadata": {
    "ExecuteTime": {
     "end_time": "2023-05-16T10:42:47.412325Z",
     "start_time": "2023-05-16T10:42:47.409070Z"
    }
   },
   "outputs": [
    {
     "name": "stdout",
     "output_type": "stream",
     "text": [
      "0.9813939332962036 0.8612882494926453\n"
     ]
    }
   ],
   "source": [
    "from scipy.stats import shapiro\n",
    "\n",
    "shapiro_test = shapiro(sample_1)\n",
    "print(shapiro_test.statistic, shapiro_test.pvalue)"
   ]
  },
  {
   "cell_type": "code",
   "execution_count": 8,
   "id": "467e5701",
   "metadata": {
    "ExecuteTime": {
     "end_time": "2023-05-16T10:42:47.421453Z",
     "start_time": "2023-05-16T10:42:47.418531Z"
    }
   },
   "outputs": [
    {
     "name": "stdout",
     "output_type": "stream",
     "text": [
      "0.9738363027572632 0.6484981179237366\n"
     ]
    }
   ],
   "source": [
    "shapiro_test = shapiro(sample_2)\n",
    "print(shapiro_test.statistic, shapiro_test.pvalue)"
   ]
  },
  {
   "cell_type": "markdown",
   "id": "34bd44af",
   "metadata": {},
   "source": [
    "### Тест Колмогорова-Смирнова"
   ]
  },
  {
   "cell_type": "code",
   "execution_count": 9,
   "id": "cb72c904",
   "metadata": {
    "ExecuteTime": {
     "end_time": "2023-05-16T10:42:47.429294Z",
     "start_time": "2023-05-16T10:42:47.424973Z"
    }
   },
   "outputs": [
    {
     "name": "stdout",
     "output_type": "stream",
     "text": [
      "Статистика теста: 0.12654529204170167\n",
      "P-значение: 0.6761033014609328\n"
     ]
    }
   ],
   "source": [
    "from scipy.stats import kstest\n",
    "\n",
    "# Проведение одновыборочного теста Колмогорова-Смирнова\n",
    "statistic, p_value = kstest(sample_1, 'norm')\n",
    "# statistic, p_value = kstest(sample, stats.norm.cdf)\n",
    "\n",
    "print(f\"Статистика теста: {statistic}\")\n",
    "print(f\"P-значение: {p_value}\")"
   ]
  },
  {
   "cell_type": "code",
   "execution_count": 10,
   "id": "512dc292",
   "metadata": {
    "ExecuteTime": {
     "end_time": "2023-05-16T10:42:47.439068Z",
     "start_time": "2023-05-16T10:42:47.431667Z"
    }
   },
   "outputs": [
    {
     "name": "stdout",
     "output_type": "stream",
     "text": [
      "Статистика теста: 0.2654491506593141\n",
      "P-значение: 0.023492075590731742\n"
     ]
    }
   ],
   "source": [
    "statistic, p_value = kstest(sample_2, 'norm')\n",
    "\n",
    "print(f\"Статистика теста: {statistic}\")\n",
    "print(f\"P-значение: {p_value}\")"
   ]
  },
  {
   "cell_type": "markdown",
   "id": "369f3ba4",
   "metadata": {},
   "source": [
    "---------"
   ]
  },
  {
   "cell_type": "markdown",
   "id": "d8bec22c",
   "metadata": {},
   "source": [
    "<b><span style=\"color:blue\">*Задание 1. Сгенерируйте выборку \"sample_3\" размером n=100  из равномерного распределения с параметрами low=0, high=0.5 из распределения Пуассона и выполните проверку на нормальность:*\n",
    "\n",
    "- с помощью QQ-plot-а\n",
    "- с помощью теста Шапиро\n",
    "- с помощью теста Колмогорова-Смирнова\n",
    "</span></b>"
   ]
  },
  {
   "cell_type": "markdown",
   "id": "d0700b2e",
   "metadata": {},
   "source": [
    "--------"
   ]
  },
  {
   "cell_type": "markdown",
   "id": "b2d123f4",
   "metadata": {},
   "source": [
    "## Проверка равенства дисперсий"
   ]
  },
  {
   "cell_type": "markdown",
   "id": "46ab7f88",
   "metadata": {},
   "source": [
    "### Визуализация"
   ]
  },
  {
   "cell_type": "code",
   "execution_count": 11,
   "id": "ddea21a5",
   "metadata": {
    "ExecuteTime": {
     "end_time": "2023-05-16T10:42:47.736535Z",
     "start_time": "2023-05-16T10:42:47.598252Z"
    }
   },
   "outputs": [
    {
     "data": {
      "image/png": "[encoded data removed]",
      "text/plain": [
       "<Figure size 640x480 with 1 Axes>"
      ]
     },
     "metadata": {},
     "output_type": "display_data"
    }
   ],
   "source": [
    "# Визуализируем диаграмму рассеяния\n",
    "fig, ax = plt.subplots()\n",
    "_ = ax.scatter(sample_1, sample_2)\n",
    "ax.set_xlabel('Sample 1')\n",
    "ax.set_ylabel('Sample 2')\n",
    "ax.set_xlim(mu_1-3*sigma_1,mu_1+3*sigma_1)\n",
    "ax.set_ylim(mu_2-3*sigma_2,mu_2+3*sigma_2)\n",
    "plt.axvline(x=mu_1, color='red', linestyle='--')\n",
    "plt.axhline(y=mu_2, color='red', linestyle='--')\n",
    "ax.set_title('Scatter plot of samples')\n",
    "plt.show()"
   ]
  },
  {
   "cell_type": "markdown",
   "id": "9f7a7da9",
   "metadata": {},
   "source": [
    "### Тест Левена"
   ]
  },
  {
   "cell_type": "code",
   "execution_count": 12,
   "id": "c838973d",
   "metadata": {
    "ExecuteTime": {
     "end_time": "2023-05-16T10:42:47.741427Z",
     "start_time": "2023-05-16T10:42:47.738339Z"
    }
   },
   "outputs": [
    {
     "name": "stdout",
     "output_type": "stream",
     "text": [
      "Levene test results: statistic=0.653, p=0.422\n"
     ]
    }
   ],
   "source": [
    "from scipy.stats import levene\n",
    "\n",
    "# Проверяем гомогенность дисперсий\n",
    "stat, p = levene(sample_1, sample_2)\n",
    "print('Levene test results: statistic=%.3f, p=%.3f' % (stat, p))"
   ]
  },
  {
   "cell_type": "markdown",
   "id": "5c6bd365",
   "metadata": {},
   "source": [
    "### Теста Бартлетта"
   ]
  },
  {
   "cell_type": "code",
   "execution_count": 13,
   "id": "54f2ab0e",
   "metadata": {
    "ExecuteTime": {
     "end_time": "2023-05-16T10:42:47.746565Z",
     "start_time": "2023-05-16T10:42:47.743524Z"
    }
   },
   "outputs": [
    {
     "name": "stdout",
     "output_type": "stream",
     "text": [
      "Статистика Бартлетта: 0.6591387631519273\n",
      "p-значение: 0.41686415699244883\n"
     ]
    }
   ],
   "source": [
    "from scipy.stats import bartlett\n",
    "\n",
    "# Применяем тест Бартлетта\n",
    "statistic, p_value = bartlett(sample_1, sample_2)\n",
    "\n",
    "print('Статистика Бартлетта:', statistic)\n",
    "print('p-значение:', p_value)"
   ]
  },
  {
   "cell_type": "markdown",
   "id": "be3a10f7",
   "metadata": {
    "ExecuteTime": {
     "end_time": "2023-05-16T09:14:16.727677Z",
     "start_time": "2023-05-16T09:14:16.723381Z"
    }
   },
   "source": [
    "<b><span style=\"color:blue\">*Задание 2. Сгенерируйте выборку размером n=100 из нормального распределения с параметрами mu=0, sigma=2 и выполните проверку на равенство дисперсий с выборкой sample_1*\n",
    "\n",
    "- визуально\n",
    "- с помощью теста Левена\n",
    "- с помощью теста Бартлетта\n",
    "</span></b>"
   ]
  },
  {
   "cell_type": "markdown",
   "id": "e1f85f10",
   "metadata": {},
   "source": [
    "## T тест для независимых выборок"
   ]
  },
  {
   "cell_type": "markdown",
   "id": "e81788c3",
   "metadata": {},
   "source": [
    "### С помощью использования scipy.stats"
   ]
  },
  {
   "cell_type": "code",
   "execution_count": 14,
   "id": "5213a5c8",
   "metadata": {
    "ExecuteTime": {
     "end_time": "2023-05-16T10:42:47.971929Z",
     "start_time": "2023-05-16T10:42:47.966993Z"
    }
   },
   "outputs": [
    {
     "name": "stdout",
     "output_type": "stream",
     "text": [
      "t-статистика: -1.7600815915520236\n",
      "p-value: 0.08366659775939542\n"
     ]
    }
   ],
   "source": [
    "from scipy.stats import ttest_ind\n",
    "t_stat, p_value = ttest_ind(sample_1, sample_2)\n",
    "\n",
    "print(\"t-статистика:\", t_stat)\n",
    "print(\"p-value:\", p_value)"
   ]
  },
  {
   "cell_type": "markdown",
   "id": "0d312d3f",
   "metadata": {},
   "source": [
    "### Через формулы"
   ]
  },
  {
   "cell_type": "markdown",
   "id": "2f275a60",
   "metadata": {},
   "source": [
    "- Описание логики расчета: https://statpsy.ru/t-student/t-test-doble-ind/\n",
    "- Пример расчета t-критерия Стьюдента для независимых выборок: https://statpsy.ru/t-student/primer-t-test-ind/\n",
    "- Таблица критических значений t-критерия Стьюдента: https://statpsy.ru/t-student/t-test-tablica/\n",
    "- Функция для получения pvalue для распределения Стьюдента: https://docs.scipy.org/doc/scipy/reference/generated/scipy.stats.t.html\n",
    "- Еще источник формул для Т-теста: http://statistica.ru/theory/t-kriterii/"
   ]
  },
  {
   "cell_type": "code",
   "execution_count": 15,
   "id": "fb5c9d92",
   "metadata": {
    "ExecuteTime": {
     "end_time": "2023-05-16T10:42:47.988254Z",
     "start_time": "2023-05-16T10:42:47.981721Z"
    }
   },
   "outputs": [
    {
     "name": "stdout",
     "output_type": "stream",
     "text": [
      "t-статистика = -1.7601\n",
      "p-значение = 0.0837\n"
     ]
    }
   ],
   "source": [
    "# вычисляем выборочные средние и стандартные отклонения\n",
    "x1_mean = np.mean(sample_1)\n",
    "x2_mean = np.mean(sample_2)\n",
    "s1 = np.std(sample_1, ddof=1)\n",
    "s2 = np.std(sample_2, ddof=1)\n",
    "\n",
    "# вычисляем стандартную ошибку разности\n",
    "n1, n2 = len(sample_1), len(sample_2)\n",
    "se_diff = np.sqrt(s1**2/n1 + s2**2/n2)\n",
    "\n",
    "# вычисляем t-статистику\n",
    "t_stat = (x1_mean - x2_mean) / se_diff\n",
    "\n",
    "# вычисляем p-значение\n",
    "p_value = stats.t.sf(np.abs(t_stat), n1+n2-2) * 2\n",
    "\n",
    "# выводим результаты\n",
    "print(f\"t-статистика = {t_stat:.4f}\")\n",
    "print(f\"p-значение = {p_value:.4f}\")"
   ]
  },
  {
   "cell_type": "markdown",
   "id": "2ba7ba69",
   "metadata": {},
   "source": [
    "<b><span style=\"color:blue\">*Домашнее задание. Самостоятельно еще раз разобрать формулы и код выше (см. дополнительно ссылки выше).*</span></b>"
   ]
  },
  {
   "cell_type": "markdown",
   "id": "5d931e81",
   "metadata": {},
   "source": [
    "## U-тест - как альтернатива (если не выполняются условия)"
   ]
  },
  {
   "cell_type": "markdown",
   "id": "7f84f102",
   "metadata": {},
   "source": [
    "- Описание логики расчета: https://statpsy.ru/mana-uitni/u-manna-uitni/\n",
    "- Пример расчета критерия U Манна-Уитни: https://statpsy.ru/mana-uitni/primer-mana-uitni/"
   ]
  },
  {
   "cell_type": "code",
   "execution_count": 16,
   "id": "09f9e5c4",
   "metadata": {
    "ExecuteTime": {
     "end_time": "2023-05-16T10:42:47.994318Z",
     "start_time": "2023-05-16T10:42:47.991677Z"
    }
   },
   "outputs": [],
   "source": [
    "from scipy.stats import mannwhitneyu"
   ]
  },
  {
   "cell_type": "code",
   "execution_count": 17,
   "id": "7589ac91",
   "metadata": {
    "ExecuteTime": {
     "end_time": "2023-05-16T10:42:48.003104Z",
     "start_time": "2023-05-16T10:42:47.997041Z"
    }
   },
   "outputs": [
    {
     "name": "stdout",
     "output_type": "stream",
     "text": [
      "Статистика U: 322.0\n",
      "p-значение: 0.0594279151689524\n"
     ]
    }
   ],
   "source": [
    "# Выполняем U-тест\n",
    "statistic, p_value = mannwhitneyu(sample_1, sample_2, alternative='two-sided')\n",
    "\n",
    "print('Статистика U:', statistic)\n",
    "print('p-значение:', p_value)"
   ]
  },
  {
   "cell_type": "markdown",
   "id": "631d4466",
   "metadata": {},
   "source": [
    "# Т-тест Стьюдента для зависимых выборок"
   ]
  },
  {
   "cell_type": "code",
   "execution_count": 18,
   "id": "0f956384",
   "metadata": {
    "ExecuteTime": {
     "end_time": "2023-05-16T10:42:48.008171Z",
     "start_time": "2023-05-16T10:42:48.006073Z"
    }
   },
   "outputs": [],
   "source": [
    "# создаем две связанные выборки\n",
    "before = sample_1\n",
    "after = sample_2"
   ]
  },
  {
   "cell_type": "markdown",
   "id": "ad84cf3d",
   "metadata": {},
   "source": [
    "## Т-тест"
   ]
  },
  {
   "cell_type": "markdown",
   "id": "9bd10db7",
   "metadata": {},
   "source": [
    "### С помощью использования scipy.stats"
   ]
  },
  {
   "cell_type": "code",
   "execution_count": 19,
   "id": "c2b5157e",
   "metadata": {
    "ExecuteTime": {
     "end_time": "2023-05-16T10:42:48.013532Z",
     "start_time": "2023-05-16T10:42:48.010763Z"
    }
   },
   "outputs": [],
   "source": [
    "from scipy.stats import ttest_rel"
   ]
  },
  {
   "cell_type": "code",
   "execution_count": 20,
   "id": "30de9dd4",
   "metadata": {
    "ExecuteTime": {
     "end_time": "2023-05-16T10:42:48.021715Z",
     "start_time": "2023-05-16T10:42:48.016118Z"
    }
   },
   "outputs": [
    {
     "name": "stdout",
     "output_type": "stream",
     "text": [
      "t-статистика: -2.368510811857986\n",
      "p-value: 0.024738735759041768\n"
     ]
    }
   ],
   "source": [
    "# проводим t-тест Стьюдента для зависимых выборок\n",
    "t_stat, p_value = ttest_rel(before, after)\n",
    "\n",
    "# выводим результаты\n",
    "print(\"t-статистика:\", t_stat)\n",
    "print(\"p-value:\", p_value)"
   ]
  },
  {
   "cell_type": "markdown",
   "id": "cf87acd0",
   "metadata": {},
   "source": [
    "### С помощью формул"
   ]
  },
  {
   "cell_type": "markdown",
   "id": "8ff85a50",
   "metadata": {},
   "source": [
    "- Описание логики расчета: https://statpsy.ru/t-student/t-test-doble-dep/\n",
    "- Пример расчета t-критерия Стьюдента для независимых выборок: https://statpsy.ru/t-student/primer-t-test-dep/\n",
    "- Таблица критических значений t-критерия Стьюдента: https://statpsy.ru/t-student/t-test-tablica/\n",
    "- Функция для получения pvalue для распределения Стьюдента: https://docs.scipy.org/doc/scipy/reference/generated/scipy.stats.t.html\n",
    "- Еще источник формул для Т-теста: http://statistica.ru/theory/t-kriterii/"
   ]
  },
  {
   "cell_type": "markdown",
   "id": "41a41e22",
   "metadata": {},
   "source": [
    "<b><span style=\"color:blue\">*Домашнее задание. Самостоятельно реализовать тест Стьюдента для зависимых выборок, по аналогии с вариантом теста Стьюдента для независимых выборок (см. дополнительно ссылки выше). Обратите внимание, что формулы для нахождения t-статистик отличаются от варианта теста Стьюдента для независимых выборок.*</span></b>"
   ]
  },
  {
   "cell_type": "code",
   "execution_count": 36,
   "id": "e1a4aa2f",
   "metadata": {},
   "outputs": [
    {
     "name": "stdout",
     "output_type": "stream",
     "text": [
      "t-статистика: -2.3685108118579863\n",
      "p-value: 0.024738735759041768\n"
     ]
    }
   ],
   "source": [
    "# Calculate the diff\n",
    "diff = [x - y for x, y in zip(before, after)]\n",
    "\n",
    "# Calculate the mean of the differences\n",
    "avg_diff = sum(diff) / len(diff)\n",
    "\n",
    "# Calculate the standard deviation of the differences\n",
    "squared_differences = [(x - avg_diff) ** 2 for x in diff]\n",
    "variance = sum(squared_differences) / (len(diff) - 1)\n",
    "std = variance ** 0.5\n",
    "\n",
    "# Calculate the t-statistic\n",
    "t_statistic =  / (std / (len(diff) ** 0.5))\n",
    "\n",
    "# Calculate the degrees of freedom\n",
    "degree = len(diff) - 1\n",
    "\n",
    "# вычисляем p-значение\n",
    "p_value = stats.t.sf(np.abs(t_stat), degree) * 2\n",
    "\n",
    "# выводим результаты\n",
    "print(\"t-статистика:\", t_statistic)\n",
    "print(\"p-value:\", p_value)"
   ]
  },
  {
   "cell_type": "markdown",
   "id": "72238335",
   "metadata": {},
   "source": [
    "## Wilcoxon - как альтернатива (если не выполняются условия)"
   ]
  },
  {
   "cell_type": "code",
   "execution_count": 21,
   "id": "024898b4",
   "metadata": {
    "ExecuteTime": {
     "end_time": "2023-05-16T10:42:48.035897Z",
     "start_time": "2023-05-16T10:42:48.032449Z"
    }
   },
   "outputs": [],
   "source": [
    "from scipy.stats import wilcoxon"
   ]
  },
  {
   "cell_type": "code",
   "execution_count": 22,
   "id": "f4ccebac",
   "metadata": {
    "ExecuteTime": {
     "end_time": "2023-05-16T10:42:48.043464Z",
     "start_time": "2023-05-16T10:42:48.038598Z"
    },
    "scrolled": true
   },
   "outputs": [
    {
     "name": "stdout",
     "output_type": "stream",
     "text": [
      "Statistic: 126.0\n",
      "P-value: 0.027741437777876854\n"
     ]
    }
   ],
   "source": [
    "# Применение теста Wilcoxon signed-rank\n",
    "statistic, p_value = wilcoxon(before, after)\n",
    "\n",
    "print(\"Statistic:\", statistic)\n",
    "print(\"P-value:\", p_value)"
   ]
  },
  {
   "cell_type": "code",
   "execution_count": null,
   "id": "93f13270",
   "metadata": {},
   "outputs": [],
   "source": []
  }
 ],
 "metadata": {
  "kernelspec": {
   "display_name": "Python 3 (ipykernel)",
   "language": "python",
   "name": "python3"
  },
  "language_info": {
   "codemirror_mode": {
    "name": "ipython",
    "version": 3
   },
   "file_extension": ".py",
   "mimetype": "text/x-python",
   "name": "python",
   "nbconvert_exporter": "python",
   "pygments_lexer": "ipython3",
   "version": "3.11.1"
  },
  "toc": {
   "base_numbering": 1,
   "nav_menu": {},
   "number_sections": true,
   "sideBar": true,
   "skip_h1_title": false,
   "title_cell": "Table of Contents",
   "title_sidebar": "Contents",
   "toc_cell": true,
   "toc_position": {
    "height": "calc(100% - 180px)",
    "left": "10px",
    "top": "150px",
    "width": "296.188px"
   },
   "toc_section_display": true,
   "toc_window_display": true
  }
 },
 "nbformat": 4,
 "nbformat_minor": 5
}
