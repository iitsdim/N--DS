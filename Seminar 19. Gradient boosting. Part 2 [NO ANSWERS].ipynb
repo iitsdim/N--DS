{
 "cells": [
  {
   "cell_type": "markdown",
   "metadata": {
    "toc": true
   },
   "source": [
    "<h1>Table of Contents<span class=\"tocSkip\"></span></h1>\n",
    "<div class=\"toc\"><ul class=\"toc-item\"><li><span><a href=\"#Реализация-бустинга-своими-руками\" data-toc-modified-id=\"Реализация-бустинга-своими-руками-1\"><span class=\"toc-item-num\">1&nbsp;&nbsp;</span>Реализация бустинга своими руками</a></span><ul class=\"toc-item\"><li><span><a href=\"#Бустинг-для-задачи-регресии\" data-toc-modified-id=\"Бустинг-для-задачи-регресии-1.1\"><span class=\"toc-item-num\">1.1&nbsp;&nbsp;</span>Бустинг для задачи регресии</a></span><ul class=\"toc-item\"><li><span><a href=\"#Обучение-(fit)\" data-toc-modified-id=\"Обучение-(fit)-1.1.1\"><span class=\"toc-item-num\">1.1.1&nbsp;&nbsp;</span>Обучение (fit)</a></span></li><li><span><a href=\"#Предсказание-на-новых-записях-(predict)\" data-toc-modified-id=\"Предсказание-на-новых-записях-(predict)-1.1.2\"><span class=\"toc-item-num\">1.1.2&nbsp;&nbsp;</span>Предсказание на новых записях (predict)</a></span></li><li><span><a href=\"#Почему-residual-=-y_true---y_pred\" data-toc-modified-id=\"Почему-residual-=-y_true---y_pred-1.1.3\"><span class=\"toc-item-num\">1.1.3&nbsp;&nbsp;</span>Почему residual = y_true - y_pred</a></span></li><li><span><a href=\"#Библиотека-sympy-для-вычисления-производной\" data-toc-modified-id=\"Библиотека-sympy-для-вычисления-производной-1.1.4\"><span class=\"toc-item-num\">1.1.4&nbsp;&nbsp;</span>Библиотека sympy для вычисления производной</a></span></li></ul></li><li><span><a href=\"#Бустинг-для-бинарной-классификации\" data-toc-modified-id=\"Бустинг-для-бинарной-классификации-1.2\"><span class=\"toc-item-num\">1.2&nbsp;&nbsp;</span>Бустинг для бинарной классификации</a></span><ul class=\"toc-item\"><li><span><a href=\"#Объяснение-формулы-для-градиента-в-случае-классификации\" data-toc-modified-id=\"Объяснение-формулы-для-градиента-в-случае-классификации-1.2.1\"><span class=\"toc-item-num\">1.2.1&nbsp;&nbsp;</span>Объяснение формулы для градиента в случае классификации</a></span></li><li><span><a href=\"#Проверка-формулы-производной-с-помощью-sympy\" data-toc-modified-id=\"Проверка-формулы-производной-с-помощью-sympy-1.2.2\"><span class=\"toc-item-num\">1.2.2&nbsp;&nbsp;</span>Проверка формулы производной с помощью sympy</a></span></li><li><span><a href=\"#Обучение-(fit)\" data-toc-modified-id=\"Обучение-(fit)-1.2.3\"><span class=\"toc-item-num\">1.2.3&nbsp;&nbsp;</span>Обучение (fit)</a></span></li><li><span><a href=\"#Предсказание-(predict)\" data-toc-modified-id=\"Предсказание-(predict)-1.2.4\"><span class=\"toc-item-num\">1.2.4&nbsp;&nbsp;</span>Предсказание (predict)</a></span></li><li><span><a href=\"#Задание\" data-toc-modified-id=\"Задание-1.2.5\"><span class=\"toc-item-num\">1.2.5&nbsp;&nbsp;</span>Задание</a></span></li></ul></li></ul></li><li><span><a href=\"#Работа-с-несбалансированными-классами\" data-toc-modified-id=\"Работа-с-несбалансированными-классами-2\"><span class=\"toc-item-num\">2&nbsp;&nbsp;</span>Работа с несбалансированными классами</a></span><ul class=\"toc-item\"><li><span><a href=\"#Undersampling\" data-toc-modified-id=\"Undersampling-2.1\"><span class=\"toc-item-num\">2.1&nbsp;&nbsp;</span>Undersampling</a></span><ul class=\"toc-item\"><li><span><a href=\"#RandomUnderSampler\" data-toc-modified-id=\"RandomUnderSampler-2.1.1\"><span class=\"toc-item-num\">2.1.1&nbsp;&nbsp;</span>RandomUnderSampler</a></span></li><li><span><a href=\"#TomekLinks\" data-toc-modified-id=\"TomekLinks-2.1.2\"><span class=\"toc-item-num\">2.1.2&nbsp;&nbsp;</span>TomekLinks</a></span></li><li><span><a href=\"#ClusterCentroids\" data-toc-modified-id=\"ClusterCentroids-2.1.3\"><span class=\"toc-item-num\">2.1.3&nbsp;&nbsp;</span>ClusterCentroids</a></span></li></ul></li><li><span><a href=\"#Oversampling\" data-toc-modified-id=\"Oversampling-2.2\"><span class=\"toc-item-num\">2.2&nbsp;&nbsp;</span>Oversampling</a></span><ul class=\"toc-item\"><li><span><a href=\"#RandomOverSampler\" data-toc-modified-id=\"RandomOverSampler-2.2.1\"><span class=\"toc-item-num\">2.2.1&nbsp;&nbsp;</span>RandomOverSampler</a></span></li><li><span><a href=\"#SMOTE\" data-toc-modified-id=\"SMOTE-2.2.2\"><span class=\"toc-item-num\">2.2.2&nbsp;&nbsp;</span>SMOTE</a></span></li><li><span><a href=\"#BorderlineSMOTE\" data-toc-modified-id=\"BorderlineSMOTE-2.2.3\"><span class=\"toc-item-num\">2.2.3&nbsp;&nbsp;</span>BorderlineSMOTE</a></span></li><li><span><a href=\"#ADASYN\" data-toc-modified-id=\"ADASYN-2.2.4\"><span class=\"toc-item-num\">2.2.4&nbsp;&nbsp;</span>ADASYN</a></span></li></ul></li></ul></li></ul></div>"
   ]
  },
  {
   "cell_type": "markdown",
   "metadata": {},
   "source": [
    "# Реализация бустинга своими руками"
   ]
  },
  {
   "cell_type": "markdown",
   "metadata": {},
   "source": [
    "## Бустинг для задачи регресии"
   ]
  },
  {
   "cell_type": "code",
   "execution_count": 1,
   "metadata": {
    "ExecuteTime": {
     "end_time": "2023-06-13T13:09:25.348657Z",
     "start_time": "2023-06-13T13:09:24.218419Z"
    },
    "id": "20ME0i4cmc-u"
   },
   "outputs": [],
   "source": [
    "import pandas as pd\n",
    "import numpy as np\n",
    "from sklearn.datasets import make_regression\n",
    "from sklearn.metrics import mean_absolute_error, mean_squared_error\n",
    "from sklearn.tree import DecisionTreeRegressor, plot_tree\n",
    "from sklearn.model_selection import train_test_split\n",
    "from tqdm.auto import tqdm"
   ]
  },
  {
   "cell_type": "markdown",
   "metadata": {},
   "source": [
    "Создадим датасет для задачи регрессии:"
   ]
  },
  {
   "cell_type": "code",
   "execution_count": 2,
   "metadata": {
    "ExecuteTime": {
     "end_time": "2023-06-13T13:09:51.548184Z",
     "start_time": "2023-06-13T13:09:51.543602Z"
    }
   },
   "outputs": [],
   "source": [
    "n_features = 2\n",
    "n_samples = 3_000\n",
    "features = ['x_' + str(i) for i in range(n_features)]\n",
    "X, y = make_regression(n_samples=n_samples, n_features=n_features, random_state=42)"
   ]
  },
  {
   "cell_type": "markdown",
   "metadata": {},
   "source": [
    "Объединим всё в один датафрейм:"
   ]
  },
  {
   "cell_type": "code",
   "execution_count": 3,
   "metadata": {
    "ExecuteTime": {
     "end_time": "2023-06-13T13:09:58.673773Z",
     "start_time": "2023-06-13T13:09:58.654653Z"
    },
    "id": "ouYxQoqGmzdO"
   },
   "outputs": [
    {
     "data": {
      "text/html": [
       "<div>\n",
       "<style scoped>\n",
       "    .dataframe tbody tr th:only-of-type {\n",
       "        vertical-align: middle;\n",
       "    }\n",
       "\n",
       "    .dataframe tbody tr th {\n",
       "        vertical-align: top;\n",
       "    }\n",
       "\n",
       "    .dataframe thead th {\n",
       "        text-align: right;\n",
       "    }\n",
       "</style>\n",
       "<table border=\"1\" class=\"dataframe\">\n",
       "  <thead>\n",
       "    <tr style=\"text-align: right;\">\n",
       "      <th></th>\n",
       "      <th>x_0</th>\n",
       "      <th>x_1</th>\n",
       "      <th>y_true</th>\n",
       "    </tr>\n",
       "  </thead>\n",
       "  <tbody>\n",
       "    <tr>\n",
       "      <th>0</th>\n",
       "      <td>1.356240</td>\n",
       "      <td>0.812526</td>\n",
       "      <td>55.982369</td>\n",
       "    </tr>\n",
       "    <tr>\n",
       "      <th>1</th>\n",
       "      <td>-1.153692</td>\n",
       "      <td>0.681362</td>\n",
       "      <td>-1.442474</td>\n",
       "    </tr>\n",
       "    <tr>\n",
       "      <th>2</th>\n",
       "      <td>-0.393339</td>\n",
       "      <td>0.368673</td>\n",
       "      <td>4.096386</td>\n",
       "    </tr>\n",
       "    <tr>\n",
       "      <th>3</th>\n",
       "      <td>0.197911</td>\n",
       "      <td>1.735964</td>\n",
       "      <td>62.586602</td>\n",
       "    </tr>\n",
       "    <tr>\n",
       "      <th>4</th>\n",
       "      <td>0.299293</td>\n",
       "      <td>0.742095</td>\n",
       "      <td>31.289131</td>\n",
       "    </tr>\n",
       "    <tr>\n",
       "      <th>...</th>\n",
       "      <td>...</td>\n",
       "      <td>...</td>\n",
       "      <td>...</td>\n",
       "    </tr>\n",
       "    <tr>\n",
       "      <th>2995</th>\n",
       "      <td>-0.428655</td>\n",
       "      <td>-1.846573</td>\n",
       "      <td>-71.181553</td>\n",
       "    </tr>\n",
       "    <tr>\n",
       "      <th>2996</th>\n",
       "      <td>-0.305611</td>\n",
       "      <td>2.755218</td>\n",
       "      <td>86.244649</td>\n",
       "    </tr>\n",
       "    <tr>\n",
       "      <th>2997</th>\n",
       "      <td>0.039447</td>\n",
       "      <td>0.424067</td>\n",
       "      <td>15.100899</td>\n",
       "    </tr>\n",
       "    <tr>\n",
       "      <th>2998</th>\n",
       "      <td>1.452756</td>\n",
       "      <td>-0.294456</td>\n",
       "      <td>20.776423</td>\n",
       "    </tr>\n",
       "    <tr>\n",
       "      <th>2999</th>\n",
       "      <td>0.184551</td>\n",
       "      <td>-0.564248</td>\n",
       "      <td>-15.086254</td>\n",
       "    </tr>\n",
       "  </tbody>\n",
       "</table>\n",
       "<p>3000 rows × 3 columns</p>\n",
       "</div>"
      ],
      "text/plain": [
       "           x_0       x_1     y_true\n",
       "0     1.356240  0.812526  55.982369\n",
       "1    -1.153692  0.681362  -1.442474\n",
       "2    -0.393339  0.368673   4.096386\n",
       "3     0.197911  1.735964  62.586602\n",
       "4     0.299293  0.742095  31.289131\n",
       "...        ...       ...        ...\n",
       "2995 -0.428655 -1.846573 -71.181553\n",
       "2996 -0.305611  2.755218  86.244649\n",
       "2997  0.039447  0.424067  15.100899\n",
       "2998  1.452756 -0.294456  20.776423\n",
       "2999  0.184551 -0.564248 -15.086254\n",
       "\n",
       "[3000 rows x 3 columns]"
      ]
     },
     "execution_count": 3,
     "metadata": {},
     "output_type": "execute_result"
    }
   ],
   "source": [
    "df = pd.DataFrame(X)\n",
    "df.columns = features\n",
    "df['y_true'] = y\n",
    "df"
   ]
  },
  {
   "cell_type": "markdown",
   "metadata": {},
   "source": [
    "Разделим на train и test:"
   ]
  },
  {
   "cell_type": "code",
   "execution_count": 4,
   "metadata": {
    "ExecuteTime": {
     "end_time": "2023-06-13T13:10:25.224079Z",
     "start_time": "2023-06-13T13:10:25.218120Z"
    }
   },
   "outputs": [
    {
     "data": {
      "text/plain": [
       "((2100, 3), (900, 3))"
      ]
     },
     "execution_count": 4,
     "metadata": {},
     "output_type": "execute_result"
    }
   ],
   "source": [
    "df_train, df_test = train_test_split(df, test_size=0.3, shuffle=True, random_state=42)\n",
    "df_train.shape, df_test.shape"
   ]
  },
  {
   "cell_type": "markdown",
   "metadata": {},
   "source": [
    "Для упрощения кода сделаем присвоение:"
   ]
  },
  {
   "cell_type": "code",
   "execution_count": 5,
   "metadata": {
    "ExecuteTime": {
     "end_time": "2023-06-13T13:11:15.131544Z",
     "start_time": "2023-06-13T13:11:15.128450Z"
    }
   },
   "outputs": [],
   "source": [
    "df = df_train.copy()\n",
    "\n",
    "# И сбросим индексы\n",
    "df = df.reset_index(drop=True)\n",
    "df_test = df_test.reset_index(drop=True)"
   ]
  },
  {
   "cell_type": "markdown",
   "metadata": {},
   "source": [
    "### Обучение (fit)"
   ]
  },
  {
   "cell_type": "markdown",
   "metadata": {},
   "source": [
    "В качестве первого предсказания возьмем среднее значение таргета по всем наблюдениям (обычно в качестве первого предсказанания берется слабое дерево решений):"
   ]
  },
  {
   "cell_type": "code",
   "execution_count": 6,
   "metadata": {
    "ExecuteTime": {
     "end_time": "2023-06-13T13:14:18.073736Z",
     "start_time": "2023-06-13T13:14:18.058874Z"
    },
    "id": "kGP7kNhym5HB"
   },
   "outputs": [
    {
     "data": {
      "text/html": [
       "<div>\n",
       "<style scoped>\n",
       "    .dataframe tbody tr th:only-of-type {\n",
       "        vertical-align: middle;\n",
       "    }\n",
       "\n",
       "    .dataframe tbody tr th {\n",
       "        vertical-align: top;\n",
       "    }\n",
       "\n",
       "    .dataframe thead th {\n",
       "        text-align: right;\n",
       "    }\n",
       "</style>\n",
       "<table border=\"1\" class=\"dataframe\">\n",
       "  <thead>\n",
       "    <tr style=\"text-align: right;\">\n",
       "      <th></th>\n",
       "      <th>x_0</th>\n",
       "      <th>x_1</th>\n",
       "      <th>y_true</th>\n",
       "      <th>y_pred_0</th>\n",
       "    </tr>\n",
       "  </thead>\n",
       "  <tbody>\n",
       "    <tr>\n",
       "      <th>0</th>\n",
       "      <td>0.472630</td>\n",
       "      <td>0.018017</td>\n",
       "      <td>10.588522</td>\n",
       "      <td>0.170683</td>\n",
       "    </tr>\n",
       "    <tr>\n",
       "      <th>1</th>\n",
       "      <td>-1.148263</td>\n",
       "      <td>0.811397</td>\n",
       "      <td>3.047197</td>\n",
       "      <td>0.170683</td>\n",
       "    </tr>\n",
       "    <tr>\n",
       "      <th>2</th>\n",
       "      <td>0.260674</td>\n",
       "      <td>0.494030</td>\n",
       "      <td>22.127308</td>\n",
       "      <td>0.170683</td>\n",
       "    </tr>\n",
       "    <tr>\n",
       "      <th>3</th>\n",
       "      <td>0.131065</td>\n",
       "      <td>0.400481</td>\n",
       "      <td>16.242415</td>\n",
       "      <td>0.170683</td>\n",
       "    </tr>\n",
       "    <tr>\n",
       "      <th>4</th>\n",
       "      <td>1.528031</td>\n",
       "      <td>0.671531</td>\n",
       "      <td>54.866974</td>\n",
       "      <td>0.170683</td>\n",
       "    </tr>\n",
       "    <tr>\n",
       "      <th>...</th>\n",
       "      <td>...</td>\n",
       "      <td>...</td>\n",
       "      <td>...</td>\n",
       "      <td>...</td>\n",
       "    </tr>\n",
       "    <tr>\n",
       "      <th>2095</th>\n",
       "      <td>-0.667780</td>\n",
       "      <td>-0.936506</td>\n",
       "      <td>-45.612846</td>\n",
       "      <td>0.170683</td>\n",
       "    </tr>\n",
       "    <tr>\n",
       "      <th>2096</th>\n",
       "      <td>0.081874</td>\n",
       "      <td>-0.485364</td>\n",
       "      <td>-14.600824</td>\n",
       "      <td>0.170683</td>\n",
       "    </tr>\n",
       "    <tr>\n",
       "      <th>2097</th>\n",
       "      <td>-0.020099</td>\n",
       "      <td>0.963907</td>\n",
       "      <td>32.006180</td>\n",
       "      <td>0.170683</td>\n",
       "    </tr>\n",
       "    <tr>\n",
       "      <th>2098</th>\n",
       "      <td>1.436335</td>\n",
       "      <td>1.186735</td>\n",
       "      <td>70.264318</td>\n",
       "      <td>0.170683</td>\n",
       "    </tr>\n",
       "    <tr>\n",
       "      <th>2099</th>\n",
       "      <td>0.379640</td>\n",
       "      <td>0.429341</td>\n",
       "      <td>22.463490</td>\n",
       "      <td>0.170683</td>\n",
       "    </tr>\n",
       "  </tbody>\n",
       "</table>\n",
       "<p>2100 rows × 4 columns</p>\n",
       "</div>"
      ],
      "text/plain": [
       "           x_0       x_1     y_true  y_pred_0\n",
       "0     0.472630  0.018017  10.588522  0.170683\n",
       "1    -1.148263  0.811397   3.047197  0.170683\n",
       "2     0.260674  0.494030  22.127308  0.170683\n",
       "3     0.131065  0.400481  16.242415  0.170683\n",
       "4     1.528031  0.671531  54.866974  0.170683\n",
       "...        ...       ...        ...       ...\n",
       "2095 -0.667780 -0.936506 -45.612846  0.170683\n",
       "2096  0.081874 -0.485364 -14.600824  0.170683\n",
       "2097 -0.020099  0.963907  32.006180  0.170683\n",
       "2098  1.436335  1.186735  70.264318  0.170683\n",
       "2099  0.379640  0.429341  22.463490  0.170683\n",
       "\n",
       "[2100 rows x 4 columns]"
      ]
     },
     "execution_count": 6,
     "metadata": {},
     "output_type": "execute_result"
    }
   ],
   "source": [
    "initial_prediction = df['y_true'].mean()\n",
    "df['y_pred_0'] = initial_prediction\n",
    "df"
   ]
  },
  {
   "cell_type": "markdown",
   "metadata": {},
   "source": [
    "Замерим качество:"
   ]
  },
  {
   "cell_type": "code",
   "execution_count": 7,
   "metadata": {
    "ExecuteTime": {
     "end_time": "2023-06-13T13:14:35.426094Z",
     "start_time": "2023-06-13T13:14:35.420457Z"
    },
    "colab": {
     "base_uri": "https://localhost:8080/",
     "height": 34
    },
    "id": "oulJVm8yndTG",
    "outputId": "4fbb3998-d307-49b6-d322-64daefb006f7"
   },
   "outputs": [
    {
     "name": "stdout",
     "output_type": "stream",
     "text": [
      "MAE: 31.48\n",
      "MSE: 1567.05\n"
     ]
    }
   ],
   "source": [
    "print('MAE: %.2f' % mean_absolute_error(df['y_true'], df['y_pred_0']))\n",
    "print('MSE: %.2f' % mean_squared_error(df['y_true'], df['y_pred_0']))"
   ]
  },
  {
   "cell_type": "markdown",
   "metadata": {},
   "source": [
    "Посчитаем residuals (остатки):"
   ]
  },
  {
   "cell_type": "code",
   "execution_count": 8,
   "metadata": {
    "ExecuteTime": {
     "end_time": "2023-06-13T13:15:04.276285Z",
     "start_time": "2023-06-13T13:15:04.261150Z"
    },
    "id": "4WKoTEIXnk8M"
   },
   "outputs": [
    {
     "data": {
      "text/html": [
       "<div>\n",
       "<style scoped>\n",
       "    .dataframe tbody tr th:only-of-type {\n",
       "        vertical-align: middle;\n",
       "    }\n",
       "\n",
       "    .dataframe tbody tr th {\n",
       "        vertical-align: top;\n",
       "    }\n",
       "\n",
       "    .dataframe thead th {\n",
       "        text-align: right;\n",
       "    }\n",
       "</style>\n",
       "<table border=\"1\" class=\"dataframe\">\n",
       "  <thead>\n",
       "    <tr style=\"text-align: right;\">\n",
       "      <th></th>\n",
       "      <th>x_0</th>\n",
       "      <th>x_1</th>\n",
       "      <th>y_true</th>\n",
       "      <th>y_pred_0</th>\n",
       "      <th>residual_0</th>\n",
       "    </tr>\n",
       "  </thead>\n",
       "  <tbody>\n",
       "    <tr>\n",
       "      <th>0</th>\n",
       "      <td>0.472630</td>\n",
       "      <td>0.018017</td>\n",
       "      <td>10.588522</td>\n",
       "      <td>0.170683</td>\n",
       "      <td>10.417839</td>\n",
       "    </tr>\n",
       "    <tr>\n",
       "      <th>1</th>\n",
       "      <td>-1.148263</td>\n",
       "      <td>0.811397</td>\n",
       "      <td>3.047197</td>\n",
       "      <td>0.170683</td>\n",
       "      <td>2.876514</td>\n",
       "    </tr>\n",
       "    <tr>\n",
       "      <th>2</th>\n",
       "      <td>0.260674</td>\n",
       "      <td>0.494030</td>\n",
       "      <td>22.127308</td>\n",
       "      <td>0.170683</td>\n",
       "      <td>21.956626</td>\n",
       "    </tr>\n",
       "    <tr>\n",
       "      <th>3</th>\n",
       "      <td>0.131065</td>\n",
       "      <td>0.400481</td>\n",
       "      <td>16.242415</td>\n",
       "      <td>0.170683</td>\n",
       "      <td>16.071733</td>\n",
       "    </tr>\n",
       "    <tr>\n",
       "      <th>4</th>\n",
       "      <td>1.528031</td>\n",
       "      <td>0.671531</td>\n",
       "      <td>54.866974</td>\n",
       "      <td>0.170683</td>\n",
       "      <td>54.696292</td>\n",
       "    </tr>\n",
       "    <tr>\n",
       "      <th>...</th>\n",
       "      <td>...</td>\n",
       "      <td>...</td>\n",
       "      <td>...</td>\n",
       "      <td>...</td>\n",
       "      <td>...</td>\n",
       "    </tr>\n",
       "    <tr>\n",
       "      <th>2095</th>\n",
       "      <td>-0.667780</td>\n",
       "      <td>-0.936506</td>\n",
       "      <td>-45.612846</td>\n",
       "      <td>0.170683</td>\n",
       "      <td>-45.783528</td>\n",
       "    </tr>\n",
       "    <tr>\n",
       "      <th>2096</th>\n",
       "      <td>0.081874</td>\n",
       "      <td>-0.485364</td>\n",
       "      <td>-14.600824</td>\n",
       "      <td>0.170683</td>\n",
       "      <td>-14.771507</td>\n",
       "    </tr>\n",
       "    <tr>\n",
       "      <th>2097</th>\n",
       "      <td>-0.020099</td>\n",
       "      <td>0.963907</td>\n",
       "      <td>32.006180</td>\n",
       "      <td>0.170683</td>\n",
       "      <td>31.835498</td>\n",
       "    </tr>\n",
       "    <tr>\n",
       "      <th>2098</th>\n",
       "      <td>1.436335</td>\n",
       "      <td>1.186735</td>\n",
       "      <td>70.264318</td>\n",
       "      <td>0.170683</td>\n",
       "      <td>70.093635</td>\n",
       "    </tr>\n",
       "    <tr>\n",
       "      <th>2099</th>\n",
       "      <td>0.379640</td>\n",
       "      <td>0.429341</td>\n",
       "      <td>22.463490</td>\n",
       "      <td>0.170683</td>\n",
       "      <td>22.292807</td>\n",
       "    </tr>\n",
       "  </tbody>\n",
       "</table>\n",
       "<p>2100 rows × 5 columns</p>\n",
       "</div>"
      ],
      "text/plain": [
       "           x_0       x_1     y_true  y_pred_0  residual_0\n",
       "0     0.472630  0.018017  10.588522  0.170683   10.417839\n",
       "1    -1.148263  0.811397   3.047197  0.170683    2.876514\n",
       "2     0.260674  0.494030  22.127308  0.170683   21.956626\n",
       "3     0.131065  0.400481  16.242415  0.170683   16.071733\n",
       "4     1.528031  0.671531  54.866974  0.170683   54.696292\n",
       "...        ...       ...        ...       ...         ...\n",
       "2095 -0.667780 -0.936506 -45.612846  0.170683  -45.783528\n",
       "2096  0.081874 -0.485364 -14.600824  0.170683  -14.771507\n",
       "2097 -0.020099  0.963907  32.006180  0.170683   31.835498\n",
       "2098  1.436335  1.186735  70.264318  0.170683   70.093635\n",
       "2099  0.379640  0.429341  22.463490  0.170683   22.292807\n",
       "\n",
       "[2100 rows x 5 columns]"
      ]
     },
     "execution_count": 8,
     "metadata": {},
     "output_type": "execute_result"
    }
   ],
   "source": [
    "df['residual_0'] = df['y_true'] - df['y_pred_0']\n",
    "df"
   ]
  },
  {
   "cell_type": "markdown",
   "metadata": {},
   "source": [
    "Далее будем выполнять шаги градиентного бустинга (обучение DecisionTreeRegressor на остатках):"
   ]
  },
  {
   "cell_type": "code",
   "execution_count": 9,
   "metadata": {
    "ExecuteTime": {
     "end_time": "2023-06-13T13:16:01.040795Z",
     "start_time": "2023-06-13T13:16:01.030106Z"
    },
    "id": "nid0X5eHoTr4"
   },
   "outputs": [
    {
     "data": {
      "text/html": [
       "<style>#sk-container-id-1 {color: black;background-color: white;}#sk-container-id-1 pre{padding: 0;}#sk-container-id-1 div.sk-toggleable {background-color: white;}#sk-container-id-1 label.sk-toggleable__label {cursor: pointer;display: block;width: 100%;margin-bottom: 0;padding: 0.3em;box-sizing: border-box;text-align: center;}#sk-container-id-1 label.sk-toggleable__label-arrow:before {content: \"▸\";float: left;margin-right: 0.25em;color: #696969;}#sk-container-id-1 label.sk-toggleable__label-arrow:hover:before {color: black;}#sk-container-id-1 div.sk-estimator:hover label.sk-toggleable__label-arrow:before {color: black;}#sk-container-id-1 div.sk-toggleable__content {max-height: 0;max-width: 0;overflow: hidden;text-align: left;background-color: #f0f8ff;}#sk-container-id-1 div.sk-toggleable__content pre {margin: 0.2em;color: black;border-radius: 0.25em;background-color: #f0f8ff;}#sk-container-id-1 input.sk-toggleable__control:checked~div.sk-toggleable__content {max-height: 200px;max-width: 100%;overflow: auto;}#sk-container-id-1 input.sk-toggleable__control:checked~label.sk-toggleable__label-arrow:before {content: \"▾\";}#sk-container-id-1 div.sk-estimator input.sk-toggleable__control:checked~label.sk-toggleable__label {background-color: #d4ebff;}#sk-container-id-1 div.sk-label input.sk-toggleable__control:checked~label.sk-toggleable__label {background-color: #d4ebff;}#sk-container-id-1 input.sk-hidden--visually {border: 0;clip: rect(1px 1px 1px 1px);clip: rect(1px, 1px, 1px, 1px);height: 1px;margin: -1px;overflow: hidden;padding: 0;position: absolute;width: 1px;}#sk-container-id-1 div.sk-estimator {font-family: monospace;background-color: #f0f8ff;border: 1px dotted black;border-radius: 0.25em;box-sizing: border-box;margin-bottom: 0.5em;}#sk-container-id-1 div.sk-estimator:hover {background-color: #d4ebff;}#sk-container-id-1 div.sk-parallel-item::after {content: \"\";width: 100%;border-bottom: 1px solid gray;flex-grow: 1;}#sk-container-id-1 div.sk-label:hover label.sk-toggleable__label {background-color: #d4ebff;}#sk-container-id-1 div.sk-serial::before {content: \"\";position: absolute;border-left: 1px solid gray;box-sizing: border-box;top: 0;bottom: 0;left: 50%;z-index: 0;}#sk-container-id-1 div.sk-serial {display: flex;flex-direction: column;align-items: center;background-color: white;padding-right: 0.2em;padding-left: 0.2em;position: relative;}#sk-container-id-1 div.sk-item {position: relative;z-index: 1;}#sk-container-id-1 div.sk-parallel {display: flex;align-items: stretch;justify-content: center;background-color: white;position: relative;}#sk-container-id-1 div.sk-item::before, #sk-container-id-1 div.sk-parallel-item::before {content: \"\";position: absolute;border-left: 1px solid gray;box-sizing: border-box;top: 0;bottom: 0;left: 50%;z-index: -1;}#sk-container-id-1 div.sk-parallel-item {display: flex;flex-direction: column;z-index: 1;position: relative;background-color: white;}#sk-container-id-1 div.sk-parallel-item:first-child::after {align-self: flex-end;width: 50%;}#sk-container-id-1 div.sk-parallel-item:last-child::after {align-self: flex-start;width: 50%;}#sk-container-id-1 div.sk-parallel-item:only-child::after {width: 0;}#sk-container-id-1 div.sk-dashed-wrapped {border: 1px dashed gray;margin: 0 0.4em 0.5em 0.4em;box-sizing: border-box;padding-bottom: 0.4em;background-color: white;}#sk-container-id-1 div.sk-label label {font-family: monospace;font-weight: bold;display: inline-block;line-height: 1.2em;}#sk-container-id-1 div.sk-label-container {text-align: center;}#sk-container-id-1 div.sk-container {/* jupyter's `normalize.less` sets `[hidden] { display: none; }` but bootstrap.min.css set `[hidden] { display: none !important; }` so we also need the `!important` here to be able to override the default hidden behavior on the sphinx rendered scikit-learn.org. See: https://github.com/scikit-learn/scikit-learn/issues/21755 */display: inline-block !important;position: relative;}#sk-container-id-1 div.sk-text-repr-fallback {display: none;}</style><div id=\"sk-container-id-1\" class=\"sk-top-container\"><div class=\"sk-text-repr-fallback\"><pre>DecisionTreeRegressor(max_depth=1)</pre><b>In a Jupyter environment, please rerun this cell to show the HTML representation or trust the notebook. <br />On GitHub, the HTML representation is unable to render, please try loading this page with nbviewer.org.</b></div><div class=\"sk-container\" hidden><div class=\"sk-item\"><div class=\"sk-estimator sk-toggleable\"><input class=\"sk-toggleable__control sk-hidden--visually\" id=\"sk-estimator-id-1\" type=\"checkbox\" checked><label for=\"sk-estimator-id-1\" class=\"sk-toggleable__label sk-toggleable__label-arrow\">DecisionTreeRegressor</label><div class=\"sk-toggleable__content\"><pre>DecisionTreeRegressor(max_depth=1)</pre></div></div></div></div></div>"
      ],
      "text/plain": [
       "DecisionTreeRegressor(max_depth=1)"
      ]
     },
     "execution_count": 9,
     "metadata": {},
     "output_type": "execute_result"
    }
   ],
   "source": [
    "tree_1 = DecisionTreeRegressor(max_depth=1)\n",
    "tree_1.fit(df[features], df['residual_0'])"
   ]
  },
  {
   "cell_type": "markdown",
   "metadata": {},
   "source": [
    "Визуализация построенного дерева:"
   ]
  },
  {
   "cell_type": "code",
   "execution_count": 10,
   "metadata": {
    "ExecuteTime": {
     "end_time": "2023-06-13T13:16:04.083615Z",
     "start_time": "2023-06-13T13:16:03.439442Z"
    },
    "colab": {
     "base_uri": "https://localhost:8080/",
     "height": 299
    },
    "id": "LOIJaMcmo18b",
    "outputId": "360edfb1-a1fb-46e0-f657-01ccbf1e4bce"
   },
   "outputs": [
    {
     "data": {
      "image/png": "[encoded data removed]",
      "text/plain": [
       "<Figure size 640x480 with 1 Axes>"
      ]
     },
     "metadata": {},
     "output_type": "display_data"
    }
   ],
   "source": [
    "plot_tree(tree_1);"
   ]
  },
  {
   "cell_type": "code",
   "execution_count": 11,
   "metadata": {
    "ExecuteTime": {
     "end_time": "2023-06-13T13:17:21.897829Z",
     "start_time": "2023-06-13T13:17:21.876475Z"
    },
    "id": "HknTKxWdo3_A"
   },
   "outputs": [
    {
     "data": {
      "text/html": [
       "<div>\n",
       "<style scoped>\n",
       "    .dataframe tbody tr th:only-of-type {\n",
       "        vertical-align: middle;\n",
       "    }\n",
       "\n",
       "    .dataframe tbody tr th {\n",
       "        vertical-align: top;\n",
       "    }\n",
       "\n",
       "    .dataframe thead th {\n",
       "        text-align: right;\n",
       "    }\n",
       "</style>\n",
       "<table border=\"1\" class=\"dataframe\">\n",
       "  <thead>\n",
       "    <tr style=\"text-align: right;\">\n",
       "      <th></th>\n",
       "      <th>x_0</th>\n",
       "      <th>x_1</th>\n",
       "      <th>y_true</th>\n",
       "      <th>y_pred_0</th>\n",
       "      <th>residual_0</th>\n",
       "      <th>tree_pred_1</th>\n",
       "      <th>y_pred_1</th>\n",
       "    </tr>\n",
       "  </thead>\n",
       "  <tbody>\n",
       "    <tr>\n",
       "      <th>0</th>\n",
       "      <td>0.472630</td>\n",
       "      <td>0.018017</td>\n",
       "      <td>10.588522</td>\n",
       "      <td>0.170683</td>\n",
       "      <td>10.417839</td>\n",
       "      <td>-25.379795</td>\n",
       "      <td>-2.367297</td>\n",
       "    </tr>\n",
       "    <tr>\n",
       "      <th>1</th>\n",
       "      <td>-1.148263</td>\n",
       "      <td>0.811397</td>\n",
       "      <td>3.047197</td>\n",
       "      <td>0.170683</td>\n",
       "      <td>2.876514</td>\n",
       "      <td>28.619769</td>\n",
       "      <td>3.032659</td>\n",
       "    </tr>\n",
       "    <tr>\n",
       "      <th>2</th>\n",
       "      <td>0.260674</td>\n",
       "      <td>0.494030</td>\n",
       "      <td>22.127308</td>\n",
       "      <td>0.170683</td>\n",
       "      <td>21.956626</td>\n",
       "      <td>28.619769</td>\n",
       "      <td>3.032659</td>\n",
       "    </tr>\n",
       "    <tr>\n",
       "      <th>3</th>\n",
       "      <td>0.131065</td>\n",
       "      <td>0.400481</td>\n",
       "      <td>16.242415</td>\n",
       "      <td>0.170683</td>\n",
       "      <td>16.071733</td>\n",
       "      <td>28.619769</td>\n",
       "      <td>3.032659</td>\n",
       "    </tr>\n",
       "    <tr>\n",
       "      <th>4</th>\n",
       "      <td>1.528031</td>\n",
       "      <td>0.671531</td>\n",
       "      <td>54.866974</td>\n",
       "      <td>0.170683</td>\n",
       "      <td>54.696292</td>\n",
       "      <td>28.619769</td>\n",
       "      <td>3.032659</td>\n",
       "    </tr>\n",
       "    <tr>\n",
       "      <th>...</th>\n",
       "      <td>...</td>\n",
       "      <td>...</td>\n",
       "      <td>...</td>\n",
       "      <td>...</td>\n",
       "      <td>...</td>\n",
       "      <td>...</td>\n",
       "      <td>...</td>\n",
       "    </tr>\n",
       "    <tr>\n",
       "      <th>2095</th>\n",
       "      <td>-0.667780</td>\n",
       "      <td>-0.936506</td>\n",
       "      <td>-45.612846</td>\n",
       "      <td>0.170683</td>\n",
       "      <td>-45.783528</td>\n",
       "      <td>-25.379795</td>\n",
       "      <td>-2.367297</td>\n",
       "    </tr>\n",
       "    <tr>\n",
       "      <th>2096</th>\n",
       "      <td>0.081874</td>\n",
       "      <td>-0.485364</td>\n",
       "      <td>-14.600824</td>\n",
       "      <td>0.170683</td>\n",
       "      <td>-14.771507</td>\n",
       "      <td>-25.379795</td>\n",
       "      <td>-2.367297</td>\n",
       "    </tr>\n",
       "    <tr>\n",
       "      <th>2097</th>\n",
       "      <td>-0.020099</td>\n",
       "      <td>0.963907</td>\n",
       "      <td>32.006180</td>\n",
       "      <td>0.170683</td>\n",
       "      <td>31.835498</td>\n",
       "      <td>28.619769</td>\n",
       "      <td>3.032659</td>\n",
       "    </tr>\n",
       "    <tr>\n",
       "      <th>2098</th>\n",
       "      <td>1.436335</td>\n",
       "      <td>1.186735</td>\n",
       "      <td>70.264318</td>\n",
       "      <td>0.170683</td>\n",
       "      <td>70.093635</td>\n",
       "      <td>28.619769</td>\n",
       "      <td>3.032659</td>\n",
       "    </tr>\n",
       "    <tr>\n",
       "      <th>2099</th>\n",
       "      <td>0.379640</td>\n",
       "      <td>0.429341</td>\n",
       "      <td>22.463490</td>\n",
       "      <td>0.170683</td>\n",
       "      <td>22.292807</td>\n",
       "      <td>28.619769</td>\n",
       "      <td>3.032659</td>\n",
       "    </tr>\n",
       "  </tbody>\n",
       "</table>\n",
       "<p>2100 rows × 7 columns</p>\n",
       "</div>"
      ],
      "text/plain": [
       "           x_0       x_1     y_true  y_pred_0  residual_0  tree_pred_1   \n",
       "0     0.472630  0.018017  10.588522  0.170683   10.417839   -25.379795  \\\n",
       "1    -1.148263  0.811397   3.047197  0.170683    2.876514    28.619769   \n",
       "2     0.260674  0.494030  22.127308  0.170683   21.956626    28.619769   \n",
       "3     0.131065  0.400481  16.242415  0.170683   16.071733    28.619769   \n",
       "4     1.528031  0.671531  54.866974  0.170683   54.696292    28.619769   \n",
       "...        ...       ...        ...       ...         ...          ...   \n",
       "2095 -0.667780 -0.936506 -45.612846  0.170683  -45.783528   -25.379795   \n",
       "2096  0.081874 -0.485364 -14.600824  0.170683  -14.771507   -25.379795   \n",
       "2097 -0.020099  0.963907  32.006180  0.170683   31.835498    28.619769   \n",
       "2098  1.436335  1.186735  70.264318  0.170683   70.093635    28.619769   \n",
       "2099  0.379640  0.429341  22.463490  0.170683   22.292807    28.619769   \n",
       "\n",
       "      y_pred_1  \n",
       "0    -2.367297  \n",
       "1     3.032659  \n",
       "2     3.032659  \n",
       "3     3.032659  \n",
       "4     3.032659  \n",
       "...        ...  \n",
       "2095 -2.367297  \n",
       "2096 -2.367297  \n",
       "2097  3.032659  \n",
       "2098  3.032659  \n",
       "2099  3.032659  \n",
       "\n",
       "[2100 rows x 7 columns]"
      ]
     },
     "execution_count": 11,
     "metadata": {},
     "output_type": "execute_result"
    }
   ],
   "source": [
    "# Определим learning_rate\n",
    "lr = 0.1\n",
    "\n",
    "# predict_new = predict_old + learning_rate * predict_residual\n",
    "df['tree_pred_1'] = tree_1.predict(df[features])\n",
    "df['y_pred_1'] = df['y_pred_0'] + lr * df['tree_pred_1']\n",
    "df"
   ]
  },
  {
   "cell_type": "code",
   "execution_count": 12,
   "metadata": {
    "ExecuteTime": {
     "end_time": "2023-06-13T13:17:45.431967Z",
     "start_time": "2023-06-13T13:17:45.424254Z"
    }
   },
   "outputs": [
    {
     "name": "stdout",
     "output_type": "stream",
     "text": [
      "MAE: 31.48\n",
      "MSE: 1567.05\n",
      "\n",
      "MAE: 29.81\n",
      "MSE: 1429.04\n"
     ]
    }
   ],
   "source": [
    "print('MAE: %.2f' % mean_absolute_error(df['y_true'], df['y_pred_0']))\n",
    "print('MSE: %.2f' % mean_squared_error(df['y_true'], df['y_pred_0']))\n",
    "print()\n",
    "print('MAE: %.2f' % mean_absolute_error(df['y_true'], df['y_pred_1']))\n",
    "print('MSE: %.2f' % mean_squared_error(df['y_true'], df['y_pred_1']))"
   ]
  },
  {
   "cell_type": "markdown",
   "metadata": {},
   "source": [
    "Снова посчитаем остатки:"
   ]
  },
  {
   "cell_type": "code",
   "execution_count": 13,
   "metadata": {
    "ExecuteTime": {
     "end_time": "2023-06-13T13:18:24.214653Z",
     "start_time": "2023-06-13T13:18:24.197653Z"
    },
    "id": "h75bz0WApxjF"
   },
   "outputs": [
    {
     "data": {
      "text/html": [
       "<div>\n",
       "<style scoped>\n",
       "    .dataframe tbody tr th:only-of-type {\n",
       "        vertical-align: middle;\n",
       "    }\n",
       "\n",
       "    .dataframe tbody tr th {\n",
       "        vertical-align: top;\n",
       "    }\n",
       "\n",
       "    .dataframe thead th {\n",
       "        text-align: right;\n",
       "    }\n",
       "</style>\n",
       "<table border=\"1\" class=\"dataframe\">\n",
       "  <thead>\n",
       "    <tr style=\"text-align: right;\">\n",
       "      <th></th>\n",
       "      <th>x_0</th>\n",
       "      <th>x_1</th>\n",
       "      <th>y_true</th>\n",
       "      <th>y_pred_0</th>\n",
       "      <th>residual_0</th>\n",
       "      <th>tree_pred_1</th>\n",
       "      <th>y_pred_1</th>\n",
       "      <th>residual_1</th>\n",
       "    </tr>\n",
       "  </thead>\n",
       "  <tbody>\n",
       "    <tr>\n",
       "      <th>0</th>\n",
       "      <td>0.472630</td>\n",
       "      <td>0.018017</td>\n",
       "      <td>10.588522</td>\n",
       "      <td>0.170683</td>\n",
       "      <td>10.417839</td>\n",
       "      <td>-25.379795</td>\n",
       "      <td>-2.367297</td>\n",
       "      <td>12.955818</td>\n",
       "    </tr>\n",
       "    <tr>\n",
       "      <th>1</th>\n",
       "      <td>-1.148263</td>\n",
       "      <td>0.811397</td>\n",
       "      <td>3.047197</td>\n",
       "      <td>0.170683</td>\n",
       "      <td>2.876514</td>\n",
       "      <td>28.619769</td>\n",
       "      <td>3.032659</td>\n",
       "      <td>0.014537</td>\n",
       "    </tr>\n",
       "    <tr>\n",
       "      <th>2</th>\n",
       "      <td>0.260674</td>\n",
       "      <td>0.494030</td>\n",
       "      <td>22.127308</td>\n",
       "      <td>0.170683</td>\n",
       "      <td>21.956626</td>\n",
       "      <td>28.619769</td>\n",
       "      <td>3.032659</td>\n",
       "      <td>19.094649</td>\n",
       "    </tr>\n",
       "    <tr>\n",
       "      <th>3</th>\n",
       "      <td>0.131065</td>\n",
       "      <td>0.400481</td>\n",
       "      <td>16.242415</td>\n",
       "      <td>0.170683</td>\n",
       "      <td>16.071733</td>\n",
       "      <td>28.619769</td>\n",
       "      <td>3.032659</td>\n",
       "      <td>13.209756</td>\n",
       "    </tr>\n",
       "    <tr>\n",
       "      <th>4</th>\n",
       "      <td>1.528031</td>\n",
       "      <td>0.671531</td>\n",
       "      <td>54.866974</td>\n",
       "      <td>0.170683</td>\n",
       "      <td>54.696292</td>\n",
       "      <td>28.619769</td>\n",
       "      <td>3.032659</td>\n",
       "      <td>51.834315</td>\n",
       "    </tr>\n",
       "    <tr>\n",
       "      <th>...</th>\n",
       "      <td>...</td>\n",
       "      <td>...</td>\n",
       "      <td>...</td>\n",
       "      <td>...</td>\n",
       "      <td>...</td>\n",
       "      <td>...</td>\n",
       "      <td>...</td>\n",
       "      <td>...</td>\n",
       "    </tr>\n",
       "    <tr>\n",
       "      <th>2095</th>\n",
       "      <td>-0.667780</td>\n",
       "      <td>-0.936506</td>\n",
       "      <td>-45.612846</td>\n",
       "      <td>0.170683</td>\n",
       "      <td>-45.783528</td>\n",
       "      <td>-25.379795</td>\n",
       "      <td>-2.367297</td>\n",
       "      <td>-43.245549</td>\n",
       "    </tr>\n",
       "    <tr>\n",
       "      <th>2096</th>\n",
       "      <td>0.081874</td>\n",
       "      <td>-0.485364</td>\n",
       "      <td>-14.600824</td>\n",
       "      <td>0.170683</td>\n",
       "      <td>-14.771507</td>\n",
       "      <td>-25.379795</td>\n",
       "      <td>-2.367297</td>\n",
       "      <td>-12.233527</td>\n",
       "    </tr>\n",
       "    <tr>\n",
       "      <th>2097</th>\n",
       "      <td>-0.020099</td>\n",
       "      <td>0.963907</td>\n",
       "      <td>32.006180</td>\n",
       "      <td>0.170683</td>\n",
       "      <td>31.835498</td>\n",
       "      <td>28.619769</td>\n",
       "      <td>3.032659</td>\n",
       "      <td>28.973521</td>\n",
       "    </tr>\n",
       "    <tr>\n",
       "      <th>2098</th>\n",
       "      <td>1.436335</td>\n",
       "      <td>1.186735</td>\n",
       "      <td>70.264318</td>\n",
       "      <td>0.170683</td>\n",
       "      <td>70.093635</td>\n",
       "      <td>28.619769</td>\n",
       "      <td>3.032659</td>\n",
       "      <td>67.231659</td>\n",
       "    </tr>\n",
       "    <tr>\n",
       "      <th>2099</th>\n",
       "      <td>0.379640</td>\n",
       "      <td>0.429341</td>\n",
       "      <td>22.463490</td>\n",
       "      <td>0.170683</td>\n",
       "      <td>22.292807</td>\n",
       "      <td>28.619769</td>\n",
       "      <td>3.032659</td>\n",
       "      <td>19.430831</td>\n",
       "    </tr>\n",
       "  </tbody>\n",
       "</table>\n",
       "<p>2100 rows × 8 columns</p>\n",
       "</div>"
      ],
      "text/plain": [
       "           x_0       x_1     y_true  y_pred_0  residual_0  tree_pred_1   \n",
       "0     0.472630  0.018017  10.588522  0.170683   10.417839   -25.379795  \\\n",
       "1    -1.148263  0.811397   3.047197  0.170683    2.876514    28.619769   \n",
       "2     0.260674  0.494030  22.127308  0.170683   21.956626    28.619769   \n",
       "3     0.131065  0.400481  16.242415  0.170683   16.071733    28.619769   \n",
       "4     1.528031  0.671531  54.866974  0.170683   54.696292    28.619769   \n",
       "...        ...       ...        ...       ...         ...          ...   \n",
       "2095 -0.667780 -0.936506 -45.612846  0.170683  -45.783528   -25.379795   \n",
       "2096  0.081874 -0.485364 -14.600824  0.170683  -14.771507   -25.379795   \n",
       "2097 -0.020099  0.963907  32.006180  0.170683   31.835498    28.619769   \n",
       "2098  1.436335  1.186735  70.264318  0.170683   70.093635    28.619769   \n",
       "2099  0.379640  0.429341  22.463490  0.170683   22.292807    28.619769   \n",
       "\n",
       "      y_pred_1  residual_1  \n",
       "0    -2.367297   12.955818  \n",
       "1     3.032659    0.014537  \n",
       "2     3.032659   19.094649  \n",
       "3     3.032659   13.209756  \n",
       "4     3.032659   51.834315  \n",
       "...        ...         ...  \n",
       "2095 -2.367297  -43.245549  \n",
       "2096 -2.367297  -12.233527  \n",
       "2097  3.032659   28.973521  \n",
       "2098  3.032659   67.231659  \n",
       "2099  3.032659   19.430831  \n",
       "\n",
       "[2100 rows x 8 columns]"
      ]
     },
     "execution_count": 13,
     "metadata": {},
     "output_type": "execute_result"
    }
   ],
   "source": [
    "df['residual_1'] = df['y_true'] - df['y_pred_1']\n",
    "df"
   ]
  },
  {
   "cell_type": "markdown",
   "metadata": {},
   "source": [
    "И снова обучим DecisionTreeRegressor, уже на новых остатках:"
   ]
  },
  {
   "cell_type": "code",
   "execution_count": 14,
   "metadata": {
    "ExecuteTime": {
     "end_time": "2023-06-13T13:19:23.495561Z",
     "start_time": "2023-06-13T13:19:23.467309Z"
    },
    "id": "Q74Hsekmp6HF"
   },
   "outputs": [
    {
     "data": {
      "text/html": [
       "<div>\n",
       "<style scoped>\n",
       "    .dataframe tbody tr th:only-of-type {\n",
       "        vertical-align: middle;\n",
       "    }\n",
       "\n",
       "    .dataframe tbody tr th {\n",
       "        vertical-align: top;\n",
       "    }\n",
       "\n",
       "    .dataframe thead th {\n",
       "        text-align: right;\n",
       "    }\n",
       "</style>\n",
       "<table border=\"1\" class=\"dataframe\">\n",
       "  <thead>\n",
       "    <tr style=\"text-align: right;\">\n",
       "      <th></th>\n",
       "      <th>x_0</th>\n",
       "      <th>x_1</th>\n",
       "      <th>y_true</th>\n",
       "      <th>y_pred_0</th>\n",
       "      <th>residual_0</th>\n",
       "      <th>tree_pred_1</th>\n",
       "      <th>y_pred_1</th>\n",
       "      <th>residual_1</th>\n",
       "      <th>y_pred_2</th>\n",
       "    </tr>\n",
       "  </thead>\n",
       "  <tbody>\n",
       "    <tr>\n",
       "      <th>0</th>\n",
       "      <td>0.472630</td>\n",
       "      <td>0.018017</td>\n",
       "      <td>10.588522</td>\n",
       "      <td>0.170683</td>\n",
       "      <td>10.417839</td>\n",
       "      <td>-25.379795</td>\n",
       "      <td>-2.367297</td>\n",
       "      <td>12.955818</td>\n",
       "      <td>-0.365119</td>\n",
       "    </tr>\n",
       "    <tr>\n",
       "      <th>1</th>\n",
       "      <td>-1.148263</td>\n",
       "      <td>0.811397</td>\n",
       "      <td>3.047197</td>\n",
       "      <td>0.170683</td>\n",
       "      <td>2.876514</td>\n",
       "      <td>28.619769</td>\n",
       "      <td>3.032659</td>\n",
       "      <td>0.014537</td>\n",
       "      <td>5.034837</td>\n",
       "    </tr>\n",
       "    <tr>\n",
       "      <th>2</th>\n",
       "      <td>0.260674</td>\n",
       "      <td>0.494030</td>\n",
       "      <td>22.127308</td>\n",
       "      <td>0.170683</td>\n",
       "      <td>21.956626</td>\n",
       "      <td>28.619769</td>\n",
       "      <td>3.032659</td>\n",
       "      <td>19.094649</td>\n",
       "      <td>5.034837</td>\n",
       "    </tr>\n",
       "    <tr>\n",
       "      <th>3</th>\n",
       "      <td>0.131065</td>\n",
       "      <td>0.400481</td>\n",
       "      <td>16.242415</td>\n",
       "      <td>0.170683</td>\n",
       "      <td>16.071733</td>\n",
       "      <td>28.619769</td>\n",
       "      <td>3.032659</td>\n",
       "      <td>13.209756</td>\n",
       "      <td>5.034837</td>\n",
       "    </tr>\n",
       "    <tr>\n",
       "      <th>4</th>\n",
       "      <td>1.528031</td>\n",
       "      <td>0.671531</td>\n",
       "      <td>54.866974</td>\n",
       "      <td>0.170683</td>\n",
       "      <td>54.696292</td>\n",
       "      <td>28.619769</td>\n",
       "      <td>3.032659</td>\n",
       "      <td>51.834315</td>\n",
       "      <td>5.034837</td>\n",
       "    </tr>\n",
       "    <tr>\n",
       "      <th>...</th>\n",
       "      <td>...</td>\n",
       "      <td>...</td>\n",
       "      <td>...</td>\n",
       "      <td>...</td>\n",
       "      <td>...</td>\n",
       "      <td>...</td>\n",
       "      <td>...</td>\n",
       "      <td>...</td>\n",
       "      <td>...</td>\n",
       "    </tr>\n",
       "    <tr>\n",
       "      <th>2095</th>\n",
       "      <td>-0.667780</td>\n",
       "      <td>-0.936506</td>\n",
       "      <td>-45.612846</td>\n",
       "      <td>0.170683</td>\n",
       "      <td>-45.783528</td>\n",
       "      <td>-25.379795</td>\n",
       "      <td>-2.367297</td>\n",
       "      <td>-43.245549</td>\n",
       "      <td>-5.352751</td>\n",
       "    </tr>\n",
       "    <tr>\n",
       "      <th>2096</th>\n",
       "      <td>0.081874</td>\n",
       "      <td>-0.485364</td>\n",
       "      <td>-14.600824</td>\n",
       "      <td>0.170683</td>\n",
       "      <td>-14.771507</td>\n",
       "      <td>-25.379795</td>\n",
       "      <td>-2.367297</td>\n",
       "      <td>-12.233527</td>\n",
       "      <td>-5.352751</td>\n",
       "    </tr>\n",
       "    <tr>\n",
       "      <th>2097</th>\n",
       "      <td>-0.020099</td>\n",
       "      <td>0.963907</td>\n",
       "      <td>32.006180</td>\n",
       "      <td>0.170683</td>\n",
       "      <td>31.835498</td>\n",
       "      <td>28.619769</td>\n",
       "      <td>3.032659</td>\n",
       "      <td>28.973521</td>\n",
       "      <td>5.034837</td>\n",
       "    </tr>\n",
       "    <tr>\n",
       "      <th>2098</th>\n",
       "      <td>1.436335</td>\n",
       "      <td>1.186735</td>\n",
       "      <td>70.264318</td>\n",
       "      <td>0.170683</td>\n",
       "      <td>70.093635</td>\n",
       "      <td>28.619769</td>\n",
       "      <td>3.032659</td>\n",
       "      <td>67.231659</td>\n",
       "      <td>5.034837</td>\n",
       "    </tr>\n",
       "    <tr>\n",
       "      <th>2099</th>\n",
       "      <td>0.379640</td>\n",
       "      <td>0.429341</td>\n",
       "      <td>22.463490</td>\n",
       "      <td>0.170683</td>\n",
       "      <td>22.292807</td>\n",
       "      <td>28.619769</td>\n",
       "      <td>3.032659</td>\n",
       "      <td>19.430831</td>\n",
       "      <td>5.034837</td>\n",
       "    </tr>\n",
       "  </tbody>\n",
       "</table>\n",
       "<p>2100 rows × 9 columns</p>\n",
       "</div>"
      ],
      "text/plain": [
       "           x_0       x_1     y_true  y_pred_0  residual_0  tree_pred_1   \n",
       "0     0.472630  0.018017  10.588522  0.170683   10.417839   -25.379795  \\\n",
       "1    -1.148263  0.811397   3.047197  0.170683    2.876514    28.619769   \n",
       "2     0.260674  0.494030  22.127308  0.170683   21.956626    28.619769   \n",
       "3     0.131065  0.400481  16.242415  0.170683   16.071733    28.619769   \n",
       "4     1.528031  0.671531  54.866974  0.170683   54.696292    28.619769   \n",
       "...        ...       ...        ...       ...         ...          ...   \n",
       "2095 -0.667780 -0.936506 -45.612846  0.170683  -45.783528   -25.379795   \n",
       "2096  0.081874 -0.485364 -14.600824  0.170683  -14.771507   -25.379795   \n",
       "2097 -0.020099  0.963907  32.006180  0.170683   31.835498    28.619769   \n",
       "2098  1.436335  1.186735  70.264318  0.170683   70.093635    28.619769   \n",
       "2099  0.379640  0.429341  22.463490  0.170683   22.292807    28.619769   \n",
       "\n",
       "      y_pred_1  residual_1  y_pred_2  \n",
       "0    -2.367297   12.955818 -0.365119  \n",
       "1     3.032659    0.014537  5.034837  \n",
       "2     3.032659   19.094649  5.034837  \n",
       "3     3.032659   13.209756  5.034837  \n",
       "4     3.032659   51.834315  5.034837  \n",
       "...        ...         ...       ...  \n",
       "2095 -2.367297  -43.245549 -5.352751  \n",
       "2096 -2.367297  -12.233527 -5.352751  \n",
       "2097  3.032659   28.973521  5.034837  \n",
       "2098  3.032659   67.231659  5.034837  \n",
       "2099  3.032659   19.430831  5.034837  \n",
       "\n",
       "[2100 rows x 9 columns]"
      ]
     },
     "execution_count": 14,
     "metadata": {},
     "output_type": "execute_result"
    }
   ],
   "source": [
    "tree_2 = DecisionTreeRegressor(max_depth=1)\n",
    "tree_2.fit(df[features], df['residual_1'])\n",
    "df['y_pred_2'] = df['y_pred_1'] + lr * tree_2.predict(df[features])\n",
    "df"
   ]
  },
  {
   "cell_type": "code",
   "execution_count": 15,
   "metadata": {
    "ExecuteTime": {
     "end_time": "2023-06-13T13:19:39.556344Z",
     "start_time": "2023-06-13T13:19:39.546805Z"
    }
   },
   "outputs": [
    {
     "name": "stdout",
     "output_type": "stream",
     "text": [
      "MAE: 31.48\n",
      "MSE: 1567.05\n",
      "\n",
      "MAE: 29.81\n",
      "MSE: 1429.04\n",
      "\n",
      "MAE: 28.40\n",
      "MSE: 1315.47\n"
     ]
    }
   ],
   "source": [
    "print('MAE: %.2f' % mean_absolute_error(df['y_true'], df['y_pred_0']))\n",
    "print('MSE: %.2f' % mean_squared_error(df['y_true'], df['y_pred_0']))\n",
    "print()\n",
    "print('MAE: %.2f' % mean_absolute_error(df['y_true'], df['y_pred_1']))\n",
    "print('MSE: %.2f' % mean_squared_error(df['y_true'], df['y_pred_1']))\n",
    "print()\n",
    "print('MAE: %.2f' % mean_absolute_error(df['y_true'], df['y_pred_2']))\n",
    "print('MSE: %.2f' % mean_squared_error(df['y_true'], df['y_pred_2']))"
   ]
  },
  {
   "cell_type": "markdown",
   "metadata": {},
   "source": [
    "Объединим в for loop"
   ]
  },
  {
   "cell_type": "code",
   "execution_count": 16,
   "metadata": {
    "ExecuteTime": {
     "end_time": "2023-06-13T13:27:39.450950Z",
     "start_time": "2023-06-13T13:27:39.439798Z"
    },
    "id": "BKy0ocjzqc3J"
   },
   "outputs": [
    {
     "data": {
      "text/html": [
       "<div>\n",
       "<style scoped>\n",
       "    .dataframe tbody tr th:only-of-type {\n",
       "        vertical-align: middle;\n",
       "    }\n",
       "\n",
       "    .dataframe tbody tr th {\n",
       "        vertical-align: top;\n",
       "    }\n",
       "\n",
       "    .dataframe thead th {\n",
       "        text-align: right;\n",
       "    }\n",
       "</style>\n",
       "<table border=\"1\" class=\"dataframe\">\n",
       "  <thead>\n",
       "    <tr style=\"text-align: right;\">\n",
       "      <th></th>\n",
       "      <th>x_0</th>\n",
       "      <th>x_1</th>\n",
       "      <th>y_true</th>\n",
       "    </tr>\n",
       "  </thead>\n",
       "  <tbody>\n",
       "    <tr>\n",
       "      <th>0</th>\n",
       "      <td>0.472630</td>\n",
       "      <td>0.018017</td>\n",
       "      <td>10.588522</td>\n",
       "    </tr>\n",
       "    <tr>\n",
       "      <th>1</th>\n",
       "      <td>-1.148263</td>\n",
       "      <td>0.811397</td>\n",
       "      <td>3.047197</td>\n",
       "    </tr>\n",
       "    <tr>\n",
       "      <th>2</th>\n",
       "      <td>0.260674</td>\n",
       "      <td>0.494030</td>\n",
       "      <td>22.127308</td>\n",
       "    </tr>\n",
       "    <tr>\n",
       "      <th>3</th>\n",
       "      <td>0.131065</td>\n",
       "      <td>0.400481</td>\n",
       "      <td>16.242415</td>\n",
       "    </tr>\n",
       "    <tr>\n",
       "      <th>4</th>\n",
       "      <td>1.528031</td>\n",
       "      <td>0.671531</td>\n",
       "      <td>54.866974</td>\n",
       "    </tr>\n",
       "    <tr>\n",
       "      <th>...</th>\n",
       "      <td>...</td>\n",
       "      <td>...</td>\n",
       "      <td>...</td>\n",
       "    </tr>\n",
       "    <tr>\n",
       "      <th>2095</th>\n",
       "      <td>-0.667780</td>\n",
       "      <td>-0.936506</td>\n",
       "      <td>-45.612846</td>\n",
       "    </tr>\n",
       "    <tr>\n",
       "      <th>2096</th>\n",
       "      <td>0.081874</td>\n",
       "      <td>-0.485364</td>\n",
       "      <td>-14.600824</td>\n",
       "    </tr>\n",
       "    <tr>\n",
       "      <th>2097</th>\n",
       "      <td>-0.020099</td>\n",
       "      <td>0.963907</td>\n",
       "      <td>32.006180</td>\n",
       "    </tr>\n",
       "    <tr>\n",
       "      <th>2098</th>\n",
       "      <td>1.436335</td>\n",
       "      <td>1.186735</td>\n",
       "      <td>70.264318</td>\n",
       "    </tr>\n",
       "    <tr>\n",
       "      <th>2099</th>\n",
       "      <td>0.379640</td>\n",
       "      <td>0.429341</td>\n",
       "      <td>22.463490</td>\n",
       "    </tr>\n",
       "  </tbody>\n",
       "</table>\n",
       "<p>2100 rows × 3 columns</p>\n",
       "</div>"
      ],
      "text/plain": [
       "           x_0       x_1     y_true\n",
       "0     0.472630  0.018017  10.588522\n",
       "1    -1.148263  0.811397   3.047197\n",
       "2     0.260674  0.494030  22.127308\n",
       "3     0.131065  0.400481  16.242415\n",
       "4     1.528031  0.671531  54.866974\n",
       "...        ...       ...        ...\n",
       "2095 -0.667780 -0.936506 -45.612846\n",
       "2096  0.081874 -0.485364 -14.600824\n",
       "2097 -0.020099  0.963907  32.006180\n",
       "2098  1.436335  1.186735  70.264318\n",
       "2099  0.379640  0.429341  22.463490\n",
       "\n",
       "[2100 rows x 3 columns]"
      ]
     },
     "execution_count": 16,
     "metadata": {},
     "output_type": "execute_result"
    }
   ],
   "source": [
    "df = df[features + ['y_true']].copy()\n",
    "df"
   ]
  },
  {
   "cell_type": "code",
   "execution_count": 17,
   "metadata": {
    "ExecuteTime": {
     "end_time": "2023-06-13T13:34:11.141751Z",
     "start_time": "2023-06-13T13:34:11.060969Z"
    },
    "colab": {
     "base_uri": "https://localhost:8080/",
     "height": 187
    },
    "id": "3OmRWz8Aqr-k",
    "outputId": "46205216-1adc-48a3-e5f7-4c825431a1cd"
   },
   "outputs": [
    {
     "name": "stdout",
     "output_type": "stream",
     "text": [
      "MAE: 29.81\n",
      "MAE: 28.40\n",
      "MAE: 27.19\n",
      "MAE: 26.20\n",
      "MAE: 25.34\n",
      "MAE: 24.55\n",
      "MAE: 23.80\n",
      "MAE: 22.88\n",
      "MAE: 22.29\n",
      "MAE: 21.52\n"
     ]
    }
   ],
   "source": [
    "n_iter = 10\n",
    "lr = 0.1\n",
    "trees = []\n",
    "\n",
    "# Делаем первое предсказание\n",
    "initial_prediction = df['y_true'].mean()\n",
    "df['y_pred'] = initial_prediction\n",
    "\n",
    "for i in range(n_iter):\n",
    "    df['residual'] = df['y_true'] - df['y_pred']\n",
    "    \n",
    "    tree = DecisionTreeRegressor(max_depth=1)\n",
    "    tree.fit(df[features], df['residual'])\n",
    "    \n",
    "    df['y_pred'] = df['y_pred'] + lr * tree.predict(df[features])\n",
    "    \n",
    "    trees.append(tree)\n",
    "    \n",
    "    print('MAE: %.2f' % mean_absolute_error(df['y_true'], df['y_pred']))"
   ]
  },
  {
   "cell_type": "markdown",
   "metadata": {},
   "source": [
    "### Предсказание на новых записях (predict)"
   ]
  },
  {
   "cell_type": "code",
   "execution_count": 18,
   "metadata": {
    "ExecuteTime": {
     "end_time": "2023-06-13T13:34:11.371139Z",
     "start_time": "2023-06-13T13:34:11.366738Z"
    }
   },
   "outputs": [
    {
     "data": {
      "text/plain": [
       "0.17068259180197584"
      ]
     },
     "execution_count": 18,
     "metadata": {},
     "output_type": "execute_result"
    }
   ],
   "source": [
    "initial_prediction"
   ]
  },
  {
   "cell_type": "code",
   "execution_count": 19,
   "metadata": {
    "ExecuteTime": {
     "end_time": "2023-06-13T13:34:11.965821Z",
     "start_time": "2023-06-13T13:34:11.959868Z"
    },
    "scrolled": true
   },
   "outputs": [
    {
     "data": {
      "text/plain": [
       "[DecisionTreeRegressor(max_depth=1),\n",
       " DecisionTreeRegressor(max_depth=1),\n",
       " DecisionTreeRegressor(max_depth=1),\n",
       " DecisionTreeRegressor(max_depth=1),\n",
       " DecisionTreeRegressor(max_depth=1),\n",
       " DecisionTreeRegressor(max_depth=1),\n",
       " DecisionTreeRegressor(max_depth=1),\n",
       " DecisionTreeRegressor(max_depth=1),\n",
       " DecisionTreeRegressor(max_depth=1),\n",
       " DecisionTreeRegressor(max_depth=1)]"
      ]
     },
     "execution_count": 19,
     "metadata": {},
     "output_type": "execute_result"
    }
   ],
   "source": [
    "trees"
   ]
  },
  {
   "cell_type": "code",
   "execution_count": 20,
   "metadata": {
    "ExecuteTime": {
     "end_time": "2023-06-13T13:34:12.131986Z",
     "start_time": "2023-06-13T13:34:12.121216Z"
    }
   },
   "outputs": [
    {
     "data": {
      "text/html": [
       "<div>\n",
       "<style scoped>\n",
       "    .dataframe tbody tr th:only-of-type {\n",
       "        vertical-align: middle;\n",
       "    }\n",
       "\n",
       "    .dataframe tbody tr th {\n",
       "        vertical-align: top;\n",
       "    }\n",
       "\n",
       "    .dataframe thead th {\n",
       "        text-align: right;\n",
       "    }\n",
       "</style>\n",
       "<table border=\"1\" class=\"dataframe\">\n",
       "  <thead>\n",
       "    <tr style=\"text-align: right;\">\n",
       "      <th></th>\n",
       "      <th>x_0</th>\n",
       "      <th>x_1</th>\n",
       "      <th>y_true</th>\n",
       "    </tr>\n",
       "  </thead>\n",
       "  <tbody>\n",
       "    <tr>\n",
       "      <th>0</th>\n",
       "      <td>-0.124021</td>\n",
       "      <td>-0.569450</td>\n",
       "      <td>-21.778592</td>\n",
       "    </tr>\n",
       "    <tr>\n",
       "      <th>1</th>\n",
       "      <td>0.692723</td>\n",
       "      <td>0.225264</td>\n",
       "      <td>22.209896</td>\n",
       "    </tr>\n",
       "    <tr>\n",
       "      <th>2</th>\n",
       "      <td>-0.824612</td>\n",
       "      <td>0.307404</td>\n",
       "      <td>-7.073888</td>\n",
       "    </tr>\n",
       "    <tr>\n",
       "      <th>3</th>\n",
       "      <td>1.414187</td>\n",
       "      <td>0.587392</td>\n",
       "      <td>49.631618</td>\n",
       "    </tr>\n",
       "    <tr>\n",
       "      <th>4</th>\n",
       "      <td>0.078143</td>\n",
       "      <td>-0.816217</td>\n",
       "      <td>-25.811212</td>\n",
       "    </tr>\n",
       "    <tr>\n",
       "      <th>...</th>\n",
       "      <td>...</td>\n",
       "      <td>...</td>\n",
       "      <td>...</td>\n",
       "    </tr>\n",
       "    <tr>\n",
       "      <th>895</th>\n",
       "      <td>0.129221</td>\n",
       "      <td>2.445752</td>\n",
       "      <td>85.016669</td>\n",
       "    </tr>\n",
       "    <tr>\n",
       "      <th>896</th>\n",
       "      <td>0.239247</td>\n",
       "      <td>-1.072743</td>\n",
       "      <td>-31.039385</td>\n",
       "    </tr>\n",
       "    <tr>\n",
       "      <th>897</th>\n",
       "      <td>0.470044</td>\n",
       "      <td>0.432263</td>\n",
       "      <td>24.471224</td>\n",
       "    </tr>\n",
       "    <tr>\n",
       "      <th>898</th>\n",
       "      <td>0.472406</td>\n",
       "      <td>-0.956436</td>\n",
       "      <td>-22.201725</td>\n",
       "    </tr>\n",
       "    <tr>\n",
       "      <th>899</th>\n",
       "      <td>-0.103587</td>\n",
       "      <td>-0.188202</td>\n",
       "      <td>-8.519918</td>\n",
       "    </tr>\n",
       "  </tbody>\n",
       "</table>\n",
       "<p>900 rows × 3 columns</p>\n",
       "</div>"
      ],
      "text/plain": [
       "          x_0       x_1     y_true\n",
       "0   -0.124021 -0.569450 -21.778592\n",
       "1    0.692723  0.225264  22.209896\n",
       "2   -0.824612  0.307404  -7.073888\n",
       "3    1.414187  0.587392  49.631618\n",
       "4    0.078143 -0.816217 -25.811212\n",
       "..        ...       ...        ...\n",
       "895  0.129221  2.445752  85.016669\n",
       "896  0.239247 -1.072743 -31.039385\n",
       "897  0.470044  0.432263  24.471224\n",
       "898  0.472406 -0.956436 -22.201725\n",
       "899 -0.103587 -0.188202  -8.519918\n",
       "\n",
       "[900 rows x 3 columns]"
      ]
     },
     "execution_count": 20,
     "metadata": {},
     "output_type": "execute_result"
    }
   ],
   "source": [
    "df_test"
   ]
  },
  {
   "cell_type": "code",
   "execution_count": 21,
   "metadata": {
    "ExecuteTime": {
     "end_time": "2023-06-13T13:34:12.275464Z",
     "start_time": "2023-06-13T13:34:12.262923Z"
    },
    "id": "ySxXNz57r2iM"
   },
   "outputs": [
    {
     "data": {
      "text/html": [
       "<div>\n",
       "<style scoped>\n",
       "    .dataframe tbody tr th:only-of-type {\n",
       "        vertical-align: middle;\n",
       "    }\n",
       "\n",
       "    .dataframe tbody tr th {\n",
       "        vertical-align: top;\n",
       "    }\n",
       "\n",
       "    .dataframe thead th {\n",
       "        text-align: right;\n",
       "    }\n",
       "</style>\n",
       "<table border=\"1\" class=\"dataframe\">\n",
       "  <thead>\n",
       "    <tr style=\"text-align: right;\">\n",
       "      <th></th>\n",
       "      <th>x_0</th>\n",
       "      <th>x_1</th>\n",
       "      <th>y_true</th>\n",
       "      <th>y_pred</th>\n",
       "    </tr>\n",
       "  </thead>\n",
       "  <tbody>\n",
       "    <tr>\n",
       "      <th>0</th>\n",
       "      <td>-0.124021</td>\n",
       "      <td>-0.569450</td>\n",
       "      <td>-21.778592</td>\n",
       "      <td>0.170683</td>\n",
       "    </tr>\n",
       "    <tr>\n",
       "      <th>1</th>\n",
       "      <td>0.692723</td>\n",
       "      <td>0.225264</td>\n",
       "      <td>22.209896</td>\n",
       "      <td>0.170683</td>\n",
       "    </tr>\n",
       "    <tr>\n",
       "      <th>2</th>\n",
       "      <td>-0.824612</td>\n",
       "      <td>0.307404</td>\n",
       "      <td>-7.073888</td>\n",
       "      <td>0.170683</td>\n",
       "    </tr>\n",
       "    <tr>\n",
       "      <th>3</th>\n",
       "      <td>1.414187</td>\n",
       "      <td>0.587392</td>\n",
       "      <td>49.631618</td>\n",
       "      <td>0.170683</td>\n",
       "    </tr>\n",
       "    <tr>\n",
       "      <th>4</th>\n",
       "      <td>0.078143</td>\n",
       "      <td>-0.816217</td>\n",
       "      <td>-25.811212</td>\n",
       "      <td>0.170683</td>\n",
       "    </tr>\n",
       "    <tr>\n",
       "      <th>...</th>\n",
       "      <td>...</td>\n",
       "      <td>...</td>\n",
       "      <td>...</td>\n",
       "      <td>...</td>\n",
       "    </tr>\n",
       "    <tr>\n",
       "      <th>895</th>\n",
       "      <td>0.129221</td>\n",
       "      <td>2.445752</td>\n",
       "      <td>85.016669</td>\n",
       "      <td>0.170683</td>\n",
       "    </tr>\n",
       "    <tr>\n",
       "      <th>896</th>\n",
       "      <td>0.239247</td>\n",
       "      <td>-1.072743</td>\n",
       "      <td>-31.039385</td>\n",
       "      <td>0.170683</td>\n",
       "    </tr>\n",
       "    <tr>\n",
       "      <th>897</th>\n",
       "      <td>0.470044</td>\n",
       "      <td>0.432263</td>\n",
       "      <td>24.471224</td>\n",
       "      <td>0.170683</td>\n",
       "    </tr>\n",
       "    <tr>\n",
       "      <th>898</th>\n",
       "      <td>0.472406</td>\n",
       "      <td>-0.956436</td>\n",
       "      <td>-22.201725</td>\n",
       "      <td>0.170683</td>\n",
       "    </tr>\n",
       "    <tr>\n",
       "      <th>899</th>\n",
       "      <td>-0.103587</td>\n",
       "      <td>-0.188202</td>\n",
       "      <td>-8.519918</td>\n",
       "      <td>0.170683</td>\n",
       "    </tr>\n",
       "  </tbody>\n",
       "</table>\n",
       "<p>900 rows × 4 columns</p>\n",
       "</div>"
      ],
      "text/plain": [
       "          x_0       x_1     y_true    y_pred\n",
       "0   -0.124021 -0.569450 -21.778592  0.170683\n",
       "1    0.692723  0.225264  22.209896  0.170683\n",
       "2   -0.824612  0.307404  -7.073888  0.170683\n",
       "3    1.414187  0.587392  49.631618  0.170683\n",
       "4    0.078143 -0.816217 -25.811212  0.170683\n",
       "..        ...       ...        ...       ...\n",
       "895  0.129221  2.445752  85.016669  0.170683\n",
       "896  0.239247 -1.072743 -31.039385  0.170683\n",
       "897  0.470044  0.432263  24.471224  0.170683\n",
       "898  0.472406 -0.956436 -22.201725  0.170683\n",
       "899 -0.103587 -0.188202  -8.519918  0.170683\n",
       "\n",
       "[900 rows x 4 columns]"
      ]
     },
     "execution_count": 21,
     "metadata": {},
     "output_type": "execute_result"
    }
   ],
   "source": [
    "# Берем initial_prediction с train датасета\n",
    "df_test['y_pred'] = initial_prediction # X['y_true'].mean()\n",
    "df_test"
   ]
  },
  {
   "cell_type": "code",
   "execution_count": 22,
   "metadata": {
    "ExecuteTime": {
     "end_time": "2023-06-13T13:34:12.820673Z",
     "start_time": "2023-06-13T13:34:12.763430Z"
    },
    "id": "altqHumisGOK"
   },
   "outputs": [
    {
     "data": {
      "application/vnd.jupyter.widget-view+json": {
       "model_id": "ff630049fa21432d81645452e29d2641",
       "version_major": 2,
       "version_minor": 0
      },
      "text/plain": [
       "  0%|          | 0/10 [00:00<?, ?it/s]"
      ]
     },
     "metadata": {},
     "output_type": "display_data"
    },
    {
     "name": "stdout",
     "output_type": "stream",
     "text": [
      "MAE: 30.07\n",
      "MAE: 28.64\n",
      "MAE: 27.47\n",
      "MAE: 26.44\n",
      "MAE: 25.54\n",
      "MAE: 24.77\n",
      "MAE: 24.04\n",
      "MAE: 23.10\n",
      "MAE: 22.50\n",
      "MAE: 21.73\n"
     ]
    }
   ],
   "source": [
    "for tree in tqdm(trees):\n",
    "    df_test['y_pred'] = df_test['y_pred'] + lr * tree.predict(df_test[features])\n",
    "    print('MAE: %.2f' % mean_absolute_error(df_test['y_true'], df_test['y_pred']))"
   ]
  },
  {
   "cell_type": "code",
   "execution_count": 23,
   "metadata": {
    "ExecuteTime": {
     "end_time": "2023-06-13T13:34:13.534707Z",
     "start_time": "2023-06-13T13:34:13.523970Z"
    }
   },
   "outputs": [
    {
     "data": {
      "text/html": [
       "<div>\n",
       "<style scoped>\n",
       "    .dataframe tbody tr th:only-of-type {\n",
       "        vertical-align: middle;\n",
       "    }\n",
       "\n",
       "    .dataframe tbody tr th {\n",
       "        vertical-align: top;\n",
       "    }\n",
       "\n",
       "    .dataframe thead th {\n",
       "        text-align: right;\n",
       "    }\n",
       "</style>\n",
       "<table border=\"1\" class=\"dataframe\">\n",
       "  <thead>\n",
       "    <tr style=\"text-align: right;\">\n",
       "      <th></th>\n",
       "      <th>x_0</th>\n",
       "      <th>x_1</th>\n",
       "      <th>y_true</th>\n",
       "      <th>y_pred</th>\n",
       "    </tr>\n",
       "  </thead>\n",
       "  <tbody>\n",
       "    <tr>\n",
       "      <th>0</th>\n",
       "      <td>-0.124021</td>\n",
       "      <td>-0.569450</td>\n",
       "      <td>-21.778592</td>\n",
       "      <td>-10.788908</td>\n",
       "    </tr>\n",
       "    <tr>\n",
       "      <th>1</th>\n",
       "      <td>0.692723</td>\n",
       "      <td>0.225264</td>\n",
       "      <td>22.209896</td>\n",
       "      <td>11.015158</td>\n",
       "    </tr>\n",
       "    <tr>\n",
       "      <th>2</th>\n",
       "      <td>-0.824612</td>\n",
       "      <td>0.307404</td>\n",
       "      <td>-7.073888</td>\n",
       "      <td>4.471564</td>\n",
       "    </tr>\n",
       "    <tr>\n",
       "      <th>3</th>\n",
       "      <td>1.414187</td>\n",
       "      <td>0.587392</td>\n",
       "      <td>49.631618</td>\n",
       "      <td>15.486798</td>\n",
       "    </tr>\n",
       "    <tr>\n",
       "      <th>4</th>\n",
       "      <td>0.078143</td>\n",
       "      <td>-0.816217</td>\n",
       "      <td>-25.811212</td>\n",
       "      <td>-11.877713</td>\n",
       "    </tr>\n",
       "    <tr>\n",
       "      <th>...</th>\n",
       "      <td>...</td>\n",
       "      <td>...</td>\n",
       "      <td>...</td>\n",
       "      <td>...</td>\n",
       "    </tr>\n",
       "    <tr>\n",
       "      <th>895</th>\n",
       "      <td>0.129221</td>\n",
       "      <td>2.445752</td>\n",
       "      <td>85.016669</td>\n",
       "      <td>19.522085</td>\n",
       "    </tr>\n",
       "    <tr>\n",
       "      <th>896</th>\n",
       "      <td>0.239247</td>\n",
       "      <td>-1.072743</td>\n",
       "      <td>-31.039385</td>\n",
       "      <td>-16.083019</td>\n",
       "    </tr>\n",
       "    <tr>\n",
       "      <th>897</th>\n",
       "      <td>0.470044</td>\n",
       "      <td>0.432263</td>\n",
       "      <td>24.471224</td>\n",
       "      <td>11.015158</td>\n",
       "    </tr>\n",
       "    <tr>\n",
       "      <th>898</th>\n",
       "      <td>0.472406</td>\n",
       "      <td>-0.956436</td>\n",
       "      <td>-22.201725</td>\n",
       "      <td>-16.083019</td>\n",
       "    </tr>\n",
       "    <tr>\n",
       "      <th>899</th>\n",
       "      <td>-0.103587</td>\n",
       "      <td>-0.188202</td>\n",
       "      <td>-8.519918</td>\n",
       "      <td>-2.269777</td>\n",
       "    </tr>\n",
       "  </tbody>\n",
       "</table>\n",
       "<p>900 rows × 4 columns</p>\n",
       "</div>"
      ],
      "text/plain": [
       "          x_0       x_1     y_true     y_pred\n",
       "0   -0.124021 -0.569450 -21.778592 -10.788908\n",
       "1    0.692723  0.225264  22.209896  11.015158\n",
       "2   -0.824612  0.307404  -7.073888   4.471564\n",
       "3    1.414187  0.587392  49.631618  15.486798\n",
       "4    0.078143 -0.816217 -25.811212 -11.877713\n",
       "..        ...       ...        ...        ...\n",
       "895  0.129221  2.445752  85.016669  19.522085\n",
       "896  0.239247 -1.072743 -31.039385 -16.083019\n",
       "897  0.470044  0.432263  24.471224  11.015158\n",
       "898  0.472406 -0.956436 -22.201725 -16.083019\n",
       "899 -0.103587 -0.188202  -8.519918  -2.269777\n",
       "\n",
       "[900 rows x 4 columns]"
      ]
     },
     "execution_count": 23,
     "metadata": {},
     "output_type": "execute_result"
    }
   ],
   "source": [
    "df_test"
   ]
  },
  {
   "cell_type": "markdown",
   "metadata": {},
   "source": [
    "### Почему residual = y_true - y_pred"
   ]
  },
  {
   "cell_type": "markdown",
   "metadata": {},
   "source": [
    "<img src='https://media.geeksforgeeks.org/wp-content/uploads/20200721214745/gradientboosting.PNG'>"
   ]
  },
  {
   "cell_type": "markdown",
   "metadata": {},
   "source": [
    "<img src='https://miro.medium.com/v2/resize:fit:1400/format:webp/1*fHenn7NVqcWvw25D3-zRiQ.png'>"
   ]
  },
  {
   "cell_type": "markdown",
   "metadata": {},
   "source": [
    "<img src='https://miro.medium.com/v2/resize:fit:1400/format:webp/1*LLbC4TstqzXQ3hzA8wCmeg.png'>"
   ]
  },
  {
   "cell_type": "markdown",
   "metadata": {},
   "source": [
    "### Библиотека sympy для вычисления производной"
   ]
  },
  {
   "cell_type": "code",
   "execution_count": 25,
   "metadata": {
    "ExecuteTime": {
     "end_time": "2023-06-13T13:37:12.944145Z",
     "start_time": "2023-06-13T13:37:12.454731Z"
    }
   },
   "outputs": [
    {
     "data": {
      "text/latex": [
       "$\\displaystyle 2 x$"
      ],
      "text/plain": [
       "2*x"
      ]
     },
     "execution_count": 25,
     "metadata": {},
     "output_type": "execute_result"
    }
   ],
   "source": [
    "from sympy import Symbol, diff, log\n",
    "\n",
    "x = Symbol('x')\n",
    "y = x**2 + 1\n",
    "yprime = y.diff(x)\n",
    "yprime"
   ]
  },
  {
   "cell_type": "markdown",
   "metadata": {},
   "source": [
    "-------"
   ]
  },
  {
   "cell_type": "code",
   "execution_count": 26,
   "metadata": {
    "ExecuteTime": {
     "end_time": "2023-06-13T13:37:32.639927Z",
     "start_time": "2023-06-13T13:37:32.637160Z"
    },
    "id": "hhyzPAYct4j7"
   },
   "outputs": [],
   "source": [
    "y_true = Symbol('y_true')\n",
    "y_pred = Symbol('y_pred')"
   ]
  },
  {
   "cell_type": "code",
   "execution_count": 27,
   "metadata": {
    "ExecuteTime": {
     "end_time": "2023-06-13T13:37:55.890252Z",
     "start_time": "2023-06-13T13:37:55.881216Z"
    },
    "colab": {
     "base_uri": "https://localhost:8080/",
     "height": 34
    },
    "id": "lwZaFEztuBNC",
    "outputId": "8d4a364d-8f4c-411b-b3c4-bc61dc1bbafb"
   },
   "outputs": [
    {
     "data": {
      "text/latex": [
       "$\\displaystyle 0.5 \\left(- y_{pred} + y_{true}\\right)^{2}$"
      ],
      "text/plain": [
       "0.5*(-y_pred + y_true)**2"
      ]
     },
     "execution_count": 27,
     "metadata": {},
     "output_type": "execute_result"
    }
   ],
   "source": [
    "1/2*(y_true-y_pred)**2"
   ]
  },
  {
   "cell_type": "code",
   "execution_count": 28,
   "metadata": {
    "ExecuteTime": {
     "end_time": "2023-06-13T13:38:09.349758Z",
     "start_time": "2023-06-13T13:38:09.328499Z"
    },
    "colab": {
     "base_uri": "https://localhost:8080/",
     "height": 34
    },
    "id": "6GnfKOFSuGDx",
    "outputId": "30bed8af-4e3f-4b82-9273-fc7a12292a72"
   },
   "outputs": [
    {
     "data": {
      "text/latex": [
       "$\\displaystyle 1.0 y_{pred} - 1.0 y_{true}$"
      ],
      "text/plain": [
       "1.0*y_pred - 1.0*y_true"
      ]
     },
     "execution_count": 28,
     "metadata": {},
     "output_type": "execute_result"
    }
   ],
   "source": [
    "diff(1/2*(y_true - y_pred)**2, y_pred)"
   ]
  },
  {
   "cell_type": "code",
   "execution_count": 29,
   "metadata": {
    "ExecuteTime": {
     "end_time": "2023-06-13T13:39:19.310165Z",
     "start_time": "2023-06-13T13:39:19.305796Z"
    },
    "id": "CbGzDNTIuOmI"
   },
   "outputs": [
    {
     "data": {
      "text/latex": [
       "$\\displaystyle - y_{pred} + y_{true}$"
      ],
      "text/plain": [
       "-y_pred + y_true"
      ]
     },
     "execution_count": 29,
     "metadata": {},
     "output_type": "execute_result"
    }
   ],
   "source": [
    "y_true - y_pred"
   ]
  },
  {
   "cell_type": "markdown",
   "metadata": {},
   "source": [
    "## Бустинг для бинарной классификации"
   ]
  },
  {
   "cell_type": "markdown",
   "metadata": {},
   "source": [
    "### Объяснение формулы для градиента в случае классификации"
   ]
  },
  {
   "cell_type": "markdown",
   "metadata": {},
   "source": [
    "<img src='https://miro.medium.com/v2/resize:fit:1400/1*KrQqI25cQ91OmEfZhYiKYg.jpeg'>"
   ]
  },
  {
   "cell_type": "markdown",
   "metadata": {},
   "source": [
    "<img src='https://cdn.analyticsvidhya.com/wp-content/uploads/2021/03/Screenshot-from-2021-03-03-11-33-29.png'>"
   ]
  },
  {
   "cell_type": "markdown",
   "metadata": {},
   "source": [
    "<img src='https://miro.medium.com/v2/resize:fit:1400/1*xn0T5GWAdViXHDw6zuhMSw.png'>"
   ]
  },
  {
   "cell_type": "markdown",
   "metadata": {},
   "source": [
    "### Проверка формулы производной с помощью sympy"
   ]
  },
  {
   "cell_type": "code",
   "execution_count": 30,
   "metadata": {
    "ExecuteTime": {
     "end_time": "2023-06-13T13:43:36.878673Z",
     "start_time": "2023-06-13T13:43:36.866831Z"
    }
   },
   "outputs": [
    {
     "data": {
      "text/latex": [
       "$\\displaystyle - y_{true} \\log{\\left(y_{pred} \\right)} - \\left(1 - y_{true}\\right) \\log{\\left(1 - y_{pred} \\right)}$"
      ],
      "text/plain": [
       "-y_true*log(y_pred) - (1 - y_true)*log(1 - y_pred)"
      ]
     },
     "execution_count": 30,
     "metadata": {},
     "output_type": "execute_result"
    }
   ],
   "source": [
    "-(y_true*log(y_pred) + (1-y_true)*log(1-y_pred))"
   ]
  },
  {
   "cell_type": "code",
   "execution_count": 31,
   "metadata": {
    "ExecuteTime": {
     "end_time": "2023-06-13T13:43:44.537187Z",
     "start_time": "2023-06-13T13:43:44.521347Z"
    }
   },
   "outputs": [
    {
     "data": {
      "text/latex": [
       "$\\displaystyle \\frac{1 - y_{true}}{1 - y_{pred}} - \\frac{y_{true}}{y_{pred}}$"
      ],
      "text/plain": [
       "(1 - y_true)/(1 - y_pred) - y_true/y_pred"
      ]
     },
     "execution_count": 31,
     "metadata": {},
     "output_type": "execute_result"
    }
   ],
   "source": [
    "diff(-(y_true*log(y_pred) + (1-y_true)*log(1-y_pred)), y_pred)"
   ]
  },
  {
   "cell_type": "markdown",
   "metadata": {
    "ExecuteTime": {
     "end_time": "2023-06-12T05:48:23.643594Z",
     "start_time": "2023-06-12T05:48:23.639650Z"
    }
   },
   "source": [
    "Формула для n_classes > 2:\n",
    "- https://stats.stackexchange.com/questions/370723/how-to-calculate-the-derivative-of-crossentropy-error-function"
   ]
  },
  {
   "cell_type": "markdown",
   "metadata": {},
   "source": [
    "Создадим датасет для задачи классификации:"
   ]
  },
  {
   "cell_type": "code",
   "execution_count": 90,
   "metadata": {
    "ExecuteTime": {
     "end_time": "2023-06-13T13:46:08.405921Z",
     "start_time": "2023-06-13T13:46:08.400569Z"
    },
    "id": "nYdVMIQxuWsl"
   },
   "outputs": [],
   "source": [
    "from sklearn.datasets import make_classification\n",
    "\n",
    "X, y = make_classification(n_samples=n_samples, n_features=n_features, n_redundant=0)\n",
    "df = pd.DataFrame(X, columns=features)\n",
    "df['y_true'] = y"
   ]
  },
  {
   "cell_type": "markdown",
   "metadata": {},
   "source": [
    "Разделим на train и test:"
   ]
  },
  {
   "cell_type": "code",
   "execution_count": 91,
   "metadata": {
    "ExecuteTime": {
     "end_time": "2023-06-13T13:46:08.687508Z",
     "start_time": "2023-06-13T13:46:08.680932Z"
    }
   },
   "outputs": [
    {
     "name": "stdout",
     "output_type": "stream",
     "text": [
      "(2100, 3) (900, 3)\n"
     ]
    }
   ],
   "source": [
    "df_train, df_test = train_test_split(df, test_size=0.3, shuffle=True, random_state=42)\n",
    "print(df_train.shape, df_test.shape)"
   ]
  },
  {
   "cell_type": "markdown",
   "metadata": {},
   "source": [
    "Для упрощения кода сделаем присвоение:"
   ]
  },
  {
   "cell_type": "code",
   "execution_count": 92,
   "metadata": {
    "ExecuteTime": {
     "end_time": "2023-06-13T13:46:09.153079Z",
     "start_time": "2023-06-13T13:46:09.148783Z"
    }
   },
   "outputs": [],
   "source": [
    "df = df_train.copy()\n",
    "\n",
    "# И сбросим индексы\n",
    "df = df.reset_index(drop=True)\n",
    "df_test = df_test.reset_index(drop=True)"
   ]
  },
  {
   "cell_type": "markdown",
   "metadata": {},
   "source": [
    "### Обучение (fit)"
   ]
  },
  {
   "cell_type": "code",
   "execution_count": 93,
   "metadata": {
    "ExecuteTime": {
     "end_time": "2023-06-13T13:46:17.626824Z",
     "start_time": "2023-06-13T13:46:17.612509Z"
    }
   },
   "outputs": [
    {
     "data": {
      "text/html": [
       "<div>\n",
       "<style scoped>\n",
       "    .dataframe tbody tr th:only-of-type {\n",
       "        vertical-align: middle;\n",
       "    }\n",
       "\n",
       "    .dataframe tbody tr th {\n",
       "        vertical-align: top;\n",
       "    }\n",
       "\n",
       "    .dataframe thead th {\n",
       "        text-align: right;\n",
       "    }\n",
       "</style>\n",
       "<table border=\"1\" class=\"dataframe\">\n",
       "  <thead>\n",
       "    <tr style=\"text-align: right;\">\n",
       "      <th></th>\n",
       "      <th>x_0</th>\n",
       "      <th>x_1</th>\n",
       "      <th>y_true</th>\n",
       "      <th>y_pred</th>\n",
       "    </tr>\n",
       "  </thead>\n",
       "  <tbody>\n",
       "    <tr>\n",
       "      <th>0</th>\n",
       "      <td>2.133541</td>\n",
       "      <td>-0.444075</td>\n",
       "      <td>1</td>\n",
       "      <td>0.492857</td>\n",
       "    </tr>\n",
       "    <tr>\n",
       "      <th>1</th>\n",
       "      <td>-0.870767</td>\n",
       "      <td>0.543855</td>\n",
       "      <td>0</td>\n",
       "      <td>0.492857</td>\n",
       "    </tr>\n",
       "    <tr>\n",
       "      <th>2</th>\n",
       "      <td>-0.643321</td>\n",
       "      <td>-0.738064</td>\n",
       "      <td>0</td>\n",
       "      <td>0.492857</td>\n",
       "    </tr>\n",
       "    <tr>\n",
       "      <th>3</th>\n",
       "      <td>0.032856</td>\n",
       "      <td>-0.164947</td>\n",
       "      <td>0</td>\n",
       "      <td>0.492857</td>\n",
       "    </tr>\n",
       "    <tr>\n",
       "      <th>4</th>\n",
       "      <td>1.652070</td>\n",
       "      <td>-0.408020</td>\n",
       "      <td>1</td>\n",
       "      <td>0.492857</td>\n",
       "    </tr>\n",
       "    <tr>\n",
       "      <th>...</th>\n",
       "      <td>...</td>\n",
       "      <td>...</td>\n",
       "      <td>...</td>\n",
       "      <td>...</td>\n",
       "    </tr>\n",
       "    <tr>\n",
       "      <th>2095</th>\n",
       "      <td>1.109644</td>\n",
       "      <td>-1.333960</td>\n",
       "      <td>0</td>\n",
       "      <td>0.492857</td>\n",
       "    </tr>\n",
       "    <tr>\n",
       "      <th>2096</th>\n",
       "      <td>2.946033</td>\n",
       "      <td>1.113970</td>\n",
       "      <td>1</td>\n",
       "      <td>0.492857</td>\n",
       "    </tr>\n",
       "    <tr>\n",
       "      <th>2097</th>\n",
       "      <td>0.180182</td>\n",
       "      <td>-0.128708</td>\n",
       "      <td>0</td>\n",
       "      <td>0.492857</td>\n",
       "    </tr>\n",
       "    <tr>\n",
       "      <th>2098</th>\n",
       "      <td>0.809311</td>\n",
       "      <td>1.244523</td>\n",
       "      <td>1</td>\n",
       "      <td>0.492857</td>\n",
       "    </tr>\n",
       "    <tr>\n",
       "      <th>2099</th>\n",
       "      <td>-2.348545</td>\n",
       "      <td>2.780165</td>\n",
       "      <td>1</td>\n",
       "      <td>0.492857</td>\n",
       "    </tr>\n",
       "  </tbody>\n",
       "</table>\n",
       "<p>2100 rows × 4 columns</p>\n",
       "</div>"
      ],
      "text/plain": [
       "           x_0       x_1  y_true    y_pred\n",
       "0     2.133541 -0.444075       1  0.492857\n",
       "1    -0.870767  0.543855       0  0.492857\n",
       "2    -0.643321 -0.738064       0  0.492857\n",
       "3     0.032856 -0.164947       0  0.492857\n",
       "4     1.652070 -0.408020       1  0.492857\n",
       "...        ...       ...     ...       ...\n",
       "2095  1.109644 -1.333960       0  0.492857\n",
       "2096  2.946033  1.113970       1  0.492857\n",
       "2097  0.180182 -0.128708       0  0.492857\n",
       "2098  0.809311  1.244523       1  0.492857\n",
       "2099 -2.348545  2.780165       1  0.492857\n",
       "\n",
       "[2100 rows x 4 columns]"
      ]
     },
     "execution_count": 93,
     "metadata": {},
     "output_type": "execute_result"
    }
   ],
   "source": [
    "# В качестве первого предсказания возьмем среднее значение таргета на train наборе\n",
    "initial_prediction = df['y_true'].mean()\n",
    "df['y_pred'] = initial_prediction\n",
    "df"
   ]
  },
  {
   "cell_type": "markdown",
   "metadata": {},
   "source": [
    "Качество наивного классификатора:"
   ]
  },
  {
   "cell_type": "code",
   "execution_count": 94,
   "metadata": {
    "ExecuteTime": {
     "end_time": "2023-06-13T13:46:54.811505Z",
     "start_time": "2023-06-13T13:46:54.805408Z"
    },
    "id": "MLFTIkvHwNPu"
   },
   "outputs": [
    {
     "data": {
      "text/plain": [
       "0.5"
      ]
     },
     "execution_count": 94,
     "metadata": {},
     "output_type": "execute_result"
    }
   ],
   "source": [
    "from sklearn.metrics import roc_auc_score\n",
    "\n",
    "auc_score = roc_auc_score(df['y_true'], df['y_pred'])\n",
    "auc_score"
   ]
  },
  {
   "cell_type": "code",
   "execution_count": 95,
   "metadata": {},
   "outputs": [
    {
     "data": {
      "text/plain": [
       "0      -2.028986\n",
       "1      -1.971831\n",
       "2      -1.971831\n",
       "3      -1.971831\n",
       "4      -2.028986\n",
       "          ...   \n",
       "2095   -1.971831\n",
       "2096   -2.028986\n",
       "2097   -1.971831\n",
       "2098   -2.028986\n",
       "2099   -2.028986\n",
       "Length: 2100, dtype: float64"
      ]
     },
     "execution_count": 95,
     "metadata": {},
     "output_type": "execute_result"
    }
   ],
   "source": [
    "def loss_function():\n",
    "    return -((1-df['y_true'])/(1-df['y_pred'])) - (df['y_true']/df['y_pred'])\n",
    "\n",
    "diff(-(y_true*log(y_pred) + (1-y_true)*log(1-y_pred)), y_pred)\n",
    "loss_function()"
   ]
  },
  {
   "cell_type": "markdown",
   "metadata": {},
   "source": [
    "for loop для обучения деревьев решений в цикле на остатках (residuals):"
   ]
  },
  {
   "cell_type": "code",
   "execution_count": null,
   "metadata": {
    "ExecuteTime": {
     "end_time": "2023-06-13T13:02:38.188852Z",
     "start_time": "2023-06-13T13:02:37.748544Z"
    },
    "colab": {
     "base_uri": "https://localhost:8080/",
     "height": 187
    },
    "id": "TAbY8-SJwAhT",
    "outputId": "90525d44-85d2-44ed-fc7e-1fbfca4f97ad",
    "scrolled": true
   },
   "outputs": [
    {
     "name": "stdout",
     "output_type": "stream",
     "text": [
      "0.1488807239572702\n",
      "0.1488807239572702\n",
      "0.1488807239572702\n",
      "0.1488807239572702\n",
      "0.1488807239572702\n",
      "0.1488807239572702\n",
      "0.1488807239572702\n",
      "0.1488807239572702\n",
      "0.1488807239572702\n",
      "0.1488807239572702\n",
      "0.1488807239572702\n",
      "0.1488807239572702\n",
      "0.1488807239572702\n",
      "0.1488807239572702\n",
      "0.1488807239572702\n",
      "0.1488807239572702\n",
      "0.1488807239572702\n",
      "0.1488807239572702\n",
      "0.1488807239572702\n",
      "0.1488807239572702\n",
      "0.1488807239572702\n",
      "0.1488807239572702\n",
      "0.1488807239572702\n",
      "0.1488807239572702\n",
      "0.1488807239572702\n",
      "0.1488807239572702\n",
      "0.1488807239572702\n",
      "0.1488807239572702\n",
      "0.1488807239572702\n",
      "0.1488807239572702\n",
      "0.1488807239572702\n",
      "0.1488807239572702\n",
      "0.1488807239572702\n",
      "0.1488807239572702\n",
      "0.1488807239572702\n",
      "0.1488807239572702\n",
      "0.1488807239572702\n",
      "0.1488807239572702\n",
      "0.1488807239572702\n",
      "0.1488807239572702\n",
      "0.1488807239572702\n",
      "0.1488807239572702\n",
      "0.1488807239572702\n",
      "0.1488807239572702\n",
      "0.1488807239572702\n",
      "0.1488807239572702\n",
      "0.1488807239572702\n",
      "0.1488807239572702\n",
      "0.1488807239572702\n",
      "0.1488807239572702\n",
      "0.1488807239572702\n",
      "0.1488807239572702\n",
      "0.1488807239572702\n",
      "0.1488807239572702\n",
      "0.1488807239572702\n",
      "0.1488807239572702\n",
      "0.1488807239572702\n",
      "0.1488807239572702\n",
      "0.1488807239572702\n",
      "0.1488807239572702\n",
      "0.1488807239572702\n",
      "0.1488807239572702\n",
      "0.1488807239572702\n",
      "0.1488807239572702\n",
      "0.1488807239572702\n",
      "0.1488807239572702\n",
      "0.1488807239572702\n",
      "0.1488807239572702\n",
      "0.1488807239572702\n",
      "0.1488807239572702\n",
      "0.1488807239572702\n",
      "0.1488807239572702\n",
      "0.1488807239572702\n",
      "0.1488807239572702\n",
      "0.1488807239572702\n",
      "0.1488807239572702\n",
      "0.1488807239572702\n",
      "0.1488807239572702\n",
      "0.1488807239572702\n",
      "0.1488807239572702\n",
      "0.1488807239572702\n",
      "0.1488807239572702\n",
      "0.1488807239572702\n",
      "0.1488807239572702\n",
      "0.1488807239572702\n",
      "0.1488807239572702\n",
      "0.1488807239572702\n",
      "0.1488807239572702\n",
      "0.1488807239572702\n",
      "0.1488807239572702\n",
      "0.1488807239572702\n",
      "0.1488807239572702\n",
      "0.1488807239572702\n",
      "0.1488807239572702\n",
      "0.1488807239572702\n",
      "0.1488807239572702\n",
      "0.1488807239572702\n",
      "0.1488807239572702\n",
      "0.1488807239572702\n",
      "0.1488807239572702\n",
      "0.1488807239572702\n",
      "0.1488807239572702\n",
      "0.1488807239572702\n",
      "0.1488807239572702\n",
      "0.1488807239572702\n",
      "0.1488807239572702\n",
      "0.1488807239572702\n",
      "0.1488807239572702\n",
      "0.1488807239572702\n",
      "0.1488807239572702\n",
      "0.1488807239572702\n",
      "0.1488807239572702\n",
      "0.1488807239572702\n",
      "0.1488807239572702\n",
      "0.1488807239572702\n",
      "0.1488807239572702\n",
      "0.1488807239572702\n",
      "0.1488807239572702\n",
      "0.1488807239572702\n",
      "0.1488807239572702\n",
      "0.1488807239572702\n",
      "0.1488807239572702\n",
      "0.1488807239572702\n",
      "0.1488807239572702\n",
      "0.1488807239572702\n",
      "0.1488807239572702\n",
      "0.1488807239572702\n",
      "0.1488807239572702\n",
      "0.1488807239572702\n",
      "0.1488807239572702\n",
      "0.1488807239572702\n",
      "0.1488807239572702\n",
      "0.1488807239572702\n",
      "0.1488807239572702\n",
      "0.1488807239572702\n",
      "0.1488807239572702\n",
      "0.1488807239572702\n",
      "0.1488807239572702\n",
      "0.1488807239572702\n",
      "0.1488807239572702\n",
      "0.1488807239572702\n",
      "0.1488807239572702\n",
      "0.1488807239572702\n",
      "0.1488807239572702\n",
      "0.1488807239572702\n",
      "0.1488807239572702\n",
      "0.1488807239572702\n",
      "0.1488807239572702\n",
      "0.1488807239572702\n",
      "0.1488807239572702\n",
      "0.1488807239572702\n",
      "0.1488807239572702\n",
      "0.1488807239572702\n",
      "0.1488807239572702\n",
      "0.1488807239572702\n",
      "0.1488807239572702\n",
      "0.1488807239572702\n",
      "0.1488807239572702\n",
      "0.1488807239572702\n",
      "0.1488807239572702\n",
      "0.1488807239572702\n",
      "0.1488807239572702\n",
      "0.1488807239572702\n",
      "0.1488807239572702\n",
      "0.1488807239572702\n",
      "0.1488807239572702\n",
      "0.1488807239572702\n",
      "0.1488807239572702\n",
      "0.1488807239572702\n",
      "0.1488807239572702\n",
      "0.1488807239572702\n",
      "0.1488807239572702\n",
      "0.1488807239572702\n",
      "0.1488807239572702\n",
      "0.1488807239572702\n",
      "0.1488807239572702\n",
      "0.1488807239572702\n",
      "0.1488807239572702\n",
      "0.1488807239572702\n",
      "0.1488807239572702\n",
      "0.1488807239572702\n",
      "0.1488807239572702\n",
      "0.1488807239572702\n",
      "0.1488807239572702\n",
      "0.1488807239572702\n",
      "0.1488807239572702\n",
      "0.1488807239572702\n",
      "0.1488807239572702\n",
      "0.1488807239572702\n",
      "0.1488807239572702\n",
      "0.1488807239572702\n",
      "0.1488807239572702\n",
      "0.1488807239572702\n",
      "0.1488807239572702\n",
      "0.1488807239572702\n",
      "0.1488807239572702\n",
      "0.1488807239572702\n",
      "0.1488807239572702\n",
      "0.1488807239572702\n",
      "0.1488807239572702\n",
      "0.1488807239572702\n",
      "0.1488807239572702\n",
      "0.1488807239572702\n",
      "0.1488807239572702\n",
      "0.1488807239572702\n",
      "0.1488807239572702\n",
      "0.1488807239572702\n",
      "0.1488807239572702\n",
      "0.1488807239572702\n",
      "0.1488807239572702\n",
      "0.1488807239572702\n",
      "0.1488807239572702\n",
      "0.1488807239572702\n",
      "0.1488807239572702\n",
      "0.1488807239572702\n",
      "0.1488807239572702\n",
      "0.1488807239572702\n",
      "0.1488807239572702\n",
      "0.1488807239572702\n",
      "0.1488807239572702\n",
      "0.1488807239572702\n",
      "0.1488807239572702\n",
      "0.1488807239572702\n",
      "0.1488807239572702\n",
      "0.1488807239572702\n",
      "0.1488807239572702\n",
      "0.1488807239572702\n",
      "0.1488807239572702\n",
      "0.5\n",
      "0.5\n",
      "0.5\n",
      "0.5\n",
      "0.5\n",
      "0.5\n",
      "0.5\n",
      "0.5\n",
      "0.5\n",
      "0.5\n",
      "0.5\n",
      "0.5\n",
      "0.5\n",
      "0.5\n",
      "0.5\n",
      "0.5\n",
      "0.5\n",
      "0.5\n",
      "0.5\n",
      "0.5\n",
      "0.5\n",
      "0.5\n",
      "0.5\n",
      "0.5\n",
      "0.5\n",
      "0.5\n",
      "0.5\n",
      "0.5\n",
      "0.5\n",
      "0.5\n",
      "0.5\n",
      "0.5\n",
      "0.5\n",
      "0.5\n",
      "0.5\n",
      "0.5\n",
      "0.5\n",
      "0.5\n",
      "0.5\n",
      "0.5\n",
      "0.5\n",
      "0.5\n",
      "0.5\n",
      "0.5\n",
      "0.5\n",
      "0.5\n",
      "0.5\n",
      "0.5\n",
      "0.5\n",
      "0.5\n",
      "0.5\n",
      "0.5\n",
      "0.5\n",
      "0.5\n",
      "0.5\n",
      "0.5\n",
      "0.5\n",
      "0.5\n",
      "0.5\n",
      "0.5\n",
      "0.5\n",
      "0.5\n",
      "0.5\n",
      "0.5\n",
      "0.5\n",
      "0.5\n",
      "0.5\n",
      "0.5\n",
      "0.5\n",
      "0.5\n",
      "0.5\n",
      "0.5\n",
      "0.5\n",
      "0.5\n",
      "0.5\n",
      "0.5\n",
      "0.5\n",
      "0.5\n",
      "0.5\n",
      "0.5\n",
      "0.5\n",
      "0.5\n",
      "0.5\n",
      "0.5\n",
      "0.5\n",
      "0.5\n",
      "0.5\n",
      "0.5\n",
      "0.5\n",
      "0.5\n",
      "0.5\n",
      "0.5\n",
      "0.5\n",
      "0.5\n",
      "0.5\n",
      "0.5\n",
      "0.5\n",
      "0.5\n",
      "0.5\n",
      "0.5\n",
      "0.5\n",
      "0.5\n",
      "0.5\n",
      "0.5\n",
      "0.5\n",
      "0.5\n",
      "0.5\n",
      "0.5\n",
      "0.5\n",
      "0.5\n",
      "0.5\n",
      "0.5\n",
      "0.5\n",
      "0.5\n",
      "0.5\n",
      "0.5\n",
      "0.5\n",
      "0.5\n",
      "0.5\n",
      "0.5\n",
      "0.5\n",
      "0.5\n",
      "0.5\n",
      "0.5\n",
      "0.5\n",
      "0.5\n",
      "0.5\n",
      "0.5\n",
      "0.5\n",
      "0.5\n",
      "0.5\n",
      "0.5\n",
      "0.5\n",
      "0.5\n",
      "0.5\n",
      "0.5\n",
      "0.5\n",
      "0.5\n",
      "0.5\n",
      "0.5\n",
      "0.5\n",
      "0.5\n",
      "0.5\n",
      "0.5\n",
      "0.5\n",
      "0.5\n",
      "0.5\n",
      "0.5\n",
      "0.5\n",
      "0.5\n",
      "0.5\n",
      "0.5\n",
      "0.5\n",
      "0.5\n",
      "0.5\n",
      "0.5\n",
      "0.5\n",
      "0.5\n",
      "0.5\n",
      "0.5\n",
      "0.5\n",
      "0.5\n",
      "0.5\n",
      "0.5\n",
      "0.5\n",
      "0.5\n",
      "0.5\n",
      "0.5\n",
      "0.5\n",
      "0.5\n",
      "0.5\n",
      "0.5\n",
      "0.5\n",
      "0.5\n",
      "0.5\n",
      "0.5\n",
      "0.5\n",
      "0.5\n",
      "0.5\n",
      "0.5\n",
      "0.5\n",
      "0.5\n",
      "0.5\n",
      "0.5\n",
      "0.5\n",
      "0.5\n",
      "0.5\n",
      "0.5\n",
      "0.5\n",
      "0.5\n",
      "0.5\n",
      "0.5\n",
      "0.5\n",
      "0.5\n",
      "0.5\n",
      "0.5\n",
      "0.5\n",
      "0.5\n",
      "0.5\n",
      "0.5\n",
      "0.5\n",
      "0.5\n",
      "0.5\n",
      "0.5\n",
      "0.5\n",
      "0.5\n",
      "0.5\n",
      "0.5\n",
      "0.5\n",
      "0.5\n",
      "0.5\n",
      "0.5\n",
      "0.5\n",
      "0.5\n",
      "0.5\n",
      "0.5\n",
      "0.5\n",
      "0.5\n",
      "0.5\n",
      "0.5\n",
      "0.5\n",
      "0.5\n",
      "0.5\n",
      "0.5\n",
      "0.5\n",
      "0.5\n",
      "0.5\n",
      "0.5\n",
      "0.5\n",
      "0.5\n",
      "0.5\n",
      "0.5\n",
      "0.5\n",
      "0.5\n",
      "0.5\n",
      "0.5\n",
      "0.5\n",
      "0.5\n",
      "0.5\n",
      "0.5\n",
      "0.5\n",
      "0.5\n",
      "0.5\n",
      "0.5\n",
      "0.5\n",
      "0.5\n",
      "0.5\n",
      "0.5\n",
      "0.5\n",
      "0.5\n",
      "0.5\n",
      "0.5\n",
      "0.5\n",
      "0.5\n",
      "0.5\n",
      "0.5\n",
      "0.5\n",
      "0.5\n",
      "0.5\n",
      "0.5\n",
      "0.5\n",
      "0.5\n",
      "0.5\n",
      "0.5\n",
      "0.5\n",
      "0.5\n",
      "0.5\n",
      "0.5\n",
      "0.5\n",
      "0.5\n",
      "0.5\n",
      "0.5\n",
      "0.5\n",
      "0.5\n",
      "0.5\n",
      "0.5\n",
      "0.5\n",
      "0.5\n",
      "0.5\n",
      "0.5\n",
      "0.5\n",
      "0.5\n",
      "0.5\n",
      "0.5\n",
      "0.5\n",
      "0.5\n",
      "0.5\n",
      "0.5\n",
      "0.5\n",
      "0.5\n",
      "0.5\n",
      "0.5\n",
      "0.5\n",
      "0.5\n",
      "0.5\n",
      "0.5\n",
      "0.5\n",
      "0.5\n",
      "0.5\n",
      "0.5\n",
      "0.5\n",
      "0.5\n",
      "0.5\n",
      "0.5\n",
      "0.5\n",
      "0.5\n",
      "0.5\n",
      "0.5\n",
      "0.5\n",
      "0.5\n",
      "0.5\n",
      "0.5\n",
      "0.5\n",
      "0.5\n",
      "0.5\n",
      "0.5\n",
      "0.5\n",
      "0.5\n",
      "0.5\n",
      "0.5\n",
      "0.5\n",
      "0.5\n",
      "0.5\n",
      "0.5\n",
      "0.5\n",
      "0.5\n",
      "0.5\n",
      "0.5\n",
      "0.5\n",
      "0.5\n",
      "0.5\n",
      "0.5\n",
      "0.5\n",
      "0.5\n",
      "0.5\n",
      "0.5\n",
      "0.5\n",
      "0.5\n",
      "0.5\n",
      "0.5\n",
      "0.5\n",
      "0.5\n",
      "0.5\n",
      "0.5\n",
      "0.5\n",
      "0.5\n",
      "0.5\n",
      "0.5\n",
      "0.5\n",
      "0.5\n",
      "0.5\n",
      "0.5\n",
      "0.5\n",
      "0.5\n",
      "0.5\n",
      "0.5\n",
      "0.5\n",
      "0.5\n",
      "0.5\n",
      "0.5\n",
      "0.5\n",
      "0.5\n",
      "0.5\n",
      "0.5\n",
      "0.5\n",
      "0.5\n",
      "0.5\n",
      "0.5\n",
      "0.5\n",
      "0.5\n",
      "0.5\n",
      "0.5\n",
      "0.5\n",
      "0.5\n",
      "0.5\n",
      "0.5\n",
      "0.5\n",
      "0.5\n",
      "0.5\n",
      "0.5\n",
      "0.5\n",
      "0.5\n",
      "0.5\n",
      "0.5\n",
      "0.5\n",
      "0.5\n",
      "0.5\n",
      "0.5\n",
      "0.5\n",
      "0.5\n",
      "0.5\n",
      "0.5\n",
      "0.5\n",
      "0.5\n",
      "0.5\n",
      "0.5\n",
      "0.5\n",
      "0.5\n",
      "0.5\n",
      "0.5\n",
      "0.5\n",
      "0.5\n",
      "0.5\n",
      "0.5\n",
      "0.5\n",
      "0.5\n",
      "0.5\n",
      "0.5\n",
      "0.5\n",
      "0.5\n",
      "0.5\n",
      "0.5\n",
      "0.5\n",
      "0.5\n",
      "0.5\n",
      "0.5\n",
      "0.5\n",
      "0.5\n",
      "0.5\n",
      "0.5\n",
      "0.5\n",
      "0.5\n",
      "0.5\n",
      "0.5\n",
      "0.5\n",
      "0.5\n",
      "0.5\n",
      "0.5\n",
      "0.5\n",
      "0.5\n",
      "0.5\n",
      "0.5\n",
      "0.5\n",
      "0.5\n",
      "0.5\n",
      "0.5\n",
      "0.5\n",
      "0.5\n",
      "0.5\n",
      "0.5\n",
      "0.5\n",
      "0.5\n",
      "0.5\n",
      "0.5\n",
      "0.5\n",
      "0.5\n",
      "0.5\n",
      "0.5\n",
      "0.5\n",
      "0.5\n",
      "0.5\n",
      "0.5\n",
      "0.5\n",
      "0.5\n",
      "0.5\n",
      "0.5\n",
      "0.5\n",
      "0.5\n",
      "0.5\n",
      "0.5\n",
      "0.5\n",
      "0.5\n",
      "0.5\n",
      "0.5\n",
      "0.5\n",
      "0.5\n",
      "0.5\n",
      "0.5\n",
      "0.5\n",
      "0.5\n",
      "0.5\n",
      "0.5\n",
      "0.5\n",
      "0.5\n",
      "0.5\n",
      "0.5\n",
      "0.5\n",
      "0.5\n",
      "0.5\n",
      "0.5\n",
      "0.5\n",
      "0.5\n",
      "0.5\n",
      "0.5\n",
      "0.5\n",
      "0.5\n",
      "0.5\n",
      "0.5\n",
      "0.5\n",
      "0.5\n",
      "0.5\n",
      "0.5\n",
      "0.5\n",
      "0.5\n",
      "0.5\n",
      "0.5\n",
      "0.5\n",
      "0.5\n",
      "0.5\n",
      "0.5\n",
      "0.5\n",
      "0.5\n",
      "0.5\n",
      "0.5\n",
      "0.5\n",
      "0.5\n",
      "0.5\n",
      "0.5\n",
      "0.5\n",
      "0.5\n",
      "0.5\n",
      "0.5\n",
      "0.5\n",
      "0.5\n",
      "0.5\n",
      "0.5\n",
      "0.5\n",
      "0.5\n",
      "0.5\n",
      "0.5\n",
      "0.5\n",
      "0.5\n",
      "0.5\n",
      "0.5\n",
      "0.5\n",
      "0.5\n",
      "0.5\n",
      "0.5\n",
      "0.5\n",
      "0.5\n",
      "0.5\n",
      "0.5\n",
      "0.5\n",
      "0.5\n",
      "0.5\n",
      "0.5\n",
      "0.5\n",
      "0.5\n",
      "0.5\n",
      "0.5\n",
      "0.5\n",
      "0.5\n",
      "0.5\n",
      "0.5\n",
      "0.5\n",
      "0.5\n",
      "0.5\n",
      "0.5\n",
      "0.5\n",
      "0.5\n",
      "0.5\n",
      "0.5\n",
      "0.5\n",
      "0.5\n",
      "0.5\n",
      "0.5\n",
      "0.5\n",
      "0.5\n",
      "0.5\n",
      "0.5\n",
      "0.5\n",
      "0.5\n",
      "0.5\n",
      "0.5\n",
      "0.5\n",
      "0.5\n",
      "0.5\n",
      "0.5\n",
      "0.5\n",
      "0.5\n",
      "0.5\n",
      "0.5\n",
      "0.5\n",
      "0.5\n",
      "0.5\n",
      "0.5\n",
      "0.5\n",
      "0.5\n",
      "0.5\n",
      "0.5\n",
      "0.5\n",
      "0.5\n",
      "0.5\n",
      "0.5\n",
      "0.5\n",
      "0.5\n",
      "0.5\n",
      "0.5\n",
      "0.5\n",
      "0.5\n",
      "0.5\n",
      "0.5\n",
      "0.5\n",
      "0.5\n",
      "0.5\n",
      "0.5\n",
      "0.5\n",
      "0.5\n",
      "0.5\n",
      "0.5\n",
      "0.5\n",
      "0.5\n",
      "0.5\n",
      "0.5\n",
      "0.5\n",
      "0.5\n",
      "0.5\n",
      "0.5\n",
      "0.5\n",
      "0.5\n",
      "0.5\n",
      "0.5\n",
      "0.5\n",
      "0.5\n",
      "0.5\n",
      "0.5\n",
      "0.5\n",
      "0.5\n",
      "0.5\n",
      "0.5\n",
      "0.5\n",
      "0.5\n",
      "0.5\n",
      "0.5\n",
      "0.5\n",
      "0.5\n",
      "0.5\n",
      "0.5\n",
      "0.5\n",
      "0.5\n",
      "0.5\n",
      "0.5\n",
      "0.5\n",
      "0.5\n",
      "0.5\n",
      "0.5\n",
      "0.5\n",
      "0.5\n",
      "0.5\n",
      "0.5\n",
      "0.5\n",
      "0.5\n",
      "0.5\n",
      "0.5\n",
      "0.5\n",
      "0.5\n",
      "0.5\n",
      "0.5\n",
      "0.5\n",
      "0.5\n",
      "0.5\n",
      "0.5\n",
      "0.5\n",
      "0.5\n",
      "0.5\n",
      "0.5\n",
      "0.5\n",
      "0.5\n",
      "0.5\n",
      "0.5\n",
      "0.5\n",
      "0.5\n",
      "0.5\n",
      "0.5\n",
      "0.5\n",
      "0.5\n",
      "0.5\n",
      "0.5\n",
      "0.5\n",
      "0.5\n",
      "0.5\n",
      "0.5\n",
      "0.5\n",
      "0.5\n",
      "0.5\n"
     ]
    }
   ],
   "source": [
    "from sklearn.tree import DecisionTreeClassifier\n",
    "\n",
    "\n",
    "n_iter = 1000\n",
    "lr = 0.001\n",
    "trees = []\n",
    "\n",
    "df['y_pred'] = initial_prediction\n",
    "\n",
    "# Рассчитываем остатки согласно формулам выше\n",
    "df['residual'] = loss_function()\n",
    "\n",
    "for i in range(n_iter):\n",
    "    # Создаем дерево решений\n",
    "    tree = DecisionTreeRegressor(max_depth=1)# your code here\n",
    "    \n",
    "    # Обучаем дерево решений дерево решений на остатках\n",
    "    tree.fit(df[features], df['residual']) # your code here)\n",
    "        \n",
    "    # Обновляем prediction:\n",
    "    df['y_pred'] = df['y_pred'] + lr * tree.predict(df[features]) # your code here\n",
    "    \n",
    "    # Будем ограничивать предсказания между 0 и 1 (можно вначале пропустить данный шаг)\n",
    "    # df['y_pred'] = df['y_pred'].apply(np.clip(df['y_pred'], 0, 1))# your code here)\n",
    "    df['y_pred'] = np.clip(df['y_pred'], 1e-7, 1 - 1e-7)\n",
    "        \n",
    "    # Обновляем остатки\n",
    "    df['residual'] = loss_function() # your code here\n",
    "        \n",
    "    # Складываем обученные деревья в массив (они нам понадобятся для предсказаний)\n",
    "    trees.append(tree) # your code here)\n",
    "        \n",
    "    # Выводим AUC на текущей итерации\n",
    "    print(roc_auc_score(df['y_true'], df['y_pred']))"
   ]
  },
  {
   "cell_type": "code",
   "execution_count": 88,
   "metadata": {
    "ExecuteTime": {
     "end_time": "2023-06-13T13:02:38.201330Z",
     "start_time": "2023-06-13T13:02:38.190873Z"
    },
    "colab": {
     "base_uri": "https://localhost:8080/",
     "height": 359
    },
    "id": "8_Gjdmxoweo0",
    "outputId": "1fc4578f-3239-4031-ff9a-5e1120510401"
   },
   "outputs": [
    {
     "data": {
      "text/html": [
       "<div>\n",
       "<style scoped>\n",
       "    .dataframe tbody tr th:only-of-type {\n",
       "        vertical-align: middle;\n",
       "    }\n",
       "\n",
       "    .dataframe tbody tr th {\n",
       "        vertical-align: top;\n",
       "    }\n",
       "\n",
       "    .dataframe thead th {\n",
       "        text-align: right;\n",
       "    }\n",
       "</style>\n",
       "<table border=\"1\" class=\"dataframe\">\n",
       "  <thead>\n",
       "    <tr style=\"text-align: right;\">\n",
       "      <th></th>\n",
       "      <th>x_0</th>\n",
       "      <th>x_1</th>\n",
       "      <th>y_true</th>\n",
       "      <th>y_pred</th>\n",
       "      <th>residual</th>\n",
       "    </tr>\n",
       "  </thead>\n",
       "  <tbody>\n",
       "    <tr>\n",
       "      <th>0</th>\n",
       "      <td>2.335493</td>\n",
       "      <td>-1.995212</td>\n",
       "      <td>0</td>\n",
       "      <td>0.487663</td>\n",
       "      <td>-1.951841</td>\n",
       "    </tr>\n",
       "    <tr>\n",
       "      <th>1</th>\n",
       "      <td>1.033745</td>\n",
       "      <td>-0.170064</td>\n",
       "      <td>1</td>\n",
       "      <td>0.487663</td>\n",
       "      <td>-2.050596</td>\n",
       "    </tr>\n",
       "    <tr>\n",
       "      <th>2</th>\n",
       "      <td>-1.478784</td>\n",
       "      <td>2.120444</td>\n",
       "      <td>1</td>\n",
       "      <td>0.487569</td>\n",
       "      <td>-2.050990</td>\n",
       "    </tr>\n",
       "    <tr>\n",
       "      <th>3</th>\n",
       "      <td>-0.903093</td>\n",
       "      <td>-0.892476</td>\n",
       "      <td>0</td>\n",
       "      <td>0.487663</td>\n",
       "      <td>-1.951841</td>\n",
       "    </tr>\n",
       "    <tr>\n",
       "      <th>4</th>\n",
       "      <td>-0.974717</td>\n",
       "      <td>-0.951124</td>\n",
       "      <td>0</td>\n",
       "      <td>0.487663</td>\n",
       "      <td>-1.951841</td>\n",
       "    </tr>\n",
       "    <tr>\n",
       "      <th>...</th>\n",
       "      <td>...</td>\n",
       "      <td>...</td>\n",
       "      <td>...</td>\n",
       "      <td>...</td>\n",
       "      <td>...</td>\n",
       "    </tr>\n",
       "    <tr>\n",
       "      <th>2095</th>\n",
       "      <td>-0.268839</td>\n",
       "      <td>0.098403</td>\n",
       "      <td>1</td>\n",
       "      <td>0.487569</td>\n",
       "      <td>-2.050990</td>\n",
       "    </tr>\n",
       "    <tr>\n",
       "      <th>2096</th>\n",
       "      <td>1.766181</td>\n",
       "      <td>-1.529580</td>\n",
       "      <td>0</td>\n",
       "      <td>0.487663</td>\n",
       "      <td>-1.951841</td>\n",
       "    </tr>\n",
       "    <tr>\n",
       "      <th>2097</th>\n",
       "      <td>1.156202</td>\n",
       "      <td>0.914607</td>\n",
       "      <td>1</td>\n",
       "      <td>0.487569</td>\n",
       "      <td>-2.050990</td>\n",
       "    </tr>\n",
       "    <tr>\n",
       "      <th>2098</th>\n",
       "      <td>-0.506966</td>\n",
       "      <td>-0.542003</td>\n",
       "      <td>0</td>\n",
       "      <td>0.487663</td>\n",
       "      <td>-1.951841</td>\n",
       "    </tr>\n",
       "    <tr>\n",
       "      <th>2099</th>\n",
       "      <td>0.297544</td>\n",
       "      <td>1.679165</td>\n",
       "      <td>1</td>\n",
       "      <td>0.487569</td>\n",
       "      <td>-2.050990</td>\n",
       "    </tr>\n",
       "  </tbody>\n",
       "</table>\n",
       "<p>2100 rows × 5 columns</p>\n",
       "</div>"
      ],
      "text/plain": [
       "           x_0       x_1  y_true    y_pred  residual\n",
       "0     2.335493 -1.995212       0  0.487663 -1.951841\n",
       "1     1.033745 -0.170064       1  0.487663 -2.050596\n",
       "2    -1.478784  2.120444       1  0.487569 -2.050990\n",
       "3    -0.903093 -0.892476       0  0.487663 -1.951841\n",
       "4    -0.974717 -0.951124       0  0.487663 -1.951841\n",
       "...        ...       ...     ...       ...       ...\n",
       "2095 -0.268839  0.098403       1  0.487569 -2.050990\n",
       "2096  1.766181 -1.529580       0  0.487663 -1.951841\n",
       "2097  1.156202  0.914607       1  0.487569 -2.050990\n",
       "2098 -0.506966 -0.542003       0  0.487663 -1.951841\n",
       "2099  0.297544  1.679165       1  0.487569 -2.050990\n",
       "\n",
       "[2100 rows x 5 columns]"
      ]
     },
     "execution_count": 88,
     "metadata": {},
     "output_type": "execute_result"
    }
   ],
   "source": [
    "df"
   ]
  },
  {
   "cell_type": "markdown",
   "metadata": {},
   "source": [
    "### Предсказание (predict)"
   ]
  },
  {
   "cell_type": "code",
   "execution_count": 58,
   "metadata": {
    "ExecuteTime": {
     "end_time": "2023-06-13T13:02:38.212643Z",
     "start_time": "2023-06-13T13:02:38.203502Z"
    }
   },
   "outputs": [
    {
     "data": {
      "text/html": [
       "<div>\n",
       "<style scoped>\n",
       "    .dataframe tbody tr th:only-of-type {\n",
       "        vertical-align: middle;\n",
       "    }\n",
       "\n",
       "    .dataframe tbody tr th {\n",
       "        vertical-align: top;\n",
       "    }\n",
       "\n",
       "    .dataframe thead th {\n",
       "        text-align: right;\n",
       "    }\n",
       "</style>\n",
       "<table border=\"1\" class=\"dataframe\">\n",
       "  <thead>\n",
       "    <tr style=\"text-align: right;\">\n",
       "      <th></th>\n",
       "      <th>x_0</th>\n",
       "      <th>x_1</th>\n",
       "      <th>y_true</th>\n",
       "    </tr>\n",
       "  </thead>\n",
       "  <tbody>\n",
       "    <tr>\n",
       "      <th>0</th>\n",
       "      <td>0.359095</td>\n",
       "      <td>0.710921</td>\n",
       "      <td>0</td>\n",
       "    </tr>\n",
       "    <tr>\n",
       "      <th>1</th>\n",
       "      <td>-1.980890</td>\n",
       "      <td>-1.932540</td>\n",
       "      <td>0</td>\n",
       "    </tr>\n",
       "    <tr>\n",
       "      <th>2</th>\n",
       "      <td>1.779600</td>\n",
       "      <td>0.763142</td>\n",
       "      <td>1</td>\n",
       "    </tr>\n",
       "    <tr>\n",
       "      <th>3</th>\n",
       "      <td>0.531916</td>\n",
       "      <td>1.358485</td>\n",
       "      <td>1</td>\n",
       "    </tr>\n",
       "    <tr>\n",
       "      <th>4</th>\n",
       "      <td>1.575460</td>\n",
       "      <td>-2.557025</td>\n",
       "      <td>0</td>\n",
       "    </tr>\n",
       "    <tr>\n",
       "      <th>...</th>\n",
       "      <td>...</td>\n",
       "      <td>...</td>\n",
       "      <td>...</td>\n",
       "    </tr>\n",
       "    <tr>\n",
       "      <th>895</th>\n",
       "      <td>-2.475336</td>\n",
       "      <td>0.798462</td>\n",
       "      <td>1</td>\n",
       "    </tr>\n",
       "    <tr>\n",
       "      <th>896</th>\n",
       "      <td>0.877837</td>\n",
       "      <td>0.613461</td>\n",
       "      <td>0</td>\n",
       "    </tr>\n",
       "    <tr>\n",
       "      <th>897</th>\n",
       "      <td>1.233450</td>\n",
       "      <td>0.653772</td>\n",
       "      <td>1</td>\n",
       "    </tr>\n",
       "    <tr>\n",
       "      <th>898</th>\n",
       "      <td>-0.258135</td>\n",
       "      <td>0.791249</td>\n",
       "      <td>1</td>\n",
       "    </tr>\n",
       "    <tr>\n",
       "      <th>899</th>\n",
       "      <td>0.926078</td>\n",
       "      <td>-0.706231</td>\n",
       "      <td>0</td>\n",
       "    </tr>\n",
       "  </tbody>\n",
       "</table>\n",
       "<p>900 rows × 3 columns</p>\n",
       "</div>"
      ],
      "text/plain": [
       "          x_0       x_1  y_true\n",
       "0    0.359095  0.710921       0\n",
       "1   -1.980890 -1.932540       0\n",
       "2    1.779600  0.763142       1\n",
       "3    0.531916  1.358485       1\n",
       "4    1.575460 -2.557025       0\n",
       "..        ...       ...     ...\n",
       "895 -2.475336  0.798462       1\n",
       "896  0.877837  0.613461       0\n",
       "897  1.233450  0.653772       1\n",
       "898 -0.258135  0.791249       1\n",
       "899  0.926078 -0.706231       0\n",
       "\n",
       "[900 rows x 3 columns]"
      ]
     },
     "execution_count": 58,
     "metadata": {},
     "output_type": "execute_result"
    }
   ],
   "source": [
    "df_test"
   ]
  },
  {
   "cell_type": "code",
   "execution_count": 37,
   "metadata": {
    "ExecuteTime": {
     "end_time": "2023-06-13T13:02:38.227483Z",
     "start_time": "2023-06-13T13:02:38.214819Z"
    }
   },
   "outputs": [
    {
     "data": {
      "text/html": [
       "<div>\n",
       "<style scoped>\n",
       "    .dataframe tbody tr th:only-of-type {\n",
       "        vertical-align: middle;\n",
       "    }\n",
       "\n",
       "    .dataframe tbody tr th {\n",
       "        vertical-align: top;\n",
       "    }\n",
       "\n",
       "    .dataframe thead th {\n",
       "        text-align: right;\n",
       "    }\n",
       "</style>\n",
       "<table border=\"1\" class=\"dataframe\">\n",
       "  <thead>\n",
       "    <tr style=\"text-align: right;\">\n",
       "      <th></th>\n",
       "      <th>x_0</th>\n",
       "      <th>x_1</th>\n",
       "      <th>y_true</th>\n",
       "      <th>y_pred</th>\n",
       "    </tr>\n",
       "  </thead>\n",
       "  <tbody>\n",
       "    <tr>\n",
       "      <th>0</th>\n",
       "      <td>-0.142389</td>\n",
       "      <td>0.243385</td>\n",
       "      <td>0</td>\n",
       "      <td>0.5</td>\n",
       "    </tr>\n",
       "    <tr>\n",
       "      <th>1</th>\n",
       "      <td>1.944275</td>\n",
       "      <td>1.851880</td>\n",
       "      <td>1</td>\n",
       "      <td>0.5</td>\n",
       "    </tr>\n",
       "    <tr>\n",
       "      <th>2</th>\n",
       "      <td>0.153339</td>\n",
       "      <td>0.926060</td>\n",
       "      <td>1</td>\n",
       "      <td>0.5</td>\n",
       "    </tr>\n",
       "    <tr>\n",
       "      <th>3</th>\n",
       "      <td>0.090894</td>\n",
       "      <td>0.416834</td>\n",
       "      <td>0</td>\n",
       "      <td>0.5</td>\n",
       "    </tr>\n",
       "    <tr>\n",
       "      <th>4</th>\n",
       "      <td>-1.206709</td>\n",
       "      <td>2.141288</td>\n",
       "      <td>1</td>\n",
       "      <td>0.5</td>\n",
       "    </tr>\n",
       "    <tr>\n",
       "      <th>...</th>\n",
       "      <td>...</td>\n",
       "      <td>...</td>\n",
       "      <td>...</td>\n",
       "      <td>...</td>\n",
       "    </tr>\n",
       "    <tr>\n",
       "      <th>895</th>\n",
       "      <td>0.460581</td>\n",
       "      <td>-0.186435</td>\n",
       "      <td>0</td>\n",
       "      <td>0.5</td>\n",
       "    </tr>\n",
       "    <tr>\n",
       "      <th>896</th>\n",
       "      <td>-1.443453</td>\n",
       "      <td>0.986124</td>\n",
       "      <td>0</td>\n",
       "      <td>0.5</td>\n",
       "    </tr>\n",
       "    <tr>\n",
       "      <th>897</th>\n",
       "      <td>2.718872</td>\n",
       "      <td>-5.819239</td>\n",
       "      <td>0</td>\n",
       "      <td>0.5</td>\n",
       "    </tr>\n",
       "    <tr>\n",
       "      <th>898</th>\n",
       "      <td>-3.126788</td>\n",
       "      <td>1.150926</td>\n",
       "      <td>1</td>\n",
       "      <td>0.5</td>\n",
       "    </tr>\n",
       "    <tr>\n",
       "      <th>899</th>\n",
       "      <td>0.485438</td>\n",
       "      <td>0.418907</td>\n",
       "      <td>1</td>\n",
       "      <td>0.5</td>\n",
       "    </tr>\n",
       "  </tbody>\n",
       "</table>\n",
       "<p>900 rows × 4 columns</p>\n",
       "</div>"
      ],
      "text/plain": [
       "          x_0       x_1  y_true  y_pred\n",
       "0   -0.142389  0.243385       0     0.5\n",
       "1    1.944275  1.851880       1     0.5\n",
       "2    0.153339  0.926060       1     0.5\n",
       "3    0.090894  0.416834       0     0.5\n",
       "4   -1.206709  2.141288       1     0.5\n",
       "..        ...       ...     ...     ...\n",
       "895  0.460581 -0.186435       0     0.5\n",
       "896 -1.443453  0.986124       0     0.5\n",
       "897  2.718872 -5.819239       0     0.5\n",
       "898 -3.126788  1.150926       1     0.5\n",
       "899  0.485438  0.418907       1     0.5\n",
       "\n",
       "[900 rows x 4 columns]"
      ]
     },
     "execution_count": 37,
     "metadata": {},
     "output_type": "execute_result"
    }
   ],
   "source": [
    "# Берем initial_prediction с train датасета\n",
    "df_test['y_pred'] = initial_prediction # X['y_true'].mean()\n",
    "df_test"
   ]
  },
  {
   "cell_type": "code",
   "execution_count": 38,
   "metadata": {
    "ExecuteTime": {
     "end_time": "2023-06-13T13:02:38.454438Z",
     "start_time": "2023-06-13T13:02:38.230190Z"
    }
   },
   "outputs": [
    {
     "data": {
      "application/vnd.jupyter.widget-view+json": {
       "model_id": "fa50a20d33bb428aa716e88be190eeb3",
       "version_major": 2,
       "version_minor": 0
      },
      "text/plain": [
       "  0%|          | 0/10 [00:00<?, ?it/s]"
      ]
     },
     "metadata": {},
     "output_type": "display_data"
    },
    {
     "name": "stdout",
     "output_type": "stream",
     "text": [
      "AUC: 0.85\n",
      "AUC: 0.87\n",
      "AUC: 0.90\n",
      "AUC: 0.90\n",
      "AUC: 0.91\n",
      "AUC: 0.83\n",
      "AUC: 0.90\n",
      "AUC: 0.84\n",
      "AUC: 0.89\n",
      "AUC: 0.84\n"
     ]
    }
   ],
   "source": [
    "for tree in tqdm(trees):\n",
    "    # Обновляем prediction:\n",
    "    df_test['y_pred'] += # your code here\n",
    "    \n",
    "    # Будем ограничивать предсказания между 0 и 1 (можно вначале пропустить данный шаг)    \n",
    "    df_test['y_pred'] = df_test['y_pred'].apply(# your code here)\n",
    "        \n",
    "    # Выводим AUC на текущей итерации\n",
    "    # your code here"
   ]
  },
  {
   "cell_type": "code",
   "execution_count": 39,
   "metadata": {
    "ExecuteTime": {
     "end_time": "2023-06-13T13:02:38.466312Z",
     "start_time": "2023-06-13T13:02:38.456265Z"
    }
   },
   "outputs": [
    {
     "data": {
      "text/html": [
       "<div>\n",
       "<style scoped>\n",
       "    .dataframe tbody tr th:only-of-type {\n",
       "        vertical-align: middle;\n",
       "    }\n",
       "\n",
       "    .dataframe tbody tr th {\n",
       "        vertical-align: top;\n",
       "    }\n",
       "\n",
       "    .dataframe thead th {\n",
       "        text-align: right;\n",
       "    }\n",
       "</style>\n",
       "<table border=\"1\" class=\"dataframe\">\n",
       "  <thead>\n",
       "    <tr style=\"text-align: right;\">\n",
       "      <th></th>\n",
       "      <th>x_0</th>\n",
       "      <th>x_1</th>\n",
       "      <th>y_true</th>\n",
       "      <th>y_pred</th>\n",
       "    </tr>\n",
       "  </thead>\n",
       "  <tbody>\n",
       "    <tr>\n",
       "      <th>0</th>\n",
       "      <td>-0.142389</td>\n",
       "      <td>0.243385</td>\n",
       "      <td>0</td>\n",
       "      <td>3.726326e-01</td>\n",
       "    </tr>\n",
       "    <tr>\n",
       "      <th>1</th>\n",
       "      <td>1.944275</td>\n",
       "      <td>1.851880</td>\n",
       "      <td>1</td>\n",
       "      <td>8.694076e-01</td>\n",
       "    </tr>\n",
       "    <tr>\n",
       "      <th>2</th>\n",
       "      <td>0.153339</td>\n",
       "      <td>0.926060</td>\n",
       "      <td>1</td>\n",
       "      <td>8.694076e-01</td>\n",
       "    </tr>\n",
       "    <tr>\n",
       "      <th>3</th>\n",
       "      <td>0.090894</td>\n",
       "      <td>0.416834</td>\n",
       "      <td>0</td>\n",
       "      <td>3.726326e-01</td>\n",
       "    </tr>\n",
       "    <tr>\n",
       "      <th>4</th>\n",
       "      <td>-1.206709</td>\n",
       "      <td>2.141288</td>\n",
       "      <td>1</td>\n",
       "      <td>8.694076e-01</td>\n",
       "    </tr>\n",
       "    <tr>\n",
       "      <th>...</th>\n",
       "      <td>...</td>\n",
       "      <td>...</td>\n",
       "      <td>...</td>\n",
       "      <td>...</td>\n",
       "    </tr>\n",
       "    <tr>\n",
       "      <th>895</th>\n",
       "      <td>0.460581</td>\n",
       "      <td>-0.186435</td>\n",
       "      <td>0</td>\n",
       "      <td>3.726326e-01</td>\n",
       "    </tr>\n",
       "    <tr>\n",
       "      <th>896</th>\n",
       "      <td>-1.443453</td>\n",
       "      <td>0.986124</td>\n",
       "      <td>0</td>\n",
       "      <td>8.694076e-01</td>\n",
       "    </tr>\n",
       "    <tr>\n",
       "      <th>897</th>\n",
       "      <td>2.718872</td>\n",
       "      <td>-5.819239</td>\n",
       "      <td>0</td>\n",
       "      <td>1.000000e-07</td>\n",
       "    </tr>\n",
       "    <tr>\n",
       "      <th>898</th>\n",
       "      <td>-3.126788</td>\n",
       "      <td>1.150926</td>\n",
       "      <td>1</td>\n",
       "      <td>8.694076e-01</td>\n",
       "    </tr>\n",
       "    <tr>\n",
       "      <th>899</th>\n",
       "      <td>0.485438</td>\n",
       "      <td>0.418907</td>\n",
       "      <td>1</td>\n",
       "      <td>3.726326e-01</td>\n",
       "    </tr>\n",
       "  </tbody>\n",
       "</table>\n",
       "<p>900 rows × 4 columns</p>\n",
       "</div>"
      ],
      "text/plain": [
       "          x_0       x_1  y_true        y_pred\n",
       "0   -0.142389  0.243385       0  3.726326e-01\n",
       "1    1.944275  1.851880       1  8.694076e-01\n",
       "2    0.153339  0.926060       1  8.694076e-01\n",
       "3    0.090894  0.416834       0  3.726326e-01\n",
       "4   -1.206709  2.141288       1  8.694076e-01\n",
       "..        ...       ...     ...           ...\n",
       "895  0.460581 -0.186435       0  3.726326e-01\n",
       "896 -1.443453  0.986124       0  8.694076e-01\n",
       "897  2.718872 -5.819239       0  1.000000e-07\n",
       "898 -3.126788  1.150926       1  8.694076e-01\n",
       "899  0.485438  0.418907       1  3.726326e-01\n",
       "\n",
       "[900 rows x 4 columns]"
      ]
     },
     "execution_count": 39,
     "metadata": {},
     "output_type": "execute_result"
    }
   ],
   "source": [
    "df_test"
   ]
  },
  {
   "cell_type": "markdown",
   "metadata": {},
   "source": [
    "### Задание"
   ]
  },
  {
   "cell_type": "markdown",
   "metadata": {},
   "source": [
    "Самостоятельно реализовать градиентный бустинг для классификации, используя приведенные выше формулы для loss/градиента loss для задачи классификации.<br>"
   ]
  },
  {
   "cell_type": "markdown",
   "metadata": {},
   "source": [
    "Важно. При расчете residual важно не напутать знак выражения (+/-)."
   ]
  },
  {
   "cell_type": "markdown",
   "metadata": {},
   "source": [
    "Важно. В теории предсказания деревьев могу выйти за рамки отрезка [0,1]. Возможно вам пригодится функция np.clip из пакета numpy \n",
    "для того, чтобы ограничить вероятности в пределах [0,1]. Рекомендую попробовать различные варианты:\n",
    "1. без использования clip\n",
    "2. clip до [0,1]\n",
    "3. clip до (1e-7, 1 - 1e-7) - оставляем небольшой отступ от границ отрезка\n",
    "- https://numpy.org/doc/stable/reference/generated/numpy.clip.html"
   ]
  },
  {
   "cell_type": "markdown",
   "metadata": {},
   "source": [
    "Также можно попробовать варьировать параметры:\n",
    "- max_depth\n",
    "- learning_rate (lr)\n",
    "- n_iter\n",
    "- n_features\n",
    "- n_samples"
   ]
  },
  {
   "cell_type": "markdown",
   "metadata": {},
   "source": [
    "- https://github.com/hyperopt/hyperopt\n",
    "- https://github.com/optuna/optuna\n",
    "- https://github.com/bayesian-optimization/BayesianOptimization\n",
    "- https://github.com/scikit-optimize/scikit-optimize"
   ]
  },
  {
   "cell_type": "markdown",
   "metadata": {},
   "source": [
    "# Работа с несбалансированными классами"
   ]
  },
  {
   "cell_type": "markdown",
   "metadata": {},
   "source": [
    "Одна из популярных библиотек - imblearn. Примеры кода от разработчиков:"
   ]
  },
  {
   "cell_type": "markdown",
   "metadata": {},
   "source": [
    "- https://imbalanced-learn.org/stable/auto_examples/over-sampling/plot_comparison_over_sampling.html"
   ]
  },
  {
   "cell_type": "markdown",
   "metadata": {},
   "source": [
    "<img src = 'https://miro.medium.com/v2/0*PkM2asY31sx2rSkR.png'>"
   ]
  },
  {
   "cell_type": "markdown",
   "metadata": {},
   "source": [
    "<img src = 'https://www.datasciencecentral.com/wp-content/uploads/2021/10/2808331754.png'>"
   ]
  },
  {
   "cell_type": "markdown",
   "metadata": {},
   "source": [
    "## Undersampling"
   ]
  },
  {
   "cell_type": "markdown",
   "metadata": {},
   "source": [
    "### RandomUnderSampler"
   ]
  },
  {
   "cell_type": "markdown",
   "metadata": {},
   "source": [
    "Under-sample the majority class(es) by randomly picking samples with or without replacement."
   ]
  },
  {
   "cell_type": "markdown",
   "metadata": {},
   "source": [
    "https://imbalanced-learn.org/stable/references/generated/imblearn.under_sampling.RandomUnderSampler.html"
   ]
  },
  {
   "cell_type": "markdown",
   "metadata": {},
   "source": [
    "### TomekLinks"
   ]
  },
  {
   "cell_type": "markdown",
   "metadata": {},
   "source": [
    "https://imbalanced-learn.org/stable/under_sampling.html#tomek-links"
   ]
  },
  {
   "cell_type": "markdown",
   "metadata": {},
   "source": [
    "<img src='https://mlwhiz.com/images/imbal/1.png'>"
   ]
  },
  {
   "cell_type": "markdown",
   "metadata": {},
   "source": [
    "### ClusterCentroids"
   ]
  },
  {
   "cell_type": "markdown",
   "metadata": {},
   "source": [
    "https://imbalanced-learn.org/stable/references/generated/imblearn.under_sampling.ClusterCentroids.html"
   ]
  },
  {
   "cell_type": "markdown",
   "metadata": {},
   "source": [
    "Undersample by generating centroids based on clustering methods.\n",
    "\n",
    "Method that under samples the majority class by replacing a cluster of majority samples by the cluster centroid of a KMeans algorithm. This algorithm keeps N majority samples by fitting the KMeans algorithm with N cluster to the majority class and using the coordinates of the N cluster centroids as the new majority samples."
   ]
  },
  {
   "cell_type": "markdown",
   "metadata": {},
   "source": [
    "ClusterCentroids makes use of K-means to reduce the number of samples. Therefore, each class will be synthesized with the centroids of the K-means method instead of the original samples:"
   ]
  },
  {
   "cell_type": "markdown",
   "metadata": {},
   "source": [
    "## Oversampling"
   ]
  },
  {
   "cell_type": "markdown",
   "metadata": {},
   "source": [
    "SMOTE: Synthetic Data Augmentation for Tabular Data An exploration of SMOTE and some variants like Borderline-SMOTE and ADASYN\n",
    "https://towardsdatascience.com/smote-synthetic-data-augmentation-for-tabular-data-1ce28090debc"
   ]
  },
  {
   "cell_type": "markdown",
   "metadata": {},
   "source": [
    "### RandomOverSampler"
   ]
  },
  {
   "cell_type": "markdown",
   "metadata": {},
   "source": [
    "Object to over-sample the minority class(es) by picking samples at random with replacement. The bootstrap can be generated in a smoothed manner."
   ]
  },
  {
   "cell_type": "markdown",
   "metadata": {},
   "source": [
    "https://imbalanced-learn.org/stable/references/generated/imblearn.over_sampling.RandomOverSampler.html"
   ]
  },
  {
   "cell_type": "markdown",
   "metadata": {},
   "source": [
    "### SMOTE"
   ]
  },
  {
   "cell_type": "markdown",
   "metadata": {},
   "source": [
    "https://imbalanced-learn.org/stable/references/generated/imblearn.over_sampling.SMOTE.html"
   ]
  },
  {
   "cell_type": "markdown",
   "metadata": {},
   "source": [
    "<img src='https://miro.medium.com/v2/resize:fit:1400/1*GJY7UnJ4WCzqgtrfkCvkdA.png'>"
   ]
  },
  {
   "cell_type": "markdown",
   "metadata": {},
   "source": [
    "<img src='https://miro.medium.com/v2/resize:fit:2000/format:webp/1*CG712DHQL_ZMS3gAEGd_5w.jpeg'>"
   ]
  },
  {
   "cell_type": "markdown",
   "metadata": {},
   "source": [
    "### BorderlineSMOTE"
   ]
  },
  {
   "cell_type": "markdown",
   "metadata": {},
   "source": [
    "https://imbalanced-learn.org/stable/references/generated/imblearn.over_sampling.BorderlineSMOTE.html"
   ]
  },
  {
   "cell_type": "markdown",
   "metadata": {},
   "source": [
    "<img src='https://miro.medium.com/v2/resize:fit:2000/format:webp/1*p2Ugh8xOQjjwunXmRtN9Cg.jpeg'>"
   ]
  },
  {
   "cell_type": "markdown",
   "metadata": {},
   "source": [
    "### ADASYN"
   ]
  },
  {
   "cell_type": "markdown",
   "metadata": {},
   "source": [
    "https://imbalanced-learn.org/stable/references/generated/imblearn.over_sampling.ADASYN.html"
   ]
  },
  {
   "cell_type": "markdown",
   "metadata": {},
   "source": [
    "<img src='https://miro.medium.com/v2/resize:fit:2000/format:webp/1*iXHQaRrdIJLRsxxjEnr67Q.jpeg'>"
   ]
  },
  {
   "cell_type": "markdown",
   "metadata": {},
   "source": [
    "Примеры с кодом:\n",
    "- Compare over-sampling samplers https://imbalanced-learn.org/stable/auto_examples/over-sampling/plot_comparison_over_sampling.html\n",
    "- Effect of the shrinkage factor in random over-sampling\n",
    "https://imbalanced-learn.org/stable/auto_examples/over-sampling/plot_shrinkage_effect.html"
   ]
  }
 ],
 "metadata": {
  "colab": {
   "provenance": []
  },
  "kernelspec": {
   "display_name": "Python 3 (ipykernel)",
   "language": "python",
   "name": "python3"
  },
  "language_info": {
   "codemirror_mode": {
    "name": "ipython",
    "version": 3
   },
   "file_extension": ".py",
   "mimetype": "text/x-python",
   "name": "python",
   "nbconvert_exporter": "python",
   "pygments_lexer": "ipython3",
   "version": "3.9.6"
  },
  "toc": {
   "base_numbering": 1,
   "nav_menu": {},
   "number_sections": true,
   "sideBar": true,
   "skip_h1_title": false,
   "title_cell": "Table of Contents",
   "title_sidebar": "Contents",
   "toc_cell": true,
   "toc_position": {
    "height": "calc(100% - 180px)",
    "left": "10px",
    "top": "150px",
    "width": "272.188px"
   },
   "toc_section_display": true,
   "toc_window_display": true
  }
 },
 "nbformat": 4,
 "nbformat_minor": 1
}
